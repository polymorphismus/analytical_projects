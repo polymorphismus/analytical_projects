{
 "cells": [
  {
   "cell_type": "markdown",
   "metadata": {},
   "source": [
    "# progect description\n",
    "This is a project dedicated to hypotheses testing. Let's imagine that we have a task from the marketing department of a big online store. We need to:\n",
    "* prioritize hypotheses that may help boost revenue, \n",
    "* launch an A/B test, \n",
    "* analyze the results"
   ]
  },
  {
   "cell_type": "markdown",
   "metadata": {
    "toc": true
   },
   "source": [
    "<h1>Table of Contents<span class=\"tocSkip\"></span></h1>\n",
    "<div class=\"toc\"><ul class=\"toc-item\"><li><span><a href=\"#progect-description\" data-toc-modified-id=\"progect-description-1\"><span class=\"toc-item-num\">1&nbsp;&nbsp;</span>progect description</a></span></li><li><span><a href=\"#Step-1.-Downloading-the-data-and-its-preprocessing\" data-toc-modified-id=\"Step-1.-Downloading-the-data-and-its-preprocessing-2\"><span class=\"toc-item-num\">2&nbsp;&nbsp;</span>Step 1. Downloading the data and its preprocessing</a></span><ul class=\"toc-item\"><li><ul class=\"toc-item\"><li><ul class=\"toc-item\"><li><span><a href=\"#downcasting\" data-toc-modified-id=\"downcasting-2.0.0.1\"><span class=\"toc-item-num\">2.0.0.1&nbsp;&nbsp;</span>downcasting</a></span></li><li><span><a href=\"#comparing\" data-toc-modified-id=\"comparing-2.0.0.2\"><span class=\"toc-item-num\">2.0.0.2&nbsp;&nbsp;</span>comparing</a></span></li></ul></li><li><span><a href=\"#Double-group-participants\" data-toc-modified-id=\"Double-group-participants-2.0.1\"><span class=\"toc-item-num\">2.0.1&nbsp;&nbsp;</span>Double-group participants</a></span></li><li><span><a href=\"#Conclusion\" data-toc-modified-id=\"Conclusion-2.0.2\"><span class=\"toc-item-num\">2.0.2&nbsp;&nbsp;</span>Conclusion</a></span></li></ul></li></ul></li><li><span><a href=\"#Step-2.-Part-1.Prioritizing-Hypotheses\" data-toc-modified-id=\"Step-2.-Part-1.Prioritizing-Hypotheses-3\"><span class=\"toc-item-num\">3&nbsp;&nbsp;</span>Step 2. Part 1.Prioritizing Hypotheses</a></span><ul class=\"toc-item\"><li><ul class=\"toc-item\"><li><span><a href=\"#ICE-framework\" data-toc-modified-id=\"ICE-framework-3.0.1\"><span class=\"toc-item-num\">3.0.1&nbsp;&nbsp;</span>ICE framework</a></span></li><li><span><a href=\"#RICE-framework\" data-toc-modified-id=\"RICE-framework-3.0.2\"><span class=\"toc-item-num\">3.0.2&nbsp;&nbsp;</span>RICE framework</a></span></li><li><span><a href=\"#Prioritization-changes\" data-toc-modified-id=\"Prioritization-changes-3.0.3\"><span class=\"toc-item-num\">3.0.3&nbsp;&nbsp;</span>Prioritization changes</a></span><ul class=\"toc-item\"><li><span><a href=\"#Conclusion:\" data-toc-modified-id=\"Conclusion:-3.0.3.1\"><span class=\"toc-item-num\">3.0.3.1&nbsp;&nbsp;</span>Conclusion:</a></span></li></ul></li><li><span><a href=\"#ICE/RICE-comparison-plot\" data-toc-modified-id=\"ICE/RICE-comparison-plot-3.0.4\"><span class=\"toc-item-num\">3.0.4&nbsp;&nbsp;</span>ICE/RICE comparison plot</a></span></li></ul></li></ul></li><li><span><a href=\"#Step-3.-Part-2.-A/B-Test-Analysis\" data-toc-modified-id=\"Step-3.-Part-2.-A/B-Test-Analysis-4\"><span class=\"toc-item-num\">4&nbsp;&nbsp;</span>Step 3. Part 2. A/B Test Analysis</a></span><ul class=\"toc-item\"><li><ul class=\"toc-item\"><li><span><a href=\"#Cumulative-revenue-by-group\" data-toc-modified-id=\"Cumulative-revenue-by-group-4.0.1\"><span class=\"toc-item-num\">4.0.1&nbsp;&nbsp;</span>Cumulative revenue by group</a></span><ul class=\"toc-item\"><li><span><a href=\"#Conclusions-and-conjectures\" data-toc-modified-id=\"Conclusions-and-conjectures-4.0.1.1\"><span class=\"toc-item-num\">4.0.1.1&nbsp;&nbsp;</span>Conclusions and conjectures</a></span></li></ul></li><li><span><a href=\"#Cumulative-average-order-size-by-group\" data-toc-modified-id=\"Cumulative-average-order-size-by-group-4.0.2\"><span class=\"toc-item-num\">4.0.2&nbsp;&nbsp;</span>Cumulative average order size by group</a></span><ul class=\"toc-item\"><li><span><a href=\"#Conclusions-and-conjectures¶\" data-toc-modified-id=\"Conclusions-and-conjectures¶-4.0.2.1\"><span class=\"toc-item-num\">4.0.2.1&nbsp;&nbsp;</span>Conclusions and conjectures¶</a></span></li></ul></li><li><span><a href=\"#Relative-difference-graph-for-the-average-purchase-sizes\" data-toc-modified-id=\"Relative-difference-graph-for-the-average-purchase-sizes-4.0.3\"><span class=\"toc-item-num\">4.0.3&nbsp;&nbsp;</span>Relative difference graph for the average purchase sizes</a></span><ul class=\"toc-item\"><li><span><a href=\"#Conclusions-and-conjectures¶\" data-toc-modified-id=\"Conclusions-and-conjectures¶-4.0.3.1\"><span class=\"toc-item-num\">4.0.3.1&nbsp;&nbsp;</span>Conclusions and conjectures¶</a></span></li></ul></li><li><span><a href=\"#Each-group's-conversion-rate\" data-toc-modified-id=\"Each-group's-conversion-rate-4.0.4\"><span class=\"toc-item-num\">4.0.4&nbsp;&nbsp;</span>Each group's conversion rate</a></span><ul class=\"toc-item\"><li><span><a href=\"#Conclusions-and-conjectures¶\" data-toc-modified-id=\"Conclusions-and-conjectures¶-4.0.4.1\"><span class=\"toc-item-num\">4.0.4.1&nbsp;&nbsp;</span>Conclusions and conjectures¶</a></span></li></ul></li><li><span><a href=\"#Scatter-chart-of-the-number-of-orders-per-user\" data-toc-modified-id=\"Scatter-chart-of-the-number-of-orders-per-user-4.0.5\"><span class=\"toc-item-num\">4.0.5&nbsp;&nbsp;</span>Scatter chart of the number of orders per user</a></span><ul class=\"toc-item\"><li><span><a href=\"#Conclusions-and-conjectures\" data-toc-modified-id=\"Conclusions-and-conjectures-4.0.5.1\"><span class=\"toc-item-num\">4.0.5.1&nbsp;&nbsp;</span>Conclusions and conjectures</a></span></li></ul></li><li><span><a href=\"#95th-and-99th-percentiles-for-the-number-of-orders-per-user\" data-toc-modified-id=\"95th-and-99th-percentiles-for-the-number-of-orders-per-user-4.0.6\"><span class=\"toc-item-num\">4.0.6&nbsp;&nbsp;</span>95th and 99th percentiles for the number of orders per user</a></span><ul class=\"toc-item\"><li><span><a href=\"#Conclusions-and-conjectures\" data-toc-modified-id=\"Conclusions-and-conjectures-4.0.6.1\"><span class=\"toc-item-num\">4.0.6.1&nbsp;&nbsp;</span>Conclusions and conjectures</a></span></li></ul></li><li><span><a href=\"#Scatter-chart-of-order-prices\" data-toc-modified-id=\"Scatter-chart-of-order-prices-4.0.7\"><span class=\"toc-item-num\">4.0.7&nbsp;&nbsp;</span>Scatter chart of order prices</a></span><ul class=\"toc-item\"><li><span><a href=\"#Conclusions-and-conjectures\" data-toc-modified-id=\"Conclusions-and-conjectures-4.0.7.1\"><span class=\"toc-item-num\">4.0.7.1&nbsp;&nbsp;</span>Conclusions and conjectures</a></span></li></ul></li><li><span><a href=\"#Percentile-of-order-prices\" data-toc-modified-id=\"Percentile-of-order-prices-4.0.8\"><span class=\"toc-item-num\">4.0.8&nbsp;&nbsp;</span>Percentile of order prices</a></span><ul class=\"toc-item\"><li><span><a href=\"#Conclusions-and-conjectures\" data-toc-modified-id=\"Conclusions-and-conjectures-4.0.8.1\"><span class=\"toc-item-num\">4.0.8.1&nbsp;&nbsp;</span>Conclusions and conjectures</a></span></li></ul></li><li><span><a href=\"#Statistical-significance-of-the-difference-in-conversion\" data-toc-modified-id=\"Statistical-significance-of-the-difference-in-conversion-4.0.9\"><span class=\"toc-item-num\">4.0.9&nbsp;&nbsp;</span>Statistical significance of the difference in conversion</a></span><ul class=\"toc-item\"><li><span><a href=\"#hypotheses-description\" data-toc-modified-id=\"hypotheses-description-4.0.9.1\"><span class=\"toc-item-num\">4.0.9.1&nbsp;&nbsp;</span>hypotheses description</a></span></li><li><span><a href=\"#Conclusions-and-conjectures\" data-toc-modified-id=\"Conclusions-and-conjectures-4.0.9.2\"><span class=\"toc-item-num\">4.0.9.2&nbsp;&nbsp;</span>Conclusions and conjectures</a></span></li></ul></li><li><span><a href=\"#Statistical-significance-of-the-difference-in-average-order-size\" data-toc-modified-id=\"Statistical-significance-of-the-difference-in-average-order-size-4.0.10\"><span class=\"toc-item-num\">4.0.10&nbsp;&nbsp;</span>Statistical significance of the difference in average order size</a></span><ul class=\"toc-item\"><li><span><a href=\"#hypotheses-description\" data-toc-modified-id=\"hypotheses-description-4.0.10.1\"><span class=\"toc-item-num\">4.0.10.1&nbsp;&nbsp;</span>hypotheses description</a></span></li><li><span><a href=\"#Conclusions-and-conjectures\" data-toc-modified-id=\"Conclusions-and-conjectures-4.0.10.2\"><span class=\"toc-item-num\">4.0.10.2&nbsp;&nbsp;</span>Conclusions and conjectures</a></span></li></ul></li><li><span><a href=\"#Statistical-significance-of-the-difference-in-conversion-of-filtered-data\" data-toc-modified-id=\"Statistical-significance-of-the-difference-in-conversion-of-filtered-data-4.0.11\"><span class=\"toc-item-num\">4.0.11&nbsp;&nbsp;</span>Statistical significance of the difference in conversion of filtered data</a></span><ul class=\"toc-item\"><li><span><a href=\"#hypotheses-description\" data-toc-modified-id=\"hypotheses-description-4.0.11.1\"><span class=\"toc-item-num\">4.0.11.1&nbsp;&nbsp;</span>hypotheses description</a></span></li><li><span><a href=\"#Conclusions-and-conjectures\" data-toc-modified-id=\"Conclusions-and-conjectures-4.0.11.2\"><span class=\"toc-item-num\">4.0.11.2&nbsp;&nbsp;</span>Conclusions and conjectures</a></span></li></ul></li><li><span><a href=\"#Statistical-significance-of-the-difference-in-average-order-size-for-filtered-data\" data-toc-modified-id=\"Statistical-significance-of-the-difference-in-average-order-size-for-filtered-data-4.0.12\"><span class=\"toc-item-num\">4.0.12&nbsp;&nbsp;</span>Statistical significance of the difference in average order size for filtered data</a></span><ul class=\"toc-item\"><li><span><a href=\"#hypotheses-description\" data-toc-modified-id=\"hypotheses-description-4.0.12.1\"><span class=\"toc-item-num\">4.0.12.1&nbsp;&nbsp;</span>hypotheses description</a></span></li><li><span><a href=\"#Conclusions-and-conjectures\" data-toc-modified-id=\"Conclusions-and-conjectures-4.0.12.2\"><span class=\"toc-item-num\">4.0.12.2&nbsp;&nbsp;</span>Conclusions and conjectures</a></span></li></ul></li></ul></li></ul></li><li><span><a href=\"#Step-4.-Decision-based-on-the-test-results.\" data-toc-modified-id=\"Step-4.-Decision-based-on-the-test-results.-5\"><span class=\"toc-item-num\">5&nbsp;&nbsp;</span>Step 4. Decision based on the test results.</a></span></li><li><span><a href=\"#Step-5.-General-Conclusion\" data-toc-modified-id=\"Step-5.-General-Conclusion-6\"><span class=\"toc-item-num\">6&nbsp;&nbsp;</span>Step 5. General Conclusion</a></span></li></ul></div>"
   ]
  },
  {
   "cell_type": "markdown",
   "metadata": {},
   "source": [
    "# Step 1. Downloading the data and its preprocessing"
   ]
  },
  {
   "cell_type": "markdown",
   "metadata": {},
   "source": [
    "_We will use 8 <a id='libraries'>libraries</a>:_ \n",
    "* pandas: for data processing\n",
    "* numpy, math: for calculations\n",
    "* matplotlib, seaborn, plotly express: for data visualisation\n",
    "* datetime: for working with data\n",
    "* scipy for hypotheses testing\n",
    "* sys, warnings: for not showing the warnings"
   ]
  },
  {
   "cell_type": "code",
   "execution_count": 36,
   "metadata": {},
   "outputs": [],
   "source": [
    "import pandas as pd\n",
    "import numpy as np\n",
    "import matplotlib.pyplot as plt\n",
    "import datetime\n",
    "from datetime import timedelta\n",
    "import seaborn as sns\n",
    "import plotly.express as px\n",
    "import plotly.graph_objects as go\n",
    "import math as mth\n",
    "from scipy import stats as st\n",
    "import sys\n",
    "import warnings\n",
    "if not sys.warnoptions:\n",
    "       warnings.simplefilter(\"ignore\")\n",
    "        \n",
    "pd.set_option('display.max_columns', 500)\n",
    "pd.set_option('display.max_rows', 500)\n"
   ]
  },
  {
   "cell_type": "code",
   "execution_count": 37,
   "metadata": {},
   "outputs": [
    {
     "name": "stdout",
     "output_type": "stream",
     "text": [
      "Data extracted succesfully\n"
     ]
    }
   ],
   "source": [
    "try:\n",
    "    hypotheses = pd.read_csv('https://code.s3.yandex.net//datasets/hypotheses_us.csv', sep=';',\n",
    "                             dtype={'Hypothesis': 'str', 'Reach': 'uint8',\n",
    "                                    'Impact': 'uint8', 'Confidence': 'uint8', 'Effort': 'uint8', })\n",
    "    orders = pd.read_csv('https://code.s3.yandex.net//datasets/orders_us.csv',\n",
    "                         parse_dates=['date'])\n",
    "    visits = pd.read_csv('https://code.s3.yandex.net//datasets/visits_us.csv', \n",
    "                         parse_dates=['date'])\n",
    "    print('Data extracted succesfully')\n",
    "except FileNotFoundError:\n",
    "    print('Ooops, the dateset not found.')\n",
    "\n",
    "except pd.errors.EmptyDataError:\n",
    "    print('Ooops, the dataset is empty.')"
   ]
  },
  {
   "cell_type": "code",
   "execution_count": 38,
   "metadata": {},
   "outputs": [
    {
     "name": "stdout",
     "output_type": "stream",
     "text": [
      "The hypotheses dataset:\n",
      "<class 'pandas.core.frame.DataFrame'>\n",
      "RangeIndex: 9 entries, 0 to 8\n",
      "Data columns (total 5 columns):\n",
      " #   Column      Non-Null Count  Dtype \n",
      "---  ------      --------------  ----- \n",
      " 0   Hypothesis  9 non-null      object\n",
      " 1   Reach       9 non-null      uint8 \n",
      " 2   Impact      9 non-null      uint8 \n",
      " 3   Confidence  9 non-null      uint8 \n",
      " 4   Effort      9 non-null      uint8 \n",
      "dtypes: object(1), uint8(4)\n",
      "memory usage: 1.4 KB\n",
      "None\n",
      "           Reach     Impact  Confidence     Effort\n",
      "count   9.000000   9.000000    9.000000   9.000000\n",
      "mean    4.777778   4.777778    5.555556   4.888889\n",
      "std     3.153481   3.192874    3.045944   2.803767\n",
      "min     1.000000   1.000000    1.000000   1.000000\n",
      "25%     3.000000   3.000000    3.000000   3.000000\n",
      "50%     3.000000   3.000000    7.000000   5.000000\n",
      "75%     8.000000   7.000000    8.000000   6.000000\n",
      "max    10.000000  10.000000    9.000000  10.000000\n",
      "Number of duplicated entities:  0\n",
      "\n",
      "\n",
      "\n",
      "The orders dataset:\n",
      "<class 'pandas.core.frame.DataFrame'>\n",
      "RangeIndex: 1197 entries, 0 to 1196\n",
      "Data columns (total 5 columns):\n",
      " #   Column         Non-Null Count  Dtype         \n",
      "---  ------         --------------  -----         \n",
      " 0   transactionId  1197 non-null   int64         \n",
      " 1   visitorId      1197 non-null   int64         \n",
      " 2   date           1197 non-null   datetime64[ns]\n",
      " 3   revenue        1197 non-null   float64       \n",
      " 4   group          1197 non-null   object        \n",
      "dtypes: datetime64[ns](1), float64(1), int64(2), object(1)\n",
      "memory usage: 114.7 KB\n",
      "None\n",
      "       transactionId     visitorId       revenue\n",
      "count   1.197000e+03  1.197000e+03   1197.000000\n",
      "mean    2.155621e+09  2.165960e+09    131.491646\n",
      "std     1.229085e+09  1.236014e+09    603.004729\n",
      "min     1.062393e+06  5.114589e+06      5.000000\n",
      "25%     1.166776e+09  1.111826e+09     20.800000\n",
      "50%     2.145194e+09  2.217985e+09     50.200000\n",
      "75%     3.237740e+09  3.177606e+09    130.400000\n",
      "max     4.293856e+09  4.283872e+09  19920.400000\n",
      "The dataset \"orders\" contains information on the period from 2019-08-01 00:00:00 to 2019-08-31 00:00:00: 31 days\n",
      "Number of duplicated entities:  0\n",
      "\n",
      "\n",
      "\n",
      "The visits dataset:\n",
      "<class 'pandas.core.frame.DataFrame'>\n",
      "RangeIndex: 62 entries, 0 to 61\n",
      "Data columns (total 3 columns):\n",
      " #   Column  Non-Null Count  Dtype         \n",
      "---  ------  --------------  -----         \n",
      " 0   date    62 non-null     datetime64[ns]\n",
      " 1   group   62 non-null     object        \n",
      " 2   visits  62 non-null     int64         \n",
      "dtypes: datetime64[ns](1), int64(1), object(1)\n",
      "memory usage: 5.1 KB\n",
      "None\n",
      "           visits\n",
      "count   62.000000\n",
      "mean   607.290323\n",
      "std    114.400560\n",
      "min    361.000000\n",
      "25%    534.000000\n",
      "50%    624.500000\n",
      "75%    710.500000\n",
      "max    770.000000\n",
      "The dataset \"visits\" contains information on the period from 2019-08-01 00:00:00 to 2019-08-31 00:00:00: 31 days\n",
      "Number of duplicated entities:  0\n",
      "\n",
      "\n",
      "\n"
     ]
    }
   ],
   "source": [
    "datasets = ['hypotheses', 'orders', 'visits']\n",
    "\n",
    "for dataset in datasets:\n",
    "\n",
    "    print('The ' + dataset + ' dataset:')\n",
    "    print(vars()[dataset].info(memory_usage='deep'))\n",
    "    print(vars()[dataset].describe())\n",
    "    if 'date' in (vars()[dataset].columns):\n",
    "        print(\n",
    "            f'The dataset \"{dataset}\" contains information on the period from {vars()[dataset].date.min()} to {vars()[dataset].date.max()}: {int((orders.date.max() - orders.date.min()) /  np.timedelta64(1, \"D\")) + 1} days')\n",
    "    print('Number of duplicated entities: ',\n",
    "          vars()[dataset].duplicated().sum())\n",
    "    vars()[dataset].columns = vars()[dataset].columns.str.lower()\n",
    "\n",
    "    print('\\n\\n')"
   ]
  },
  {
   "cell_type": "markdown",
   "metadata": {},
   "source": [
    "#### downcasting"
   ]
  },
  {
   "cell_type": "markdown",
   "metadata": {},
   "source": [
    "helps saving space"
   ]
  },
  {
   "cell_type": "code",
   "execution_count": 39,
   "metadata": {},
   "outputs": [],
   "source": [
    "orders['transactionid'] = pd.to_numeric(orders['transactionid'], downcast='unsigned')\n",
    "orders['visitorid'] = pd.to_numeric(orders['visitorid'], downcast='unsigned')\n",
    "orders['revenue'] = pd.to_numeric(orders['revenue'], downcast='float')\n",
    "\n",
    "visits['visits']= pd.to_numeric(visits['visits'], downcast='unsigned')"
   ]
  },
  {
   "cell_type": "markdown",
   "metadata": {},
   "source": [
    "#### comparing"
   ]
  },
  {
   "cell_type": "code",
   "execution_count": 40,
   "metadata": {},
   "outputs": [
    {
     "data": {
      "text/plain": [
       "B    640\n",
       "A    557\n",
       "Name: group, dtype: int64"
      ]
     },
     "execution_count": 40,
     "metadata": {},
     "output_type": "execute_result"
    }
   ],
   "source": [
    "successes = orders.group.value_counts()\n",
    "successes #number of orders made"
   ]
  },
  {
   "cell_type": "code",
   "execution_count": 41,
   "metadata": {},
   "outputs": [
    {
     "data": {
      "text/plain": [
       "group\n",
       "A    18736\n",
       "B    18916\n",
       "Name: visits, dtype: uint16"
      ]
     },
     "execution_count": 41,
     "metadata": {},
     "output_type": "execute_result"
    }
   ],
   "source": [
    "trials = visits.groupby('group')['visits'].sum()\n",
    "trials # number of visits made"
   ]
  },
  {
   "cell_type": "code",
   "execution_count": 42,
   "metadata": {},
   "outputs": [
    {
     "data": {
      "text/plain": [
       "0.004104927280643319"
      ]
     },
     "execution_count": 42,
     "metadata": {},
     "output_type": "execute_result"
    }
   ],
   "source": [
    "(successes/trials)[1] - (successes/trials)[0]"
   ]
  },
  {
   "cell_type": "markdown",
   "metadata": {},
   "source": [
    "### Double-group participants"
   ]
  },
  {
   "cell_type": "markdown",
   "metadata": {},
   "source": [
    "Let's find whether we have users who belong to A and B at the same time and get rid of them"
   ]
  },
  {
   "cell_type": "code",
   "execution_count": 43,
   "metadata": {},
   "outputs": [],
   "source": [
    "orders_count = orders.groupby(\n",
    "    'visitorid')['group'].value_counts().unstack().fillna(0)\n",
    "spolied_uses_groupping = orders_count[np.logical_not(\n",
    "    np.logical_or(orders_count['A'] == 0.0, orders_count['B'] == 0.0))]"
   ]
  },
  {
   "cell_type": "markdown",
   "metadata": {},
   "source": [
    "We found users who belong both to A and B and according to our mentor, we should just get rid of them"
   ]
  },
  {
   "cell_type": "code",
   "execution_count": 44,
   "metadata": {},
   "outputs": [],
   "source": [
    "bad_orders = orders[orders.visitorid.isin(spolied_uses_groupping.index)] # orders of spoiled userd\n",
    "orders = orders[np.logical_not(orders.visitorid.isin(spolied_uses_groupping.index))] # clear orders data"
   ]
  },
  {
   "cell_type": "code",
   "execution_count": 45,
   "metadata": {},
   "outputs": [],
   "source": [
    "bad_orders_dates = bad_orders.groupby(['group', 'date']).visitorid.nunique().reset_index()\n",
    "bad_orders_dates.columns=['group','date','bad_orders_amount']"
   ]
  },
  {
   "cell_type": "markdown",
   "metadata": {},
   "source": [
    "Lets also substract the amount of spoiled orders from the visits table"
   ]
  },
  {
   "cell_type": "code",
   "execution_count": 46,
   "metadata": {},
   "outputs": [
    {
     "name": "stdout",
     "output_type": "stream",
     "text": [
      "<class 'pandas.core.frame.DataFrame'>\n",
      "Int64Index: 1016 entries, 0 to 1196\n",
      "Data columns (total 5 columns):\n",
      " #   Column         Non-Null Count  Dtype         \n",
      "---  ------         --------------  -----         \n",
      " 0   transactionid  1016 non-null   uint32        \n",
      " 1   visitorid      1016 non-null   uint32        \n",
      " 2   date           1016 non-null   datetime64[ns]\n",
      " 3   revenue        1016 non-null   float32       \n",
      " 4   group          1016 non-null   object        \n",
      "dtypes: datetime64[ns](1), float32(1), object(1), uint32(2)\n",
      "memory usage: 35.7+ KB\n"
     ]
    }
   ],
   "source": [
    "visits = visits.merge(bad_orders_dates, on =['group', 'date'], how='left').fillna(0)\n",
    "visits['visits'] = visits['visits'] - visits['bad_orders_amount']\n",
    "visits = visits.drop('bad_orders_amount', axis=1)\n",
    "\n",
    "orders.info()"
   ]
  },
  {
   "cell_type": "code",
   "execution_count": 47,
   "metadata": {},
   "outputs": [
    {
     "name": "stdout",
     "output_type": "stream",
     "text": [
      "58 users that belong both to A and B made 181 orders\n"
     ]
    }
   ],
   "source": [
    "print(f'{len(spolied_uses_groupping)} users that belong both to A and B made {len(bad_orders)} orders')"
   ]
  },
  {
   "cell_type": "markdown",
   "metadata": {},
   "source": [
    "### Conclusion"
   ]
  },
  {
   "cell_type": "markdown",
   "metadata": {},
   "source": [
    "The datasets contain information on monthly visits ond orders on the site.      \n",
    "There are users who have been mistakenly assigned to both groups A and B groups. I followed my mentors advice and just got rid of them losing 181 rows of orders data from 58 users. Also I substracted the amount of wrong users from the visits table. Now the data is clear, no duplicates found.<br><br>\n",
    "We have 9 hypotheses to test with nice and understandable ratings. Orders and visits datasets are prepared for A/B test analyse due to source separations they already have. It's just A/B test, not muliple test. There are both a little more visitors and a little more orders from group B. From the first glance, ratio orders per visits for B is ~0.4% bigger, that's not much, certainly not for this volumes of sales. Further information is yet to discover."
   ]
  },
  {
   "cell_type": "markdown",
   "metadata": {},
   "source": [
    "# Step 2. Part 1.Prioritizing Hypotheses\n"
   ]
  },
  {
   "cell_type": "markdown",
   "metadata": {},
   "source": [
    "### ICE framework"
   ]
  },
  {
   "cell_type": "code",
   "execution_count": 48,
   "metadata": {},
   "outputs": [
    {
     "data": {
      "text/html": [
       "<div>\n",
       "<style scoped>\n",
       "    .dataframe tbody tr th:only-of-type {\n",
       "        vertical-align: middle;\n",
       "    }\n",
       "\n",
       "    .dataframe tbody tr th {\n",
       "        vertical-align: top;\n",
       "    }\n",
       "\n",
       "    .dataframe thead th {\n",
       "        text-align: right;\n",
       "    }\n",
       "</style>\n",
       "<table border=\"1\" class=\"dataframe\">\n",
       "  <thead>\n",
       "    <tr style=\"text-align: right;\">\n",
       "      <th></th>\n",
       "      <th>hypothesis</th>\n",
       "      <th>ICE</th>\n",
       "      <th>ICE_share</th>\n",
       "    </tr>\n",
       "  </thead>\n",
       "  <tbody>\n",
       "    <tr>\n",
       "      <th>8</th>\n",
       "      <td>Launch a promotion that gives users discounts ...</td>\n",
       "      <td>16.20</td>\n",
       "      <td>100.00</td>\n",
       "    </tr>\n",
       "    <tr>\n",
       "      <th>0</th>\n",
       "      <td>Add two new channels for attracting traffic. T...</td>\n",
       "      <td>13.33</td>\n",
       "      <td>82.28</td>\n",
       "    </tr>\n",
       "    <tr>\n",
       "      <th>7</th>\n",
       "      <td>Add a subscription form to all the main pages....</td>\n",
       "      <td>11.20</td>\n",
       "      <td>69.14</td>\n",
       "    </tr>\n",
       "    <tr>\n",
       "      <th>6</th>\n",
       "      <td>Show banners with current offers and sales on ...</td>\n",
       "      <td>8.00</td>\n",
       "      <td>49.38</td>\n",
       "    </tr>\n",
       "    <tr>\n",
       "      <th>2</th>\n",
       "      <td>Add product recommendation blocks to the store...</td>\n",
       "      <td>7.00</td>\n",
       "      <td>43.21</td>\n",
       "    </tr>\n",
       "    <tr>\n",
       "      <th>1</th>\n",
       "      <td>Launch your own delivery service. This will sh...</td>\n",
       "      <td>2.00</td>\n",
       "      <td>12.35</td>\n",
       "    </tr>\n",
       "    <tr>\n",
       "      <th>5</th>\n",
       "      <td>Add a customer review page. This will increase...</td>\n",
       "      <td>1.33</td>\n",
       "      <td>8.21</td>\n",
       "    </tr>\n",
       "    <tr>\n",
       "      <th>3</th>\n",
       "      <td>Change the category structure. This will incre...</td>\n",
       "      <td>1.12</td>\n",
       "      <td>6.91</td>\n",
       "    </tr>\n",
       "    <tr>\n",
       "      <th>4</th>\n",
       "      <td>Change the background color on the main page. ...</td>\n",
       "      <td>1.00</td>\n",
       "      <td>6.17</td>\n",
       "    </tr>\n",
       "  </tbody>\n",
       "</table>\n",
       "</div>"
      ],
      "text/plain": [
       "                                          hypothesis    ICE  ICE_share\n",
       "8  Launch a promotion that gives users discounts ...  16.20     100.00\n",
       "0  Add two new channels for attracting traffic. T...  13.33      82.28\n",
       "7  Add a subscription form to all the main pages....  11.20      69.14\n",
       "6  Show banners with current offers and sales on ...   8.00      49.38\n",
       "2  Add product recommendation blocks to the store...   7.00      43.21\n",
       "1  Launch your own delivery service. This will sh...   2.00      12.35\n",
       "5  Add a customer review page. This will increase...   1.33       8.21\n",
       "3  Change the category structure. This will incre...   1.12       6.91\n",
       "4  Change the background color on the main page. ...   1.00       6.17"
      ]
     },
     "execution_count": 48,
     "metadata": {},
     "output_type": "execute_result"
    }
   ],
   "source": [
    "hypotheses['ICE'] = round(hypotheses['impact'] *\n",
    "                          hypotheses['confidence'] / hypotheses['effort'], 2)\n",
    "hypotheses['ICE_share'] = round(\n",
    "    hypotheses['ICE'] / hypotheses['ICE'].max() * 100, 2)\n",
    "ICE_hypotheses = hypotheses[['hypothesis', 'ICE', 'ICE_share']].sort_values(\n",
    "    by='ICE', ascending=False)\n",
    "ICE_hypotheses"
   ]
  },
  {
   "cell_type": "markdown",
   "metadata": {},
   "source": [
    "### RICE framework"
   ]
  },
  {
   "cell_type": "code",
   "execution_count": 49,
   "metadata": {},
   "outputs": [
    {
     "data": {
      "text/html": [
       "<div>\n",
       "<style scoped>\n",
       "    .dataframe tbody tr th:only-of-type {\n",
       "        vertical-align: middle;\n",
       "    }\n",
       "\n",
       "    .dataframe tbody tr th {\n",
       "        vertical-align: top;\n",
       "    }\n",
       "\n",
       "    .dataframe thead th {\n",
       "        text-align: right;\n",
       "    }\n",
       "</style>\n",
       "<table border=\"1\" class=\"dataframe\">\n",
       "  <thead>\n",
       "    <tr style=\"text-align: right;\">\n",
       "      <th></th>\n",
       "      <th>hypothesis</th>\n",
       "      <th>RICE</th>\n",
       "      <th>RICE_share</th>\n",
       "    </tr>\n",
       "  </thead>\n",
       "  <tbody>\n",
       "    <tr>\n",
       "      <th>2</th>\n",
       "      <td>Add product recommendation blocks to the store...</td>\n",
       "      <td>56.0</td>\n",
       "      <td>100.00</td>\n",
       "    </tr>\n",
       "    <tr>\n",
       "      <th>0</th>\n",
       "      <td>Add two new channels for attracting traffic. T...</td>\n",
       "      <td>40.0</td>\n",
       "      <td>71.43</td>\n",
       "    </tr>\n",
       "    <tr>\n",
       "      <th>6</th>\n",
       "      <td>Show banners with current offers and sales on ...</td>\n",
       "      <td>40.0</td>\n",
       "      <td>71.43</td>\n",
       "    </tr>\n",
       "    <tr>\n",
       "      <th>8</th>\n",
       "      <td>Launch a promotion that gives users discounts ...</td>\n",
       "      <td>16.2</td>\n",
       "      <td>28.93</td>\n",
       "    </tr>\n",
       "    <tr>\n",
       "      <th>7</th>\n",
       "      <td>Add a subscription form to all the main pages....</td>\n",
       "      <td>9.6</td>\n",
       "      <td>17.14</td>\n",
       "    </tr>\n",
       "    <tr>\n",
       "      <th>3</th>\n",
       "      <td>Change the category structure. This will incre...</td>\n",
       "      <td>9.0</td>\n",
       "      <td>16.07</td>\n",
       "    </tr>\n",
       "    <tr>\n",
       "      <th>1</th>\n",
       "      <td>Launch your own delivery service. This will sh...</td>\n",
       "      <td>4.0</td>\n",
       "      <td>7.14</td>\n",
       "    </tr>\n",
       "    <tr>\n",
       "      <th>5</th>\n",
       "      <td>Add a customer review page. This will increase...</td>\n",
       "      <td>4.0</td>\n",
       "      <td>7.14</td>\n",
       "    </tr>\n",
       "    <tr>\n",
       "      <th>4</th>\n",
       "      <td>Change the background color on the main page. ...</td>\n",
       "      <td>3.0</td>\n",
       "      <td>5.36</td>\n",
       "    </tr>\n",
       "  </tbody>\n",
       "</table>\n",
       "</div>"
      ],
      "text/plain": [
       "                                          hypothesis  RICE  RICE_share\n",
       "2  Add product recommendation blocks to the store...  56.0      100.00\n",
       "0  Add two new channels for attracting traffic. T...  40.0       71.43\n",
       "6  Show banners with current offers and sales on ...  40.0       71.43\n",
       "8  Launch a promotion that gives users discounts ...  16.2       28.93\n",
       "7  Add a subscription form to all the main pages....   9.6       17.14\n",
       "3  Change the category structure. This will incre...   9.0       16.07\n",
       "1  Launch your own delivery service. This will sh...   4.0        7.14\n",
       "5  Add a customer review page. This will increase...   4.0        7.14\n",
       "4  Change the background color on the main page. ...   3.0        5.36"
      ]
     },
     "execution_count": 49,
     "metadata": {},
     "output_type": "execute_result"
    }
   ],
   "source": [
    "hypotheses['RICE'] = round(hypotheses['reach'] * hypotheses['impact']\n",
    "                           * hypotheses['confidence'] / hypotheses['effort'], 2)\n",
    "hypotheses['RICE_share'] = round(\n",
    "    hypotheses['RICE'] / hypotheses['RICE'].max() * 100, 2)\n",
    "RICE_hypotheses = hypotheses[['hypothesis', 'RICE', 'RICE_share']].sort_values(\n",
    "    by='RICE', ascending=False)\n",
    "RICE_hypotheses"
   ]
  },
  {
   "cell_type": "markdown",
   "metadata": {},
   "source": [
    "### Prioritization changes"
   ]
  },
  {
   "cell_type": "markdown",
   "metadata": {},
   "source": [
    "Lets see whether 5 lead hypotheses for ICE and RICE are the same:"
   ]
  },
  {
   "cell_type": "code",
   "execution_count": 50,
   "metadata": {},
   "outputs": [
    {
     "data": {
      "text/html": [
       "<div>\n",
       "<style scoped>\n",
       "    .dataframe tbody tr th:only-of-type {\n",
       "        vertical-align: middle;\n",
       "    }\n",
       "\n",
       "    .dataframe tbody tr th {\n",
       "        vertical-align: top;\n",
       "    }\n",
       "\n",
       "    .dataframe thead th {\n",
       "        text-align: right;\n",
       "    }\n",
       "</style>\n",
       "<table border=\"1\" class=\"dataframe\">\n",
       "  <thead>\n",
       "    <tr style=\"text-align: right;\">\n",
       "      <th></th>\n",
       "      <th>hypothesis</th>\n",
       "      <th>RICE</th>\n",
       "      <th>ICE</th>\n",
       "    </tr>\n",
       "  </thead>\n",
       "  <tbody>\n",
       "    <tr>\n",
       "      <th>2</th>\n",
       "      <td>Add product recommendation blocks to the store...</td>\n",
       "      <td>56.0</td>\n",
       "      <td>7.00</td>\n",
       "    </tr>\n",
       "    <tr>\n",
       "      <th>0</th>\n",
       "      <td>Add two new channels for attracting traffic. T...</td>\n",
       "      <td>40.0</td>\n",
       "      <td>13.33</td>\n",
       "    </tr>\n",
       "    <tr>\n",
       "      <th>6</th>\n",
       "      <td>Show banners with current offers and sales on ...</td>\n",
       "      <td>40.0</td>\n",
       "      <td>8.00</td>\n",
       "    </tr>\n",
       "    <tr>\n",
       "      <th>8</th>\n",
       "      <td>Launch a promotion that gives users discounts ...</td>\n",
       "      <td>16.2</td>\n",
       "      <td>16.20</td>\n",
       "    </tr>\n",
       "    <tr>\n",
       "      <th>7</th>\n",
       "      <td>Add a subscription form to all the main pages....</td>\n",
       "      <td>9.6</td>\n",
       "      <td>11.20</td>\n",
       "    </tr>\n",
       "  </tbody>\n",
       "</table>\n",
       "</div>"
      ],
      "text/plain": [
       "                                          hypothesis  RICE    ICE\n",
       "2  Add product recommendation blocks to the store...  56.0   7.00\n",
       "0  Add two new channels for attracting traffic. T...  40.0  13.33\n",
       "6  Show banners with current offers and sales on ...  40.0   8.00\n",
       "8  Launch a promotion that gives users discounts ...  16.2  16.20\n",
       "7  Add a subscription form to all the main pages....   9.6  11.20"
      ]
     },
     "execution_count": 50,
     "metadata": {},
     "output_type": "execute_result"
    }
   ],
   "source": [
    "top_5 = RICE_hypotheses[['hypothesis','RICE']][:5].merge(ICE_hypotheses[\n",
    "                                  'ICE'][:5], how='inner', left_index=True, right_index=True)\n",
    "top_5"
   ]
  },
  {
   "cell_type": "markdown",
   "metadata": {},
   "source": [
    "They are. How about top 3 leaders?"
   ]
  },
  {
   "cell_type": "code",
   "execution_count": 51,
   "metadata": {},
   "outputs": [
    {
     "data": {
      "text/html": [
       "<div>\n",
       "<style scoped>\n",
       "    .dataframe tbody tr th:only-of-type {\n",
       "        vertical-align: middle;\n",
       "    }\n",
       "\n",
       "    .dataframe tbody tr th {\n",
       "        vertical-align: top;\n",
       "    }\n",
       "\n",
       "    .dataframe thead th {\n",
       "        text-align: right;\n",
       "    }\n",
       "</style>\n",
       "<table border=\"1\" class=\"dataframe\">\n",
       "  <thead>\n",
       "    <tr style=\"text-align: right;\">\n",
       "      <th></th>\n",
       "      <th>hypothesis</th>\n",
       "      <th>RICE</th>\n",
       "      <th>ICE</th>\n",
       "    </tr>\n",
       "  </thead>\n",
       "  <tbody>\n",
       "    <tr>\n",
       "      <th>0</th>\n",
       "      <td>Add two new channels for attracting traffic. T...</td>\n",
       "      <td>40.0</td>\n",
       "      <td>13.33</td>\n",
       "    </tr>\n",
       "  </tbody>\n",
       "</table>\n",
       "</div>"
      ],
      "text/plain": [
       "                                          hypothesis  RICE    ICE\n",
       "0  Add two new channels for attracting traffic. T...  40.0  13.33"
      ]
     },
     "execution_count": 51,
     "metadata": {},
     "output_type": "execute_result"
    }
   ],
   "source": [
    "top_3 = RICE_hypotheses[['hypothesis','RICE']][:3].merge(ICE_hypotheses[\n",
    "                                  'ICE'][:3], how='inner', left_index=True, right_index=True)\n",
    "top_3"
   ]
  },
  {
   "cell_type": "code",
   "execution_count": 52,
   "metadata": {},
   "outputs": [
    {
     "data": {
      "text/plain": [
       "'Add two new channels for attracting traffic. This will bring 30% more users'"
      ]
     },
     "execution_count": 52,
     "metadata": {},
     "output_type": "execute_result"
    }
   ],
   "source": [
    "top_3.hypothesis[0]"
   ]
  },
  {
   "cell_type": "markdown",
   "metadata": {},
   "source": [
    "#### Conclusion:"
   ]
  },
  {
   "cell_type": "code",
   "execution_count": 53,
   "metadata": {},
   "outputs": [
    {
     "name": "stdout",
     "output_type": "stream",
     "text": [
      "We see here that ICE and RICE approach bring us same top 5 leaders, #[2, 0, 6, 8, 7], but they differ in the most promising hypoteses. For ICE it is: \n",
      "\"Launch a promotion that gives users discounts on their birthdays\", \n",
      "and for RICE: \n",
      "\"Add product recommendation blocks to the store's site. This will increase conversion and average purchase size\". \n",
      "Never the less both of them consider hypotesis \"Add two new channels for attracting traffic. This will bring 30% more users\" to be among top 3, but it is still not the favorite one. \n",
      "Important is that we can see a bigger difference in share: RICE leader stands 28.57% aside from the closes hypotheis, meanwhile ICE have smaller difference of 17.72%. Since we really should pay attention to the amount of users our hypothesis can affect and since the percentage margin for RICE is bigger, I would go with its leader hypothesis: \n",
      "\"Add product recommendation blocks to the store's site. This will increase conversion and average purchase size\"\n"
     ]
    }
   ],
   "source": [
    "print(f'We see here that ICE and RICE approach bring us same top 5 leaders, #{list(top_5.index)}, but they differ in the most promising hypoteses. For ICE it is: \\n\"{ICE_hypotheses.reset_index().hypothesis[0]}\", \\nand for RICE: \\n\"{RICE_hypotheses.reset_index().hypothesis[0]}\". \\nNever the less both of them consider hypotesis \"{top_3.hypothesis[0]}\" to be among top 3, but it is still not the favorite one. \\nImportant is that we can see a bigger difference in share: RICE leader stands {round(RICE_hypotheses.reset_index().RICE_share[0]-RICE_hypotheses.reset_index().RICE_share[1],2)}% aside from the closes hypotheis, meanwhile ICE have smaller difference of {round(ICE_hypotheses.reset_index().ICE_share[0]-ICE_hypotheses.reset_index().ICE_share[1],2)}%. Since we really should pay attention to the amount of users our hypothesis can affect and since the percentage margin for RICE is bigger, I would go with its leader hypothesis: \\n\"{RICE_hypotheses.reset_index().hypothesis[0]}\"')"
   ]
  },
  {
   "cell_type": "markdown",
   "metadata": {},
   "source": [
    "### ICE/RICE comparison plot"
   ]
  },
  {
   "cell_type": "code",
   "execution_count": 54,
   "metadata": {},
   "outputs": [],
   "source": [
    "ICE_RICE_merged = ICE_hypotheses[['hypothesis', 'ICE']].merge(\n",
    "    RICE_hypotheses['RICE'], left_index=True, right_index=True)"
   ]
  },
  {
   "cell_type": "code",
   "execution_count": 55,
   "metadata": {},
   "outputs": [
    {
     "data": {
      "application/vnd.plotly.v1+json": {
       "config": {
        "plotlyServerURL": "https://plot.ly"
       },
       "data": [
        {
         "name": "ICE",
         "type": "bar",
         "x": [
          8,
          0,
          7,
          6,
          2,
          1,
          5,
          3,
          4
         ],
         "y": [
          16.2,
          13.33,
          11.2,
          8,
          7,
          2,
          1.33,
          1.12,
          1
         ]
        },
        {
         "name": "RICE",
         "type": "bar",
         "x": [
          8,
          0,
          7,
          6,
          2,
          1,
          5,
          3,
          4
         ],
         "y": [
          16.2,
          40,
          9.6,
          40,
          56,
          4,
          4,
          9,
          3
         ]
        }
       ],
       "layout": {
        "template": {
         "data": {
          "bar": [
           {
            "error_x": {
             "color": "#2a3f5f"
            },
            "error_y": {
             "color": "#2a3f5f"
            },
            "marker": {
             "line": {
              "color": "#E5ECF6",
              "width": 0.5
             }
            },
            "type": "bar"
           }
          ],
          "barpolar": [
           {
            "marker": {
             "line": {
              "color": "#E5ECF6",
              "width": 0.5
             }
            },
            "type": "barpolar"
           }
          ],
          "carpet": [
           {
            "aaxis": {
             "endlinecolor": "#2a3f5f",
             "gridcolor": "white",
             "linecolor": "white",
             "minorgridcolor": "white",
             "startlinecolor": "#2a3f5f"
            },
            "baxis": {
             "endlinecolor": "#2a3f5f",
             "gridcolor": "white",
             "linecolor": "white",
             "minorgridcolor": "white",
             "startlinecolor": "#2a3f5f"
            },
            "type": "carpet"
           }
          ],
          "choropleth": [
           {
            "colorbar": {
             "outlinewidth": 0,
             "ticks": ""
            },
            "type": "choropleth"
           }
          ],
          "contour": [
           {
            "colorbar": {
             "outlinewidth": 0,
             "ticks": ""
            },
            "colorscale": [
             [
              0,
              "#0d0887"
             ],
             [
              0.1111111111111111,
              "#46039f"
             ],
             [
              0.2222222222222222,
              "#7201a8"
             ],
             [
              0.3333333333333333,
              "#9c179e"
             ],
             [
              0.4444444444444444,
              "#bd3786"
             ],
             [
              0.5555555555555556,
              "#d8576b"
             ],
             [
              0.6666666666666666,
              "#ed7953"
             ],
             [
              0.7777777777777778,
              "#fb9f3a"
             ],
             [
              0.8888888888888888,
              "#fdca26"
             ],
             [
              1,
              "#f0f921"
             ]
            ],
            "type": "contour"
           }
          ],
          "contourcarpet": [
           {
            "colorbar": {
             "outlinewidth": 0,
             "ticks": ""
            },
            "type": "contourcarpet"
           }
          ],
          "heatmap": [
           {
            "colorbar": {
             "outlinewidth": 0,
             "ticks": ""
            },
            "colorscale": [
             [
              0,
              "#0d0887"
             ],
             [
              0.1111111111111111,
              "#46039f"
             ],
             [
              0.2222222222222222,
              "#7201a8"
             ],
             [
              0.3333333333333333,
              "#9c179e"
             ],
             [
              0.4444444444444444,
              "#bd3786"
             ],
             [
              0.5555555555555556,
              "#d8576b"
             ],
             [
              0.6666666666666666,
              "#ed7953"
             ],
             [
              0.7777777777777778,
              "#fb9f3a"
             ],
             [
              0.8888888888888888,
              "#fdca26"
             ],
             [
              1,
              "#f0f921"
             ]
            ],
            "type": "heatmap"
           }
          ],
          "heatmapgl": [
           {
            "colorbar": {
             "outlinewidth": 0,
             "ticks": ""
            },
            "colorscale": [
             [
              0,
              "#0d0887"
             ],
             [
              0.1111111111111111,
              "#46039f"
             ],
             [
              0.2222222222222222,
              "#7201a8"
             ],
             [
              0.3333333333333333,
              "#9c179e"
             ],
             [
              0.4444444444444444,
              "#bd3786"
             ],
             [
              0.5555555555555556,
              "#d8576b"
             ],
             [
              0.6666666666666666,
              "#ed7953"
             ],
             [
              0.7777777777777778,
              "#fb9f3a"
             ],
             [
              0.8888888888888888,
              "#fdca26"
             ],
             [
              1,
              "#f0f921"
             ]
            ],
            "type": "heatmapgl"
           }
          ],
          "histogram": [
           {
            "marker": {
             "colorbar": {
              "outlinewidth": 0,
              "ticks": ""
             }
            },
            "type": "histogram"
           }
          ],
          "histogram2d": [
           {
            "colorbar": {
             "outlinewidth": 0,
             "ticks": ""
            },
            "colorscale": [
             [
              0,
              "#0d0887"
             ],
             [
              0.1111111111111111,
              "#46039f"
             ],
             [
              0.2222222222222222,
              "#7201a8"
             ],
             [
              0.3333333333333333,
              "#9c179e"
             ],
             [
              0.4444444444444444,
              "#bd3786"
             ],
             [
              0.5555555555555556,
              "#d8576b"
             ],
             [
              0.6666666666666666,
              "#ed7953"
             ],
             [
              0.7777777777777778,
              "#fb9f3a"
             ],
             [
              0.8888888888888888,
              "#fdca26"
             ],
             [
              1,
              "#f0f921"
             ]
            ],
            "type": "histogram2d"
           }
          ],
          "histogram2dcontour": [
           {
            "colorbar": {
             "outlinewidth": 0,
             "ticks": ""
            },
            "colorscale": [
             [
              0,
              "#0d0887"
             ],
             [
              0.1111111111111111,
              "#46039f"
             ],
             [
              0.2222222222222222,
              "#7201a8"
             ],
             [
              0.3333333333333333,
              "#9c179e"
             ],
             [
              0.4444444444444444,
              "#bd3786"
             ],
             [
              0.5555555555555556,
              "#d8576b"
             ],
             [
              0.6666666666666666,
              "#ed7953"
             ],
             [
              0.7777777777777778,
              "#fb9f3a"
             ],
             [
              0.8888888888888888,
              "#fdca26"
             ],
             [
              1,
              "#f0f921"
             ]
            ],
            "type": "histogram2dcontour"
           }
          ],
          "mesh3d": [
           {
            "colorbar": {
             "outlinewidth": 0,
             "ticks": ""
            },
            "type": "mesh3d"
           }
          ],
          "parcoords": [
           {
            "line": {
             "colorbar": {
              "outlinewidth": 0,
              "ticks": ""
             }
            },
            "type": "parcoords"
           }
          ],
          "pie": [
           {
            "automargin": true,
            "type": "pie"
           }
          ],
          "scatter": [
           {
            "marker": {
             "colorbar": {
              "outlinewidth": 0,
              "ticks": ""
             }
            },
            "type": "scatter"
           }
          ],
          "scatter3d": [
           {
            "line": {
             "colorbar": {
              "outlinewidth": 0,
              "ticks": ""
             }
            },
            "marker": {
             "colorbar": {
              "outlinewidth": 0,
              "ticks": ""
             }
            },
            "type": "scatter3d"
           }
          ],
          "scattercarpet": [
           {
            "marker": {
             "colorbar": {
              "outlinewidth": 0,
              "ticks": ""
             }
            },
            "type": "scattercarpet"
           }
          ],
          "scattergeo": [
           {
            "marker": {
             "colorbar": {
              "outlinewidth": 0,
              "ticks": ""
             }
            },
            "type": "scattergeo"
           }
          ],
          "scattergl": [
           {
            "marker": {
             "colorbar": {
              "outlinewidth": 0,
              "ticks": ""
             }
            },
            "type": "scattergl"
           }
          ],
          "scattermapbox": [
           {
            "marker": {
             "colorbar": {
              "outlinewidth": 0,
              "ticks": ""
             }
            },
            "type": "scattermapbox"
           }
          ],
          "scatterpolar": [
           {
            "marker": {
             "colorbar": {
              "outlinewidth": 0,
              "ticks": ""
             }
            },
            "type": "scatterpolar"
           }
          ],
          "scatterpolargl": [
           {
            "marker": {
             "colorbar": {
              "outlinewidth": 0,
              "ticks": ""
             }
            },
            "type": "scatterpolargl"
           }
          ],
          "scatterternary": [
           {
            "marker": {
             "colorbar": {
              "outlinewidth": 0,
              "ticks": ""
             }
            },
            "type": "scatterternary"
           }
          ],
          "surface": [
           {
            "colorbar": {
             "outlinewidth": 0,
             "ticks": ""
            },
            "colorscale": [
             [
              0,
              "#0d0887"
             ],
             [
              0.1111111111111111,
              "#46039f"
             ],
             [
              0.2222222222222222,
              "#7201a8"
             ],
             [
              0.3333333333333333,
              "#9c179e"
             ],
             [
              0.4444444444444444,
              "#bd3786"
             ],
             [
              0.5555555555555556,
              "#d8576b"
             ],
             [
              0.6666666666666666,
              "#ed7953"
             ],
             [
              0.7777777777777778,
              "#fb9f3a"
             ],
             [
              0.8888888888888888,
              "#fdca26"
             ],
             [
              1,
              "#f0f921"
             ]
            ],
            "type": "surface"
           }
          ],
          "table": [
           {
            "cells": {
             "fill": {
              "color": "#EBF0F8"
             },
             "line": {
              "color": "white"
             }
            },
            "header": {
             "fill": {
              "color": "#C8D4E3"
             },
             "line": {
              "color": "white"
             }
            },
            "type": "table"
           }
          ]
         },
         "layout": {
          "annotationdefaults": {
           "arrowcolor": "#2a3f5f",
           "arrowhead": 0,
           "arrowwidth": 1
          },
          "autotypenumbers": "strict",
          "coloraxis": {
           "colorbar": {
            "outlinewidth": 0,
            "ticks": ""
           }
          },
          "colorscale": {
           "diverging": [
            [
             0,
             "#8e0152"
            ],
            [
             0.1,
             "#c51b7d"
            ],
            [
             0.2,
             "#de77ae"
            ],
            [
             0.3,
             "#f1b6da"
            ],
            [
             0.4,
             "#fde0ef"
            ],
            [
             0.5,
             "#f7f7f7"
            ],
            [
             0.6,
             "#e6f5d0"
            ],
            [
             0.7,
             "#b8e186"
            ],
            [
             0.8,
             "#7fbc41"
            ],
            [
             0.9,
             "#4d9221"
            ],
            [
             1,
             "#276419"
            ]
           ],
           "sequential": [
            [
             0,
             "#0d0887"
            ],
            [
             0.1111111111111111,
             "#46039f"
            ],
            [
             0.2222222222222222,
             "#7201a8"
            ],
            [
             0.3333333333333333,
             "#9c179e"
            ],
            [
             0.4444444444444444,
             "#bd3786"
            ],
            [
             0.5555555555555556,
             "#d8576b"
            ],
            [
             0.6666666666666666,
             "#ed7953"
            ],
            [
             0.7777777777777778,
             "#fb9f3a"
            ],
            [
             0.8888888888888888,
             "#fdca26"
            ],
            [
             1,
             "#f0f921"
            ]
           ],
           "sequentialminus": [
            [
             0,
             "#0d0887"
            ],
            [
             0.1111111111111111,
             "#46039f"
            ],
            [
             0.2222222222222222,
             "#7201a8"
            ],
            [
             0.3333333333333333,
             "#9c179e"
            ],
            [
             0.4444444444444444,
             "#bd3786"
            ],
            [
             0.5555555555555556,
             "#d8576b"
            ],
            [
             0.6666666666666666,
             "#ed7953"
            ],
            [
             0.7777777777777778,
             "#fb9f3a"
            ],
            [
             0.8888888888888888,
             "#fdca26"
            ],
            [
             1,
             "#f0f921"
            ]
           ]
          },
          "colorway": [
           "#636efa",
           "#EF553B",
           "#00cc96",
           "#ab63fa",
           "#FFA15A",
           "#19d3f3",
           "#FF6692",
           "#B6E880",
           "#FF97FF",
           "#FECB52"
          ],
          "font": {
           "color": "#2a3f5f"
          },
          "geo": {
           "bgcolor": "white",
           "lakecolor": "white",
           "landcolor": "#E5ECF6",
           "showlakes": true,
           "showland": true,
           "subunitcolor": "white"
          },
          "hoverlabel": {
           "align": "left"
          },
          "hovermode": "closest",
          "mapbox": {
           "style": "light"
          },
          "paper_bgcolor": "white",
          "plot_bgcolor": "#E5ECF6",
          "polar": {
           "angularaxis": {
            "gridcolor": "white",
            "linecolor": "white",
            "ticks": ""
           },
           "bgcolor": "#E5ECF6",
           "radialaxis": {
            "gridcolor": "white",
            "linecolor": "white",
            "ticks": ""
           }
          },
          "scene": {
           "xaxis": {
            "backgroundcolor": "#E5ECF6",
            "gridcolor": "white",
            "gridwidth": 2,
            "linecolor": "white",
            "showbackground": true,
            "ticks": "",
            "zerolinecolor": "white"
           },
           "yaxis": {
            "backgroundcolor": "#E5ECF6",
            "gridcolor": "white",
            "gridwidth": 2,
            "linecolor": "white",
            "showbackground": true,
            "ticks": "",
            "zerolinecolor": "white"
           },
           "zaxis": {
            "backgroundcolor": "#E5ECF6",
            "gridcolor": "white",
            "gridwidth": 2,
            "linecolor": "white",
            "showbackground": true,
            "ticks": "",
            "zerolinecolor": "white"
           }
          },
          "shapedefaults": {
           "line": {
            "color": "#2a3f5f"
           }
          },
          "ternary": {
           "aaxis": {
            "gridcolor": "white",
            "linecolor": "white",
            "ticks": ""
           },
           "baxis": {
            "gridcolor": "white",
            "linecolor": "white",
            "ticks": ""
           },
           "bgcolor": "#E5ECF6",
           "caxis": {
            "gridcolor": "white",
            "linecolor": "white",
            "ticks": ""
           }
          },
          "title": {
           "x": 0.05
          },
          "xaxis": {
           "automargin": true,
           "gridcolor": "white",
           "linecolor": "white",
           "ticks": "",
           "title": {
            "standoff": 15
           },
           "zerolinecolor": "white",
           "zerolinewidth": 2
          },
          "yaxis": {
           "automargin": true,
           "gridcolor": "white",
           "linecolor": "white",
           "ticks": "",
           "title": {
            "standoff": 15
           },
           "zerolinecolor": "white",
           "zerolinewidth": 2
          }
         }
        },
        "title": {
         "text": "ICE/RICE ratio"
        }
       }
      },
      "text/html": [
       "<div>                            <div id=\"8d14a09f-728c-44f9-970b-1934a959614b\" class=\"plotly-graph-div\" style=\"height:525px; width:100%;\"></div>            <script type=\"text/javascript\">                require([\"plotly\"], function(Plotly) {                    window.PLOTLYENV=window.PLOTLYENV || {};                                    if (document.getElementById(\"8d14a09f-728c-44f9-970b-1934a959614b\")) {                    Plotly.newPlot(                        \"8d14a09f-728c-44f9-970b-1934a959614b\",                        [{\"name\": \"ICE\", \"type\": \"bar\", \"x\": [8, 0, 7, 6, 2, 1, 5, 3, 4], \"y\": [16.2, 13.33, 11.2, 8.0, 7.0, 2.0, 1.33, 1.12, 1.0]}, {\"name\": \"RICE\", \"type\": \"bar\", \"x\": [8, 0, 7, 6, 2, 1, 5, 3, 4], \"y\": [16.2, 40.0, 9.6, 40.0, 56.0, 4.0, 4.0, 9.0, 3.0]}],                        {\"template\": {\"data\": {\"bar\": [{\"error_x\": {\"color\": \"#2a3f5f\"}, \"error_y\": {\"color\": \"#2a3f5f\"}, \"marker\": {\"line\": {\"color\": \"#E5ECF6\", \"width\": 0.5}}, \"type\": \"bar\"}], \"barpolar\": [{\"marker\": {\"line\": {\"color\": \"#E5ECF6\", \"width\": 0.5}}, \"type\": \"barpolar\"}], \"carpet\": [{\"aaxis\": {\"endlinecolor\": \"#2a3f5f\", \"gridcolor\": \"white\", \"linecolor\": \"white\", \"minorgridcolor\": \"white\", \"startlinecolor\": \"#2a3f5f\"}, \"baxis\": {\"endlinecolor\": \"#2a3f5f\", \"gridcolor\": \"white\", \"linecolor\": \"white\", \"minorgridcolor\": \"white\", \"startlinecolor\": \"#2a3f5f\"}, \"type\": \"carpet\"}], \"choropleth\": [{\"colorbar\": {\"outlinewidth\": 0, \"ticks\": \"\"}, \"type\": \"choropleth\"}], \"contour\": [{\"colorbar\": {\"outlinewidth\": 0, \"ticks\": \"\"}, \"colorscale\": [[0.0, \"#0d0887\"], [0.1111111111111111, \"#46039f\"], [0.2222222222222222, \"#7201a8\"], [0.3333333333333333, \"#9c179e\"], [0.4444444444444444, \"#bd3786\"], [0.5555555555555556, \"#d8576b\"], [0.6666666666666666, \"#ed7953\"], [0.7777777777777778, \"#fb9f3a\"], [0.8888888888888888, \"#fdca26\"], [1.0, \"#f0f921\"]], \"type\": \"contour\"}], \"contourcarpet\": [{\"colorbar\": {\"outlinewidth\": 0, \"ticks\": \"\"}, \"type\": \"contourcarpet\"}], \"heatmap\": [{\"colorbar\": {\"outlinewidth\": 0, \"ticks\": \"\"}, \"colorscale\": [[0.0, \"#0d0887\"], [0.1111111111111111, \"#46039f\"], [0.2222222222222222, \"#7201a8\"], [0.3333333333333333, \"#9c179e\"], [0.4444444444444444, \"#bd3786\"], [0.5555555555555556, \"#d8576b\"], [0.6666666666666666, \"#ed7953\"], [0.7777777777777778, \"#fb9f3a\"], [0.8888888888888888, \"#fdca26\"], [1.0, \"#f0f921\"]], \"type\": \"heatmap\"}], \"heatmapgl\": [{\"colorbar\": {\"outlinewidth\": 0, \"ticks\": \"\"}, \"colorscale\": [[0.0, \"#0d0887\"], [0.1111111111111111, \"#46039f\"], [0.2222222222222222, \"#7201a8\"], [0.3333333333333333, \"#9c179e\"], [0.4444444444444444, \"#bd3786\"], [0.5555555555555556, \"#d8576b\"], [0.6666666666666666, \"#ed7953\"], [0.7777777777777778, \"#fb9f3a\"], [0.8888888888888888, \"#fdca26\"], [1.0, \"#f0f921\"]], \"type\": \"heatmapgl\"}], \"histogram\": [{\"marker\": {\"colorbar\": {\"outlinewidth\": 0, \"ticks\": \"\"}}, \"type\": \"histogram\"}], \"histogram2d\": [{\"colorbar\": {\"outlinewidth\": 0, \"ticks\": \"\"}, \"colorscale\": [[0.0, \"#0d0887\"], [0.1111111111111111, \"#46039f\"], [0.2222222222222222, \"#7201a8\"], [0.3333333333333333, \"#9c179e\"], [0.4444444444444444, \"#bd3786\"], [0.5555555555555556, \"#d8576b\"], [0.6666666666666666, \"#ed7953\"], [0.7777777777777778, \"#fb9f3a\"], [0.8888888888888888, \"#fdca26\"], [1.0, \"#f0f921\"]], \"type\": \"histogram2d\"}], \"histogram2dcontour\": [{\"colorbar\": {\"outlinewidth\": 0, \"ticks\": \"\"}, \"colorscale\": [[0.0, \"#0d0887\"], [0.1111111111111111, \"#46039f\"], [0.2222222222222222, \"#7201a8\"], [0.3333333333333333, \"#9c179e\"], [0.4444444444444444, \"#bd3786\"], [0.5555555555555556, \"#d8576b\"], [0.6666666666666666, \"#ed7953\"], [0.7777777777777778, \"#fb9f3a\"], [0.8888888888888888, \"#fdca26\"], [1.0, \"#f0f921\"]], \"type\": \"histogram2dcontour\"}], \"mesh3d\": [{\"colorbar\": {\"outlinewidth\": 0, \"ticks\": \"\"}, \"type\": \"mesh3d\"}], \"parcoords\": [{\"line\": {\"colorbar\": {\"outlinewidth\": 0, \"ticks\": \"\"}}, \"type\": \"parcoords\"}], \"pie\": [{\"automargin\": true, \"type\": \"pie\"}], \"scatter\": [{\"marker\": {\"colorbar\": {\"outlinewidth\": 0, \"ticks\": \"\"}}, \"type\": \"scatter\"}], \"scatter3d\": [{\"line\": {\"colorbar\": {\"outlinewidth\": 0, \"ticks\": \"\"}}, \"marker\": {\"colorbar\": {\"outlinewidth\": 0, \"ticks\": \"\"}}, \"type\": \"scatter3d\"}], \"scattercarpet\": [{\"marker\": {\"colorbar\": {\"outlinewidth\": 0, \"ticks\": \"\"}}, \"type\": \"scattercarpet\"}], \"scattergeo\": [{\"marker\": {\"colorbar\": {\"outlinewidth\": 0, \"ticks\": \"\"}}, \"type\": \"scattergeo\"}], \"scattergl\": [{\"marker\": {\"colorbar\": {\"outlinewidth\": 0, \"ticks\": \"\"}}, \"type\": \"scattergl\"}], \"scattermapbox\": [{\"marker\": {\"colorbar\": {\"outlinewidth\": 0, \"ticks\": \"\"}}, \"type\": \"scattermapbox\"}], \"scatterpolar\": [{\"marker\": {\"colorbar\": {\"outlinewidth\": 0, \"ticks\": \"\"}}, \"type\": \"scatterpolar\"}], \"scatterpolargl\": [{\"marker\": {\"colorbar\": {\"outlinewidth\": 0, \"ticks\": \"\"}}, \"type\": \"scatterpolargl\"}], \"scatterternary\": [{\"marker\": {\"colorbar\": {\"outlinewidth\": 0, \"ticks\": \"\"}}, \"type\": \"scatterternary\"}], \"surface\": [{\"colorbar\": {\"outlinewidth\": 0, \"ticks\": \"\"}, \"colorscale\": [[0.0, \"#0d0887\"], [0.1111111111111111, \"#46039f\"], [0.2222222222222222, \"#7201a8\"], [0.3333333333333333, \"#9c179e\"], [0.4444444444444444, \"#bd3786\"], [0.5555555555555556, \"#d8576b\"], [0.6666666666666666, \"#ed7953\"], [0.7777777777777778, \"#fb9f3a\"], [0.8888888888888888, \"#fdca26\"], [1.0, \"#f0f921\"]], \"type\": \"surface\"}], \"table\": [{\"cells\": {\"fill\": {\"color\": \"#EBF0F8\"}, \"line\": {\"color\": \"white\"}}, \"header\": {\"fill\": {\"color\": \"#C8D4E3\"}, \"line\": {\"color\": \"white\"}}, \"type\": \"table\"}]}, \"layout\": {\"annotationdefaults\": {\"arrowcolor\": \"#2a3f5f\", \"arrowhead\": 0, \"arrowwidth\": 1}, \"autotypenumbers\": \"strict\", \"coloraxis\": {\"colorbar\": {\"outlinewidth\": 0, \"ticks\": \"\"}}, \"colorscale\": {\"diverging\": [[0, \"#8e0152\"], [0.1, \"#c51b7d\"], [0.2, \"#de77ae\"], [0.3, \"#f1b6da\"], [0.4, \"#fde0ef\"], [0.5, \"#f7f7f7\"], [0.6, \"#e6f5d0\"], [0.7, \"#b8e186\"], [0.8, \"#7fbc41\"], [0.9, \"#4d9221\"], [1, \"#276419\"]], \"sequential\": [[0.0, \"#0d0887\"], [0.1111111111111111, \"#46039f\"], [0.2222222222222222, \"#7201a8\"], [0.3333333333333333, \"#9c179e\"], [0.4444444444444444, \"#bd3786\"], [0.5555555555555556, \"#d8576b\"], [0.6666666666666666, \"#ed7953\"], [0.7777777777777778, \"#fb9f3a\"], [0.8888888888888888, \"#fdca26\"], [1.0, \"#f0f921\"]], \"sequentialminus\": [[0.0, \"#0d0887\"], [0.1111111111111111, \"#46039f\"], [0.2222222222222222, \"#7201a8\"], [0.3333333333333333, \"#9c179e\"], [0.4444444444444444, \"#bd3786\"], [0.5555555555555556, \"#d8576b\"], [0.6666666666666666, \"#ed7953\"], [0.7777777777777778, \"#fb9f3a\"], [0.8888888888888888, \"#fdca26\"], [1.0, \"#f0f921\"]]}, \"colorway\": [\"#636efa\", \"#EF553B\", \"#00cc96\", \"#ab63fa\", \"#FFA15A\", \"#19d3f3\", \"#FF6692\", \"#B6E880\", \"#FF97FF\", \"#FECB52\"], \"font\": {\"color\": \"#2a3f5f\"}, \"geo\": {\"bgcolor\": \"white\", \"lakecolor\": \"white\", \"landcolor\": \"#E5ECF6\", \"showlakes\": true, \"showland\": true, \"subunitcolor\": \"white\"}, \"hoverlabel\": {\"align\": \"left\"}, \"hovermode\": \"closest\", \"mapbox\": {\"style\": \"light\"}, \"paper_bgcolor\": \"white\", \"plot_bgcolor\": \"#E5ECF6\", \"polar\": {\"angularaxis\": {\"gridcolor\": \"white\", \"linecolor\": \"white\", \"ticks\": \"\"}, \"bgcolor\": \"#E5ECF6\", \"radialaxis\": {\"gridcolor\": \"white\", \"linecolor\": \"white\", \"ticks\": \"\"}}, \"scene\": {\"xaxis\": {\"backgroundcolor\": \"#E5ECF6\", \"gridcolor\": \"white\", \"gridwidth\": 2, \"linecolor\": \"white\", \"showbackground\": true, \"ticks\": \"\", \"zerolinecolor\": \"white\"}, \"yaxis\": {\"backgroundcolor\": \"#E5ECF6\", \"gridcolor\": \"white\", \"gridwidth\": 2, \"linecolor\": \"white\", \"showbackground\": true, \"ticks\": \"\", \"zerolinecolor\": \"white\"}, \"zaxis\": {\"backgroundcolor\": \"#E5ECF6\", \"gridcolor\": \"white\", \"gridwidth\": 2, \"linecolor\": \"white\", \"showbackground\": true, \"ticks\": \"\", \"zerolinecolor\": \"white\"}}, \"shapedefaults\": {\"line\": {\"color\": \"#2a3f5f\"}}, \"ternary\": {\"aaxis\": {\"gridcolor\": \"white\", \"linecolor\": \"white\", \"ticks\": \"\"}, \"baxis\": {\"gridcolor\": \"white\", \"linecolor\": \"white\", \"ticks\": \"\"}, \"bgcolor\": \"#E5ECF6\", \"caxis\": {\"gridcolor\": \"white\", \"linecolor\": \"white\", \"ticks\": \"\"}}, \"title\": {\"x\": 0.05}, \"xaxis\": {\"automargin\": true, \"gridcolor\": \"white\", \"linecolor\": \"white\", \"ticks\": \"\", \"title\": {\"standoff\": 15}, \"zerolinecolor\": \"white\", \"zerolinewidth\": 2}, \"yaxis\": {\"automargin\": true, \"gridcolor\": \"white\", \"linecolor\": \"white\", \"ticks\": \"\", \"title\": {\"standoff\": 15}, \"zerolinecolor\": \"white\", \"zerolinewidth\": 2}}}, \"title\": {\"text\": \"ICE/RICE ratio\"}},                        {\"responsive\": true}                    ).then(function(){\n",
       "                            \n",
       "var gd = document.getElementById('8d14a09f-728c-44f9-970b-1934a959614b');\n",
       "var x = new MutationObserver(function (mutations, observer) {{\n",
       "        var display = window.getComputedStyle(gd).display;\n",
       "        if (!display || display === 'none') {{\n",
       "            console.log([gd, 'removed!']);\n",
       "            Plotly.purge(gd);\n",
       "            observer.disconnect();\n",
       "        }}\n",
       "}});\n",
       "\n",
       "// Listen for the removal of the full notebook cells\n",
       "var notebookContainer = gd.closest('#notebook-container');\n",
       "if (notebookContainer) {{\n",
       "    x.observe(notebookContainer, {childList: true});\n",
       "}}\n",
       "\n",
       "// Listen for the clearing of the current output cell\n",
       "var outputEl = gd.closest('.output');\n",
       "if (outputEl) {{\n",
       "    x.observe(outputEl, {childList: true});\n",
       "}}\n",
       "\n",
       "                        })                };                });            </script>        </div>"
      ]
     },
     "metadata": {},
     "output_type": "display_data"
    }
   ],
   "source": [
    "fig = go.Figure(data=[\n",
    "    go.Bar(name='ICE', x=ICE_RICE_merged.index, y=ICE_RICE_merged.ICE),\n",
    "    go.Bar(name='RICE', x=ICE_RICE_merged.index, y=ICE_RICE_merged.RICE)\n",
    "])\n",
    "fig.update_layout(title_text='ICE/RICE ratio')\n",
    "\n",
    "fig.show()"
   ]
  },
  {
   "cell_type": "markdown",
   "metadata": {},
   "source": [
    "# Step 3. Part 2. A/B Test Analysis"
   ]
  },
  {
   "cell_type": "markdown",
   "metadata": {},
   "source": [
    "### Cumulative revenue by group\n"
   ]
  },
  {
   "cell_type": "code",
   "execution_count": 56,
   "metadata": {},
   "outputs": [],
   "source": [
    "datesGroups = orders[['date', 'group']].drop_duplicates()"
   ]
  },
  {
   "cell_type": "code",
   "execution_count": 57,
   "metadata": {
    "cell_style": "center"
   },
   "outputs": [],
   "source": [
    "ordersAggregated = datesGroups.apply(lambda x: orders[np.logical_and(orders['date'] <= x['date'], orders['group'] == x['group'])].agg({'date' : 'max', 'group' : 'max', 'transactionid' : pd.Series.nunique, 'visitorid' : pd.Series.nunique, 'revenue' : 'sum'}), axis=1).sort_values(by=['date','group']) "
   ]
  },
  {
   "cell_type": "code",
   "execution_count": 58,
   "metadata": {},
   "outputs": [],
   "source": [
    "visitorsAggregated = datesGroups.apply(lambda x: visits[np.logical_and(visits['date'] <= x['date'], visits['group'] == x['group'])].agg({'date' : 'max', 'group' : 'max', 'visits' : 'sum'}), axis=1).sort_values(by=['date','group']) "
   ]
  },
  {
   "cell_type": "code",
   "execution_count": 59,
   "metadata": {},
   "outputs": [],
   "source": [
    "cumulativeData = ordersAggregated.merge(visitorsAggregated, left_on=[\n",
    "                                        'date', 'group'], right_on=['date', 'group'])\n",
    "cumulativeData.columns = ['date', 'group',\n",
    "                          'orders', 'buyers', 'revenue', 'visitors']"
   ]
  },
  {
   "cell_type": "code",
   "execution_count": 60,
   "metadata": {},
   "outputs": [
    {
     "data": {
      "text/html": [
       "<div>\n",
       "<style scoped>\n",
       "    .dataframe tbody tr th:only-of-type {\n",
       "        vertical-align: middle;\n",
       "    }\n",
       "\n",
       "    .dataframe tbody tr th {\n",
       "        vertical-align: top;\n",
       "    }\n",
       "\n",
       "    .dataframe thead th {\n",
       "        text-align: right;\n",
       "    }\n",
       "</style>\n",
       "<table border=\"1\" class=\"dataframe\">\n",
       "  <thead>\n",
       "    <tr style=\"text-align: right;\">\n",
       "      <th></th>\n",
       "      <th>date</th>\n",
       "      <th>group</th>\n",
       "      <th>orders</th>\n",
       "      <th>buyers</th>\n",
       "      <th>revenue</th>\n",
       "      <th>visitors</th>\n",
       "      <th>average_order</th>\n",
       "    </tr>\n",
       "  </thead>\n",
       "  <tbody>\n",
       "    <tr>\n",
       "      <th>0</th>\n",
       "      <td>2019-08-01</td>\n",
       "      <td>A</td>\n",
       "      <td>23</td>\n",
       "      <td>19</td>\n",
       "      <td>2266.599854</td>\n",
       "      <td>718.0</td>\n",
       "      <td>98.547820</td>\n",
       "    </tr>\n",
       "    <tr>\n",
       "      <th>1</th>\n",
       "      <td>2019-08-01</td>\n",
       "      <td>B</td>\n",
       "      <td>17</td>\n",
       "      <td>17</td>\n",
       "      <td>967.199951</td>\n",
       "      <td>710.0</td>\n",
       "      <td>56.894115</td>\n",
       "    </tr>\n",
       "    <tr>\n",
       "      <th>2</th>\n",
       "      <td>2019-08-02</td>\n",
       "      <td>A</td>\n",
       "      <td>42</td>\n",
       "      <td>36</td>\n",
       "      <td>3734.899902</td>\n",
       "      <td>1336.0</td>\n",
       "      <td>88.926188</td>\n",
       "    </tr>\n",
       "    <tr>\n",
       "      <th>3</th>\n",
       "      <td>2019-08-02</td>\n",
       "      <td>B</td>\n",
       "      <td>40</td>\n",
       "      <td>39</td>\n",
       "      <td>3535.300293</td>\n",
       "      <td>1290.0</td>\n",
       "      <td>88.382507</td>\n",
       "    </tr>\n",
       "    <tr>\n",
       "      <th>4</th>\n",
       "      <td>2019-08-03</td>\n",
       "      <td>A</td>\n",
       "      <td>66</td>\n",
       "      <td>60</td>\n",
       "      <td>5550.100098</td>\n",
       "      <td>1843.0</td>\n",
       "      <td>84.092426</td>\n",
       "    </tr>\n",
       "    <tr>\n",
       "      <th>5</th>\n",
       "      <td>2019-08-03</td>\n",
       "      <td>B</td>\n",
       "      <td>54</td>\n",
       "      <td>53</td>\n",
       "      <td>4606.899902</td>\n",
       "      <td>1797.0</td>\n",
       "      <td>85.312961</td>\n",
       "    </tr>\n",
       "    <tr>\n",
       "      <th>6</th>\n",
       "      <td>2019-08-04</td>\n",
       "      <td>A</td>\n",
       "      <td>77</td>\n",
       "      <td>71</td>\n",
       "      <td>6225.600098</td>\n",
       "      <td>2556.0</td>\n",
       "      <td>80.851949</td>\n",
       "    </tr>\n",
       "    <tr>\n",
       "      <th>7</th>\n",
       "      <td>2019-08-04</td>\n",
       "      <td>B</td>\n",
       "      <td>68</td>\n",
       "      <td>66</td>\n",
       "      <td>6138.500000</td>\n",
       "      <td>2564.0</td>\n",
       "      <td>90.272059</td>\n",
       "    </tr>\n",
       "    <tr>\n",
       "      <th>8</th>\n",
       "      <td>2019-08-05</td>\n",
       "      <td>A</td>\n",
       "      <td>99</td>\n",
       "      <td>92</td>\n",
       "      <td>7623.600098</td>\n",
       "      <td>3309.0</td>\n",
       "      <td>77.006062</td>\n",
       "    </tr>\n",
       "    <tr>\n",
       "      <th>9</th>\n",
       "      <td>2019-08-05</td>\n",
       "      <td>B</td>\n",
       "      <td>89</td>\n",
       "      <td>87</td>\n",
       "      <td>7587.800293</td>\n",
       "      <td>3269.0</td>\n",
       "      <td>85.256183</td>\n",
       "    </tr>\n",
       "  </tbody>\n",
       "</table>\n",
       "</div>"
      ],
      "text/plain": [
       "        date group  orders  buyers      revenue  visitors  average_order\n",
       "0 2019-08-01     A      23      19  2266.599854     718.0      98.547820\n",
       "1 2019-08-01     B      17      17   967.199951     710.0      56.894115\n",
       "2 2019-08-02     A      42      36  3734.899902    1336.0      88.926188\n",
       "3 2019-08-02     B      40      39  3535.300293    1290.0      88.382507\n",
       "4 2019-08-03     A      66      60  5550.100098    1843.0      84.092426\n",
       "5 2019-08-03     B      54      53  4606.899902    1797.0      85.312961\n",
       "6 2019-08-04     A      77      71  6225.600098    2556.0      80.851949\n",
       "7 2019-08-04     B      68      66  6138.500000    2564.0      90.272059\n",
       "8 2019-08-05     A      99      92  7623.600098    3309.0      77.006062\n",
       "9 2019-08-05     B      89      87  7587.800293    3269.0      85.256183"
      ]
     },
     "execution_count": 60,
     "metadata": {},
     "output_type": "execute_result"
    }
   ],
   "source": [
    "cumulativeData['average_order'] = cumulativeData['revenue'] / \\\n",
    "    cumulativeData['orders']\n",
    "cumulativeData.head(10)"
   ]
  },
  {
   "cell_type": "code",
   "execution_count": 61,
   "metadata": {},
   "outputs": [],
   "source": [
    "cumulativeRevenueA = cumulativeData[cumulativeData['group'] == 'A'][[\n",
    "    'date', 'revenue', 'average_order']]\n",
    "cumulativeRevenueB = cumulativeData[cumulativeData['group'] == 'B'][[\n",
    "    'date', 'revenue', 'average_order']]"
   ]
  },
  {
   "cell_type": "code",
   "execution_count": 62,
   "metadata": {},
   "outputs": [
    {
     "data": {
      "image/png": "[encoded data removed]",
      "text/plain": [
       "<Figure size 720x576 with 1 Axes>"
      ]
     },
     "metadata": {
      "needs_background": "light"
     },
     "output_type": "display_data"
    }
   ],
   "source": [
    "plt.figure(figsize=(10, 8))\n",
    "plt.title('Cumulative revenue ')\n",
    "plt.grid()\n",
    "plt.plot(cumulativeRevenueA['date'], cumulativeRevenueA['revenue'], label='A')\n",
    "plt.plot(cumulativeRevenueB['date'], cumulativeRevenueB['revenue'], label='B')\n",
    "plt.xticks(rotation=45)\n",
    "plt.xlabel('date')\n",
    "plt.ylabel('revenue')\n",
    "plt.legend();"
   ]
  },
  {
   "cell_type": "markdown",
   "metadata": {},
   "source": [
    "#### Conclusions and conjectures"
   ]
  },
  {
   "cell_type": "markdown",
   "metadata": {},
   "source": [
    "The B group brought 26439 more revenue than A group (A: 53212, B: 79651), leading from the second day of test till the end, with a great surge on the 2019-08-18, while group A kept the same pace, stabily gaining revenue. Probably the B group introduced a different markting methodic or announsed a very popular item that caught users attention or a nive discount on that day and that caused huge orderd flow, but tht was 1-day event, because later on B continued with the same pace. Would be interesting to find out what happend there. \n",
    "Shortly: the revenue margin happend not die to \"bad\" A group visitors flow, but due to something great in B group on the 2019-08-18 and general stronger B pace."
   ]
  },
  {
   "cell_type": "markdown",
   "metadata": {},
   "source": [
    "### Cumulative average order size by group"
   ]
  },
  {
   "cell_type": "code",
   "execution_count": 63,
   "metadata": {},
   "outputs": [
    {
     "data": {
      "image/png": "[encoded data removed]",
      "text/plain": [
       "<Figure size 720x576 with 1 Axes>"
      ]
     },
     "metadata": {
      "needs_background": "light"
     },
     "output_type": "display_data"
    }
   ],
   "source": [
    "plt.figure(figsize=(10, 8))\n",
    "plt.grid()\n",
    "plt.plot(cumulativeRevenueA['date'],\n",
    "         cumulativeRevenueA['average_order'], label='A')\n",
    "plt.plot(cumulativeRevenueB['date'],\n",
    "         cumulativeRevenueB['average_order'], label='B')\n",
    "plt.xticks(rotation=45)\n",
    "plt.title('Cumulative average order ')\n",
    "plt.xlabel('date')\n",
    "plt.ylabel('Order size')\n",
    "plt.legend();"
   ]
  },
  {
   "cell_type": "markdown",
   "metadata": {},
   "source": [
    "#### Conclusions and conjectures¶"
   ]
  },
  {
   "cell_type": "markdown",
   "metadata": {},
   "source": [
    "Once again we see that group B leads. A and B met on the 2019-08-13 but due to the metioned above B orders surge, groups separated and A ended up with 113 cummulative order while B with 145: the difference is 32. Looks like a D is definite leader, but maybe this happend due to huge 2019-08-18 outlier."
   ]
  },
  {
   "cell_type": "markdown",
   "metadata": {},
   "source": [
    "### Relative difference graph for the average purchase sizes\n"
   ]
  },
  {
   "cell_type": "code",
   "execution_count": 64,
   "metadata": {},
   "outputs": [
    {
     "data": {
      "image/png": "[encoded data removed]",
      "text/plain": [
       "<Figure size 720x576 with 1 Axes>"
      ]
     },
     "metadata": {
      "needs_background": "light"
     },
     "output_type": "display_data"
    }
   ],
   "source": [
    "mergedCumulativeRevenue = cumulativeRevenueA.merge(\n",
    "    cumulativeRevenueB, left_on='date', right_on='date', how='left', suffixes=['A', 'B'])\n",
    "plt.figure(figsize=(10, 8))\n",
    "plt.grid()\n",
    "\n",
    "plt.plot(mergedCumulativeRevenue['date'], (\n",
    "    mergedCumulativeRevenue['average_orderB']/mergedCumulativeRevenue['average_orderA'])-1)\n",
    "\n",
    "plt.xticks(rotation=45)\n",
    "plt.title('A/B relative difference ')\n",
    "plt.xlabel('date')\n",
    "plt.ylabel('relative difference')\n",
    "plt.axhline(y=0, color='black', linestyle='--');"
   ]
  },
  {
   "cell_type": "markdown",
   "metadata": {},
   "source": [
    "#### Conclusions and conjectures¶"
   ]
  },
  {
   "cell_type": "markdown",
   "metadata": {},
   "source": [
    "we can see that, starting low and finishing top, B group have interesting fluctuations. It has clear risings: on 2019-08-01, on 2019-08-05, on 2019-08-18, the date, that stands out again. It falls on 2019-08-08 and from and from 2019-08-11 to 2019-08-13, and from 2019-08-19.\n",
    "We see that B is nearly 27% more \"succesful\" than A: their difference grow to 50%, but falls to 27% at the end. Some of the risings seem natural, but the 2019-08-17 looks like it is due to the outliers."
   ]
  },
  {
   "cell_type": "markdown",
   "metadata": {},
   "source": [
    "### Each group's conversion rate"
   ]
  },
  {
   "cell_type": "code",
   "execution_count": 65,
   "metadata": {},
   "outputs": [
    {
     "data": {
      "image/png": "[encoded data removed]",
      "text/plain": [
       "<Figure size 720x576 with 1 Axes>"
      ]
     },
     "metadata": {
      "needs_background": "light"
     },
     "output_type": "display_data"
    }
   ],
   "source": [
    "cumulativeData['conversion'] = cumulativeData['orders'] / \\\n",
    "    cumulativeData['visitors']\n",
    "plt.figure(figsize=(10, 8))\n",
    "plt.grid()\n",
    "\n",
    "cumulativeDataA = cumulativeData[cumulativeData['group'] == 'A']\n",
    "cumulativeDataB = cumulativeData[cumulativeData['group'] == 'B']\n",
    "\n",
    "plt.plot(cumulativeDataA['date'], cumulativeDataA['conversion'], label='A')\n",
    "plt.plot(cumulativeDataB['date'], cumulativeDataB['conversion'], label='B')\n",
    "plt.xticks(rotation=45)\n",
    "plt.title('A/B conversion rate ')\n",
    "plt.xlabel('date')\n",
    "plt.ylabel('conversion')\n",
    "plt.legend();"
   ]
  },
  {
   "cell_type": "code",
   "execution_count": 66,
   "metadata": {
    "cell_style": "center"
   },
   "outputs": [
    {
     "name": "stdout",
     "output_type": "stream",
     "text": [
      "mean conversion difference:  0.0024366555642437756\n",
      "median conversion difference:  0.0036586135848206275\n"
     ]
    }
   ],
   "source": [
    "B_conversion = pd.Series(cumulativeDataB.conversion).reset_index()\n",
    "A_conversion = pd.Series(cumulativeDataA.conversion).reset_index()\n",
    "\n",
    "print('mean conversion difference: ', (B_conversion - A_conversion).mean()[1])\n",
    "print('median conversion difference: ',(B_conversion - A_conversion).median()[1])"
   ]
  },
  {
   "cell_type": "markdown",
   "metadata": {},
   "source": [
    "#### Conclusions and conjectures¶"
   ]
  },
  {
   "cell_type": "markdown",
   "metadata": {},
   "source": [
    "Both mean and median difference between A anb B conversion are less than 0.1% meaning that none of them can be called a leader. The graph is symmetrcial anfter A anb B meeting on 2019-08-06. Except for the spikes at the first day (which still bring no difference to mean and median). So even though A conversion from 2019-08-06 till the end was lower the B's, A can't be considered as looser.    \n",
    "Worth mentioning, that all the fluctuations are very little and happend on the distance from 2.4 to 3.3 for B and from 2.5 to 3.5 for A: so, the fluctuations are less than 1%. The diffenrence between final convertion rate is just 0.4%: 2.9% for B and 2.5% for A"
   ]
  },
  {
   "cell_type": "markdown",
   "metadata": {},
   "source": [
    "### Scatter chart of the number of orders per user\n"
   ]
  },
  {
   "cell_type": "code",
   "execution_count": 67,
   "metadata": {
    "cell_style": "center"
   },
   "outputs": [],
   "source": [
    "ordersByUsers = orders.drop(['group', 'revenue', 'date'], axis=1).groupby('visitorid', as_index=False).agg({'transactionid' : pd.Series.nunique})\n",
    "ordersByUsers.columns = ['userId', 'orders']"
   ]
  },
  {
   "cell_type": "code",
   "execution_count": 71,
   "metadata": {},
   "outputs": [
    {
     "data": {
      "application/vnd.plotly.v1+json": {
       "config": {
        "plotlyServerURL": "https://plot.ly"
       },
       "data": [
        {
         "hovertemplate": "x=%{x}<br>orders=%{y}<extra></extra>",
         "legendgroup": "",
         "marker": {
          "color": "#636efa",
          "symbol": "circle"
         },
         "mode": "markers",
         "name": "",
         "orientation": "h",
         "showlegend": false,
         "type": "scatter",
         "x": [
          0,
          1,
          2,
          3,
          4,
          5,
          6,
          7,
          8,
          9,
          10,
          11,
          12,
          13,
          14,
          15,
          16,
          17,
          18,
          19,
          20,
          21,
          22,
          23,
          24,
          25,
          26,
          27,
          28,
          29,
          30,
          31,
          32,
          33,
          34,
          35,
          36,
          37,
          38,
          39,
          40,
          41,
          42,
          43,
          44,
          45,
          46,
          47,
          48,
          49,
          50,
          51,
          52,
          53,
          54,
          55,
          56,
          57,
          58,
          59,
          60,
          61,
          62,
          63,
          64,
          65,
          66,
          67,
          68,
          69,
          70,
          71,
          72,
          73,
          74,
          75,
          76,
          77,
          78,
          79,
          80,
          81,
          82,
          83,
          84,
          85,
          86,
          87,
          88,
          89,
          90,
          91,
          92,
          93,
          94,
          95,
          96,
          97,
          98,
          99,
          100,
          101,
          102,
          103,
          104,
          105,
          106,
          107,
          108,
          109,
          110,
          111,
          112,
          113,
          114,
          115,
          116,
          117,
          118,
          119,
          120,
          121,
          122,
          123,
          124,
          125,
          126,
          127,
          128,
          129,
          130,
          131,
          132,
          133,
          134,
          135,
          136,
          137,
          138,
          139,
          140,
          141,
          142,
          143,
          144,
          145,
          146,
          147,
          148,
          149,
          150,
          151,
          152,
          153,
          154,
          155,
          156,
          157,
          158,
          159,
          160,
          161,
          162,
          163,
          164,
          165,
          166,
          167,
          168,
          169,
          170,
          171,
          172,
          173,
          174,
          175,
          176,
          177,
          178,
          179,
          180,
          181,
          182,
          183,
          184,
          185,
          186,
          187,
          188,
          189,
          190,
          191,
          192,
          193,
          194,
          195,
          196,
          197,
          198,
          199,
          200,
          201,
          202,
          203,
          204,
          205,
          206,
          207,
          208,
          209,
          210,
          211,
          212,
          213,
          214,
          215,
          216,
          217,
          218,
          219,
          220,
          221,
          222,
          223,
          224,
          225,
          226,
          227,
          228,
          229,
          230,
          231,
          232,
          233,
          234,
          235,
          236,
          237,
          238,
          239,
          240,
          241,
          242,
          243,
          244,
          245,
          246,
          247,
          248,
          249,
          250,
          251,
          252,
          253,
          254,
          255,
          256,
          257,
          258,
          259,
          260,
          261,
          262,
          263,
          264,
          265,
          266,
          267,
          268,
          269,
          270,
          271,
          272,
          273,
          274,
          275,
          276,
          277,
          278,
          279,
          280,
          281,
          282,
          283,
          284,
          285,
          286,
          287,
          288,
          289,
          290,
          291,
          292,
          293,
          294,
          295,
          296,
          297,
          298,
          299,
          300,
          301,
          302,
          303,
          304,
          305,
          306,
          307,
          308,
          309,
          310,
          311,
          312,
          313,
          314,
          315,
          316,
          317,
          318,
          319,
          320,
          321,
          322,
          323,
          324,
          325,
          326,
          327,
          328,
          329,
          330,
          331,
          332,
          333,
          334,
          335,
          336,
          337,
          338,
          339,
          340,
          341,
          342,
          343,
          344,
          345,
          346,
          347,
          348,
          349,
          350,
          351,
          352,
          353,
          354,
          355,
          356,
          357,
          358,
          359,
          360,
          361,
          362,
          363,
          364,
          365,
          366,
          367,
          368,
          369,
          370,
          371,
          372,
          373,
          374,
          375,
          376,
          377,
          378,
          379,
          380,
          381,
          382,
          383,
          384,
          385,
          386,
          387,
          388,
          389,
          390,
          391,
          392,
          393,
          394,
          395,
          396,
          397,
          398,
          399,
          400,
          401,
          402,
          403,
          404,
          405,
          406,
          407,
          408,
          409,
          410,
          411,
          412,
          413,
          414,
          415,
          416,
          417,
          418,
          419,
          420,
          421,
          422,
          423,
          424,
          425,
          426,
          427,
          428,
          429,
          430,
          431,
          432,
          433,
          434,
          435,
          436,
          437,
          438,
          439,
          440,
          441,
          442,
          443,
          444,
          445,
          446,
          447,
          448,
          449,
          450,
          451,
          452,
          453,
          454,
          455,
          456,
          457,
          458,
          459,
          460,
          461,
          462,
          463,
          464,
          465,
          466,
          467,
          468,
          469,
          470,
          471,
          472,
          473,
          474,
          475,
          476,
          477,
          478,
          479,
          480,
          481,
          482,
          483,
          484,
          485,
          486,
          487,
          488,
          489,
          490,
          491,
          492,
          493,
          494,
          495,
          496,
          497,
          498,
          499,
          500,
          501,
          502,
          503,
          504,
          505,
          506,
          507,
          508,
          509,
          510,
          511,
          512,
          513,
          514,
          515,
          516,
          517,
          518,
          519,
          520,
          521,
          522,
          523,
          524,
          525,
          526,
          527,
          528,
          529,
          530,
          531,
          532,
          533,
          534,
          535,
          536,
          537,
          538,
          539,
          540,
          541,
          542,
          543,
          544,
          545,
          546,
          547,
          548,
          549,
          550,
          551,
          552,
          553,
          554,
          555,
          556,
          557,
          558,
          559,
          560,
          561,
          562,
          563,
          564,
          565,
          566,
          567,
          568,
          569,
          570,
          571,
          572,
          573,
          574,
          575,
          576,
          577,
          578,
          579,
          580,
          581,
          582,
          583,
          584,
          585,
          586,
          587,
          588,
          589,
          590,
          591,
          592,
          593,
          594,
          595,
          596,
          597,
          598,
          599,
          600,
          601,
          602,
          603,
          604,
          605,
          606,
          607,
          608,
          609,
          610,
          611,
          612,
          613,
          614,
          615,
          616,
          617,
          618,
          619,
          620,
          621,
          622,
          623,
          624,
          625,
          626,
          627,
          628,
          629,
          630,
          631,
          632,
          633,
          634,
          635,
          636,
          637,
          638,
          639,
          640,
          641,
          642,
          643,
          644,
          645,
          646,
          647,
          648,
          649,
          650,
          651,
          652,
          653,
          654,
          655,
          656,
          657,
          658,
          659,
          660,
          661,
          662,
          663,
          664,
          665,
          666,
          667,
          668,
          669,
          670,
          671,
          672,
          673,
          674,
          675,
          676,
          677,
          678,
          679,
          680,
          681,
          682,
          683,
          684,
          685,
          686,
          687,
          688,
          689,
          690,
          691,
          692,
          693,
          694,
          695,
          696,
          697,
          698,
          699,
          700,
          701,
          702,
          703,
          704,
          705,
          706,
          707,
          708,
          709,
          710,
          711,
          712,
          713,
          714,
          715,
          716,
          717,
          718,
          719,
          720,
          721,
          722,
          723,
          724,
          725,
          726,
          727,
          728,
          729,
          730,
          731,
          732,
          733,
          734,
          735,
          736,
          737,
          738,
          739,
          740,
          741,
          742,
          743,
          744,
          745,
          746,
          747,
          748,
          749,
          750,
          751,
          752,
          753,
          754,
          755,
          756,
          757,
          758,
          759,
          760,
          761,
          762,
          763,
          764,
          765,
          766,
          767,
          768,
          769,
          770,
          771,
          772,
          773,
          774,
          775,
          776,
          777,
          778,
          779,
          780,
          781,
          782,
          783,
          784,
          785,
          786,
          787,
          788,
          789,
          790,
          791,
          792,
          793,
          794,
          795,
          796,
          797,
          798,
          799,
          800,
          801,
          802,
          803,
          804,
          805,
          806,
          807,
          808,
          809,
          810,
          811,
          812,
          813,
          814,
          815,
          816,
          817,
          818,
          819,
          820,
          821,
          822,
          823,
          824,
          825,
          826,
          827,
          828,
          829,
          830,
          831,
          832,
          833,
          834,
          835,
          836,
          837,
          838,
          839,
          840,
          841,
          842,
          843,
          844,
          845,
          846,
          847,
          848,
          849,
          850,
          851,
          852,
          853,
          854,
          855,
          856,
          857,
          858,
          859,
          860,
          861,
          862,
          863,
          864,
          865,
          866,
          867,
          868,
          869,
          870,
          871,
          872,
          873,
          874,
          875,
          876,
          877,
          878,
          879,
          880,
          881,
          882,
          883,
          884,
          885,
          886,
          887,
          888,
          889,
          890,
          891,
          892,
          893,
          894,
          895,
          896,
          897,
          898,
          899,
          900,
          901,
          902,
          903,
          904,
          905,
          906,
          907,
          908,
          909,
          910,
          911,
          912,
          913,
          914,
          915,
          916,
          917,
          918,
          919,
          920,
          921,
          922,
          923,
          924,
          925,
          926,
          927,
          928,
          929,
          930,
          931,
          932,
          933,
          934,
          935,
          936,
          937,
          938,
          939,
          940,
          941,
          942,
          943,
          944,
          945,
          946,
          947,
          948,
          949,
          950,
          951,
          952,
          953,
          954,
          955,
          956,
          957,
          958,
          959,
          960,
          961,
          962,
          963,
          964,
          965,
          966,
          967,
          968,
          969,
          970,
          971,
          972
         ],
         "xaxis": "x",
         "y": [
          1,
          1,
          1,
          1,
          1,
          1,
          1,
          1,
          1,
          1,
          1,
          1,
          1,
          1,
          1,
          1,
          1,
          1,
          1,
          1,
          1,
          1,
          1,
          1,
          1,
          1,
          1,
          1,
          1,
          1,
          1,
          1,
          1,
          1,
          1,
          1,
          1,
          1,
          1,
          1,
          1,
          1,
          1,
          1,
          1,
          1,
          1,
          1,
          1,
          1,
          1,
          1,
          1,
          1,
          1,
          3,
          1,
          1,
          1,
          1,
          1,
          1,
          1,
          1,
          1,
          1,
          1,
          1,
          1,
          1,
          1,
          1,
          1,
          1,
          1,
          1,
          1,
          1,
          1,
          1,
          1,
          1,
          2,
          1,
          1,
          1,
          1,
          1,
          1,
          1,
          1,
          1,
          1,
          1,
          2,
          1,
          1,
          1,
          1,
          1,
          1,
          1,
          1,
          1,
          1,
          1,
          1,
          1,
          1,
          1,
          1,
          1,
          1,
          1,
          1,
          1,
          1,
          1,
          2,
          1,
          1,
          1,
          1,
          1,
          1,
          1,
          1,
          1,
          1,
          1,
          1,
          1,
          1,
          1,
          1,
          1,
          1,
          1,
          3,
          1,
          1,
          1,
          1,
          1,
          1,
          1,
          1,
          1,
          1,
          1,
          1,
          1,
          1,
          1,
          1,
          1,
          1,
          2,
          1,
          1,
          1,
          1,
          1,
          1,
          1,
          1,
          1,
          1,
          1,
          1,
          1,
          1,
          1,
          1,
          1,
          1,
          2,
          1,
          1,
          1,
          1,
          1,
          1,
          1,
          1,
          1,
          1,
          1,
          1,
          1,
          1,
          1,
          1,
          1,
          1,
          1,
          1,
          1,
          1,
          1,
          1,
          1,
          1,
          1,
          1,
          1,
          1,
          1,
          1,
          1,
          1,
          1,
          1,
          1,
          1,
          1,
          1,
          1,
          1,
          1,
          1,
          1,
          1,
          1,
          1,
          1,
          1,
          1,
          1,
          1,
          1,
          1,
          1,
          1,
          1,
          1,
          1,
          1,
          1,
          1,
          1,
          1,
          1,
          1,
          1,
          1,
          1,
          1,
          1,
          1,
          1,
          1,
          1,
          1,
          1,
          1,
          1,
          1,
          1,
          1,
          1,
          1,
          1,
          1,
          1,
          1,
          1,
          1,
          1,
          1,
          1,
          1,
          1,
          1,
          1,
          1,
          1,
          1,
          1,
          1,
          1,
          1,
          1,
          1,
          1,
          1,
          1,
          1,
          1,
          1,
          1,
          1,
          1,
          1,
          1,
          1,
          1,
          1,
          1,
          1,
          1,
          1,
          1,
          1,
          1,
          1,
          1,
          1,
          1,
          1,
          1,
          1,
          1,
          1,
          1,
          1,
          1,
          1,
          1,
          1,
          1,
          1,
          1,
          2,
          1,
          1,
          1,
          1,
          1,
          1,
          1,
          1,
          1,
          1,
          1,
          1,
          1,
          1,
          1,
          1,
          1,
          1,
          1,
          1,
          1,
          1,
          1,
          1,
          1,
          1,
          1,
          1,
          1,
          1,
          1,
          1,
          1,
          1,
          1,
          1,
          1,
          1,
          1,
          1,
          1,
          1,
          1,
          1,
          1,
          1,
          1,
          1,
          1,
          1,
          1,
          2,
          1,
          1,
          1,
          1,
          2,
          1,
          1,
          1,
          1,
          1,
          1,
          1,
          1,
          1,
          1,
          1,
          1,
          1,
          1,
          1,
          1,
          1,
          1,
          1,
          1,
          1,
          1,
          1,
          1,
          1,
          1,
          2,
          1,
          1,
          1,
          1,
          1,
          1,
          1,
          1,
          1,
          1,
          1,
          1,
          1,
          1,
          1,
          1,
          1,
          1,
          1,
          1,
          1,
          1,
          1,
          1,
          1,
          1,
          1,
          1,
          1,
          1,
          1,
          1,
          1,
          1,
          1,
          1,
          1,
          1,
          1,
          1,
          1,
          1,
          1,
          1,
          2,
          1,
          1,
          1,
          1,
          1,
          1,
          2,
          1,
          1,
          1,
          1,
          1,
          1,
          1,
          1,
          1,
          1,
          1,
          1,
          1,
          1,
          1,
          1,
          2,
          1,
          3,
          1,
          1,
          1,
          1,
          1,
          1,
          1,
          1,
          1,
          1,
          1,
          1,
          1,
          1,
          1,
          1,
          1,
          1,
          1,
          1,
          1,
          1,
          1,
          1,
          1,
          1,
          1,
          1,
          1,
          1,
          2,
          1,
          1,
          1,
          1,
          1,
          1,
          1,
          1,
          1,
          1,
          1,
          1,
          1,
          1,
          1,
          1,
          1,
          1,
          1,
          2,
          1,
          1,
          1,
          1,
          1,
          1,
          1,
          1,
          1,
          2,
          1,
          1,
          1,
          1,
          1,
          1,
          1,
          1,
          2,
          1,
          1,
          1,
          1,
          1,
          1,
          1,
          1,
          1,
          1,
          1,
          1,
          1,
          1,
          1,
          1,
          1,
          1,
          1,
          1,
          1,
          1,
          1,
          1,
          1,
          1,
          1,
          1,
          1,
          1,
          1,
          1,
          1,
          1,
          1,
          1,
          1,
          1,
          1,
          1,
          1,
          1,
          1,
          1,
          1,
          1,
          1,
          1,
          1,
          1,
          1,
          1,
          1,
          1,
          1,
          1,
          1,
          1,
          1,
          1,
          1,
          1,
          1,
          1,
          1,
          1,
          1,
          1,
          1,
          1,
          1,
          1,
          1,
          1,
          1,
          2,
          1,
          1,
          1,
          2,
          1,
          1,
          1,
          3,
          1,
          2,
          1,
          1,
          1,
          1,
          1,
          1,
          1,
          1,
          1,
          1,
          1,
          1,
          1,
          1,
          1,
          1,
          1,
          1,
          1,
          1,
          1,
          1,
          1,
          1,
          1,
          1,
          1,
          1,
          1,
          2,
          1,
          1,
          1,
          1,
          1,
          1,
          1,
          1,
          1,
          1,
          1,
          1,
          1,
          1,
          1,
          1,
          1,
          1,
          1,
          1,
          1,
          1,
          3,
          1,
          1,
          1,
          1,
          1,
          1,
          1,
          1,
          1,
          1,
          1,
          1,
          1,
          1,
          1,
          1,
          1,
          1,
          1,
          1,
          1,
          2,
          1,
          1,
          1,
          1,
          1,
          1,
          1,
          1,
          1,
          1,
          1,
          1,
          1,
          1,
          1,
          1,
          1,
          1,
          1,
          1,
          1,
          1,
          1,
          1,
          1,
          1,
          1,
          1,
          1,
          1,
          1,
          1,
          1,
          1,
          1,
          1,
          1,
          1,
          1,
          1,
          1,
          1,
          1,
          1,
          1,
          1,
          1,
          1,
          1,
          1,
          1,
          1,
          1,
          1,
          1,
          1,
          1,
          1,
          1,
          1,
          1,
          1,
          1,
          1,
          1,
          1,
          1,
          1,
          1,
          1,
          2,
          1,
          1,
          1,
          1,
          1,
          1,
          2,
          1,
          1,
          1,
          1,
          2,
          1,
          1,
          1,
          1,
          1,
          1,
          1,
          1,
          1,
          1,
          1,
          1,
          1,
          1,
          2,
          1,
          1,
          1,
          1,
          1,
          1,
          1,
          1,
          1,
          1,
          1,
          1,
          1,
          1,
          1,
          1,
          1,
          1,
          1,
          1,
          1,
          1,
          1,
          1,
          1,
          1,
          1,
          1,
          1,
          1,
          1,
          1,
          1,
          1,
          1,
          1,
          1,
          1,
          1,
          1,
          1,
          1,
          1,
          1,
          1,
          1,
          1,
          1,
          1,
          1,
          1,
          1,
          1,
          1,
          1,
          1,
          1,
          1,
          1,
          1,
          1,
          1,
          1,
          1,
          1,
          1,
          1,
          1,
          1,
          1,
          1,
          1,
          1,
          1,
          1,
          1,
          1,
          1,
          1,
          1,
          1,
          1,
          3,
          1,
          1,
          1,
          1,
          1,
          1,
          2,
          1,
          1,
          1,
          2,
          1,
          1,
          1,
          1,
          1,
          1,
          3,
          1,
          1,
          1,
          1,
          1,
          1,
          1,
          1,
          1,
          1,
          1,
          1,
          1,
          1,
          1,
          1,
          1,
          1,
          1,
          1,
          1,
          1,
          1,
          1,
          1,
          1,
          1,
          1,
          2,
          1,
          1,
          2,
          1,
          1,
          1,
          1,
          1,
          1,
          1,
          1,
          1,
          1,
          1,
          1,
          1,
          1,
          1,
          1,
          1,
          1,
          1,
          1,
          1,
          1,
          1,
          1,
          1,
          1,
          1,
          1,
          1,
          1,
          1,
          1
         ],
         "yaxis": "y"
        }
       ],
       "layout": {
        "legend": {
         "tracegroupgap": 0
        },
        "margin": {
         "t": 60
        },
        "template": {
         "data": {
          "bar": [
           {
            "error_x": {
             "color": "#2a3f5f"
            },
            "error_y": {
             "color": "#2a3f5f"
            },
            "marker": {
             "line": {
              "color": "#E5ECF6",
              "width": 0.5
             }
            },
            "type": "bar"
           }
          ],
          "barpolar": [
           {
            "marker": {
             "line": {
              "color": "#E5ECF6",
              "width": 0.5
             }
            },
            "type": "barpolar"
           }
          ],
          "carpet": [
           {
            "aaxis": {
             "endlinecolor": "#2a3f5f",
             "gridcolor": "white",
             "linecolor": "white",
             "minorgridcolor": "white",
             "startlinecolor": "#2a3f5f"
            },
            "baxis": {
             "endlinecolor": "#2a3f5f",
             "gridcolor": "white",
             "linecolor": "white",
             "minorgridcolor": "white",
             "startlinecolor": "#2a3f5f"
            },
            "type": "carpet"
           }
          ],
          "choropleth": [
           {
            "colorbar": {
             "outlinewidth": 0,
             "ticks": ""
            },
            "type": "choropleth"
           }
          ],
          "contour": [
           {
            "colorbar": {
             "outlinewidth": 0,
             "ticks": ""
            },
            "colorscale": [
             [
              0,
              "#0d0887"
             ],
             [
              0.1111111111111111,
              "#46039f"
             ],
             [
              0.2222222222222222,
              "#7201a8"
             ],
             [
              0.3333333333333333,
              "#9c179e"
             ],
             [
              0.4444444444444444,
              "#bd3786"
             ],
             [
              0.5555555555555556,
              "#d8576b"
             ],
             [
              0.6666666666666666,
              "#ed7953"
             ],
             [
              0.7777777777777778,
              "#fb9f3a"
             ],
             [
              0.8888888888888888,
              "#fdca26"
             ],
             [
              1,
              "#f0f921"
             ]
            ],
            "type": "contour"
           }
          ],
          "contourcarpet": [
           {
            "colorbar": {
             "outlinewidth": 0,
             "ticks": ""
            },
            "type": "contourcarpet"
           }
          ],
          "heatmap": [
           {
            "colorbar": {
             "outlinewidth": 0,
             "ticks": ""
            },
            "colorscale": [
             [
              0,
              "#0d0887"
             ],
             [
              0.1111111111111111,
              "#46039f"
             ],
             [
              0.2222222222222222,
              "#7201a8"
             ],
             [
              0.3333333333333333,
              "#9c179e"
             ],
             [
              0.4444444444444444,
              "#bd3786"
             ],
             [
              0.5555555555555556,
              "#d8576b"
             ],
             [
              0.6666666666666666,
              "#ed7953"
             ],
             [
              0.7777777777777778,
              "#fb9f3a"
             ],
             [
              0.8888888888888888,
              "#fdca26"
             ],
             [
              1,
              "#f0f921"
             ]
            ],
            "type": "heatmap"
           }
          ],
          "heatmapgl": [
           {
            "colorbar": {
             "outlinewidth": 0,
             "ticks": ""
            },
            "colorscale": [
             [
              0,
              "#0d0887"
             ],
             [
              0.1111111111111111,
              "#46039f"
             ],
             [
              0.2222222222222222,
              "#7201a8"
             ],
             [
              0.3333333333333333,
              "#9c179e"
             ],
             [
              0.4444444444444444,
              "#bd3786"
             ],
             [
              0.5555555555555556,
              "#d8576b"
             ],
             [
              0.6666666666666666,
              "#ed7953"
             ],
             [
              0.7777777777777778,
              "#fb9f3a"
             ],
             [
              0.8888888888888888,
              "#fdca26"
             ],
             [
              1,
              "#f0f921"
             ]
            ],
            "type": "heatmapgl"
           }
          ],
          "histogram": [
           {
            "marker": {
             "colorbar": {
              "outlinewidth": 0,
              "ticks": ""
             }
            },
            "type": "histogram"
           }
          ],
          "histogram2d": [
           {
            "colorbar": {
             "outlinewidth": 0,
             "ticks": ""
            },
            "colorscale": [
             [
              0,
              "#0d0887"
             ],
             [
              0.1111111111111111,
              "#46039f"
             ],
             [
              0.2222222222222222,
              "#7201a8"
             ],
             [
              0.3333333333333333,
              "#9c179e"
             ],
             [
              0.4444444444444444,
              "#bd3786"
             ],
             [
              0.5555555555555556,
              "#d8576b"
             ],
             [
              0.6666666666666666,
              "#ed7953"
             ],
             [
              0.7777777777777778,
              "#fb9f3a"
             ],
             [
              0.8888888888888888,
              "#fdca26"
             ],
             [
              1,
              "#f0f921"
             ]
            ],
            "type": "histogram2d"
           }
          ],
          "histogram2dcontour": [
           {
            "colorbar": {
             "outlinewidth": 0,
             "ticks": ""
            },
            "colorscale": [
             [
              0,
              "#0d0887"
             ],
             [
              0.1111111111111111,
              "#46039f"
             ],
             [
              0.2222222222222222,
              "#7201a8"
             ],
             [
              0.3333333333333333,
              "#9c179e"
             ],
             [
              0.4444444444444444,
              "#bd3786"
             ],
             [
              0.5555555555555556,
              "#d8576b"
             ],
             [
              0.6666666666666666,
              "#ed7953"
             ],
             [
              0.7777777777777778,
              "#fb9f3a"
             ],
             [
              0.8888888888888888,
              "#fdca26"
             ],
             [
              1,
              "#f0f921"
             ]
            ],
            "type": "histogram2dcontour"
           }
          ],
          "mesh3d": [
           {
            "colorbar": {
             "outlinewidth": 0,
             "ticks": ""
            },
            "type": "mesh3d"
           }
          ],
          "parcoords": [
           {
            "line": {
             "colorbar": {
              "outlinewidth": 0,
              "ticks": ""
             }
            },
            "type": "parcoords"
           }
          ],
          "pie": [
           {
            "automargin": true,
            "type": "pie"
           }
          ],
          "scatter": [
           {
            "marker": {
             "colorbar": {
              "outlinewidth": 0,
              "ticks": ""
             }
            },
            "type": "scatter"
           }
          ],
          "scatter3d": [
           {
            "line": {
             "colorbar": {
              "outlinewidth": 0,
              "ticks": ""
             }
            },
            "marker": {
             "colorbar": {
              "outlinewidth": 0,
              "ticks": ""
             }
            },
            "type": "scatter3d"
           }
          ],
          "scattercarpet": [
           {
            "marker": {
             "colorbar": {
              "outlinewidth": 0,
              "ticks": ""
             }
            },
            "type": "scattercarpet"
           }
          ],
          "scattergeo": [
           {
            "marker": {
             "colorbar": {
              "outlinewidth": 0,
              "ticks": ""
             }
            },
            "type": "scattergeo"
           }
          ],
          "scattergl": [
           {
            "marker": {
             "colorbar": {
              "outlinewidth": 0,
              "ticks": ""
             }
            },
            "type": "scattergl"
           }
          ],
          "scattermapbox": [
           {
            "marker": {
             "colorbar": {
              "outlinewidth": 0,
              "ticks": ""
             }
            },
            "type": "scattermapbox"
           }
          ],
          "scatterpolar": [
           {
            "marker": {
             "colorbar": {
              "outlinewidth": 0,
              "ticks": ""
             }
            },
            "type": "scatterpolar"
           }
          ],
          "scatterpolargl": [
           {
            "marker": {
             "colorbar": {
              "outlinewidth": 0,
              "ticks": ""
             }
            },
            "type": "scatterpolargl"
           }
          ],
          "scatterternary": [
           {
            "marker": {
             "colorbar": {
              "outlinewidth": 0,
              "ticks": ""
             }
            },
            "type": "scatterternary"
           }
          ],
          "surface": [
           {
            "colorbar": {
             "outlinewidth": 0,
             "ticks": ""
            },
            "colorscale": [
             [
              0,
              "#0d0887"
             ],
             [
              0.1111111111111111,
              "#46039f"
             ],
             [
              0.2222222222222222,
              "#7201a8"
             ],
             [
              0.3333333333333333,
              "#9c179e"
             ],
             [
              0.4444444444444444,
              "#bd3786"
             ],
             [
              0.5555555555555556,
              "#d8576b"
             ],
             [
              0.6666666666666666,
              "#ed7953"
             ],
             [
              0.7777777777777778,
              "#fb9f3a"
             ],
             [
              0.8888888888888888,
              "#fdca26"
             ],
             [
              1,
              "#f0f921"
             ]
            ],
            "type": "surface"
           }
          ],
          "table": [
           {
            "cells": {
             "fill": {
              "color": "#EBF0F8"
             },
             "line": {
              "color": "white"
             }
            },
            "header": {
             "fill": {
              "color": "#C8D4E3"
             },
             "line": {
              "color": "white"
             }
            },
            "type": "table"
           }
          ]
         },
         "layout": {
          "annotationdefaults": {
           "arrowcolor": "#2a3f5f",
           "arrowhead": 0,
           "arrowwidth": 1
          },
          "autotypenumbers": "strict",
          "coloraxis": {
           "colorbar": {
            "outlinewidth": 0,
            "ticks": ""
           }
          },
          "colorscale": {
           "diverging": [
            [
             0,
             "#8e0152"
            ],
            [
             0.1,
             "#c51b7d"
            ],
            [
             0.2,
             "#de77ae"
            ],
            [
             0.3,
             "#f1b6da"
            ],
            [
             0.4,
             "#fde0ef"
            ],
            [
             0.5,
             "#f7f7f7"
            ],
            [
             0.6,
             "#e6f5d0"
            ],
            [
             0.7,
             "#b8e186"
            ],
            [
             0.8,
             "#7fbc41"
            ],
            [
             0.9,
             "#4d9221"
            ],
            [
             1,
             "#276419"
            ]
           ],
           "sequential": [
            [
             0,
             "#0d0887"
            ],
            [
             0.1111111111111111,
             "#46039f"
            ],
            [
             0.2222222222222222,
             "#7201a8"
            ],
            [
             0.3333333333333333,
             "#9c179e"
            ],
            [
             0.4444444444444444,
             "#bd3786"
            ],
            [
             0.5555555555555556,
             "#d8576b"
            ],
            [
             0.6666666666666666,
             "#ed7953"
            ],
            [
             0.7777777777777778,
             "#fb9f3a"
            ],
            [
             0.8888888888888888,
             "#fdca26"
            ],
            [
             1,
             "#f0f921"
            ]
           ],
           "sequentialminus": [
            [
             0,
             "#0d0887"
            ],
            [
             0.1111111111111111,
             "#46039f"
            ],
            [
             0.2222222222222222,
             "#7201a8"
            ],
            [
             0.3333333333333333,
             "#9c179e"
            ],
            [
             0.4444444444444444,
             "#bd3786"
            ],
            [
             0.5555555555555556,
             "#d8576b"
            ],
            [
             0.6666666666666666,
             "#ed7953"
            ],
            [
             0.7777777777777778,
             "#fb9f3a"
            ],
            [
             0.8888888888888888,
             "#fdca26"
            ],
            [
             1,
             "#f0f921"
            ]
           ]
          },
          "colorway": [
           "#636efa",
           "#EF553B",
           "#00cc96",
           "#ab63fa",
           "#FFA15A",
           "#19d3f3",
           "#FF6692",
           "#B6E880",
           "#FF97FF",
           "#FECB52"
          ],
          "font": {
           "color": "#2a3f5f"
          },
          "geo": {
           "bgcolor": "white",
           "lakecolor": "white",
           "landcolor": "#E5ECF6",
           "showlakes": true,
           "showland": true,
           "subunitcolor": "white"
          },
          "hoverlabel": {
           "align": "left"
          },
          "hovermode": "closest",
          "mapbox": {
           "style": "light"
          },
          "paper_bgcolor": "white",
          "plot_bgcolor": "#E5ECF6",
          "polar": {
           "angularaxis": {
            "gridcolor": "white",
            "linecolor": "white",
            "ticks": ""
           },
           "bgcolor": "#E5ECF6",
           "radialaxis": {
            "gridcolor": "white",
            "linecolor": "white",
            "ticks": ""
           }
          },
          "scene": {
           "xaxis": {
            "backgroundcolor": "#E5ECF6",
            "gridcolor": "white",
            "gridwidth": 2,
            "linecolor": "white",
            "showbackground": true,
            "ticks": "",
            "zerolinecolor": "white"
           },
           "yaxis": {
            "backgroundcolor": "#E5ECF6",
            "gridcolor": "white",
            "gridwidth": 2,
            "linecolor": "white",
            "showbackground": true,
            "ticks": "",
            "zerolinecolor": "white"
           },
           "zaxis": {
            "backgroundcolor": "#E5ECF6",
            "gridcolor": "white",
            "gridwidth": 2,
            "linecolor": "white",
            "showbackground": true,
            "ticks": "",
            "zerolinecolor": "white"
           }
          },
          "shapedefaults": {
           "line": {
            "color": "#2a3f5f"
           }
          },
          "ternary": {
           "aaxis": {
            "gridcolor": "white",
            "linecolor": "white",
            "ticks": ""
           },
           "baxis": {
            "gridcolor": "white",
            "linecolor": "white",
            "ticks": ""
           },
           "bgcolor": "#E5ECF6",
           "caxis": {
            "gridcolor": "white",
            "linecolor": "white",
            "ticks": ""
           }
          },
          "title": {
           "x": 0.05
          },
          "xaxis": {
           "automargin": true,
           "gridcolor": "white",
           "linecolor": "white",
           "ticks": "",
           "title": {
            "standoff": 15
           },
           "zerolinecolor": "white",
           "zerolinewidth": 2
          },
          "yaxis": {
           "automargin": true,
           "gridcolor": "white",
           "linecolor": "white",
           "ticks": "",
           "title": {
            "standoff": 15
           },
           "zerolinecolor": "white",
           "zerolinewidth": 2
          }
         }
        },
        "title": {
         "font": {
          "size": 30
         },
         "text": "Number or orders per user"
        },
        "xaxis": {
         "anchor": "y",
         "domain": [
          0,
          1
         ],
         "title": {
          "text": "number of users"
         }
        },
        "yaxis": {
         "anchor": "x",
         "domain": [
          0,
          1
         ],
         "title": {
          "text": "number of orders"
         }
        }
       }
      },
      "text/html": [
       "<div>                            <div id=\"c9e239b2-dce5-4098-b799-7f44f193415d\" class=\"plotly-graph-div\" style=\"height:525px; width:100%;\"></div>            <script type=\"text/javascript\">                require([\"plotly\"], function(Plotly) {                    window.PLOTLYENV=window.PLOTLYENV || {};                                    if (document.getElementById(\"c9e239b2-dce5-4098-b799-7f44f193415d\")) {                    Plotly.newPlot(                        \"c9e239b2-dce5-4098-b799-7f44f193415d\",                        [{\"hovertemplate\": \"x=%{x}<br>orders=%{y}<extra></extra>\", \"legendgroup\": \"\", \"marker\": {\"color\": \"#636efa\", \"symbol\": \"circle\"}, \"mode\": \"markers\", \"name\": \"\", \"orientation\": \"h\", \"showlegend\": false, \"type\": \"scatter\", \"x\": [0, 1, 2, 3, 4, 5, 6, 7, 8, 9, 10, 11, 12, 13, 14, 15, 16, 17, 18, 19, 20, 21, 22, 23, 24, 25, 26, 27, 28, 29, 30, 31, 32, 33, 34, 35, 36, 37, 38, 39, 40, 41, 42, 43, 44, 45, 46, 47, 48, 49, 50, 51, 52, 53, 54, 55, 56, 57, 58, 59, 60, 61, 62, 63, 64, 65, 66, 67, 68, 69, 70, 71, 72, 73, 74, 75, 76, 77, 78, 79, 80, 81, 82, 83, 84, 85, 86, 87, 88, 89, 90, 91, 92, 93, 94, 95, 96, 97, 98, 99, 100, 101, 102, 103, 104, 105, 106, 107, 108, 109, 110, 111, 112, 113, 114, 115, 116, 117, 118, 119, 120, 121, 122, 123, 124, 125, 126, 127, 128, 129, 130, 131, 132, 133, 134, 135, 136, 137, 138, 139, 140, 141, 142, 143, 144, 145, 146, 147, 148, 149, 150, 151, 152, 153, 154, 155, 156, 157, 158, 159, 160, 161, 162, 163, 164, 165, 166, 167, 168, 169, 170, 171, 172, 173, 174, 175, 176, 177, 178, 179, 180, 181, 182, 183, 184, 185, 186, 187, 188, 189, 190, 191, 192, 193, 194, 195, 196, 197, 198, 199, 200, 201, 202, 203, 204, 205, 206, 207, 208, 209, 210, 211, 212, 213, 214, 215, 216, 217, 218, 219, 220, 221, 222, 223, 224, 225, 226, 227, 228, 229, 230, 231, 232, 233, 234, 235, 236, 237, 238, 239, 240, 241, 242, 243, 244, 245, 246, 247, 248, 249, 250, 251, 252, 253, 254, 255, 256, 257, 258, 259, 260, 261, 262, 263, 264, 265, 266, 267, 268, 269, 270, 271, 272, 273, 274, 275, 276, 277, 278, 279, 280, 281, 282, 283, 284, 285, 286, 287, 288, 289, 290, 291, 292, 293, 294, 295, 296, 297, 298, 299, 300, 301, 302, 303, 304, 305, 306, 307, 308, 309, 310, 311, 312, 313, 314, 315, 316, 317, 318, 319, 320, 321, 322, 323, 324, 325, 326, 327, 328, 329, 330, 331, 332, 333, 334, 335, 336, 337, 338, 339, 340, 341, 342, 343, 344, 345, 346, 347, 348, 349, 350, 351, 352, 353, 354, 355, 356, 357, 358, 359, 360, 361, 362, 363, 364, 365, 366, 367, 368, 369, 370, 371, 372, 373, 374, 375, 376, 377, 378, 379, 380, 381, 382, 383, 384, 385, 386, 387, 388, 389, 390, 391, 392, 393, 394, 395, 396, 397, 398, 399, 400, 401, 402, 403, 404, 405, 406, 407, 408, 409, 410, 411, 412, 413, 414, 415, 416, 417, 418, 419, 420, 421, 422, 423, 424, 425, 426, 427, 428, 429, 430, 431, 432, 433, 434, 435, 436, 437, 438, 439, 440, 441, 442, 443, 444, 445, 446, 447, 448, 449, 450, 451, 452, 453, 454, 455, 456, 457, 458, 459, 460, 461, 462, 463, 464, 465, 466, 467, 468, 469, 470, 471, 472, 473, 474, 475, 476, 477, 478, 479, 480, 481, 482, 483, 484, 485, 486, 487, 488, 489, 490, 491, 492, 493, 494, 495, 496, 497, 498, 499, 500, 501, 502, 503, 504, 505, 506, 507, 508, 509, 510, 511, 512, 513, 514, 515, 516, 517, 518, 519, 520, 521, 522, 523, 524, 525, 526, 527, 528, 529, 530, 531, 532, 533, 534, 535, 536, 537, 538, 539, 540, 541, 542, 543, 544, 545, 546, 547, 548, 549, 550, 551, 552, 553, 554, 555, 556, 557, 558, 559, 560, 561, 562, 563, 564, 565, 566, 567, 568, 569, 570, 571, 572, 573, 574, 575, 576, 577, 578, 579, 580, 581, 582, 583, 584, 585, 586, 587, 588, 589, 590, 591, 592, 593, 594, 595, 596, 597, 598, 599, 600, 601, 602, 603, 604, 605, 606, 607, 608, 609, 610, 611, 612, 613, 614, 615, 616, 617, 618, 619, 620, 621, 622, 623, 624, 625, 626, 627, 628, 629, 630, 631, 632, 633, 634, 635, 636, 637, 638, 639, 640, 641, 642, 643, 644, 645, 646, 647, 648, 649, 650, 651, 652, 653, 654, 655, 656, 657, 658, 659, 660, 661, 662, 663, 664, 665, 666, 667, 668, 669, 670, 671, 672, 673, 674, 675, 676, 677, 678, 679, 680, 681, 682, 683, 684, 685, 686, 687, 688, 689, 690, 691, 692, 693, 694, 695, 696, 697, 698, 699, 700, 701, 702, 703, 704, 705, 706, 707, 708, 709, 710, 711, 712, 713, 714, 715, 716, 717, 718, 719, 720, 721, 722, 723, 724, 725, 726, 727, 728, 729, 730, 731, 732, 733, 734, 735, 736, 737, 738, 739, 740, 741, 742, 743, 744, 745, 746, 747, 748, 749, 750, 751, 752, 753, 754, 755, 756, 757, 758, 759, 760, 761, 762, 763, 764, 765, 766, 767, 768, 769, 770, 771, 772, 773, 774, 775, 776, 777, 778, 779, 780, 781, 782, 783, 784, 785, 786, 787, 788, 789, 790, 791, 792, 793, 794, 795, 796, 797, 798, 799, 800, 801, 802, 803, 804, 805, 806, 807, 808, 809, 810, 811, 812, 813, 814, 815, 816, 817, 818, 819, 820, 821, 822, 823, 824, 825, 826, 827, 828, 829, 830, 831, 832, 833, 834, 835, 836, 837, 838, 839, 840, 841, 842, 843, 844, 845, 846, 847, 848, 849, 850, 851, 852, 853, 854, 855, 856, 857, 858, 859, 860, 861, 862, 863, 864, 865, 866, 867, 868, 869, 870, 871, 872, 873, 874, 875, 876, 877, 878, 879, 880, 881, 882, 883, 884, 885, 886, 887, 888, 889, 890, 891, 892, 893, 894, 895, 896, 897, 898, 899, 900, 901, 902, 903, 904, 905, 906, 907, 908, 909, 910, 911, 912, 913, 914, 915, 916, 917, 918, 919, 920, 921, 922, 923, 924, 925, 926, 927, 928, 929, 930, 931, 932, 933, 934, 935, 936, 937, 938, 939, 940, 941, 942, 943, 944, 945, 946, 947, 948, 949, 950, 951, 952, 953, 954, 955, 956, 957, 958, 959, 960, 961, 962, 963, 964, 965, 966, 967, 968, 969, 970, 971, 972], \"xaxis\": \"x\", \"y\": [1, 1, 1, 1, 1, 1, 1, 1, 1, 1, 1, 1, 1, 1, 1, 1, 1, 1, 1, 1, 1, 1, 1, 1, 1, 1, 1, 1, 1, 1, 1, 1, 1, 1, 1, 1, 1, 1, 1, 1, 1, 1, 1, 1, 1, 1, 1, 1, 1, 1, 1, 1, 1, 1, 1, 3, 1, 1, 1, 1, 1, 1, 1, 1, 1, 1, 1, 1, 1, 1, 1, 1, 1, 1, 1, 1, 1, 1, 1, 1, 1, 1, 2, 1, 1, 1, 1, 1, 1, 1, 1, 1, 1, 1, 2, 1, 1, 1, 1, 1, 1, 1, 1, 1, 1, 1, 1, 1, 1, 1, 1, 1, 1, 1, 1, 1, 1, 1, 2, 1, 1, 1, 1, 1, 1, 1, 1, 1, 1, 1, 1, 1, 1, 1, 1, 1, 1, 1, 3, 1, 1, 1, 1, 1, 1, 1, 1, 1, 1, 1, 1, 1, 1, 1, 1, 1, 1, 2, 1, 1, 1, 1, 1, 1, 1, 1, 1, 1, 1, 1, 1, 1, 1, 1, 1, 1, 2, 1, 1, 1, 1, 1, 1, 1, 1, 1, 1, 1, 1, 1, 1, 1, 1, 1, 1, 1, 1, 1, 1, 1, 1, 1, 1, 1, 1, 1, 1, 1, 1, 1, 1, 1, 1, 1, 1, 1, 1, 1, 1, 1, 1, 1, 1, 1, 1, 1, 1, 1, 1, 1, 1, 1, 1, 1, 1, 1, 1, 1, 1, 1, 1, 1, 1, 1, 1, 1, 1, 1, 1, 1, 1, 1, 1, 1, 1, 1, 1, 1, 1, 1, 1, 1, 1, 1, 1, 1, 1, 1, 1, 1, 1, 1, 1, 1, 1, 1, 1, 1, 1, 1, 1, 1, 1, 1, 1, 1, 1, 1, 1, 1, 1, 1, 1, 1, 1, 1, 1, 1, 1, 1, 1, 1, 1, 1, 1, 1, 1, 1, 1, 1, 1, 1, 1, 1, 1, 1, 1, 1, 1, 1, 1, 1, 1, 2, 1, 1, 1, 1, 1, 1, 1, 1, 1, 1, 1, 1, 1, 1, 1, 1, 1, 1, 1, 1, 1, 1, 1, 1, 1, 1, 1, 1, 1, 1, 1, 1, 1, 1, 1, 1, 1, 1, 1, 1, 1, 1, 1, 1, 1, 1, 1, 1, 1, 1, 1, 2, 1, 1, 1, 1, 2, 1, 1, 1, 1, 1, 1, 1, 1, 1, 1, 1, 1, 1, 1, 1, 1, 1, 1, 1, 1, 1, 1, 1, 1, 1, 1, 2, 1, 1, 1, 1, 1, 1, 1, 1, 1, 1, 1, 1, 1, 1, 1, 1, 1, 1, 1, 1, 1, 1, 1, 1, 1, 1, 1, 1, 1, 1, 1, 1, 1, 1, 1, 1, 1, 1, 1, 1, 1, 1, 1, 1, 2, 1, 1, 1, 1, 1, 1, 2, 1, 1, 1, 1, 1, 1, 1, 1, 1, 1, 1, 1, 1, 1, 1, 1, 2, 1, 3, 1, 1, 1, 1, 1, 1, 1, 1, 1, 1, 1, 1, 1, 1, 1, 1, 1, 1, 1, 1, 1, 1, 1, 1, 1, 1, 1, 1, 1, 1, 2, 1, 1, 1, 1, 1, 1, 1, 1, 1, 1, 1, 1, 1, 1, 1, 1, 1, 1, 1, 2, 1, 1, 1, 1, 1, 1, 1, 1, 1, 2, 1, 1, 1, 1, 1, 1, 1, 1, 2, 1, 1, 1, 1, 1, 1, 1, 1, 1, 1, 1, 1, 1, 1, 1, 1, 1, 1, 1, 1, 1, 1, 1, 1, 1, 1, 1, 1, 1, 1, 1, 1, 1, 1, 1, 1, 1, 1, 1, 1, 1, 1, 1, 1, 1, 1, 1, 1, 1, 1, 1, 1, 1, 1, 1, 1, 1, 1, 1, 1, 1, 1, 1, 1, 1, 1, 1, 1, 1, 1, 1, 1, 1, 1, 1, 2, 1, 1, 1, 2, 1, 1, 1, 3, 1, 2, 1, 1, 1, 1, 1, 1, 1, 1, 1, 1, 1, 1, 1, 1, 1, 1, 1, 1, 1, 1, 1, 1, 1, 1, 1, 1, 1, 1, 1, 2, 1, 1, 1, 1, 1, 1, 1, 1, 1, 1, 1, 1, 1, 1, 1, 1, 1, 1, 1, 1, 1, 1, 3, 1, 1, 1, 1, 1, 1, 1, 1, 1, 1, 1, 1, 1, 1, 1, 1, 1, 1, 1, 1, 1, 2, 1, 1, 1, 1, 1, 1, 1, 1, 1, 1, 1, 1, 1, 1, 1, 1, 1, 1, 1, 1, 1, 1, 1, 1, 1, 1, 1, 1, 1, 1, 1, 1, 1, 1, 1, 1, 1, 1, 1, 1, 1, 1, 1, 1, 1, 1, 1, 1, 1, 1, 1, 1, 1, 1, 1, 1, 1, 1, 1, 1, 1, 1, 1, 1, 1, 1, 1, 1, 1, 1, 2, 1, 1, 1, 1, 1, 1, 2, 1, 1, 1, 1, 2, 1, 1, 1, 1, 1, 1, 1, 1, 1, 1, 1, 1, 1, 1, 2, 1, 1, 1, 1, 1, 1, 1, 1, 1, 1, 1, 1, 1, 1, 1, 1, 1, 1, 1, 1, 1, 1, 1, 1, 1, 1, 1, 1, 1, 1, 1, 1, 1, 1, 1, 1, 1, 1, 1, 1, 1, 1, 1, 1, 1, 1, 1, 1, 1, 1, 1, 1, 1, 1, 1, 1, 1, 1, 1, 1, 1, 1, 1, 1, 1, 1, 1, 1, 1, 1, 1, 1, 1, 1, 1, 1, 1, 1, 1, 1, 1, 1, 3, 1, 1, 1, 1, 1, 1, 2, 1, 1, 1, 2, 1, 1, 1, 1, 1, 1, 3, 1, 1, 1, 1, 1, 1, 1, 1, 1, 1, 1, 1, 1, 1, 1, 1, 1, 1, 1, 1, 1, 1, 1, 1, 1, 1, 1, 1, 2, 1, 1, 2, 1, 1, 1, 1, 1, 1, 1, 1, 1, 1, 1, 1, 1, 1, 1, 1, 1, 1, 1, 1, 1, 1, 1, 1, 1, 1, 1, 1, 1, 1, 1, 1], \"yaxis\": \"y\"}],                        {\"legend\": {\"tracegroupgap\": 0}, \"margin\": {\"t\": 60}, \"template\": {\"data\": {\"bar\": [{\"error_x\": {\"color\": \"#2a3f5f\"}, \"error_y\": {\"color\": \"#2a3f5f\"}, \"marker\": {\"line\": {\"color\": \"#E5ECF6\", \"width\": 0.5}}, \"type\": \"bar\"}], \"barpolar\": [{\"marker\": {\"line\": {\"color\": \"#E5ECF6\", \"width\": 0.5}}, \"type\": \"barpolar\"}], \"carpet\": [{\"aaxis\": {\"endlinecolor\": \"#2a3f5f\", \"gridcolor\": \"white\", \"linecolor\": \"white\", \"minorgridcolor\": \"white\", \"startlinecolor\": \"#2a3f5f\"}, \"baxis\": {\"endlinecolor\": \"#2a3f5f\", \"gridcolor\": \"white\", \"linecolor\": \"white\", \"minorgridcolor\": \"white\", \"startlinecolor\": \"#2a3f5f\"}, \"type\": \"carpet\"}], \"choropleth\": [{\"colorbar\": {\"outlinewidth\": 0, \"ticks\": \"\"}, \"type\": \"choropleth\"}], \"contour\": [{\"colorbar\": {\"outlinewidth\": 0, \"ticks\": \"\"}, \"colorscale\": [[0.0, \"#0d0887\"], [0.1111111111111111, \"#46039f\"], [0.2222222222222222, \"#7201a8\"], [0.3333333333333333, \"#9c179e\"], [0.4444444444444444, \"#bd3786\"], [0.5555555555555556, \"#d8576b\"], [0.6666666666666666, \"#ed7953\"], [0.7777777777777778, \"#fb9f3a\"], [0.8888888888888888, \"#fdca26\"], [1.0, \"#f0f921\"]], \"type\": \"contour\"}], \"contourcarpet\": [{\"colorbar\": {\"outlinewidth\": 0, \"ticks\": \"\"}, \"type\": \"contourcarpet\"}], \"heatmap\": [{\"colorbar\": {\"outlinewidth\": 0, \"ticks\": \"\"}, \"colorscale\": [[0.0, \"#0d0887\"], [0.1111111111111111, \"#46039f\"], [0.2222222222222222, \"#7201a8\"], [0.3333333333333333, \"#9c179e\"], [0.4444444444444444, \"#bd3786\"], [0.5555555555555556, \"#d8576b\"], [0.6666666666666666, \"#ed7953\"], [0.7777777777777778, \"#fb9f3a\"], [0.8888888888888888, \"#fdca26\"], [1.0, \"#f0f921\"]], \"type\": \"heatmap\"}], \"heatmapgl\": [{\"colorbar\": {\"outlinewidth\": 0, \"ticks\": \"\"}, \"colorscale\": [[0.0, \"#0d0887\"], [0.1111111111111111, \"#46039f\"], [0.2222222222222222, \"#7201a8\"], [0.3333333333333333, \"#9c179e\"], [0.4444444444444444, \"#bd3786\"], [0.5555555555555556, \"#d8576b\"], [0.6666666666666666, \"#ed7953\"], [0.7777777777777778, \"#fb9f3a\"], [0.8888888888888888, \"#fdca26\"], [1.0, \"#f0f921\"]], \"type\": \"heatmapgl\"}], \"histogram\": [{\"marker\": {\"colorbar\": {\"outlinewidth\": 0, \"ticks\": \"\"}}, \"type\": \"histogram\"}], \"histogram2d\": [{\"colorbar\": {\"outlinewidth\": 0, \"ticks\": \"\"}, \"colorscale\": [[0.0, \"#0d0887\"], [0.1111111111111111, \"#46039f\"], [0.2222222222222222, \"#7201a8\"], [0.3333333333333333, \"#9c179e\"], [0.4444444444444444, \"#bd3786\"], [0.5555555555555556, \"#d8576b\"], [0.6666666666666666, \"#ed7953\"], [0.7777777777777778, \"#fb9f3a\"], [0.8888888888888888, \"#fdca26\"], [1.0, \"#f0f921\"]], \"type\": \"histogram2d\"}], \"histogram2dcontour\": [{\"colorbar\": {\"outlinewidth\": 0, \"ticks\": \"\"}, \"colorscale\": [[0.0, \"#0d0887\"], [0.1111111111111111, \"#46039f\"], [0.2222222222222222, \"#7201a8\"], [0.3333333333333333, \"#9c179e\"], [0.4444444444444444, \"#bd3786\"], [0.5555555555555556, \"#d8576b\"], [0.6666666666666666, \"#ed7953\"], [0.7777777777777778, \"#fb9f3a\"], [0.8888888888888888, \"#fdca26\"], [1.0, \"#f0f921\"]], \"type\": \"histogram2dcontour\"}], \"mesh3d\": [{\"colorbar\": {\"outlinewidth\": 0, \"ticks\": \"\"}, \"type\": \"mesh3d\"}], \"parcoords\": [{\"line\": {\"colorbar\": {\"outlinewidth\": 0, \"ticks\": \"\"}}, \"type\": \"parcoords\"}], \"pie\": [{\"automargin\": true, \"type\": \"pie\"}], \"scatter\": [{\"marker\": {\"colorbar\": {\"outlinewidth\": 0, \"ticks\": \"\"}}, \"type\": \"scatter\"}], \"scatter3d\": [{\"line\": {\"colorbar\": {\"outlinewidth\": 0, \"ticks\": \"\"}}, \"marker\": {\"colorbar\": {\"outlinewidth\": 0, \"ticks\": \"\"}}, \"type\": \"scatter3d\"}], \"scattercarpet\": [{\"marker\": {\"colorbar\": {\"outlinewidth\": 0, \"ticks\": \"\"}}, \"type\": \"scattercarpet\"}], \"scattergeo\": [{\"marker\": {\"colorbar\": {\"outlinewidth\": 0, \"ticks\": \"\"}}, \"type\": \"scattergeo\"}], \"scattergl\": [{\"marker\": {\"colorbar\": {\"outlinewidth\": 0, \"ticks\": \"\"}}, \"type\": \"scattergl\"}], \"scattermapbox\": [{\"marker\": {\"colorbar\": {\"outlinewidth\": 0, \"ticks\": \"\"}}, \"type\": \"scattermapbox\"}], \"scatterpolar\": [{\"marker\": {\"colorbar\": {\"outlinewidth\": 0, \"ticks\": \"\"}}, \"type\": \"scatterpolar\"}], \"scatterpolargl\": [{\"marker\": {\"colorbar\": {\"outlinewidth\": 0, \"ticks\": \"\"}}, \"type\": \"scatterpolargl\"}], \"scatterternary\": [{\"marker\": {\"colorbar\": {\"outlinewidth\": 0, \"ticks\": \"\"}}, \"type\": \"scatterternary\"}], \"surface\": [{\"colorbar\": {\"outlinewidth\": 0, \"ticks\": \"\"}, \"colorscale\": [[0.0, \"#0d0887\"], [0.1111111111111111, \"#46039f\"], [0.2222222222222222, \"#7201a8\"], [0.3333333333333333, \"#9c179e\"], [0.4444444444444444, \"#bd3786\"], [0.5555555555555556, \"#d8576b\"], [0.6666666666666666, \"#ed7953\"], [0.7777777777777778, \"#fb9f3a\"], [0.8888888888888888, \"#fdca26\"], [1.0, \"#f0f921\"]], \"type\": \"surface\"}], \"table\": [{\"cells\": {\"fill\": {\"color\": \"#EBF0F8\"}, \"line\": {\"color\": \"white\"}}, \"header\": {\"fill\": {\"color\": \"#C8D4E3\"}, \"line\": {\"color\": \"white\"}}, \"type\": \"table\"}]}, \"layout\": {\"annotationdefaults\": {\"arrowcolor\": \"#2a3f5f\", \"arrowhead\": 0, \"arrowwidth\": 1}, \"autotypenumbers\": \"strict\", \"coloraxis\": {\"colorbar\": {\"outlinewidth\": 0, \"ticks\": \"\"}}, \"colorscale\": {\"diverging\": [[0, \"#8e0152\"], [0.1, \"#c51b7d\"], [0.2, \"#de77ae\"], [0.3, \"#f1b6da\"], [0.4, \"#fde0ef\"], [0.5, \"#f7f7f7\"], [0.6, \"#e6f5d0\"], [0.7, \"#b8e186\"], [0.8, \"#7fbc41\"], [0.9, \"#4d9221\"], [1, \"#276419\"]], \"sequential\": [[0.0, \"#0d0887\"], [0.1111111111111111, \"#46039f\"], [0.2222222222222222, \"#7201a8\"], [0.3333333333333333, \"#9c179e\"], [0.4444444444444444, \"#bd3786\"], [0.5555555555555556, \"#d8576b\"], [0.6666666666666666, \"#ed7953\"], [0.7777777777777778, \"#fb9f3a\"], [0.8888888888888888, \"#fdca26\"], [1.0, \"#f0f921\"]], \"sequentialminus\": [[0.0, \"#0d0887\"], [0.1111111111111111, \"#46039f\"], [0.2222222222222222, \"#7201a8\"], [0.3333333333333333, \"#9c179e\"], [0.4444444444444444, \"#bd3786\"], [0.5555555555555556, \"#d8576b\"], [0.6666666666666666, \"#ed7953\"], [0.7777777777777778, \"#fb9f3a\"], [0.8888888888888888, \"#fdca26\"], [1.0, \"#f0f921\"]]}, \"colorway\": [\"#636efa\", \"#EF553B\", \"#00cc96\", \"#ab63fa\", \"#FFA15A\", \"#19d3f3\", \"#FF6692\", \"#B6E880\", \"#FF97FF\", \"#FECB52\"], \"font\": {\"color\": \"#2a3f5f\"}, \"geo\": {\"bgcolor\": \"white\", \"lakecolor\": \"white\", \"landcolor\": \"#E5ECF6\", \"showlakes\": true, \"showland\": true, \"subunitcolor\": \"white\"}, \"hoverlabel\": {\"align\": \"left\"}, \"hovermode\": \"closest\", \"mapbox\": {\"style\": \"light\"}, \"paper_bgcolor\": \"white\", \"plot_bgcolor\": \"#E5ECF6\", \"polar\": {\"angularaxis\": {\"gridcolor\": \"white\", \"linecolor\": \"white\", \"ticks\": \"\"}, \"bgcolor\": \"#E5ECF6\", \"radialaxis\": {\"gridcolor\": \"white\", \"linecolor\": \"white\", \"ticks\": \"\"}}, \"scene\": {\"xaxis\": {\"backgroundcolor\": \"#E5ECF6\", \"gridcolor\": \"white\", \"gridwidth\": 2, \"linecolor\": \"white\", \"showbackground\": true, \"ticks\": \"\", \"zerolinecolor\": \"white\"}, \"yaxis\": {\"backgroundcolor\": \"#E5ECF6\", \"gridcolor\": \"white\", \"gridwidth\": 2, \"linecolor\": \"white\", \"showbackground\": true, \"ticks\": \"\", \"zerolinecolor\": \"white\"}, \"zaxis\": {\"backgroundcolor\": \"#E5ECF6\", \"gridcolor\": \"white\", \"gridwidth\": 2, \"linecolor\": \"white\", \"showbackground\": true, \"ticks\": \"\", \"zerolinecolor\": \"white\"}}, \"shapedefaults\": {\"line\": {\"color\": \"#2a3f5f\"}}, \"ternary\": {\"aaxis\": {\"gridcolor\": \"white\", \"linecolor\": \"white\", \"ticks\": \"\"}, \"baxis\": {\"gridcolor\": \"white\", \"linecolor\": \"white\", \"ticks\": \"\"}, \"bgcolor\": \"#E5ECF6\", \"caxis\": {\"gridcolor\": \"white\", \"linecolor\": \"white\", \"ticks\": \"\"}}, \"title\": {\"x\": 0.05}, \"xaxis\": {\"automargin\": true, \"gridcolor\": \"white\", \"linecolor\": \"white\", \"ticks\": \"\", \"title\": {\"standoff\": 15}, \"zerolinecolor\": \"white\", \"zerolinewidth\": 2}, \"yaxis\": {\"automargin\": true, \"gridcolor\": \"white\", \"linecolor\": \"white\", \"ticks\": \"\", \"title\": {\"standoff\": 15}, \"zerolinecolor\": \"white\", \"zerolinewidth\": 2}}}, \"title\": {\"font\": {\"size\": 30}, \"text\": \"Number or orders per user\"}, \"xaxis\": {\"anchor\": \"y\", \"domain\": [0.0, 1.0], \"title\": {\"text\": \"number of users\"}}, \"yaxis\": {\"anchor\": \"x\", \"domain\": [0.0, 1.0], \"title\": {\"text\": \"number of orders\"}}},                        {\"responsive\": true}                    ).then(function(){\n",
       "                            \n",
       "var gd = document.getElementById('c9e239b2-dce5-4098-b799-7f44f193415d');\n",
       "var x = new MutationObserver(function (mutations, observer) {{\n",
       "        var display = window.getComputedStyle(gd).display;\n",
       "        if (!display || display === 'none') {{\n",
       "            console.log([gd, 'removed!']);\n",
       "            Plotly.purge(gd);\n",
       "            observer.disconnect();\n",
       "        }}\n",
       "}});\n",
       "\n",
       "// Listen for the removal of the full notebook cells\n",
       "var notebookContainer = gd.closest('#notebook-container');\n",
       "if (notebookContainer) {{\n",
       "    x.observe(notebookContainer, {childList: true});\n",
       "}}\n",
       "\n",
       "// Listen for the clearing of the current output cell\n",
       "var outputEl = gd.closest('.output');\n",
       "if (outputEl) {{\n",
       "    x.observe(outputEl, {childList: true});\n",
       "}}\n",
       "\n",
       "                        })                };                });            </script>        </div>"
      ]
     },
     "metadata": {},
     "output_type": "display_data"
    }
   ],
   "source": [
    "x_values = pd.Series(range(0, len(ordersByUsers)))\n",
    "fig = px.scatter(ordersByUsers, x=x_values, y=ordersByUsers['orders'])\n",
    "fig.update_layout(title_text=\"Number or orders per user\",\n",
    "                  title_font_size=30, xaxis_title=\"number of users\", yaxis_title=\"number of orders\",\n",
    ")\n",
    "\n",
    "fig.show()\n"
   ]
  },
  {
   "cell_type": "code",
   "execution_count": 34,
   "metadata": {},
   "outputs": [
    {
     "name": "stdout",
     "output_type": "stream",
     "text": [
      "most frequent amount of orders is 1,\n",
      "middle amount of orders is 1,\n",
      "mean amount of orders is also 1.04,\n",
      "\n"
     ]
    }
   ],
   "source": [
    "print(f'most frequent amount of orders is {int(ordersByUsers.orders.mode())},\\nmiddle amount of orders is {int(ordersByUsers.orders.median())},\\nmean amount of orders is also {round(ordersByUsers.orders.mean(),2)},\\n')"
   ]
  },
  {
   "cell_type": "markdown",
   "metadata": {},
   "source": [
    "#### Conclusions and conjectures"
   ]
  },
  {
   "cell_type": "markdown",
   "metadata": {},
   "source": [
    "In general amount of purchases is 1, but we have 2 and 3 orders from 1 user. I would go for calling 3 an outlier: having 2 orders is rare, but it is a normal customer behaviour, we can't just cut them"
   ]
  },
  {
   "cell_type": "markdown",
   "metadata": {},
   "source": [
    "### 95th and 99th percentiles for the number of orders per user"
   ]
  },
  {
   "cell_type": "code",
   "execution_count": 35,
   "metadata": {},
   "outputs": [
    {
     "data": {
      "text/plain": [
       "3"
      ]
     },
     "execution_count": 35,
     "metadata": {},
     "output_type": "execute_result"
    }
   ],
   "source": [
    "ordersByUsers['orders'].max()"
   ]
  },
  {
   "cell_type": "code",
   "execution_count": 36,
   "metadata": {},
   "outputs": [
    {
     "data": {
      "text/plain": [
       "array([1., 1., 2.])"
      ]
     },
     "execution_count": 36,
     "metadata": {},
     "output_type": "execute_result"
    }
   ],
   "source": [
    "np.percentile(ordersByUsers['orders'], [90, 95, 99])"
   ]
  },
  {
   "cell_type": "markdown",
   "metadata": {},
   "source": [
    "#### Conclusions and conjectures"
   ]
  },
  {
   "cell_type": "markdown",
   "metadata": {},
   "source": [
    "Just 5% of users purchased more than 1 and only 1% bought more than 2. We can set 3 orders per user as an outlier (yes, 2 orders and above is the choise for 1% of users only, but I don't think that 2 orders is too much per user)"
   ]
  },
  {
   "cell_type": "markdown",
   "metadata": {},
   "source": [
    "### Scatter chart of order prices"
   ]
  },
  {
   "cell_type": "code",
   "execution_count": 72,
   "metadata": {},
   "outputs": [
    {
     "data": {
      "application/vnd.plotly.v1+json": {
       "config": {
        "plotlyServerURL": "https://plot.ly"
       },
       "data": [
        {
         "hovertemplate": "x=%{x}<br>y=%{y}<extra></extra>",
         "legendgroup": "",
         "marker": {
          "color": "#636efa",
          "symbol": "circle"
         },
         "mode": "markers",
         "name": "",
         "showlegend": false,
         "type": "scattergl",
         "x": [
          0,
          1,
          2,
          3,
          4,
          5,
          6,
          7,
          8,
          9,
          10,
          11,
          12,
          13,
          14,
          15,
          16,
          17,
          18,
          19,
          20,
          21,
          22,
          23,
          24,
          25,
          26,
          27,
          28,
          29,
          30,
          31,
          32,
          33,
          34,
          35,
          36,
          37,
          38,
          39,
          40,
          41,
          42,
          43,
          44,
          45,
          46,
          47,
          48,
          49,
          50,
          51,
          52,
          53,
          54,
          55,
          56,
          57,
          58,
          59,
          60,
          61,
          62,
          63,
          64,
          65,
          66,
          67,
          68,
          69,
          70,
          71,
          72,
          73,
          74,
          75,
          76,
          77,
          78,
          79,
          80,
          81,
          82,
          83,
          84,
          85,
          86,
          87,
          88,
          89,
          90,
          91,
          92,
          93,
          94,
          95,
          96,
          97,
          98,
          99,
          100,
          101,
          102,
          103,
          104,
          105,
          106,
          107,
          108,
          109,
          110,
          111,
          112,
          113,
          114,
          115,
          116,
          117,
          118,
          119,
          120,
          121,
          122,
          123,
          124,
          125,
          126,
          127,
          128,
          129,
          130,
          131,
          132,
          133,
          134,
          135,
          136,
          137,
          138,
          139,
          140,
          141,
          142,
          143,
          144,
          145,
          146,
          147,
          148,
          149,
          150,
          151,
          152,
          153,
          154,
          155,
          156,
          157,
          158,
          159,
          160,
          161,
          162,
          163,
          164,
          165,
          166,
          167,
          168,
          169,
          170,
          171,
          172,
          173,
          174,
          175,
          176,
          177,
          178,
          179,
          180,
          181,
          182,
          183,
          184,
          185,
          186,
          187,
          188,
          189,
          190,
          191,
          192,
          193,
          194,
          195,
          196,
          197,
          198,
          199,
          200,
          201,
          202,
          203,
          204,
          205,
          206,
          207,
          208,
          209,
          210,
          211,
          212,
          213,
          214,
          215,
          216,
          217,
          218,
          219,
          220,
          221,
          222,
          223,
          224,
          225,
          226,
          227,
          228,
          229,
          230,
          231,
          232,
          233,
          234,
          235,
          236,
          237,
          238,
          239,
          240,
          241,
          242,
          243,
          244,
          245,
          246,
          247,
          248,
          249,
          250,
          251,
          252,
          253,
          254,
          255,
          256,
          257,
          258,
          259,
          260,
          261,
          262,
          263,
          264,
          265,
          266,
          267,
          268,
          269,
          270,
          271,
          272,
          273,
          274,
          275,
          276,
          277,
          278,
          279,
          280,
          281,
          282,
          283,
          284,
          285,
          286,
          287,
          288,
          289,
          290,
          291,
          292,
          293,
          294,
          295,
          296,
          297,
          298,
          299,
          300,
          301,
          302,
          303,
          304,
          305,
          306,
          307,
          308,
          309,
          310,
          311,
          312,
          313,
          314,
          315,
          316,
          317,
          318,
          319,
          320,
          321,
          322,
          323,
          324,
          325,
          326,
          327,
          328,
          329,
          330,
          331,
          332,
          333,
          334,
          335,
          336,
          337,
          338,
          339,
          340,
          341,
          342,
          343,
          344,
          345,
          346,
          347,
          348,
          349,
          350,
          351,
          352,
          353,
          354,
          355,
          356,
          357,
          358,
          359,
          360,
          361,
          362,
          363,
          364,
          365,
          366,
          367,
          368,
          369,
          370,
          371,
          372,
          373,
          374,
          375,
          376,
          377,
          378,
          379,
          380,
          381,
          382,
          383,
          384,
          385,
          386,
          387,
          388,
          389,
          390,
          391,
          392,
          393,
          394,
          395,
          396,
          397,
          398,
          399,
          400,
          401,
          402,
          403,
          404,
          405,
          406,
          407,
          408,
          409,
          410,
          411,
          412,
          413,
          414,
          415,
          416,
          417,
          418,
          419,
          420,
          421,
          422,
          423,
          424,
          425,
          426,
          427,
          428,
          429,
          430,
          431,
          432,
          433,
          434,
          435,
          436,
          437,
          438,
          439,
          440,
          441,
          442,
          443,
          444,
          445,
          446,
          447,
          448,
          449,
          450,
          451,
          452,
          453,
          454,
          455,
          456,
          457,
          458,
          459,
          460,
          461,
          462,
          463,
          464,
          465,
          466,
          467,
          468,
          469,
          470,
          471,
          472,
          473,
          474,
          475,
          476,
          477,
          478,
          479,
          480,
          481,
          482,
          483,
          484,
          485,
          486,
          487,
          488,
          489,
          490,
          491,
          492,
          493,
          494,
          495,
          496,
          497,
          498,
          499,
          500,
          501,
          502,
          503,
          504,
          505,
          506,
          507,
          508,
          509,
          510,
          511,
          512,
          513,
          514,
          515,
          516,
          517,
          518,
          519,
          520,
          521,
          522,
          523,
          524,
          525,
          526,
          527,
          528,
          529,
          530,
          531,
          532,
          533,
          534,
          535,
          536,
          537,
          538,
          539,
          540,
          541,
          542,
          543,
          544,
          545,
          546,
          547,
          548,
          549,
          550,
          551,
          552,
          553,
          554,
          555,
          556,
          557,
          558,
          559,
          560,
          561,
          562,
          563,
          564,
          565,
          566,
          567,
          568,
          569,
          570,
          571,
          572,
          573,
          574,
          575,
          576,
          577,
          578,
          579,
          580,
          581,
          582,
          583,
          584,
          585,
          586,
          587,
          588,
          589,
          590,
          591,
          592,
          593,
          594,
          595,
          596,
          597,
          598,
          599,
          600,
          601,
          602,
          603,
          604,
          605,
          606,
          607,
          608,
          609,
          610,
          611,
          612,
          613,
          614,
          615,
          616,
          617,
          618,
          619,
          620,
          621,
          622,
          623,
          624,
          625,
          626,
          627,
          628,
          629,
          630,
          631,
          632,
          633,
          634,
          635,
          636,
          637,
          638,
          639,
          640,
          641,
          642,
          643,
          644,
          645,
          646,
          647,
          648,
          649,
          650,
          651,
          652,
          653,
          654,
          655,
          656,
          657,
          658,
          659,
          660,
          661,
          662,
          663,
          664,
          665,
          666,
          667,
          668,
          669,
          670,
          671,
          672,
          673,
          674,
          675,
          676,
          677,
          678,
          679,
          680,
          681,
          682,
          683,
          684,
          685,
          686,
          687,
          688,
          689,
          690,
          691,
          692,
          693,
          694,
          695,
          696,
          697,
          698,
          699,
          700,
          701,
          702,
          703,
          704,
          705,
          706,
          707,
          708,
          709,
          710,
          711,
          712,
          713,
          714,
          715,
          716,
          717,
          718,
          719,
          720,
          721,
          722,
          723,
          724,
          725,
          726,
          727,
          728,
          729,
          730,
          731,
          732,
          733,
          734,
          735,
          736,
          737,
          738,
          739,
          740,
          741,
          742,
          743,
          744,
          745,
          746,
          747,
          748,
          749,
          750,
          751,
          752,
          753,
          754,
          755,
          756,
          757,
          758,
          759,
          760,
          761,
          762,
          763,
          764,
          765,
          766,
          767,
          768,
          769,
          770,
          771,
          772,
          773,
          774,
          775,
          776,
          777,
          778,
          779,
          780,
          781,
          782,
          783,
          784,
          785,
          786,
          787,
          788,
          789,
          790,
          791,
          792,
          793,
          794,
          795,
          796,
          797,
          798,
          799,
          800,
          801,
          802,
          803,
          804,
          805,
          806,
          807,
          808,
          809,
          810,
          811,
          812,
          813,
          814,
          815,
          816,
          817,
          818,
          819,
          820,
          821,
          822,
          823,
          824,
          825,
          826,
          827,
          828,
          829,
          830,
          831,
          832,
          833,
          834,
          835,
          836,
          837,
          838,
          839,
          840,
          841,
          842,
          843,
          844,
          845,
          846,
          847,
          848,
          849,
          850,
          851,
          852,
          853,
          854,
          855,
          856,
          857,
          858,
          859,
          860,
          861,
          862,
          863,
          864,
          865,
          866,
          867,
          868,
          869,
          870,
          871,
          872,
          873,
          874,
          875,
          876,
          877,
          878,
          879,
          880,
          881,
          882,
          883,
          884,
          885,
          886,
          887,
          888,
          889,
          890,
          891,
          892,
          893,
          894,
          895,
          896,
          897,
          898,
          899,
          900,
          901,
          902,
          903,
          904,
          905,
          906,
          907,
          908,
          909,
          910,
          911,
          912,
          913,
          914,
          915,
          916,
          917,
          918,
          919,
          920,
          921,
          922,
          923,
          924,
          925,
          926,
          927,
          928,
          929,
          930,
          931,
          932,
          933,
          934,
          935,
          936,
          937,
          938,
          939,
          940,
          941,
          942,
          943,
          944,
          945,
          946,
          947,
          948,
          949,
          950,
          951,
          952,
          953,
          954,
          955,
          956,
          957,
          958,
          959,
          960,
          961,
          962,
          963,
          964,
          965,
          966,
          967,
          968,
          969,
          970,
          971,
          972,
          973,
          974,
          975,
          976,
          977,
          978,
          979,
          980,
          981,
          982,
          983,
          984,
          985,
          986,
          987,
          988,
          989,
          990,
          991,
          992,
          993,
          994,
          995,
          996,
          997,
          998,
          999,
          1000,
          1001,
          1002,
          1003,
          1004,
          1005,
          1006,
          1007,
          1008,
          1009,
          1010,
          1011,
          1012,
          1013,
          1014,
          1015
         ],
         "xaxis": "x",
         "y": [
          30.399999618530273,
          15.199999809265137,
          155.10000610351562,
          40.5,
          35,
          30.600000381469727,
          20.100000381469727,
          215.89999389648438,
          30.5,
          65.69999694824219,
          70.19999694824219,
          115.4000015258789,
          185.39999389648438,
          170.89999389648438,
          235,
          20.299999237060547,
          20.200000762939453,
          255.6999969482422,
          20.299999237060547,
          20.200000762939453,
          10.699999809265137,
          5.599999904632568,
          85.19999694824219,
          5.900000095367432,
          10.899999618530273,
          355.5,
          40.20000076293945,
          40,
          100.19999694824219,
          300.29998779296875,
          10.399999618530273,
          50.900001525878906,
          145.89999389648438,
          40.20000076293945,
          50.20000076293945,
          35.900001525878906,
          60.20000076293945,
          110.5,
          20.200000762939453,
          55.70000076293945,
          50.70000076293945,
          280.5,
          10.199999809265137,
          10.199999809265137,
          5.5,
          45.29999923706055,
          10.800000190734863,
          50.79999923706055,
          25.200000762939453,
          125.9000015258789,
          10.199999809265137,
          25.799999237060547,
          40.099998474121094,
          30.299999237060547,
          40.20000076293945,
          40.099998474121094,
          225.8000030517578,
          300.29998779296875,
          140.39999389648438,
          15.800000190734863,
          455.79998779296875,
          15,
          15.699999809265137,
          70.69999694824219,
          500.70001220703125,
          630.7999877929688,
          40.29999923706055,
          35,
          85.0999984741211,
          80.5,
          65.80000305175781,
          15.600000381469727,
          20.799999237060547,
          10.899999618530273,
          5.900000095367432,
          35.5,
          25.899999618530273,
          275.8999938964844,
          30.799999237060547,
          410.5,
          140.8000030517578,
          90.5,
          110.69999694824219,
          5.599999904632568,
          50.79999923706055,
          40.20000076293945,
          50.099998474121094,
          40.20000076293945,
          275.79998779296875,
          15.100000381469727,
          85.5,
          130.10000610351562,
          95.30000305175781,
          80.19999694824219,
          110.5,
          30.100000381469727,
          5.599999904632568,
          100.80000305175781,
          70.9000015258789,
          70.9000015258789,
          20.5,
          190.8000030517578,
          25.299999237060547,
          70.9000015258789,
          125.9000015258789,
          80.4000015258789,
          145.60000610351562,
          100.0999984741211,
          95.5,
          830.2999877929688,
          110.5,
          120.30000305175781,
          10.600000381469727,
          440.29998779296875,
          10,
          20.299999237060547,
          5.599999904632568,
          25.899999618530273,
          100.4000015258789,
          45.29999923706055,
          140.39999389648438,
          50,
          20.200000762939453,
          5.599999904632568,
          150.39999389648438,
          45.900001525878906,
          10.600000381469727,
          155.5,
          30.5,
          80.5,
          60.79999923706055,
          125.5,
          10.199999809265137,
          185.5,
          295.79998779296875,
          100.80000305175781,
          35.599998474121094,
          10,
          25.200000762939453,
          110.5,
          10.699999809265137,
          20,
          30.399999618530273,
          30.799999237060547,
          55.79999923706055,
          55.400001525878906,
          85.30000305175781,
          590.0999755859375,
          45.099998474121094,
          50.79999923706055,
          20.299999237060547,
          45.29999923706055,
          50.400001525878906,
          35.20000076293945,
          55.400001525878906,
          15,
          90.30000305175781,
          75.5,
          30.299999237060547,
          55.70000076293945,
          280.79998779296875,
          110.80000305175781,
          30,
          15.699999809265137,
          85.5999984741211,
          175,
          5.5,
          45.70000076293945,
          30,
          35.70000076293945,
          30.700000762939453,
          25,
          155.5,
          105.0999984741211,
          10.699999809265137,
          45.599998474121094,
          75.5999984741211,
          475.5,
          90.80000305175781,
          5.5,
          40.20000076293945,
          45.400001525878906,
          45.29999923706055,
          270,
          220.8000030517578,
          65.4000015258789,
          30.799999237060547,
          35,
          40.20000076293945,
          20.5,
          25.200000762939453,
          40.29999923706055,
          25.200000762939453,
          145.1999969482422,
          50.5,
          245.8000030517578,
          240.1999969482422,
          45.70000076293945,
          100.4000015258789,
          40.70000076293945,
          10.199999809265137,
          15.199999809265137,
          95.5999984741211,
          50.20000076293945,
          165.89999389648438,
          5.699999809265137,
          40.20000076293945,
          200.10000610351562,
          155,
          15.199999809265137,
          20.299999237060547,
          240.1999969482422,
          15.600000381469727,
          40,
          50.099998474121094,
          10.699999809265137,
          220.60000610351562,
          30.5,
          10.800000190734863,
          40.20000076293945,
          130.8000030517578,
          5.300000190734863,
          5.599999904632568,
          225.5,
          165.8000030517578,
          5.5,
          40.20000076293945,
          30.200000762939453,
          525.5999755859375,
          20.899999618530273,
          30.799999237060547,
          40.20000076293945,
          75,
          200.10000610351562,
          55.599998474121094,
          20.399999618530273,
          35.599998474121094,
          20.899999618530273,
          20.200000762939453,
          110,
          300.29998779296875,
          830.2999877929688,
          35.599998474121094,
          35,
          10.600000381469727,
          70.0999984741211,
          195.3000030517578,
          10.5,
          370.3999938964844,
          100.69999694824219,
          10.5,
          340.1000061035156,
          50.400001525878906,
          30.100000381469727,
          40,
          90.5,
          120.19999694824219,
          10,
          20.299999237060547,
          35.599998474121094,
          5.199999809265137,
          30.200000762939453,
          45.400001525878906,
          65.5,
          20.200000762939453,
          10.5,
          15.800000190734863,
          40.79999923706055,
          40.29999923706055,
          40.900001525878906,
          185.39999389648438,
          25.100000381469727,
          25.5,
          20.799999237060547,
          5.800000190734863,
          35.599998474121094,
          100.30000305175781,
          15,
          140.1999969482422,
          25.700000762939453,
          5.599999904632568,
          30,
          15.199999809265137,
          20.799999237060547,
          20.200000762939453,
          125.0999984741211,
          10.399999618530273,
          235.89999389648438,
          640.7000122070312,
          35.599998474121094,
          15.699999809265137,
          15.600000381469727,
          95.30000305175781,
          25.5,
          20.799999237060547,
          25.399999618530273,
          70.19999694824219,
          10.5,
          45.400001525878906,
          95.30000305175781,
          10.199999809265137,
          40.70000076293945,
          30.600000381469727,
          80.4000015258789,
          105.5999984741211,
          80.9000015258789,
          235.3000030517578,
          140.6999969482422,
          140.1999969482422,
          260,
          35.70000076293945,
          40.5,
          25.5,
          10.800000190734863,
          260,
          65.4000015258789,
          310.1000061035156,
          195.8000030517578,
          80.5999984741211,
          10,
          10.5,
          260.6000061035156,
          75.5,
          55.099998474121094,
          85.30000305175781,
          255.39999389648438,
          5.800000190734863,
          40.099998474121094,
          25.899999618530273,
          80.5999984741211,
          25.5,
          325.8999938964844,
          25.299999237060547,
          90.19999694824219,
          65.69999694824219,
          45.599998474121094,
          20.299999237060547,
          195.10000610351562,
          15.5,
          155.6999969482422,
          15.600000381469727,
          60.79999923706055,
          155.6999969482422,
          90.5,
          300,
          10.100000381469727,
          5.099999904632568,
          15.399999618530273,
          155.6999969482422,
          220.1999969482422,
          10.800000190734863,
          15,
          385.70001220703125,
          20.200000762939453,
          70.19999694824219,
          5.199999809265137,
          10.199999809265137,
          10.800000190734863,
          15.5,
          30,
          580.7000122070312,
          490.3999938964844,
          150,
          175.10000610351562,
          10.199999809265137,
          19920.400390625,
          45.5,
          25.5,
          80.80000305175781,
          20.899999618530273,
          275.5,
          90.80000305175781,
          25.200000762939453,
          170,
          35.79999923706055,
          35.70000076293945,
          5.599999904632568,
          35.79999923706055,
          50.5,
          10.5,
          115.30000305175781,
          285.1000061035156,
          10,
          105.69999694824219,
          45.5,
          50.70000076293945,
          100.0999984741211,
          10.5,
          85.0999984741211,
          50.599998474121094,
          20.799999237060547,
          5.800000190734863,
          50.099998474121094,
          410.5,
          145,
          255.5,
          30.5,
          155.8000030517578,
          45.70000076293945,
          10.199999809265137,
          25.899999618530273,
          140.3000030517578,
          140.10000610351562,
          40.29999923706055,
          35.599998474121094,
          20.399999618530273,
          10.399999618530273,
          5.599999904632568,
          300.6000061035156,
          215.8000030517578,
          475.5,
          30.5,
          100.30000305175781,
          10,
          20.399999618530273,
          25.899999618530273,
          30.399999618530273,
          175.3000030517578,
          310.20001220703125,
          45.900001525878906,
          140.6999969482422,
          135.10000610351562,
          35.5,
          160.8000030517578,
          40.29999923706055,
          150.39999389648438,
          20.799999237060547,
          10.5,
          5.900000095367432,
          20.200000762939453,
          40.79999923706055,
          40.20000076293945,
          130.89999389648438,
          10.899999618530273,
          85.30000305175781,
          50.29999923706055,
          30.399999618530273,
          270.3999938964844,
          75.5,
          110.5999984741211,
          90.5,
          30,
          50.29999923706055,
          10,
          15.399999618530273,
          165.60000610351562,
          55.20000076293945,
          80.0999984741211,
          105.4000015258789,
          10.699999809265137,
          515.9000244140625,
          15.5,
          55.20000076293945,
          680.7999877929688,
          210,
          155.8000030517578,
          15.699999809265137,
          70.19999694824219,
          10,
          80.0999984741211,
          100.19999694824219,
          20.799999237060547,
          40.20000076293945,
          165.3000030517578,
          100.69999694824219,
          185.1999969482422,
          280.79998779296875,
          65.80000305175781,
          390.79998779296875,
          550.9000244140625,
          150,
          425.8999938964844,
          25.200000762939453,
          30.5,
          15.699999809265137,
          70.19999694824219,
          80.80000305175781,
          60.20000076293945,
          80.80000305175781,
          15.699999809265137,
          25.5,
          510.5,
          550.9000244140625,
          20.200000762939453,
          40.20000076293945,
          90.0999984741211,
          25.899999618530273,
          425.6000061035156,
          30.100000381469727,
          485.29998779296875,
          10.5,
          35.599998474121094,
          25.899999618530273,
          5.599999904632568,
          85.80000305175781,
          105.30000305175781,
          55.79999923706055,
          300.29998779296875,
          90.0999984741211,
          30,
          10.300000190734863,
          5.800000190734863,
          65.69999694824219,
          55.70000076293945,
          20.799999237060547,
          90.30000305175781,
          55.599998474121094,
          5.699999809265137,
          35.400001525878906,
          165.3000030517578,
          75.19999694824219,
          200.3000030517578,
          125,
          50.5,
          45.70000076293945,
          10.600000381469727,
          15.399999618530273,
          5.099999904632568,
          75.69999694824219,
          220.1999969482422,
          30.5,
          195.10000610351562,
          45.5,
          30.799999237060547,
          830.2999877929688,
          185.5,
          30.5,
          35.599998474121094,
          110.5,
          20.299999237060547,
          280.79998779296875,
          20.799999237060547,
          410.5,
          300.6000061035156,
          45.099998474121094,
          55.20000076293945,
          30.100000381469727,
          10.199999809265137,
          200.8000030517578,
          400.29998779296875,
          295.20001220703125,
          60.900001525878906,
          265.79998779296875,
          280.1000061035156,
          160.6999969482422,
          80.80000305175781,
          265,
          50.79999923706055,
          80.80000305175781,
          240.1999969482422,
          5.699999809265137,
          155.8000030517578,
          215.1999969482422,
          25.5,
          140.60000610351562,
          75.0999984741211,
          150,
          675.2000122070312,
          300.29998779296875,
          30.399999618530273,
          5.400000095367432,
          65.5,
          25.5,
          535.5,
          170.60000610351562,
          10,
          110.0999984741211,
          280.79998779296875,
          75.30000305175781,
          35.20000076293945,
          45.400001525878906,
          40.79999923706055,
          75,
          170.89999389648438,
          20.200000762939453,
          10.5,
          45.5,
          265.3999938964844,
          10.5,
          15.100000381469727,
          160.3000030517578,
          30,
          35.5,
          30.799999237060547,
          280.79998779296875,
          10.300000190734863,
          660.5,
          80.19999694824219,
          10.300000190734863,
          280.79998779296875,
          60.599998474121094,
          145.89999389648438,
          90.9000015258789,
          40.79999923706055,
          15.699999809265137,
          35.79999923706055,
          20.299999237060547,
          40.29999923706055,
          305.29998779296875,
          180.8000030517578,
          60.20000076293945,
          65.30000305175781,
          25.5,
          710.7999877929688,
          165.3000030517578,
          50.900001525878906,
          40.79999923706055,
          10.199999809265137,
          5.5,
          275.70001220703125,
          60.20000076293945,
          380.1000061035156,
          15.600000381469727,
          10,
          30.799999237060547,
          110.5,
          440.20001220703125,
          50.5,
          25.899999618530273,
          50.099998474121094,
          455.79998779296875,
          40.79999923706055,
          80.80000305175781,
          155.5,
          55.29999923706055,
          225.89999389648438,
          50.5,
          20.700000762939453,
          10.899999618530273,
          55.599998474121094,
          225.89999389648438,
          1050,
          1335.5999755859375,
          80.4000015258789,
          765.5,
          15.699999809265137,
          15.600000381469727,
          300.29998779296875,
          50.79999923706055,
          575.5,
          10,
          305.5,
          40.70000076293945,
          705.2999877929688,
          5.800000190734863,
          385.5,
          30.700000762939453,
          20,
          20.799999237060547,
          20.200000762939453,
          90.5,
          150.10000610351562,
          20.700000762939453,
          20.200000762939453,
          85.5,
          40.20000076293945,
          10.100000381469727,
          30.799999237060547,
          25.5,
          30.200000762939453,
          145,
          40.20000076293945,
          10,
          15.899999618530273,
          195.1999969482422,
          55.5,
          15.100000381469727,
          125.4000015258789,
          80.80000305175781,
          60.5,
          50.099998474121094,
          15.800000190734863,
          60.79999923706055,
          35.70000076293945,
          10.399999618530273,
          215.8000030517578,
          20.200000762939453,
          315.20001220703125,
          25.5,
          40.70000076293945,
          20.299999237060547,
          85,
          90,
          40.5,
          30.200000762939453,
          15.699999809265137,
          10,
          80.4000015258789,
          65.80000305175781,
          15.699999809265137,
          20.200000762939453,
          25.5,
          125.5999984741211,
          25.700000762939453,
          15.600000381469727,
          100,
          5.800000190734863,
          125.9000015258789,
          5.300000190734863,
          75.80000305175781,
          5.900000095367432,
          280.79998779296875,
          40.20000076293945,
          310.5,
          5.699999809265137,
          20.799999237060547,
          110.5,
          45.400001525878906,
          20.200000762939453,
          5.900000095367432,
          10.100000381469727,
          150.39999389648438,
          240.1999969482422,
          55.5,
          90.80000305175781,
          25.700000762939453,
          150.39999389648438,
          160.5,
          20.200000762939453,
          20.200000762939453,
          35.599998474121094,
          20.299999237060547,
          225.89999389648438,
          40.20000076293945,
          45.099998474121094,
          10.100000381469727,
          75.5,
          35.79999923706055,
          15.699999809265137,
          285.1000061035156,
          15.800000190734863,
          50.70000076293945,
          140.6999969482422,
          110.4000015258789,
          15.199999809265137,
          195.5,
          80.69999694824219,
          55.599998474121094,
          555.2000122070312,
          70.0999984741211,
          100.19999694824219,
          280.79998779296875,
          20.399999618530273,
          15.699999809265137,
          25.5,
          60.5,
          55.79999923706055,
          25.399999618530273,
          5.400000095367432,
          220.1999969482422,
          25.600000381469727,
          50.099998474121094,
          25.799999237060547,
          85.19999694824219,
          385.70001220703125,
          30.600000381469727,
          50,
          10.899999618530273,
          475.5,
          60.5,
          180,
          65.4000015258789,
          10.199999809265137,
          210.39999389648438,
          25.899999618530273,
          325.8999938964844,
          270.20001220703125,
          35.5,
          5.5,
          35.20000076293945,
          10.5,
          10.800000190734863,
          40.79999923706055,
          300.20001220703125,
          5.199999809265137,
          100.80000305175781,
          40.20000076293945,
          30,
          65.4000015258789,
          25.399999618530273,
          20.200000762939453,
          400.79998779296875,
          15.600000381469727,
          205.10000610351562,
          90.0999984741211,
          10.399999618530273,
          35.599998474121094,
          75.19999694824219,
          15.199999809265137,
          540.2999877929688,
          55.79999923706055,
          15.399999618530273,
          510.5,
          10.800000190734863,
          300.79998779296875,
          10.5,
          15.100000381469727,
          5.900000095367432,
          25.5,
          115.69999694824219,
          20.799999237060547,
          65.19999694824219,
          905.7999877929688,
          15.300000190734863,
          115.4000015258789,
          285.29998779296875,
          285,
          240.1999969482422,
          55.20000076293945,
          105.5,
          70.9000015258789,
          930,
          375.6000061035156,
          20.799999237060547,
          35.79999923706055,
          140.1999969482422,
          20.799999237060547,
          40.099998474121094,
          20.299999237060547,
          80.5,
          55.20000076293945,
          30.5,
          445.29998779296875,
          175.10000610351562,
          300.29998779296875,
          30.5,
          30.600000381469727,
          95.80000305175781,
          10,
          40.099998474121094,
          40.20000076293945,
          40.099998474121094,
          10.699999809265137,
          60.599998474121094,
          190.8000030517578,
          45.70000076293945,
          15.899999618530273,
          45.599998474121094,
          235.60000610351562,
          5.900000095367432,
          10.800000190734863,
          130.5,
          30,
          5.5,
          85.5,
          15.600000381469727,
          25.200000762939453,
          25.899999618530273,
          5.900000095367432,
          100.19999694824219,
          5.800000190734863,
          75.0999984741211,
          25.299999237060547,
          25.5,
          45.20000076293945,
          5.5,
          220.1999969482422,
          185.39999389648438,
          30.5,
          65.4000015258789,
          20.200000762939453,
          20.200000762939453,
          5,
          20.5,
          5.5,
          815.7999877929688,
          55.599998474121094,
          55.70000076293945,
          270.3999938964844,
          70.5,
          155.8000030517578,
          10.699999809265137,
          205.10000610351562,
          15.699999809265137,
          45.20000076293945,
          105.69999694824219,
          5.5,
          55.400001525878906,
          290.5,
          10.5,
          20.299999237060547,
          45.900001525878906,
          50.20000076293945,
          25.700000762939453,
          185.5,
          30.200000762939453,
          435.5,
          105.19999694824219,
          290.5,
          30.399999618530273,
          20.200000762939453,
          95.19999694824219,
          30.700000762939453,
          50.099998474121094,
          30.5,
          50.099998474121094,
          60.5,
          15.100000381469727,
          225.89999389648438,
          10.100000381469727,
          55.20000076293945,
          10.399999618530273,
          240.6999969482422,
          20.200000762939453,
          265.3999938964844,
          30.700000762939453,
          140.6999969482422,
          10.5,
          20.299999237060547,
          285.29998779296875,
          30.100000381469727,
          90.5,
          70.19999694824219,
          60.5,
          35.70000076293945,
          120.30000305175781,
          30.399999618530273,
          190.89999389648438,
          50.79999923706055,
          135,
          10.100000381469727,
          10.199999809265137,
          145.10000610351562,
          125.5,
          135.1999969482422,
          95.5,
          20,
          15.800000190734863,
          75.5,
          10.899999618530273,
          610.7000122070312,
          105.30000305175781,
          75.69999694824219,
          10.199999809265137,
          5.599999904632568,
          70.19999694824219,
          220.39999389648438,
          1015.9000244140625,
          15.199999809265137,
          1025.800048828125,
          25.700000762939453,
          105.19999694824219,
          55.099998474121094,
          5.5,
          20.299999237060547,
          180.8000030517578,
          30.100000381469727,
          120.4000015258789,
          5.5,
          65.4000015258789,
          120.19999694824219,
          45.599998474121094,
          15.699999809265137,
          180.89999389648438,
          15.5,
          45.29999923706055,
          25.299999237060547,
          435.70001220703125,
          30.299999237060547,
          105.30000305175781,
          85.9000015258789,
          125.9000015258789,
          55.20000076293945,
          20.200000762939453,
          280,
          385.5,
          65.19999694824219,
          135.1999969482422,
          85.69999694824219,
          40.599998474121094,
          295.70001220703125,
          1425.800048828125,
          810.4000244140625,
          25.200000762939453,
          20.299999237060547,
          40.20000076293945,
          5.599999904632568,
          815.7999877929688,
          15,
          25.899999618530273,
          80.4000015258789,
          65.69999694824219,
          30.5,
          15.699999809265137,
          150.39999389648438,
          25.399999618530273,
          55.20000076293945,
          20.299999237060547,
          50.5,
          50.900001525878906,
          65.4000015258789,
          10.100000381469727,
          10.699999809265137,
          55.400001525878906,
          55.5,
          20.899999618530273,
          145.10000610351562,
          30.700000762939453,
          60.20000076293945,
          25.399999618530273,
          20.799999237060547,
          50.5,
          10.5,
          20.299999237060547,
          100.0999984741211,
          390.5,
          15.199999809265137,
          240.60000610351562,
          15.5,
          5.699999809265137,
          135.3000030517578,
          255.6999969482422,
          100.80000305175781,
          50.099998474121094,
          165.3000030517578,
          3120.10009765625
         ],
         "yaxis": "y"
        }
       ],
       "layout": {
        "legend": {
         "tracegroupgap": 0
        },
        "margin": {
         "t": 60
        },
        "template": {
         "data": {
          "bar": [
           {
            "error_x": {
             "color": "#2a3f5f"
            },
            "error_y": {
             "color": "#2a3f5f"
            },
            "marker": {
             "line": {
              "color": "#E5ECF6",
              "width": 0.5
             }
            },
            "type": "bar"
           }
          ],
          "barpolar": [
           {
            "marker": {
             "line": {
              "color": "#E5ECF6",
              "width": 0.5
             }
            },
            "type": "barpolar"
           }
          ],
          "carpet": [
           {
            "aaxis": {
             "endlinecolor": "#2a3f5f",
             "gridcolor": "white",
             "linecolor": "white",
             "minorgridcolor": "white",
             "startlinecolor": "#2a3f5f"
            },
            "baxis": {
             "endlinecolor": "#2a3f5f",
             "gridcolor": "white",
             "linecolor": "white",
             "minorgridcolor": "white",
             "startlinecolor": "#2a3f5f"
            },
            "type": "carpet"
           }
          ],
          "choropleth": [
           {
            "colorbar": {
             "outlinewidth": 0,
             "ticks": ""
            },
            "type": "choropleth"
           }
          ],
          "contour": [
           {
            "colorbar": {
             "outlinewidth": 0,
             "ticks": ""
            },
            "colorscale": [
             [
              0,
              "#0d0887"
             ],
             [
              0.1111111111111111,
              "#46039f"
             ],
             [
              0.2222222222222222,
              "#7201a8"
             ],
             [
              0.3333333333333333,
              "#9c179e"
             ],
             [
              0.4444444444444444,
              "#bd3786"
             ],
             [
              0.5555555555555556,
              "#d8576b"
             ],
             [
              0.6666666666666666,
              "#ed7953"
             ],
             [
              0.7777777777777778,
              "#fb9f3a"
             ],
             [
              0.8888888888888888,
              "#fdca26"
             ],
             [
              1,
              "#f0f921"
             ]
            ],
            "type": "contour"
           }
          ],
          "contourcarpet": [
           {
            "colorbar": {
             "outlinewidth": 0,
             "ticks": ""
            },
            "type": "contourcarpet"
           }
          ],
          "heatmap": [
           {
            "colorbar": {
             "outlinewidth": 0,
             "ticks": ""
            },
            "colorscale": [
             [
              0,
              "#0d0887"
             ],
             [
              0.1111111111111111,
              "#46039f"
             ],
             [
              0.2222222222222222,
              "#7201a8"
             ],
             [
              0.3333333333333333,
              "#9c179e"
             ],
             [
              0.4444444444444444,
              "#bd3786"
             ],
             [
              0.5555555555555556,
              "#d8576b"
             ],
             [
              0.6666666666666666,
              "#ed7953"
             ],
             [
              0.7777777777777778,
              "#fb9f3a"
             ],
             [
              0.8888888888888888,
              "#fdca26"
             ],
             [
              1,
              "#f0f921"
             ]
            ],
            "type": "heatmap"
           }
          ],
          "heatmapgl": [
           {
            "colorbar": {
             "outlinewidth": 0,
             "ticks": ""
            },
            "colorscale": [
             [
              0,
              "#0d0887"
             ],
             [
              0.1111111111111111,
              "#46039f"
             ],
             [
              0.2222222222222222,
              "#7201a8"
             ],
             [
              0.3333333333333333,
              "#9c179e"
             ],
             [
              0.4444444444444444,
              "#bd3786"
             ],
             [
              0.5555555555555556,
              "#d8576b"
             ],
             [
              0.6666666666666666,
              "#ed7953"
             ],
             [
              0.7777777777777778,
              "#fb9f3a"
             ],
             [
              0.8888888888888888,
              "#fdca26"
             ],
             [
              1,
              "#f0f921"
             ]
            ],
            "type": "heatmapgl"
           }
          ],
          "histogram": [
           {
            "marker": {
             "colorbar": {
              "outlinewidth": 0,
              "ticks": ""
             }
            },
            "type": "histogram"
           }
          ],
          "histogram2d": [
           {
            "colorbar": {
             "outlinewidth": 0,
             "ticks": ""
            },
            "colorscale": [
             [
              0,
              "#0d0887"
             ],
             [
              0.1111111111111111,
              "#46039f"
             ],
             [
              0.2222222222222222,
              "#7201a8"
             ],
             [
              0.3333333333333333,
              "#9c179e"
             ],
             [
              0.4444444444444444,
              "#bd3786"
             ],
             [
              0.5555555555555556,
              "#d8576b"
             ],
             [
              0.6666666666666666,
              "#ed7953"
             ],
             [
              0.7777777777777778,
              "#fb9f3a"
             ],
             [
              0.8888888888888888,
              "#fdca26"
             ],
             [
              1,
              "#f0f921"
             ]
            ],
            "type": "histogram2d"
           }
          ],
          "histogram2dcontour": [
           {
            "colorbar": {
             "outlinewidth": 0,
             "ticks": ""
            },
            "colorscale": [
             [
              0,
              "#0d0887"
             ],
             [
              0.1111111111111111,
              "#46039f"
             ],
             [
              0.2222222222222222,
              "#7201a8"
             ],
             [
              0.3333333333333333,
              "#9c179e"
             ],
             [
              0.4444444444444444,
              "#bd3786"
             ],
             [
              0.5555555555555556,
              "#d8576b"
             ],
             [
              0.6666666666666666,
              "#ed7953"
             ],
             [
              0.7777777777777778,
              "#fb9f3a"
             ],
             [
              0.8888888888888888,
              "#fdca26"
             ],
             [
              1,
              "#f0f921"
             ]
            ],
            "type": "histogram2dcontour"
           }
          ],
          "mesh3d": [
           {
            "colorbar": {
             "outlinewidth": 0,
             "ticks": ""
            },
            "type": "mesh3d"
           }
          ],
          "parcoords": [
           {
            "line": {
             "colorbar": {
              "outlinewidth": 0,
              "ticks": ""
             }
            },
            "type": "parcoords"
           }
          ],
          "pie": [
           {
            "automargin": true,
            "type": "pie"
           }
          ],
          "scatter": [
           {
            "marker": {
             "colorbar": {
              "outlinewidth": 0,
              "ticks": ""
             }
            },
            "type": "scatter"
           }
          ],
          "scatter3d": [
           {
            "line": {
             "colorbar": {
              "outlinewidth": 0,
              "ticks": ""
             }
            },
            "marker": {
             "colorbar": {
              "outlinewidth": 0,
              "ticks": ""
             }
            },
            "type": "scatter3d"
           }
          ],
          "scattercarpet": [
           {
            "marker": {
             "colorbar": {
              "outlinewidth": 0,
              "ticks": ""
             }
            },
            "type": "scattercarpet"
           }
          ],
          "scattergeo": [
           {
            "marker": {
             "colorbar": {
              "outlinewidth": 0,
              "ticks": ""
             }
            },
            "type": "scattergeo"
           }
          ],
          "scattergl": [
           {
            "marker": {
             "colorbar": {
              "outlinewidth": 0,
              "ticks": ""
             }
            },
            "type": "scattergl"
           }
          ],
          "scattermapbox": [
           {
            "marker": {
             "colorbar": {
              "outlinewidth": 0,
              "ticks": ""
             }
            },
            "type": "scattermapbox"
           }
          ],
          "scatterpolar": [
           {
            "marker": {
             "colorbar": {
              "outlinewidth": 0,
              "ticks": ""
             }
            },
            "type": "scatterpolar"
           }
          ],
          "scatterpolargl": [
           {
            "marker": {
             "colorbar": {
              "outlinewidth": 0,
              "ticks": ""
             }
            },
            "type": "scatterpolargl"
           }
          ],
          "scatterternary": [
           {
            "marker": {
             "colorbar": {
              "outlinewidth": 0,
              "ticks": ""
             }
            },
            "type": "scatterternary"
           }
          ],
          "surface": [
           {
            "colorbar": {
             "outlinewidth": 0,
             "ticks": ""
            },
            "colorscale": [
             [
              0,
              "#0d0887"
             ],
             [
              0.1111111111111111,
              "#46039f"
             ],
             [
              0.2222222222222222,
              "#7201a8"
             ],
             [
              0.3333333333333333,
              "#9c179e"
             ],
             [
              0.4444444444444444,
              "#bd3786"
             ],
             [
              0.5555555555555556,
              "#d8576b"
             ],
             [
              0.6666666666666666,
              "#ed7953"
             ],
             [
              0.7777777777777778,
              "#fb9f3a"
             ],
             [
              0.8888888888888888,
              "#fdca26"
             ],
             [
              1,
              "#f0f921"
             ]
            ],
            "type": "surface"
           }
          ],
          "table": [
           {
            "cells": {
             "fill": {
              "color": "#EBF0F8"
             },
             "line": {
              "color": "white"
             }
            },
            "header": {
             "fill": {
              "color": "#C8D4E3"
             },
             "line": {
              "color": "white"
             }
            },
            "type": "table"
           }
          ]
         },
         "layout": {
          "annotationdefaults": {
           "arrowcolor": "#2a3f5f",
           "arrowhead": 0,
           "arrowwidth": 1
          },
          "autotypenumbers": "strict",
          "coloraxis": {
           "colorbar": {
            "outlinewidth": 0,
            "ticks": ""
           }
          },
          "colorscale": {
           "diverging": [
            [
             0,
             "#8e0152"
            ],
            [
             0.1,
             "#c51b7d"
            ],
            [
             0.2,
             "#de77ae"
            ],
            [
             0.3,
             "#f1b6da"
            ],
            [
             0.4,
             "#fde0ef"
            ],
            [
             0.5,
             "#f7f7f7"
            ],
            [
             0.6,
             "#e6f5d0"
            ],
            [
             0.7,
             "#b8e186"
            ],
            [
             0.8,
             "#7fbc41"
            ],
            [
             0.9,
             "#4d9221"
            ],
            [
             1,
             "#276419"
            ]
           ],
           "sequential": [
            [
             0,
             "#0d0887"
            ],
            [
             0.1111111111111111,
             "#46039f"
            ],
            [
             0.2222222222222222,
             "#7201a8"
            ],
            [
             0.3333333333333333,
             "#9c179e"
            ],
            [
             0.4444444444444444,
             "#bd3786"
            ],
            [
             0.5555555555555556,
             "#d8576b"
            ],
            [
             0.6666666666666666,
             "#ed7953"
            ],
            [
             0.7777777777777778,
             "#fb9f3a"
            ],
            [
             0.8888888888888888,
             "#fdca26"
            ],
            [
             1,
             "#f0f921"
            ]
           ],
           "sequentialminus": [
            [
             0,
             "#0d0887"
            ],
            [
             0.1111111111111111,
             "#46039f"
            ],
            [
             0.2222222222222222,
             "#7201a8"
            ],
            [
             0.3333333333333333,
             "#9c179e"
            ],
            [
             0.4444444444444444,
             "#bd3786"
            ],
            [
             0.5555555555555556,
             "#d8576b"
            ],
            [
             0.6666666666666666,
             "#ed7953"
            ],
            [
             0.7777777777777778,
             "#fb9f3a"
            ],
            [
             0.8888888888888888,
             "#fdca26"
            ],
            [
             1,
             "#f0f921"
            ]
           ]
          },
          "colorway": [
           "#636efa",
           "#EF553B",
           "#00cc96",
           "#ab63fa",
           "#FFA15A",
           "#19d3f3",
           "#FF6692",
           "#B6E880",
           "#FF97FF",
           "#FECB52"
          ],
          "font": {
           "color": "#2a3f5f"
          },
          "geo": {
           "bgcolor": "white",
           "lakecolor": "white",
           "landcolor": "#E5ECF6",
           "showlakes": true,
           "showland": true,
           "subunitcolor": "white"
          },
          "hoverlabel": {
           "align": "left"
          },
          "hovermode": "closest",
          "mapbox": {
           "style": "light"
          },
          "paper_bgcolor": "white",
          "plot_bgcolor": "#E5ECF6",
          "polar": {
           "angularaxis": {
            "gridcolor": "white",
            "linecolor": "white",
            "ticks": ""
           },
           "bgcolor": "#E5ECF6",
           "radialaxis": {
            "gridcolor": "white",
            "linecolor": "white",
            "ticks": ""
           }
          },
          "scene": {
           "xaxis": {
            "backgroundcolor": "#E5ECF6",
            "gridcolor": "white",
            "gridwidth": 2,
            "linecolor": "white",
            "showbackground": true,
            "ticks": "",
            "zerolinecolor": "white"
           },
           "yaxis": {
            "backgroundcolor": "#E5ECF6",
            "gridcolor": "white",
            "gridwidth": 2,
            "linecolor": "white",
            "showbackground": true,
            "ticks": "",
            "zerolinecolor": "white"
           },
           "zaxis": {
            "backgroundcolor": "#E5ECF6",
            "gridcolor": "white",
            "gridwidth": 2,
            "linecolor": "white",
            "showbackground": true,
            "ticks": "",
            "zerolinecolor": "white"
           }
          },
          "shapedefaults": {
           "line": {
            "color": "#2a3f5f"
           }
          },
          "ternary": {
           "aaxis": {
            "gridcolor": "white",
            "linecolor": "white",
            "ticks": ""
           },
           "baxis": {
            "gridcolor": "white",
            "linecolor": "white",
            "ticks": ""
           },
           "bgcolor": "#E5ECF6",
           "caxis": {
            "gridcolor": "white",
            "linecolor": "white",
            "ticks": ""
           }
          },
          "title": {
           "x": 0.05
          },
          "xaxis": {
           "automargin": true,
           "gridcolor": "white",
           "linecolor": "white",
           "ticks": "",
           "title": {
            "standoff": 15
           },
           "zerolinecolor": "white",
           "zerolinewidth": 2
          },
          "yaxis": {
           "automargin": true,
           "gridcolor": "white",
           "linecolor": "white",
           "ticks": "",
           "title": {
            "standoff": 15
           },
           "zerolinecolor": "white",
           "zerolinewidth": 2
          }
         }
        },
        "title": {
         "font": {
          "size": 30
         },
         "text": "Price per order"
        },
        "xaxis": {
         "anchor": "y",
         "domain": [
          0,
          1
         ],
         "title": {
          "text": "index number of order"
         }
        },
        "yaxis": {
         "anchor": "x",
         "domain": [
          0,
          1
         ],
         "title": {
          "text": "price"
         }
        }
       }
      },
      "text/html": [
       "<div>                            <div id=\"28802fc6-b0df-4cd8-b521-b83dcb4e2076\" class=\"plotly-graph-div\" style=\"height:525px; width:100%;\"></div>            <script type=\"text/javascript\">                require([\"plotly\"], function(Plotly) {                    window.PLOTLYENV=window.PLOTLYENV || {};                                    if (document.getElementById(\"28802fc6-b0df-4cd8-b521-b83dcb4e2076\")) {                    Plotly.newPlot(                        \"28802fc6-b0df-4cd8-b521-b83dcb4e2076\",                        [{\"hovertemplate\": \"x=%{x}<br>y=%{y}<extra></extra>\", \"legendgroup\": \"\", \"marker\": {\"color\": \"#636efa\", \"symbol\": \"circle\"}, \"mode\": \"markers\", \"name\": \"\", \"showlegend\": false, \"type\": \"scattergl\", \"x\": [0, 1, 2, 3, 4, 5, 6, 7, 8, 9, 10, 11, 12, 13, 14, 15, 16, 17, 18, 19, 20, 21, 22, 23, 24, 25, 26, 27, 28, 29, 30, 31, 32, 33, 34, 35, 36, 37, 38, 39, 40, 41, 42, 43, 44, 45, 46, 47, 48, 49, 50, 51, 52, 53, 54, 55, 56, 57, 58, 59, 60, 61, 62, 63, 64, 65, 66, 67, 68, 69, 70, 71, 72, 73, 74, 75, 76, 77, 78, 79, 80, 81, 82, 83, 84, 85, 86, 87, 88, 89, 90, 91, 92, 93, 94, 95, 96, 97, 98, 99, 100, 101, 102, 103, 104, 105, 106, 107, 108, 109, 110, 111, 112, 113, 114, 115, 116, 117, 118, 119, 120, 121, 122, 123, 124, 125, 126, 127, 128, 129, 130, 131, 132, 133, 134, 135, 136, 137, 138, 139, 140, 141, 142, 143, 144, 145, 146, 147, 148, 149, 150, 151, 152, 153, 154, 155, 156, 157, 158, 159, 160, 161, 162, 163, 164, 165, 166, 167, 168, 169, 170, 171, 172, 173, 174, 175, 176, 177, 178, 179, 180, 181, 182, 183, 184, 185, 186, 187, 188, 189, 190, 191, 192, 193, 194, 195, 196, 197, 198, 199, 200, 201, 202, 203, 204, 205, 206, 207, 208, 209, 210, 211, 212, 213, 214, 215, 216, 217, 218, 219, 220, 221, 222, 223, 224, 225, 226, 227, 228, 229, 230, 231, 232, 233, 234, 235, 236, 237, 238, 239, 240, 241, 242, 243, 244, 245, 246, 247, 248, 249, 250, 251, 252, 253, 254, 255, 256, 257, 258, 259, 260, 261, 262, 263, 264, 265, 266, 267, 268, 269, 270, 271, 272, 273, 274, 275, 276, 277, 278, 279, 280, 281, 282, 283, 284, 285, 286, 287, 288, 289, 290, 291, 292, 293, 294, 295, 296, 297, 298, 299, 300, 301, 302, 303, 304, 305, 306, 307, 308, 309, 310, 311, 312, 313, 314, 315, 316, 317, 318, 319, 320, 321, 322, 323, 324, 325, 326, 327, 328, 329, 330, 331, 332, 333, 334, 335, 336, 337, 338, 339, 340, 341, 342, 343, 344, 345, 346, 347, 348, 349, 350, 351, 352, 353, 354, 355, 356, 357, 358, 359, 360, 361, 362, 363, 364, 365, 366, 367, 368, 369, 370, 371, 372, 373, 374, 375, 376, 377, 378, 379, 380, 381, 382, 383, 384, 385, 386, 387, 388, 389, 390, 391, 392, 393, 394, 395, 396, 397, 398, 399, 400, 401, 402, 403, 404, 405, 406, 407, 408, 409, 410, 411, 412, 413, 414, 415, 416, 417, 418, 419, 420, 421, 422, 423, 424, 425, 426, 427, 428, 429, 430, 431, 432, 433, 434, 435, 436, 437, 438, 439, 440, 441, 442, 443, 444, 445, 446, 447, 448, 449, 450, 451, 452, 453, 454, 455, 456, 457, 458, 459, 460, 461, 462, 463, 464, 465, 466, 467, 468, 469, 470, 471, 472, 473, 474, 475, 476, 477, 478, 479, 480, 481, 482, 483, 484, 485, 486, 487, 488, 489, 490, 491, 492, 493, 494, 495, 496, 497, 498, 499, 500, 501, 502, 503, 504, 505, 506, 507, 508, 509, 510, 511, 512, 513, 514, 515, 516, 517, 518, 519, 520, 521, 522, 523, 524, 525, 526, 527, 528, 529, 530, 531, 532, 533, 534, 535, 536, 537, 538, 539, 540, 541, 542, 543, 544, 545, 546, 547, 548, 549, 550, 551, 552, 553, 554, 555, 556, 557, 558, 559, 560, 561, 562, 563, 564, 565, 566, 567, 568, 569, 570, 571, 572, 573, 574, 575, 576, 577, 578, 579, 580, 581, 582, 583, 584, 585, 586, 587, 588, 589, 590, 591, 592, 593, 594, 595, 596, 597, 598, 599, 600, 601, 602, 603, 604, 605, 606, 607, 608, 609, 610, 611, 612, 613, 614, 615, 616, 617, 618, 619, 620, 621, 622, 623, 624, 625, 626, 627, 628, 629, 630, 631, 632, 633, 634, 635, 636, 637, 638, 639, 640, 641, 642, 643, 644, 645, 646, 647, 648, 649, 650, 651, 652, 653, 654, 655, 656, 657, 658, 659, 660, 661, 662, 663, 664, 665, 666, 667, 668, 669, 670, 671, 672, 673, 674, 675, 676, 677, 678, 679, 680, 681, 682, 683, 684, 685, 686, 687, 688, 689, 690, 691, 692, 693, 694, 695, 696, 697, 698, 699, 700, 701, 702, 703, 704, 705, 706, 707, 708, 709, 710, 711, 712, 713, 714, 715, 716, 717, 718, 719, 720, 721, 722, 723, 724, 725, 726, 727, 728, 729, 730, 731, 732, 733, 734, 735, 736, 737, 738, 739, 740, 741, 742, 743, 744, 745, 746, 747, 748, 749, 750, 751, 752, 753, 754, 755, 756, 757, 758, 759, 760, 761, 762, 763, 764, 765, 766, 767, 768, 769, 770, 771, 772, 773, 774, 775, 776, 777, 778, 779, 780, 781, 782, 783, 784, 785, 786, 787, 788, 789, 790, 791, 792, 793, 794, 795, 796, 797, 798, 799, 800, 801, 802, 803, 804, 805, 806, 807, 808, 809, 810, 811, 812, 813, 814, 815, 816, 817, 818, 819, 820, 821, 822, 823, 824, 825, 826, 827, 828, 829, 830, 831, 832, 833, 834, 835, 836, 837, 838, 839, 840, 841, 842, 843, 844, 845, 846, 847, 848, 849, 850, 851, 852, 853, 854, 855, 856, 857, 858, 859, 860, 861, 862, 863, 864, 865, 866, 867, 868, 869, 870, 871, 872, 873, 874, 875, 876, 877, 878, 879, 880, 881, 882, 883, 884, 885, 886, 887, 888, 889, 890, 891, 892, 893, 894, 895, 896, 897, 898, 899, 900, 901, 902, 903, 904, 905, 906, 907, 908, 909, 910, 911, 912, 913, 914, 915, 916, 917, 918, 919, 920, 921, 922, 923, 924, 925, 926, 927, 928, 929, 930, 931, 932, 933, 934, 935, 936, 937, 938, 939, 940, 941, 942, 943, 944, 945, 946, 947, 948, 949, 950, 951, 952, 953, 954, 955, 956, 957, 958, 959, 960, 961, 962, 963, 964, 965, 966, 967, 968, 969, 970, 971, 972, 973, 974, 975, 976, 977, 978, 979, 980, 981, 982, 983, 984, 985, 986, 987, 988, 989, 990, 991, 992, 993, 994, 995, 996, 997, 998, 999, 1000, 1001, 1002, 1003, 1004, 1005, 1006, 1007, 1008, 1009, 1010, 1011, 1012, 1013, 1014, 1015], \"xaxis\": \"x\", \"y\": [30.399999618530273, 15.199999809265137, 155.10000610351562, 40.5, 35.0, 30.600000381469727, 20.100000381469727, 215.89999389648438, 30.5, 65.69999694824219, 70.19999694824219, 115.4000015258789, 185.39999389648438, 170.89999389648438, 235.0, 20.299999237060547, 20.200000762939453, 255.6999969482422, 20.299999237060547, 20.200000762939453, 10.699999809265137, 5.599999904632568, 85.19999694824219, 5.900000095367432, 10.899999618530273, 355.5, 40.20000076293945, 40.0, 100.19999694824219, 300.29998779296875, 10.399999618530273, 50.900001525878906, 145.89999389648438, 40.20000076293945, 50.20000076293945, 35.900001525878906, 60.20000076293945, 110.5, 20.200000762939453, 55.70000076293945, 50.70000076293945, 280.5, 10.199999809265137, 10.199999809265137, 5.5, 45.29999923706055, 10.800000190734863, 50.79999923706055, 25.200000762939453, 125.9000015258789, 10.199999809265137, 25.799999237060547, 40.099998474121094, 30.299999237060547, 40.20000076293945, 40.099998474121094, 225.8000030517578, 300.29998779296875, 140.39999389648438, 15.800000190734863, 455.79998779296875, 15.0, 15.699999809265137, 70.69999694824219, 500.70001220703125, 630.7999877929688, 40.29999923706055, 35.0, 85.0999984741211, 80.5, 65.80000305175781, 15.600000381469727, 20.799999237060547, 10.899999618530273, 5.900000095367432, 35.5, 25.899999618530273, 275.8999938964844, 30.799999237060547, 410.5, 140.8000030517578, 90.5, 110.69999694824219, 5.599999904632568, 50.79999923706055, 40.20000076293945, 50.099998474121094, 40.20000076293945, 275.79998779296875, 15.100000381469727, 85.5, 130.10000610351562, 95.30000305175781, 80.19999694824219, 110.5, 30.100000381469727, 5.599999904632568, 100.80000305175781, 70.9000015258789, 70.9000015258789, 20.5, 190.8000030517578, 25.299999237060547, 70.9000015258789, 125.9000015258789, 80.4000015258789, 145.60000610351562, 100.0999984741211, 95.5, 830.2999877929688, 110.5, 120.30000305175781, 10.600000381469727, 440.29998779296875, 10.0, 20.299999237060547, 5.599999904632568, 25.899999618530273, 100.4000015258789, 45.29999923706055, 140.39999389648438, 50.0, 20.200000762939453, 5.599999904632568, 150.39999389648438, 45.900001525878906, 10.600000381469727, 155.5, 30.5, 80.5, 60.79999923706055, 125.5, 10.199999809265137, 185.5, 295.79998779296875, 100.80000305175781, 35.599998474121094, 10.0, 25.200000762939453, 110.5, 10.699999809265137, 20.0, 30.399999618530273, 30.799999237060547, 55.79999923706055, 55.400001525878906, 85.30000305175781, 590.0999755859375, 45.099998474121094, 50.79999923706055, 20.299999237060547, 45.29999923706055, 50.400001525878906, 35.20000076293945, 55.400001525878906, 15.0, 90.30000305175781, 75.5, 30.299999237060547, 55.70000076293945, 280.79998779296875, 110.80000305175781, 30.0, 15.699999809265137, 85.5999984741211, 175.0, 5.5, 45.70000076293945, 30.0, 35.70000076293945, 30.700000762939453, 25.0, 155.5, 105.0999984741211, 10.699999809265137, 45.599998474121094, 75.5999984741211, 475.5, 90.80000305175781, 5.5, 40.20000076293945, 45.400001525878906, 45.29999923706055, 270.0, 220.8000030517578, 65.4000015258789, 30.799999237060547, 35.0, 40.20000076293945, 20.5, 25.200000762939453, 40.29999923706055, 25.200000762939453, 145.1999969482422, 50.5, 245.8000030517578, 240.1999969482422, 45.70000076293945, 100.4000015258789, 40.70000076293945, 10.199999809265137, 15.199999809265137, 95.5999984741211, 50.20000076293945, 165.89999389648438, 5.699999809265137, 40.20000076293945, 200.10000610351562, 155.0, 15.199999809265137, 20.299999237060547, 240.1999969482422, 15.600000381469727, 40.0, 50.099998474121094, 10.699999809265137, 220.60000610351562, 30.5, 10.800000190734863, 40.20000076293945, 130.8000030517578, 5.300000190734863, 5.599999904632568, 225.5, 165.8000030517578, 5.5, 40.20000076293945, 30.200000762939453, 525.5999755859375, 20.899999618530273, 30.799999237060547, 40.20000076293945, 75.0, 200.10000610351562, 55.599998474121094, 20.399999618530273, 35.599998474121094, 20.899999618530273, 20.200000762939453, 110.0, 300.29998779296875, 830.2999877929688, 35.599998474121094, 35.0, 10.600000381469727, 70.0999984741211, 195.3000030517578, 10.5, 370.3999938964844, 100.69999694824219, 10.5, 340.1000061035156, 50.400001525878906, 30.100000381469727, 40.0, 90.5, 120.19999694824219, 10.0, 20.299999237060547, 35.599998474121094, 5.199999809265137, 30.200000762939453, 45.400001525878906, 65.5, 20.200000762939453, 10.5, 15.800000190734863, 40.79999923706055, 40.29999923706055, 40.900001525878906, 185.39999389648438, 25.100000381469727, 25.5, 20.799999237060547, 5.800000190734863, 35.599998474121094, 100.30000305175781, 15.0, 140.1999969482422, 25.700000762939453, 5.599999904632568, 30.0, 15.199999809265137, 20.799999237060547, 20.200000762939453, 125.0999984741211, 10.399999618530273, 235.89999389648438, 640.7000122070312, 35.599998474121094, 15.699999809265137, 15.600000381469727, 95.30000305175781, 25.5, 20.799999237060547, 25.399999618530273, 70.19999694824219, 10.5, 45.400001525878906, 95.30000305175781, 10.199999809265137, 40.70000076293945, 30.600000381469727, 80.4000015258789, 105.5999984741211, 80.9000015258789, 235.3000030517578, 140.6999969482422, 140.1999969482422, 260.0, 35.70000076293945, 40.5, 25.5, 10.800000190734863, 260.0, 65.4000015258789, 310.1000061035156, 195.8000030517578, 80.5999984741211, 10.0, 10.5, 260.6000061035156, 75.5, 55.099998474121094, 85.30000305175781, 255.39999389648438, 5.800000190734863, 40.099998474121094, 25.899999618530273, 80.5999984741211, 25.5, 325.8999938964844, 25.299999237060547, 90.19999694824219, 65.69999694824219, 45.599998474121094, 20.299999237060547, 195.10000610351562, 15.5, 155.6999969482422, 15.600000381469727, 60.79999923706055, 155.6999969482422, 90.5, 300.0, 10.100000381469727, 5.099999904632568, 15.399999618530273, 155.6999969482422, 220.1999969482422, 10.800000190734863, 15.0, 385.70001220703125, 20.200000762939453, 70.19999694824219, 5.199999809265137, 10.199999809265137, 10.800000190734863, 15.5, 30.0, 580.7000122070312, 490.3999938964844, 150.0, 175.10000610351562, 10.199999809265137, 19920.400390625, 45.5, 25.5, 80.80000305175781, 20.899999618530273, 275.5, 90.80000305175781, 25.200000762939453, 170.0, 35.79999923706055, 35.70000076293945, 5.599999904632568, 35.79999923706055, 50.5, 10.5, 115.30000305175781, 285.1000061035156, 10.0, 105.69999694824219, 45.5, 50.70000076293945, 100.0999984741211, 10.5, 85.0999984741211, 50.599998474121094, 20.799999237060547, 5.800000190734863, 50.099998474121094, 410.5, 145.0, 255.5, 30.5, 155.8000030517578, 45.70000076293945, 10.199999809265137, 25.899999618530273, 140.3000030517578, 140.10000610351562, 40.29999923706055, 35.599998474121094, 20.399999618530273, 10.399999618530273, 5.599999904632568, 300.6000061035156, 215.8000030517578, 475.5, 30.5, 100.30000305175781, 10.0, 20.399999618530273, 25.899999618530273, 30.399999618530273, 175.3000030517578, 310.20001220703125, 45.900001525878906, 140.6999969482422, 135.10000610351562, 35.5, 160.8000030517578, 40.29999923706055, 150.39999389648438, 20.799999237060547, 10.5, 5.900000095367432, 20.200000762939453, 40.79999923706055, 40.20000076293945, 130.89999389648438, 10.899999618530273, 85.30000305175781, 50.29999923706055, 30.399999618530273, 270.3999938964844, 75.5, 110.5999984741211, 90.5, 30.0, 50.29999923706055, 10.0, 15.399999618530273, 165.60000610351562, 55.20000076293945, 80.0999984741211, 105.4000015258789, 10.699999809265137, 515.9000244140625, 15.5, 55.20000076293945, 680.7999877929688, 210.0, 155.8000030517578, 15.699999809265137, 70.19999694824219, 10.0, 80.0999984741211, 100.19999694824219, 20.799999237060547, 40.20000076293945, 165.3000030517578, 100.69999694824219, 185.1999969482422, 280.79998779296875, 65.80000305175781, 390.79998779296875, 550.9000244140625, 150.0, 425.8999938964844, 25.200000762939453, 30.5, 15.699999809265137, 70.19999694824219, 80.80000305175781, 60.20000076293945, 80.80000305175781, 15.699999809265137, 25.5, 510.5, 550.9000244140625, 20.200000762939453, 40.20000076293945, 90.0999984741211, 25.899999618530273, 425.6000061035156, 30.100000381469727, 485.29998779296875, 10.5, 35.599998474121094, 25.899999618530273, 5.599999904632568, 85.80000305175781, 105.30000305175781, 55.79999923706055, 300.29998779296875, 90.0999984741211, 30.0, 10.300000190734863, 5.800000190734863, 65.69999694824219, 55.70000076293945, 20.799999237060547, 90.30000305175781, 55.599998474121094, 5.699999809265137, 35.400001525878906, 165.3000030517578, 75.19999694824219, 200.3000030517578, 125.0, 50.5, 45.70000076293945, 10.600000381469727, 15.399999618530273, 5.099999904632568, 75.69999694824219, 220.1999969482422, 30.5, 195.10000610351562, 45.5, 30.799999237060547, 830.2999877929688, 185.5, 30.5, 35.599998474121094, 110.5, 20.299999237060547, 280.79998779296875, 20.799999237060547, 410.5, 300.6000061035156, 45.099998474121094, 55.20000076293945, 30.100000381469727, 10.199999809265137, 200.8000030517578, 400.29998779296875, 295.20001220703125, 60.900001525878906, 265.79998779296875, 280.1000061035156, 160.6999969482422, 80.80000305175781, 265.0, 50.79999923706055, 80.80000305175781, 240.1999969482422, 5.699999809265137, 155.8000030517578, 215.1999969482422, 25.5, 140.60000610351562, 75.0999984741211, 150.0, 675.2000122070312, 300.29998779296875, 30.399999618530273, 5.400000095367432, 65.5, 25.5, 535.5, 170.60000610351562, 10.0, 110.0999984741211, 280.79998779296875, 75.30000305175781, 35.20000076293945, 45.400001525878906, 40.79999923706055, 75.0, 170.89999389648438, 20.200000762939453, 10.5, 45.5, 265.3999938964844, 10.5, 15.100000381469727, 160.3000030517578, 30.0, 35.5, 30.799999237060547, 280.79998779296875, 10.300000190734863, 660.5, 80.19999694824219, 10.300000190734863, 280.79998779296875, 60.599998474121094, 145.89999389648438, 90.9000015258789, 40.79999923706055, 15.699999809265137, 35.79999923706055, 20.299999237060547, 40.29999923706055, 305.29998779296875, 180.8000030517578, 60.20000076293945, 65.30000305175781, 25.5, 710.7999877929688, 165.3000030517578, 50.900001525878906, 40.79999923706055, 10.199999809265137, 5.5, 275.70001220703125, 60.20000076293945, 380.1000061035156, 15.600000381469727, 10.0, 30.799999237060547, 110.5, 440.20001220703125, 50.5, 25.899999618530273, 50.099998474121094, 455.79998779296875, 40.79999923706055, 80.80000305175781, 155.5, 55.29999923706055, 225.89999389648438, 50.5, 20.700000762939453, 10.899999618530273, 55.599998474121094, 225.89999389648438, 1050.0, 1335.5999755859375, 80.4000015258789, 765.5, 15.699999809265137, 15.600000381469727, 300.29998779296875, 50.79999923706055, 575.5, 10.0, 305.5, 40.70000076293945, 705.2999877929688, 5.800000190734863, 385.5, 30.700000762939453, 20.0, 20.799999237060547, 20.200000762939453, 90.5, 150.10000610351562, 20.700000762939453, 20.200000762939453, 85.5, 40.20000076293945, 10.100000381469727, 30.799999237060547, 25.5, 30.200000762939453, 145.0, 40.20000076293945, 10.0, 15.899999618530273, 195.1999969482422, 55.5, 15.100000381469727, 125.4000015258789, 80.80000305175781, 60.5, 50.099998474121094, 15.800000190734863, 60.79999923706055, 35.70000076293945, 10.399999618530273, 215.8000030517578, 20.200000762939453, 315.20001220703125, 25.5, 40.70000076293945, 20.299999237060547, 85.0, 90.0, 40.5, 30.200000762939453, 15.699999809265137, 10.0, 80.4000015258789, 65.80000305175781, 15.699999809265137, 20.200000762939453, 25.5, 125.5999984741211, 25.700000762939453, 15.600000381469727, 100.0, 5.800000190734863, 125.9000015258789, 5.300000190734863, 75.80000305175781, 5.900000095367432, 280.79998779296875, 40.20000076293945, 310.5, 5.699999809265137, 20.799999237060547, 110.5, 45.400001525878906, 20.200000762939453, 5.900000095367432, 10.100000381469727, 150.39999389648438, 240.1999969482422, 55.5, 90.80000305175781, 25.700000762939453, 150.39999389648438, 160.5, 20.200000762939453, 20.200000762939453, 35.599998474121094, 20.299999237060547, 225.89999389648438, 40.20000076293945, 45.099998474121094, 10.100000381469727, 75.5, 35.79999923706055, 15.699999809265137, 285.1000061035156, 15.800000190734863, 50.70000076293945, 140.6999969482422, 110.4000015258789, 15.199999809265137, 195.5, 80.69999694824219, 55.599998474121094, 555.2000122070312, 70.0999984741211, 100.19999694824219, 280.79998779296875, 20.399999618530273, 15.699999809265137, 25.5, 60.5, 55.79999923706055, 25.399999618530273, 5.400000095367432, 220.1999969482422, 25.600000381469727, 50.099998474121094, 25.799999237060547, 85.19999694824219, 385.70001220703125, 30.600000381469727, 50.0, 10.899999618530273, 475.5, 60.5, 180.0, 65.4000015258789, 10.199999809265137, 210.39999389648438, 25.899999618530273, 325.8999938964844, 270.20001220703125, 35.5, 5.5, 35.20000076293945, 10.5, 10.800000190734863, 40.79999923706055, 300.20001220703125, 5.199999809265137, 100.80000305175781, 40.20000076293945, 30.0, 65.4000015258789, 25.399999618530273, 20.200000762939453, 400.79998779296875, 15.600000381469727, 205.10000610351562, 90.0999984741211, 10.399999618530273, 35.599998474121094, 75.19999694824219, 15.199999809265137, 540.2999877929688, 55.79999923706055, 15.399999618530273, 510.5, 10.800000190734863, 300.79998779296875, 10.5, 15.100000381469727, 5.900000095367432, 25.5, 115.69999694824219, 20.799999237060547, 65.19999694824219, 905.7999877929688, 15.300000190734863, 115.4000015258789, 285.29998779296875, 285.0, 240.1999969482422, 55.20000076293945, 105.5, 70.9000015258789, 930.0, 375.6000061035156, 20.799999237060547, 35.79999923706055, 140.1999969482422, 20.799999237060547, 40.099998474121094, 20.299999237060547, 80.5, 55.20000076293945, 30.5, 445.29998779296875, 175.10000610351562, 300.29998779296875, 30.5, 30.600000381469727, 95.80000305175781, 10.0, 40.099998474121094, 40.20000076293945, 40.099998474121094, 10.699999809265137, 60.599998474121094, 190.8000030517578, 45.70000076293945, 15.899999618530273, 45.599998474121094, 235.60000610351562, 5.900000095367432, 10.800000190734863, 130.5, 30.0, 5.5, 85.5, 15.600000381469727, 25.200000762939453, 25.899999618530273, 5.900000095367432, 100.19999694824219, 5.800000190734863, 75.0999984741211, 25.299999237060547, 25.5, 45.20000076293945, 5.5, 220.1999969482422, 185.39999389648438, 30.5, 65.4000015258789, 20.200000762939453, 20.200000762939453, 5.0, 20.5, 5.5, 815.7999877929688, 55.599998474121094, 55.70000076293945, 270.3999938964844, 70.5, 155.8000030517578, 10.699999809265137, 205.10000610351562, 15.699999809265137, 45.20000076293945, 105.69999694824219, 5.5, 55.400001525878906, 290.5, 10.5, 20.299999237060547, 45.900001525878906, 50.20000076293945, 25.700000762939453, 185.5, 30.200000762939453, 435.5, 105.19999694824219, 290.5, 30.399999618530273, 20.200000762939453, 95.19999694824219, 30.700000762939453, 50.099998474121094, 30.5, 50.099998474121094, 60.5, 15.100000381469727, 225.89999389648438, 10.100000381469727, 55.20000076293945, 10.399999618530273, 240.6999969482422, 20.200000762939453, 265.3999938964844, 30.700000762939453, 140.6999969482422, 10.5, 20.299999237060547, 285.29998779296875, 30.100000381469727, 90.5, 70.19999694824219, 60.5, 35.70000076293945, 120.30000305175781, 30.399999618530273, 190.89999389648438, 50.79999923706055, 135.0, 10.100000381469727, 10.199999809265137, 145.10000610351562, 125.5, 135.1999969482422, 95.5, 20.0, 15.800000190734863, 75.5, 10.899999618530273, 610.7000122070312, 105.30000305175781, 75.69999694824219, 10.199999809265137, 5.599999904632568, 70.19999694824219, 220.39999389648438, 1015.9000244140625, 15.199999809265137, 1025.800048828125, 25.700000762939453, 105.19999694824219, 55.099998474121094, 5.5, 20.299999237060547, 180.8000030517578, 30.100000381469727, 120.4000015258789, 5.5, 65.4000015258789, 120.19999694824219, 45.599998474121094, 15.699999809265137, 180.89999389648438, 15.5, 45.29999923706055, 25.299999237060547, 435.70001220703125, 30.299999237060547, 105.30000305175781, 85.9000015258789, 125.9000015258789, 55.20000076293945, 20.200000762939453, 280.0, 385.5, 65.19999694824219, 135.1999969482422, 85.69999694824219, 40.599998474121094, 295.70001220703125, 1425.800048828125, 810.4000244140625, 25.200000762939453, 20.299999237060547, 40.20000076293945, 5.599999904632568, 815.7999877929688, 15.0, 25.899999618530273, 80.4000015258789, 65.69999694824219, 30.5, 15.699999809265137, 150.39999389648438, 25.399999618530273, 55.20000076293945, 20.299999237060547, 50.5, 50.900001525878906, 65.4000015258789, 10.100000381469727, 10.699999809265137, 55.400001525878906, 55.5, 20.899999618530273, 145.10000610351562, 30.700000762939453, 60.20000076293945, 25.399999618530273, 20.799999237060547, 50.5, 10.5, 20.299999237060547, 100.0999984741211, 390.5, 15.199999809265137, 240.60000610351562, 15.5, 5.699999809265137, 135.3000030517578, 255.6999969482422, 100.80000305175781, 50.099998474121094, 165.3000030517578, 3120.10009765625], \"yaxis\": \"y\"}],                        {\"legend\": {\"tracegroupgap\": 0}, \"margin\": {\"t\": 60}, \"template\": {\"data\": {\"bar\": [{\"error_x\": {\"color\": \"#2a3f5f\"}, \"error_y\": {\"color\": \"#2a3f5f\"}, \"marker\": {\"line\": {\"color\": \"#E5ECF6\", \"width\": 0.5}}, \"type\": \"bar\"}], \"barpolar\": [{\"marker\": {\"line\": {\"color\": \"#E5ECF6\", \"width\": 0.5}}, \"type\": \"barpolar\"}], \"carpet\": [{\"aaxis\": {\"endlinecolor\": \"#2a3f5f\", \"gridcolor\": \"white\", \"linecolor\": \"white\", \"minorgridcolor\": \"white\", \"startlinecolor\": \"#2a3f5f\"}, \"baxis\": {\"endlinecolor\": \"#2a3f5f\", \"gridcolor\": \"white\", \"linecolor\": \"white\", \"minorgridcolor\": \"white\", \"startlinecolor\": \"#2a3f5f\"}, \"type\": \"carpet\"}], \"choropleth\": [{\"colorbar\": {\"outlinewidth\": 0, \"ticks\": \"\"}, \"type\": \"choropleth\"}], \"contour\": [{\"colorbar\": {\"outlinewidth\": 0, \"ticks\": \"\"}, \"colorscale\": [[0.0, \"#0d0887\"], [0.1111111111111111, \"#46039f\"], [0.2222222222222222, \"#7201a8\"], [0.3333333333333333, \"#9c179e\"], [0.4444444444444444, \"#bd3786\"], [0.5555555555555556, \"#d8576b\"], [0.6666666666666666, \"#ed7953\"], [0.7777777777777778, \"#fb9f3a\"], [0.8888888888888888, \"#fdca26\"], [1.0, \"#f0f921\"]], \"type\": \"contour\"}], \"contourcarpet\": [{\"colorbar\": {\"outlinewidth\": 0, \"ticks\": \"\"}, \"type\": \"contourcarpet\"}], \"heatmap\": [{\"colorbar\": {\"outlinewidth\": 0, \"ticks\": \"\"}, \"colorscale\": [[0.0, \"#0d0887\"], [0.1111111111111111, \"#46039f\"], [0.2222222222222222, \"#7201a8\"], [0.3333333333333333, \"#9c179e\"], [0.4444444444444444, \"#bd3786\"], [0.5555555555555556, \"#d8576b\"], [0.6666666666666666, \"#ed7953\"], [0.7777777777777778, \"#fb9f3a\"], [0.8888888888888888, \"#fdca26\"], [1.0, \"#f0f921\"]], \"type\": \"heatmap\"}], \"heatmapgl\": [{\"colorbar\": {\"outlinewidth\": 0, \"ticks\": \"\"}, \"colorscale\": [[0.0, \"#0d0887\"], [0.1111111111111111, \"#46039f\"], [0.2222222222222222, \"#7201a8\"], [0.3333333333333333, \"#9c179e\"], [0.4444444444444444, \"#bd3786\"], [0.5555555555555556, \"#d8576b\"], [0.6666666666666666, \"#ed7953\"], [0.7777777777777778, \"#fb9f3a\"], [0.8888888888888888, \"#fdca26\"], [1.0, \"#f0f921\"]], \"type\": \"heatmapgl\"}], \"histogram\": [{\"marker\": {\"colorbar\": {\"outlinewidth\": 0, \"ticks\": \"\"}}, \"type\": \"histogram\"}], \"histogram2d\": [{\"colorbar\": {\"outlinewidth\": 0, \"ticks\": \"\"}, \"colorscale\": [[0.0, \"#0d0887\"], [0.1111111111111111, \"#46039f\"], [0.2222222222222222, \"#7201a8\"], [0.3333333333333333, \"#9c179e\"], [0.4444444444444444, \"#bd3786\"], [0.5555555555555556, \"#d8576b\"], [0.6666666666666666, \"#ed7953\"], [0.7777777777777778, \"#fb9f3a\"], [0.8888888888888888, \"#fdca26\"], [1.0, \"#f0f921\"]], \"type\": \"histogram2d\"}], \"histogram2dcontour\": [{\"colorbar\": {\"outlinewidth\": 0, \"ticks\": \"\"}, \"colorscale\": [[0.0, \"#0d0887\"], [0.1111111111111111, \"#46039f\"], [0.2222222222222222, \"#7201a8\"], [0.3333333333333333, \"#9c179e\"], [0.4444444444444444, \"#bd3786\"], [0.5555555555555556, \"#d8576b\"], [0.6666666666666666, \"#ed7953\"], [0.7777777777777778, \"#fb9f3a\"], [0.8888888888888888, \"#fdca26\"], [1.0, \"#f0f921\"]], \"type\": \"histogram2dcontour\"}], \"mesh3d\": [{\"colorbar\": {\"outlinewidth\": 0, \"ticks\": \"\"}, \"type\": \"mesh3d\"}], \"parcoords\": [{\"line\": {\"colorbar\": {\"outlinewidth\": 0, \"ticks\": \"\"}}, \"type\": \"parcoords\"}], \"pie\": [{\"automargin\": true, \"type\": \"pie\"}], \"scatter\": [{\"marker\": {\"colorbar\": {\"outlinewidth\": 0, \"ticks\": \"\"}}, \"type\": \"scatter\"}], \"scatter3d\": [{\"line\": {\"colorbar\": {\"outlinewidth\": 0, \"ticks\": \"\"}}, \"marker\": {\"colorbar\": {\"outlinewidth\": 0, \"ticks\": \"\"}}, \"type\": \"scatter3d\"}], \"scattercarpet\": [{\"marker\": {\"colorbar\": {\"outlinewidth\": 0, \"ticks\": \"\"}}, \"type\": \"scattercarpet\"}], \"scattergeo\": [{\"marker\": {\"colorbar\": {\"outlinewidth\": 0, \"ticks\": \"\"}}, \"type\": \"scattergeo\"}], \"scattergl\": [{\"marker\": {\"colorbar\": {\"outlinewidth\": 0, \"ticks\": \"\"}}, \"type\": \"scattergl\"}], \"scattermapbox\": [{\"marker\": {\"colorbar\": {\"outlinewidth\": 0, \"ticks\": \"\"}}, \"type\": \"scattermapbox\"}], \"scatterpolar\": [{\"marker\": {\"colorbar\": {\"outlinewidth\": 0, \"ticks\": \"\"}}, \"type\": \"scatterpolar\"}], \"scatterpolargl\": [{\"marker\": {\"colorbar\": {\"outlinewidth\": 0, \"ticks\": \"\"}}, \"type\": \"scatterpolargl\"}], \"scatterternary\": [{\"marker\": {\"colorbar\": {\"outlinewidth\": 0, \"ticks\": \"\"}}, \"type\": \"scatterternary\"}], \"surface\": [{\"colorbar\": {\"outlinewidth\": 0, \"ticks\": \"\"}, \"colorscale\": [[0.0, \"#0d0887\"], [0.1111111111111111, \"#46039f\"], [0.2222222222222222, \"#7201a8\"], [0.3333333333333333, \"#9c179e\"], [0.4444444444444444, \"#bd3786\"], [0.5555555555555556, \"#d8576b\"], [0.6666666666666666, \"#ed7953\"], [0.7777777777777778, \"#fb9f3a\"], [0.8888888888888888, \"#fdca26\"], [1.0, \"#f0f921\"]], \"type\": \"surface\"}], \"table\": [{\"cells\": {\"fill\": {\"color\": \"#EBF0F8\"}, \"line\": {\"color\": \"white\"}}, \"header\": {\"fill\": {\"color\": \"#C8D4E3\"}, \"line\": {\"color\": \"white\"}}, \"type\": \"table\"}]}, \"layout\": {\"annotationdefaults\": {\"arrowcolor\": \"#2a3f5f\", \"arrowhead\": 0, \"arrowwidth\": 1}, \"autotypenumbers\": \"strict\", \"coloraxis\": {\"colorbar\": {\"outlinewidth\": 0, \"ticks\": \"\"}}, \"colorscale\": {\"diverging\": [[0, \"#8e0152\"], [0.1, \"#c51b7d\"], [0.2, \"#de77ae\"], [0.3, \"#f1b6da\"], [0.4, \"#fde0ef\"], [0.5, \"#f7f7f7\"], [0.6, \"#e6f5d0\"], [0.7, \"#b8e186\"], [0.8, \"#7fbc41\"], [0.9, \"#4d9221\"], [1, \"#276419\"]], \"sequential\": [[0.0, \"#0d0887\"], [0.1111111111111111, \"#46039f\"], [0.2222222222222222, \"#7201a8\"], [0.3333333333333333, \"#9c179e\"], [0.4444444444444444, \"#bd3786\"], [0.5555555555555556, \"#d8576b\"], [0.6666666666666666, \"#ed7953\"], [0.7777777777777778, \"#fb9f3a\"], [0.8888888888888888, \"#fdca26\"], [1.0, \"#f0f921\"]], \"sequentialminus\": [[0.0, \"#0d0887\"], [0.1111111111111111, \"#46039f\"], [0.2222222222222222, \"#7201a8\"], [0.3333333333333333, \"#9c179e\"], [0.4444444444444444, \"#bd3786\"], [0.5555555555555556, \"#d8576b\"], [0.6666666666666666, \"#ed7953\"], [0.7777777777777778, \"#fb9f3a\"], [0.8888888888888888, \"#fdca26\"], [1.0, \"#f0f921\"]]}, \"colorway\": [\"#636efa\", \"#EF553B\", \"#00cc96\", \"#ab63fa\", \"#FFA15A\", \"#19d3f3\", \"#FF6692\", \"#B6E880\", \"#FF97FF\", \"#FECB52\"], \"font\": {\"color\": \"#2a3f5f\"}, \"geo\": {\"bgcolor\": \"white\", \"lakecolor\": \"white\", \"landcolor\": \"#E5ECF6\", \"showlakes\": true, \"showland\": true, \"subunitcolor\": \"white\"}, \"hoverlabel\": {\"align\": \"left\"}, \"hovermode\": \"closest\", \"mapbox\": {\"style\": \"light\"}, \"paper_bgcolor\": \"white\", \"plot_bgcolor\": \"#E5ECF6\", \"polar\": {\"angularaxis\": {\"gridcolor\": \"white\", \"linecolor\": \"white\", \"ticks\": \"\"}, \"bgcolor\": \"#E5ECF6\", \"radialaxis\": {\"gridcolor\": \"white\", \"linecolor\": \"white\", \"ticks\": \"\"}}, \"scene\": {\"xaxis\": {\"backgroundcolor\": \"#E5ECF6\", \"gridcolor\": \"white\", \"gridwidth\": 2, \"linecolor\": \"white\", \"showbackground\": true, \"ticks\": \"\", \"zerolinecolor\": \"white\"}, \"yaxis\": {\"backgroundcolor\": \"#E5ECF6\", \"gridcolor\": \"white\", \"gridwidth\": 2, \"linecolor\": \"white\", \"showbackground\": true, \"ticks\": \"\", \"zerolinecolor\": \"white\"}, \"zaxis\": {\"backgroundcolor\": \"#E5ECF6\", \"gridcolor\": \"white\", \"gridwidth\": 2, \"linecolor\": \"white\", \"showbackground\": true, \"ticks\": \"\", \"zerolinecolor\": \"white\"}}, \"shapedefaults\": {\"line\": {\"color\": \"#2a3f5f\"}}, \"ternary\": {\"aaxis\": {\"gridcolor\": \"white\", \"linecolor\": \"white\", \"ticks\": \"\"}, \"baxis\": {\"gridcolor\": \"white\", \"linecolor\": \"white\", \"ticks\": \"\"}, \"bgcolor\": \"#E5ECF6\", \"caxis\": {\"gridcolor\": \"white\", \"linecolor\": \"white\", \"ticks\": \"\"}}, \"title\": {\"x\": 0.05}, \"xaxis\": {\"automargin\": true, \"gridcolor\": \"white\", \"linecolor\": \"white\", \"ticks\": \"\", \"title\": {\"standoff\": 15}, \"zerolinecolor\": \"white\", \"zerolinewidth\": 2}, \"yaxis\": {\"automargin\": true, \"gridcolor\": \"white\", \"linecolor\": \"white\", \"ticks\": \"\", \"title\": {\"standoff\": 15}, \"zerolinecolor\": \"white\", \"zerolinewidth\": 2}}}, \"title\": {\"font\": {\"size\": 30}, \"text\": \"Price per order\"}, \"xaxis\": {\"anchor\": \"y\", \"domain\": [0.0, 1.0], \"title\": {\"text\": \"index number of order\"}}, \"yaxis\": {\"anchor\": \"x\", \"domain\": [0.0, 1.0], \"title\": {\"text\": \"price\"}}},                        {\"responsive\": true}                    ).then(function(){\n",
       "                            \n",
       "var gd = document.getElementById('28802fc6-b0df-4cd8-b521-b83dcb4e2076');\n",
       "var x = new MutationObserver(function (mutations, observer) {{\n",
       "        var display = window.getComputedStyle(gd).display;\n",
       "        if (!display || display === 'none') {{\n",
       "            console.log([gd, 'removed!']);\n",
       "            Plotly.purge(gd);\n",
       "            observer.disconnect();\n",
       "        }}\n",
       "}});\n",
       "\n",
       "// Listen for the removal of the full notebook cells\n",
       "var notebookContainer = gd.closest('#notebook-container');\n",
       "if (notebookContainer) {{\n",
       "    x.observe(notebookContainer, {childList: true});\n",
       "}}\n",
       "\n",
       "// Listen for the clearing of the current output cell\n",
       "var outputEl = gd.closest('.output');\n",
       "if (outputEl) {{\n",
       "    x.observe(outputEl, {childList: true});\n",
       "}}\n",
       "\n",
       "                        })                };                });            </script>        </div>"
      ]
     },
     "metadata": {},
     "output_type": "display_data"
    }
   ],
   "source": [
    "x_values = pd.Series(range(0, len(orders)))\n",
    "fig = px.scatter(ordersByUsers, x=x_values, y=orders['revenue'])\n",
    "fig.update_layout(title_text=\"Price per order\",\n",
    "                  title_font_size=30, xaxis_title=\"index number of order\", yaxis_title=\"price\",\n",
    ")\n",
    "\n",
    "fig.show()\n"
   ]
  },
  {
   "cell_type": "markdown",
   "metadata": {},
   "source": [
    "A closer look to the values"
   ]
  },
  {
   "cell_type": "code",
   "execution_count": 73,
   "metadata": {},
   "outputs": [
    {
     "data": {
      "application/vnd.plotly.v1+json": {
       "config": {
        "plotlyServerURL": "https://plot.ly"
       },
       "data": [
        {
         "hovertemplate": "x=%{x}<br>y=%{y}<extra></extra>",
         "legendgroup": "",
         "marker": {
          "color": "#636efa",
          "symbol": "circle"
         },
         "mode": "markers",
         "name": "",
         "showlegend": false,
         "type": "scattergl",
         "x": [
          0,
          1,
          2,
          3,
          4,
          5,
          6,
          7,
          8,
          9,
          10,
          11,
          12,
          13,
          14,
          15,
          16,
          17,
          18,
          19,
          20,
          21,
          22,
          23,
          24,
          25,
          26,
          27,
          28,
          29,
          30,
          31,
          32,
          33,
          34,
          35,
          36,
          37,
          38,
          39,
          40,
          41,
          42,
          43,
          44,
          45,
          46,
          47,
          48,
          49,
          50,
          51,
          52,
          53,
          54,
          55,
          56,
          57,
          58,
          59,
          60,
          61,
          62,
          63,
          64,
          65,
          66,
          67,
          68,
          69,
          70,
          71,
          72,
          73,
          74,
          75,
          76,
          77,
          78,
          79,
          80,
          81,
          82,
          83,
          84,
          85,
          86,
          87,
          88,
          89,
          90,
          91,
          92,
          93,
          94,
          95,
          96,
          97,
          98,
          99,
          100,
          101,
          102,
          103,
          104,
          105,
          106,
          107,
          108,
          109,
          110,
          111,
          112,
          113,
          114,
          115,
          116,
          117,
          118,
          119,
          120,
          121,
          122,
          123,
          124,
          125,
          126,
          127,
          128,
          129,
          130,
          131,
          132,
          133,
          134,
          135,
          136,
          137,
          138,
          139,
          140,
          141,
          142,
          143,
          144,
          145,
          146,
          147,
          148,
          149,
          150,
          151,
          152,
          153,
          154,
          155,
          156,
          157,
          158,
          159,
          160,
          161,
          162,
          163,
          164,
          165,
          166,
          167,
          168,
          169,
          170,
          171,
          172,
          173,
          174,
          175,
          176,
          177,
          178,
          179,
          180,
          181,
          182,
          183,
          184,
          185,
          186,
          187,
          188,
          189,
          190,
          191,
          192,
          193,
          194,
          195,
          196,
          197,
          198,
          199,
          200,
          201,
          202,
          203,
          204,
          205,
          206,
          207,
          208,
          209,
          210,
          211,
          212,
          213,
          214,
          215,
          216,
          217,
          218,
          219,
          220,
          221,
          222,
          223,
          224,
          225,
          226,
          227,
          228,
          229,
          230,
          231,
          232,
          233,
          234,
          235,
          236,
          237,
          238,
          239,
          240,
          241,
          242,
          243,
          244,
          245,
          246,
          247,
          248,
          249,
          250,
          251,
          252,
          253,
          254,
          255,
          256,
          257,
          258,
          259,
          260,
          261,
          262,
          263,
          264,
          265,
          266,
          267,
          268,
          269,
          270,
          271,
          272,
          273,
          274,
          275,
          276,
          277,
          278,
          279,
          280,
          281,
          282,
          283,
          284,
          285,
          286,
          287,
          288,
          289,
          290,
          291,
          292,
          293,
          294,
          295,
          296,
          297,
          298,
          299,
          300,
          301,
          302,
          303,
          304,
          305,
          306,
          307,
          308,
          309,
          310,
          311,
          312,
          313,
          314,
          315,
          316,
          317,
          318,
          319,
          320,
          321,
          322,
          323,
          324,
          325,
          326,
          327,
          328,
          329,
          330,
          331,
          332,
          333,
          334,
          335,
          336,
          337,
          338,
          339,
          340,
          341,
          342,
          343,
          344,
          345,
          346,
          347,
          348,
          349,
          350,
          351,
          352,
          353,
          354,
          355,
          356,
          357,
          358,
          359,
          360,
          361,
          362,
          363,
          364,
          365,
          366,
          367,
          368,
          369,
          370,
          371,
          372,
          373,
          374,
          375,
          376,
          377,
          378,
          379,
          380,
          381,
          382,
          383,
          384,
          385,
          386,
          387,
          388,
          389,
          390,
          391,
          392,
          393,
          394,
          395,
          396,
          397,
          398,
          399,
          400,
          401,
          402,
          403,
          404,
          405,
          406,
          407,
          408,
          409,
          410,
          411,
          412,
          413,
          414,
          415,
          416,
          417,
          418,
          419,
          420,
          421,
          422,
          423,
          424,
          425,
          426,
          427,
          428,
          429,
          430,
          431,
          432,
          433,
          434,
          435,
          436,
          437,
          438,
          439,
          440,
          441,
          442,
          443,
          444,
          445,
          446,
          447,
          448,
          449,
          450,
          451,
          452,
          453,
          454,
          455,
          456,
          457,
          458,
          459,
          460,
          461,
          462,
          463,
          464,
          465,
          466,
          467,
          468,
          469,
          470,
          471,
          472,
          473,
          474,
          475,
          476,
          477,
          478,
          479,
          480,
          481,
          482,
          483,
          484,
          485,
          486,
          487,
          488,
          489,
          490,
          491,
          492,
          493,
          494,
          495,
          496,
          497,
          498,
          499,
          500,
          501,
          502,
          503,
          504,
          505,
          506,
          507,
          508,
          509,
          510,
          511,
          512,
          513,
          514,
          515,
          516,
          517,
          518,
          519,
          520,
          521,
          522,
          523,
          524,
          525,
          526,
          527,
          528,
          529,
          530,
          531,
          532,
          533,
          534,
          535,
          536,
          537,
          538,
          539,
          540,
          541,
          542,
          543,
          544,
          545,
          546,
          547,
          548,
          549,
          550,
          551,
          552,
          553,
          554,
          555,
          556,
          557,
          558,
          559,
          560,
          561,
          562,
          563,
          564,
          565,
          566,
          567,
          568,
          569,
          570,
          571,
          572,
          573,
          574,
          575,
          576,
          577,
          578,
          579,
          580,
          581,
          582,
          583,
          584,
          585,
          586,
          587,
          588,
          589,
          590,
          591,
          592,
          593,
          594,
          595,
          596,
          597,
          598,
          599,
          600,
          601,
          602,
          603,
          604,
          605,
          606,
          607,
          608,
          609,
          610,
          611,
          612,
          613,
          614,
          615,
          616,
          617,
          618,
          619,
          620,
          621,
          622,
          623,
          624,
          625,
          626,
          627,
          628,
          629,
          630,
          631,
          632,
          633,
          634,
          635,
          636,
          637,
          638,
          639,
          640,
          641,
          642,
          643,
          644,
          645,
          646,
          647,
          648,
          649,
          650,
          651,
          652,
          653,
          654,
          655,
          656,
          657,
          658,
          659,
          660,
          661,
          662,
          663,
          664,
          665,
          666,
          667,
          668,
          669,
          670,
          671,
          672,
          673,
          674,
          675,
          676,
          677,
          678,
          679,
          680,
          681,
          682,
          683,
          684,
          685,
          686,
          687,
          688,
          689,
          690,
          691,
          692,
          693,
          694,
          695,
          696,
          697,
          698,
          699,
          700,
          701,
          702,
          703,
          704,
          705,
          706,
          707,
          708,
          709,
          710,
          711,
          712,
          713,
          714,
          715,
          716,
          717,
          718,
          719,
          720,
          721,
          722,
          723,
          724,
          725,
          726,
          727,
          728,
          729,
          730,
          731,
          732,
          733,
          734,
          735,
          736,
          737,
          738,
          739,
          740,
          741,
          742,
          743,
          744,
          745,
          746,
          747,
          748,
          749,
          750,
          751,
          752,
          753,
          754,
          755,
          756,
          757,
          758,
          759,
          760,
          761,
          762,
          763,
          764,
          765,
          766,
          767,
          768,
          769,
          770,
          771,
          772,
          773,
          774,
          775,
          776,
          777,
          778,
          779,
          780,
          781,
          782,
          783,
          784,
          785,
          786,
          787,
          788,
          789,
          790,
          791,
          792,
          793,
          794,
          795,
          796,
          797,
          798,
          799,
          800,
          801,
          802,
          803,
          804,
          805,
          806,
          807,
          808,
          809,
          810,
          811,
          812,
          813,
          814,
          815,
          816,
          817,
          818,
          819,
          820,
          821,
          822,
          823,
          824,
          825,
          826,
          827,
          828,
          829,
          830,
          831,
          832,
          833,
          834,
          835,
          836,
          837,
          838,
          839,
          840,
          841,
          842,
          843,
          844,
          845,
          846,
          847,
          848,
          849,
          850,
          851,
          852,
          853,
          854,
          855,
          856,
          857,
          858,
          859,
          860,
          861,
          862,
          863,
          864,
          865,
          866,
          867,
          868,
          869,
          870,
          871,
          872,
          873,
          874,
          875,
          876,
          877,
          878,
          879,
          880,
          881,
          882,
          883,
          884,
          885,
          886,
          887,
          888,
          889,
          890,
          891,
          892,
          893,
          894,
          895,
          896,
          897,
          898,
          899,
          900,
          901,
          902,
          903,
          904,
          905,
          906,
          907,
          908,
          909,
          910,
          911,
          912,
          913,
          914,
          915,
          916,
          917,
          918,
          919,
          920,
          921,
          922,
          923,
          924,
          925,
          926,
          927,
          928,
          929,
          930,
          931,
          932,
          933,
          934,
          935,
          936,
          937,
          938,
          939,
          940,
          941,
          942,
          943,
          944,
          945,
          946,
          947,
          948,
          949,
          950,
          951,
          952,
          953,
          954,
          955,
          956,
          957,
          958,
          959,
          960,
          961,
          962,
          963,
          964,
          965,
          966,
          967,
          968,
          969,
          970,
          971,
          972,
          973,
          974,
          975,
          976,
          977,
          978,
          979,
          980,
          981,
          982,
          983,
          984,
          985,
          986,
          987,
          988,
          989,
          990,
          991,
          992,
          993,
          994,
          995,
          996,
          997,
          998,
          999,
          1000,
          1001,
          1002,
          1003,
          1004,
          1005,
          1006,
          1007,
          1008,
          1009,
          1010,
          1011,
          1012,
          1013,
          1014,
          1015
         ],
         "xaxis": "x",
         "y": [
          30.399999618530273,
          15.199999809265137,
          155.10000610351562,
          40.5,
          35,
          30.600000381469727,
          20.100000381469727,
          215.89999389648438,
          30.5,
          65.69999694824219,
          70.19999694824219,
          115.4000015258789,
          185.39999389648438,
          170.89999389648438,
          235,
          20.299999237060547,
          20.200000762939453,
          255.6999969482422,
          20.299999237060547,
          20.200000762939453,
          10.699999809265137,
          5.599999904632568,
          85.19999694824219,
          5.900000095367432,
          10.899999618530273,
          355.5,
          40.20000076293945,
          40,
          100.19999694824219,
          300.29998779296875,
          10.399999618530273,
          50.900001525878906,
          145.89999389648438,
          40.20000076293945,
          50.20000076293945,
          35.900001525878906,
          60.20000076293945,
          110.5,
          20.200000762939453,
          55.70000076293945,
          50.70000076293945,
          280.5,
          10.199999809265137,
          10.199999809265137,
          5.5,
          45.29999923706055,
          10.800000190734863,
          50.79999923706055,
          25.200000762939453,
          125.9000015258789,
          10.199999809265137,
          25.799999237060547,
          40.099998474121094,
          30.299999237060547,
          40.20000076293945,
          40.099998474121094,
          225.8000030517578,
          300.29998779296875,
          140.39999389648438,
          15.800000190734863,
          455.79998779296875,
          15,
          15.699999809265137,
          70.69999694824219,
          500.70001220703125,
          630.7999877929688,
          40.29999923706055,
          35,
          85.0999984741211,
          80.5,
          65.80000305175781,
          15.600000381469727,
          20.799999237060547,
          10.899999618530273,
          5.900000095367432,
          35.5,
          25.899999618530273,
          275.8999938964844,
          30.799999237060547,
          410.5,
          140.8000030517578,
          90.5,
          110.69999694824219,
          5.599999904632568,
          50.79999923706055,
          40.20000076293945,
          50.099998474121094,
          40.20000076293945,
          275.79998779296875,
          15.100000381469727,
          85.5,
          130.10000610351562,
          95.30000305175781,
          80.19999694824219,
          110.5,
          30.100000381469727,
          5.599999904632568,
          100.80000305175781,
          70.9000015258789,
          70.9000015258789,
          20.5,
          190.8000030517578,
          25.299999237060547,
          70.9000015258789,
          125.9000015258789,
          80.4000015258789,
          145.60000610351562,
          100.0999984741211,
          95.5,
          830.2999877929688,
          110.5,
          120.30000305175781,
          10.600000381469727,
          440.29998779296875,
          10,
          20.299999237060547,
          5.599999904632568,
          25.899999618530273,
          100.4000015258789,
          45.29999923706055,
          140.39999389648438,
          50,
          20.200000762939453,
          5.599999904632568,
          150.39999389648438,
          45.900001525878906,
          10.600000381469727,
          155.5,
          30.5,
          80.5,
          60.79999923706055,
          125.5,
          10.199999809265137,
          185.5,
          295.79998779296875,
          100.80000305175781,
          35.599998474121094,
          10,
          25.200000762939453,
          110.5,
          10.699999809265137,
          20,
          30.399999618530273,
          30.799999237060547,
          55.79999923706055,
          55.400001525878906,
          85.30000305175781,
          590.0999755859375,
          45.099998474121094,
          50.79999923706055,
          20.299999237060547,
          45.29999923706055,
          50.400001525878906,
          35.20000076293945,
          55.400001525878906,
          15,
          90.30000305175781,
          75.5,
          30.299999237060547,
          55.70000076293945,
          280.79998779296875,
          110.80000305175781,
          30,
          15.699999809265137,
          85.5999984741211,
          175,
          5.5,
          45.70000076293945,
          30,
          35.70000076293945,
          30.700000762939453,
          25,
          155.5,
          105.0999984741211,
          10.699999809265137,
          45.599998474121094,
          75.5999984741211,
          475.5,
          90.80000305175781,
          5.5,
          40.20000076293945,
          45.400001525878906,
          45.29999923706055,
          270,
          220.8000030517578,
          65.4000015258789,
          30.799999237060547,
          35,
          40.20000076293945,
          20.5,
          25.200000762939453,
          40.29999923706055,
          25.200000762939453,
          145.1999969482422,
          50.5,
          245.8000030517578,
          240.1999969482422,
          45.70000076293945,
          100.4000015258789,
          40.70000076293945,
          10.199999809265137,
          15.199999809265137,
          95.5999984741211,
          50.20000076293945,
          165.89999389648438,
          5.699999809265137,
          40.20000076293945,
          200.10000610351562,
          155,
          15.199999809265137,
          20.299999237060547,
          240.1999969482422,
          15.600000381469727,
          40,
          50.099998474121094,
          10.699999809265137,
          220.60000610351562,
          30.5,
          10.800000190734863,
          40.20000076293945,
          130.8000030517578,
          5.300000190734863,
          5.599999904632568,
          225.5,
          165.8000030517578,
          5.5,
          40.20000076293945,
          30.200000762939453,
          525.5999755859375,
          20.899999618530273,
          30.799999237060547,
          40.20000076293945,
          75,
          200.10000610351562,
          55.599998474121094,
          20.399999618530273,
          35.599998474121094,
          20.899999618530273,
          20.200000762939453,
          110,
          300.29998779296875,
          830.2999877929688,
          35.599998474121094,
          35,
          10.600000381469727,
          70.0999984741211,
          195.3000030517578,
          10.5,
          370.3999938964844,
          100.69999694824219,
          10.5,
          340.1000061035156,
          50.400001525878906,
          30.100000381469727,
          40,
          90.5,
          120.19999694824219,
          10,
          20.299999237060547,
          35.599998474121094,
          5.199999809265137,
          30.200000762939453,
          45.400001525878906,
          65.5,
          20.200000762939453,
          10.5,
          15.800000190734863,
          40.79999923706055,
          40.29999923706055,
          40.900001525878906,
          185.39999389648438,
          25.100000381469727,
          25.5,
          20.799999237060547,
          5.800000190734863,
          35.599998474121094,
          100.30000305175781,
          15,
          140.1999969482422,
          25.700000762939453,
          5.599999904632568,
          30,
          15.199999809265137,
          20.799999237060547,
          20.200000762939453,
          125.0999984741211,
          10.399999618530273,
          235.89999389648438,
          640.7000122070312,
          35.599998474121094,
          15.699999809265137,
          15.600000381469727,
          95.30000305175781,
          25.5,
          20.799999237060547,
          25.399999618530273,
          70.19999694824219,
          10.5,
          45.400001525878906,
          95.30000305175781,
          10.199999809265137,
          40.70000076293945,
          30.600000381469727,
          80.4000015258789,
          105.5999984741211,
          80.9000015258789,
          235.3000030517578,
          140.6999969482422,
          140.1999969482422,
          260,
          35.70000076293945,
          40.5,
          25.5,
          10.800000190734863,
          260,
          65.4000015258789,
          310.1000061035156,
          195.8000030517578,
          80.5999984741211,
          10,
          10.5,
          260.6000061035156,
          75.5,
          55.099998474121094,
          85.30000305175781,
          255.39999389648438,
          5.800000190734863,
          40.099998474121094,
          25.899999618530273,
          80.5999984741211,
          25.5,
          325.8999938964844,
          25.299999237060547,
          90.19999694824219,
          65.69999694824219,
          45.599998474121094,
          20.299999237060547,
          195.10000610351562,
          15.5,
          155.6999969482422,
          15.600000381469727,
          60.79999923706055,
          155.6999969482422,
          90.5,
          300,
          10.100000381469727,
          5.099999904632568,
          15.399999618530273,
          155.6999969482422,
          220.1999969482422,
          10.800000190734863,
          15,
          385.70001220703125,
          20.200000762939453,
          70.19999694824219,
          5.199999809265137,
          10.199999809265137,
          10.800000190734863,
          15.5,
          30,
          580.7000122070312,
          490.3999938964844,
          150,
          175.10000610351562,
          10.199999809265137,
          19920.400390625,
          45.5,
          25.5,
          80.80000305175781,
          20.899999618530273,
          275.5,
          90.80000305175781,
          25.200000762939453,
          170,
          35.79999923706055,
          35.70000076293945,
          5.599999904632568,
          35.79999923706055,
          50.5,
          10.5,
          115.30000305175781,
          285.1000061035156,
          10,
          105.69999694824219,
          45.5,
          50.70000076293945,
          100.0999984741211,
          10.5,
          85.0999984741211,
          50.599998474121094,
          20.799999237060547,
          5.800000190734863,
          50.099998474121094,
          410.5,
          145,
          255.5,
          30.5,
          155.8000030517578,
          45.70000076293945,
          10.199999809265137,
          25.899999618530273,
          140.3000030517578,
          140.10000610351562,
          40.29999923706055,
          35.599998474121094,
          20.399999618530273,
          10.399999618530273,
          5.599999904632568,
          300.6000061035156,
          215.8000030517578,
          475.5,
          30.5,
          100.30000305175781,
          10,
          20.399999618530273,
          25.899999618530273,
          30.399999618530273,
          175.3000030517578,
          310.20001220703125,
          45.900001525878906,
          140.6999969482422,
          135.10000610351562,
          35.5,
          160.8000030517578,
          40.29999923706055,
          150.39999389648438,
          20.799999237060547,
          10.5,
          5.900000095367432,
          20.200000762939453,
          40.79999923706055,
          40.20000076293945,
          130.89999389648438,
          10.899999618530273,
          85.30000305175781,
          50.29999923706055,
          30.399999618530273,
          270.3999938964844,
          75.5,
          110.5999984741211,
          90.5,
          30,
          50.29999923706055,
          10,
          15.399999618530273,
          165.60000610351562,
          55.20000076293945,
          80.0999984741211,
          105.4000015258789,
          10.699999809265137,
          515.9000244140625,
          15.5,
          55.20000076293945,
          680.7999877929688,
          210,
          155.8000030517578,
          15.699999809265137,
          70.19999694824219,
          10,
          80.0999984741211,
          100.19999694824219,
          20.799999237060547,
          40.20000076293945,
          165.3000030517578,
          100.69999694824219,
          185.1999969482422,
          280.79998779296875,
          65.80000305175781,
          390.79998779296875,
          550.9000244140625,
          150,
          425.8999938964844,
          25.200000762939453,
          30.5,
          15.699999809265137,
          70.19999694824219,
          80.80000305175781,
          60.20000076293945,
          80.80000305175781,
          15.699999809265137,
          25.5,
          510.5,
          550.9000244140625,
          20.200000762939453,
          40.20000076293945,
          90.0999984741211,
          25.899999618530273,
          425.6000061035156,
          30.100000381469727,
          485.29998779296875,
          10.5,
          35.599998474121094,
          25.899999618530273,
          5.599999904632568,
          85.80000305175781,
          105.30000305175781,
          55.79999923706055,
          300.29998779296875,
          90.0999984741211,
          30,
          10.300000190734863,
          5.800000190734863,
          65.69999694824219,
          55.70000076293945,
          20.799999237060547,
          90.30000305175781,
          55.599998474121094,
          5.699999809265137,
          35.400001525878906,
          165.3000030517578,
          75.19999694824219,
          200.3000030517578,
          125,
          50.5,
          45.70000076293945,
          10.600000381469727,
          15.399999618530273,
          5.099999904632568,
          75.69999694824219,
          220.1999969482422,
          30.5,
          195.10000610351562,
          45.5,
          30.799999237060547,
          830.2999877929688,
          185.5,
          30.5,
          35.599998474121094,
          110.5,
          20.299999237060547,
          280.79998779296875,
          20.799999237060547,
          410.5,
          300.6000061035156,
          45.099998474121094,
          55.20000076293945,
          30.100000381469727,
          10.199999809265137,
          200.8000030517578,
          400.29998779296875,
          295.20001220703125,
          60.900001525878906,
          265.79998779296875,
          280.1000061035156,
          160.6999969482422,
          80.80000305175781,
          265,
          50.79999923706055,
          80.80000305175781,
          240.1999969482422,
          5.699999809265137,
          155.8000030517578,
          215.1999969482422,
          25.5,
          140.60000610351562,
          75.0999984741211,
          150,
          675.2000122070312,
          300.29998779296875,
          30.399999618530273,
          5.400000095367432,
          65.5,
          25.5,
          535.5,
          170.60000610351562,
          10,
          110.0999984741211,
          280.79998779296875,
          75.30000305175781,
          35.20000076293945,
          45.400001525878906,
          40.79999923706055,
          75,
          170.89999389648438,
          20.200000762939453,
          10.5,
          45.5,
          265.3999938964844,
          10.5,
          15.100000381469727,
          160.3000030517578,
          30,
          35.5,
          30.799999237060547,
          280.79998779296875,
          10.300000190734863,
          660.5,
          80.19999694824219,
          10.300000190734863,
          280.79998779296875,
          60.599998474121094,
          145.89999389648438,
          90.9000015258789,
          40.79999923706055,
          15.699999809265137,
          35.79999923706055,
          20.299999237060547,
          40.29999923706055,
          305.29998779296875,
          180.8000030517578,
          60.20000076293945,
          65.30000305175781,
          25.5,
          710.7999877929688,
          165.3000030517578,
          50.900001525878906,
          40.79999923706055,
          10.199999809265137,
          5.5,
          275.70001220703125,
          60.20000076293945,
          380.1000061035156,
          15.600000381469727,
          10,
          30.799999237060547,
          110.5,
          440.20001220703125,
          50.5,
          25.899999618530273,
          50.099998474121094,
          455.79998779296875,
          40.79999923706055,
          80.80000305175781,
          155.5,
          55.29999923706055,
          225.89999389648438,
          50.5,
          20.700000762939453,
          10.899999618530273,
          55.599998474121094,
          225.89999389648438,
          1050,
          1335.5999755859375,
          80.4000015258789,
          765.5,
          15.699999809265137,
          15.600000381469727,
          300.29998779296875,
          50.79999923706055,
          575.5,
          10,
          305.5,
          40.70000076293945,
          705.2999877929688,
          5.800000190734863,
          385.5,
          30.700000762939453,
          20,
          20.799999237060547,
          20.200000762939453,
          90.5,
          150.10000610351562,
          20.700000762939453,
          20.200000762939453,
          85.5,
          40.20000076293945,
          10.100000381469727,
          30.799999237060547,
          25.5,
          30.200000762939453,
          145,
          40.20000076293945,
          10,
          15.899999618530273,
          195.1999969482422,
          55.5,
          15.100000381469727,
          125.4000015258789,
          80.80000305175781,
          60.5,
          50.099998474121094,
          15.800000190734863,
          60.79999923706055,
          35.70000076293945,
          10.399999618530273,
          215.8000030517578,
          20.200000762939453,
          315.20001220703125,
          25.5,
          40.70000076293945,
          20.299999237060547,
          85,
          90,
          40.5,
          30.200000762939453,
          15.699999809265137,
          10,
          80.4000015258789,
          65.80000305175781,
          15.699999809265137,
          20.200000762939453,
          25.5,
          125.5999984741211,
          25.700000762939453,
          15.600000381469727,
          100,
          5.800000190734863,
          125.9000015258789,
          5.300000190734863,
          75.80000305175781,
          5.900000095367432,
          280.79998779296875,
          40.20000076293945,
          310.5,
          5.699999809265137,
          20.799999237060547,
          110.5,
          45.400001525878906,
          20.200000762939453,
          5.900000095367432,
          10.100000381469727,
          150.39999389648438,
          240.1999969482422,
          55.5,
          90.80000305175781,
          25.700000762939453,
          150.39999389648438,
          160.5,
          20.200000762939453,
          20.200000762939453,
          35.599998474121094,
          20.299999237060547,
          225.89999389648438,
          40.20000076293945,
          45.099998474121094,
          10.100000381469727,
          75.5,
          35.79999923706055,
          15.699999809265137,
          285.1000061035156,
          15.800000190734863,
          50.70000076293945,
          140.6999969482422,
          110.4000015258789,
          15.199999809265137,
          195.5,
          80.69999694824219,
          55.599998474121094,
          555.2000122070312,
          70.0999984741211,
          100.19999694824219,
          280.79998779296875,
          20.399999618530273,
          15.699999809265137,
          25.5,
          60.5,
          55.79999923706055,
          25.399999618530273,
          5.400000095367432,
          220.1999969482422,
          25.600000381469727,
          50.099998474121094,
          25.799999237060547,
          85.19999694824219,
          385.70001220703125,
          30.600000381469727,
          50,
          10.899999618530273,
          475.5,
          60.5,
          180,
          65.4000015258789,
          10.199999809265137,
          210.39999389648438,
          25.899999618530273,
          325.8999938964844,
          270.20001220703125,
          35.5,
          5.5,
          35.20000076293945,
          10.5,
          10.800000190734863,
          40.79999923706055,
          300.20001220703125,
          5.199999809265137,
          100.80000305175781,
          40.20000076293945,
          30,
          65.4000015258789,
          25.399999618530273,
          20.200000762939453,
          400.79998779296875,
          15.600000381469727,
          205.10000610351562,
          90.0999984741211,
          10.399999618530273,
          35.599998474121094,
          75.19999694824219,
          15.199999809265137,
          540.2999877929688,
          55.79999923706055,
          15.399999618530273,
          510.5,
          10.800000190734863,
          300.79998779296875,
          10.5,
          15.100000381469727,
          5.900000095367432,
          25.5,
          115.69999694824219,
          20.799999237060547,
          65.19999694824219,
          905.7999877929688,
          15.300000190734863,
          115.4000015258789,
          285.29998779296875,
          285,
          240.1999969482422,
          55.20000076293945,
          105.5,
          70.9000015258789,
          930,
          375.6000061035156,
          20.799999237060547,
          35.79999923706055,
          140.1999969482422,
          20.799999237060547,
          40.099998474121094,
          20.299999237060547,
          80.5,
          55.20000076293945,
          30.5,
          445.29998779296875,
          175.10000610351562,
          300.29998779296875,
          30.5,
          30.600000381469727,
          95.80000305175781,
          10,
          40.099998474121094,
          40.20000076293945,
          40.099998474121094,
          10.699999809265137,
          60.599998474121094,
          190.8000030517578,
          45.70000076293945,
          15.899999618530273,
          45.599998474121094,
          235.60000610351562,
          5.900000095367432,
          10.800000190734863,
          130.5,
          30,
          5.5,
          85.5,
          15.600000381469727,
          25.200000762939453,
          25.899999618530273,
          5.900000095367432,
          100.19999694824219,
          5.800000190734863,
          75.0999984741211,
          25.299999237060547,
          25.5,
          45.20000076293945,
          5.5,
          220.1999969482422,
          185.39999389648438,
          30.5,
          65.4000015258789,
          20.200000762939453,
          20.200000762939453,
          5,
          20.5,
          5.5,
          815.7999877929688,
          55.599998474121094,
          55.70000076293945,
          270.3999938964844,
          70.5,
          155.8000030517578,
          10.699999809265137,
          205.10000610351562,
          15.699999809265137,
          45.20000076293945,
          105.69999694824219,
          5.5,
          55.400001525878906,
          290.5,
          10.5,
          20.299999237060547,
          45.900001525878906,
          50.20000076293945,
          25.700000762939453,
          185.5,
          30.200000762939453,
          435.5,
          105.19999694824219,
          290.5,
          30.399999618530273,
          20.200000762939453,
          95.19999694824219,
          30.700000762939453,
          50.099998474121094,
          30.5,
          50.099998474121094,
          60.5,
          15.100000381469727,
          225.89999389648438,
          10.100000381469727,
          55.20000076293945,
          10.399999618530273,
          240.6999969482422,
          20.200000762939453,
          265.3999938964844,
          30.700000762939453,
          140.6999969482422,
          10.5,
          20.299999237060547,
          285.29998779296875,
          30.100000381469727,
          90.5,
          70.19999694824219,
          60.5,
          35.70000076293945,
          120.30000305175781,
          30.399999618530273,
          190.89999389648438,
          50.79999923706055,
          135,
          10.100000381469727,
          10.199999809265137,
          145.10000610351562,
          125.5,
          135.1999969482422,
          95.5,
          20,
          15.800000190734863,
          75.5,
          10.899999618530273,
          610.7000122070312,
          105.30000305175781,
          75.69999694824219,
          10.199999809265137,
          5.599999904632568,
          70.19999694824219,
          220.39999389648438,
          1015.9000244140625,
          15.199999809265137,
          1025.800048828125,
          25.700000762939453,
          105.19999694824219,
          55.099998474121094,
          5.5,
          20.299999237060547,
          180.8000030517578,
          30.100000381469727,
          120.4000015258789,
          5.5,
          65.4000015258789,
          120.19999694824219,
          45.599998474121094,
          15.699999809265137,
          180.89999389648438,
          15.5,
          45.29999923706055,
          25.299999237060547,
          435.70001220703125,
          30.299999237060547,
          105.30000305175781,
          85.9000015258789,
          125.9000015258789,
          55.20000076293945,
          20.200000762939453,
          280,
          385.5,
          65.19999694824219,
          135.1999969482422,
          85.69999694824219,
          40.599998474121094,
          295.70001220703125,
          1425.800048828125,
          810.4000244140625,
          25.200000762939453,
          20.299999237060547,
          40.20000076293945,
          5.599999904632568,
          815.7999877929688,
          15,
          25.899999618530273,
          80.4000015258789,
          65.69999694824219,
          30.5,
          15.699999809265137,
          150.39999389648438,
          25.399999618530273,
          55.20000076293945,
          20.299999237060547,
          50.5,
          50.900001525878906,
          65.4000015258789,
          10.100000381469727,
          10.699999809265137,
          55.400001525878906,
          55.5,
          20.899999618530273,
          145.10000610351562,
          30.700000762939453,
          60.20000076293945,
          25.399999618530273,
          20.799999237060547,
          50.5,
          10.5,
          20.299999237060547,
          100.0999984741211,
          390.5,
          15.199999809265137,
          240.60000610351562,
          15.5,
          5.699999809265137,
          135.3000030517578,
          255.6999969482422,
          100.80000305175781,
          50.099998474121094,
          165.3000030517578,
          3120.10009765625
         ],
         "yaxis": "y"
        }
       ],
       "layout": {
        "legend": {
         "tracegroupgap": 0
        },
        "margin": {
         "t": 60
        },
        "template": {
         "data": {
          "bar": [
           {
            "error_x": {
             "color": "#2a3f5f"
            },
            "error_y": {
             "color": "#2a3f5f"
            },
            "marker": {
             "line": {
              "color": "#E5ECF6",
              "width": 0.5
             }
            },
            "type": "bar"
           }
          ],
          "barpolar": [
           {
            "marker": {
             "line": {
              "color": "#E5ECF6",
              "width": 0.5
             }
            },
            "type": "barpolar"
           }
          ],
          "carpet": [
           {
            "aaxis": {
             "endlinecolor": "#2a3f5f",
             "gridcolor": "white",
             "linecolor": "white",
             "minorgridcolor": "white",
             "startlinecolor": "#2a3f5f"
            },
            "baxis": {
             "endlinecolor": "#2a3f5f",
             "gridcolor": "white",
             "linecolor": "white",
             "minorgridcolor": "white",
             "startlinecolor": "#2a3f5f"
            },
            "type": "carpet"
           }
          ],
          "choropleth": [
           {
            "colorbar": {
             "outlinewidth": 0,
             "ticks": ""
            },
            "type": "choropleth"
           }
          ],
          "contour": [
           {
            "colorbar": {
             "outlinewidth": 0,
             "ticks": ""
            },
            "colorscale": [
             [
              0,
              "#0d0887"
             ],
             [
              0.1111111111111111,
              "#46039f"
             ],
             [
              0.2222222222222222,
              "#7201a8"
             ],
             [
              0.3333333333333333,
              "#9c179e"
             ],
             [
              0.4444444444444444,
              "#bd3786"
             ],
             [
              0.5555555555555556,
              "#d8576b"
             ],
             [
              0.6666666666666666,
              "#ed7953"
             ],
             [
              0.7777777777777778,
              "#fb9f3a"
             ],
             [
              0.8888888888888888,
              "#fdca26"
             ],
             [
              1,
              "#f0f921"
             ]
            ],
            "type": "contour"
           }
          ],
          "contourcarpet": [
           {
            "colorbar": {
             "outlinewidth": 0,
             "ticks": ""
            },
            "type": "contourcarpet"
           }
          ],
          "heatmap": [
           {
            "colorbar": {
             "outlinewidth": 0,
             "ticks": ""
            },
            "colorscale": [
             [
              0,
              "#0d0887"
             ],
             [
              0.1111111111111111,
              "#46039f"
             ],
             [
              0.2222222222222222,
              "#7201a8"
             ],
             [
              0.3333333333333333,
              "#9c179e"
             ],
             [
              0.4444444444444444,
              "#bd3786"
             ],
             [
              0.5555555555555556,
              "#d8576b"
             ],
             [
              0.6666666666666666,
              "#ed7953"
             ],
             [
              0.7777777777777778,
              "#fb9f3a"
             ],
             [
              0.8888888888888888,
              "#fdca26"
             ],
             [
              1,
              "#f0f921"
             ]
            ],
            "type": "heatmap"
           }
          ],
          "heatmapgl": [
           {
            "colorbar": {
             "outlinewidth": 0,
             "ticks": ""
            },
            "colorscale": [
             [
              0,
              "#0d0887"
             ],
             [
              0.1111111111111111,
              "#46039f"
             ],
             [
              0.2222222222222222,
              "#7201a8"
             ],
             [
              0.3333333333333333,
              "#9c179e"
             ],
             [
              0.4444444444444444,
              "#bd3786"
             ],
             [
              0.5555555555555556,
              "#d8576b"
             ],
             [
              0.6666666666666666,
              "#ed7953"
             ],
             [
              0.7777777777777778,
              "#fb9f3a"
             ],
             [
              0.8888888888888888,
              "#fdca26"
             ],
             [
              1,
              "#f0f921"
             ]
            ],
            "type": "heatmapgl"
           }
          ],
          "histogram": [
           {
            "marker": {
             "colorbar": {
              "outlinewidth": 0,
              "ticks": ""
             }
            },
            "type": "histogram"
           }
          ],
          "histogram2d": [
           {
            "colorbar": {
             "outlinewidth": 0,
             "ticks": ""
            },
            "colorscale": [
             [
              0,
              "#0d0887"
             ],
             [
              0.1111111111111111,
              "#46039f"
             ],
             [
              0.2222222222222222,
              "#7201a8"
             ],
             [
              0.3333333333333333,
              "#9c179e"
             ],
             [
              0.4444444444444444,
              "#bd3786"
             ],
             [
              0.5555555555555556,
              "#d8576b"
             ],
             [
              0.6666666666666666,
              "#ed7953"
             ],
             [
              0.7777777777777778,
              "#fb9f3a"
             ],
             [
              0.8888888888888888,
              "#fdca26"
             ],
             [
              1,
              "#f0f921"
             ]
            ],
            "type": "histogram2d"
           }
          ],
          "histogram2dcontour": [
           {
            "colorbar": {
             "outlinewidth": 0,
             "ticks": ""
            },
            "colorscale": [
             [
              0,
              "#0d0887"
             ],
             [
              0.1111111111111111,
              "#46039f"
             ],
             [
              0.2222222222222222,
              "#7201a8"
             ],
             [
              0.3333333333333333,
              "#9c179e"
             ],
             [
              0.4444444444444444,
              "#bd3786"
             ],
             [
              0.5555555555555556,
              "#d8576b"
             ],
             [
              0.6666666666666666,
              "#ed7953"
             ],
             [
              0.7777777777777778,
              "#fb9f3a"
             ],
             [
              0.8888888888888888,
              "#fdca26"
             ],
             [
              1,
              "#f0f921"
             ]
            ],
            "type": "histogram2dcontour"
           }
          ],
          "mesh3d": [
           {
            "colorbar": {
             "outlinewidth": 0,
             "ticks": ""
            },
            "type": "mesh3d"
           }
          ],
          "parcoords": [
           {
            "line": {
             "colorbar": {
              "outlinewidth": 0,
              "ticks": ""
             }
            },
            "type": "parcoords"
           }
          ],
          "pie": [
           {
            "automargin": true,
            "type": "pie"
           }
          ],
          "scatter": [
           {
            "marker": {
             "colorbar": {
              "outlinewidth": 0,
              "ticks": ""
             }
            },
            "type": "scatter"
           }
          ],
          "scatter3d": [
           {
            "line": {
             "colorbar": {
              "outlinewidth": 0,
              "ticks": ""
             }
            },
            "marker": {
             "colorbar": {
              "outlinewidth": 0,
              "ticks": ""
             }
            },
            "type": "scatter3d"
           }
          ],
          "scattercarpet": [
           {
            "marker": {
             "colorbar": {
              "outlinewidth": 0,
              "ticks": ""
             }
            },
            "type": "scattercarpet"
           }
          ],
          "scattergeo": [
           {
            "marker": {
             "colorbar": {
              "outlinewidth": 0,
              "ticks": ""
             }
            },
            "type": "scattergeo"
           }
          ],
          "scattergl": [
           {
            "marker": {
             "colorbar": {
              "outlinewidth": 0,
              "ticks": ""
             }
            },
            "type": "scattergl"
           }
          ],
          "scattermapbox": [
           {
            "marker": {
             "colorbar": {
              "outlinewidth": 0,
              "ticks": ""
             }
            },
            "type": "scattermapbox"
           }
          ],
          "scatterpolar": [
           {
            "marker": {
             "colorbar": {
              "outlinewidth": 0,
              "ticks": ""
             }
            },
            "type": "scatterpolar"
           }
          ],
          "scatterpolargl": [
           {
            "marker": {
             "colorbar": {
              "outlinewidth": 0,
              "ticks": ""
             }
            },
            "type": "scatterpolargl"
           }
          ],
          "scatterternary": [
           {
            "marker": {
             "colorbar": {
              "outlinewidth": 0,
              "ticks": ""
             }
            },
            "type": "scatterternary"
           }
          ],
          "surface": [
           {
            "colorbar": {
             "outlinewidth": 0,
             "ticks": ""
            },
            "colorscale": [
             [
              0,
              "#0d0887"
             ],
             [
              0.1111111111111111,
              "#46039f"
             ],
             [
              0.2222222222222222,
              "#7201a8"
             ],
             [
              0.3333333333333333,
              "#9c179e"
             ],
             [
              0.4444444444444444,
              "#bd3786"
             ],
             [
              0.5555555555555556,
              "#d8576b"
             ],
             [
              0.6666666666666666,
              "#ed7953"
             ],
             [
              0.7777777777777778,
              "#fb9f3a"
             ],
             [
              0.8888888888888888,
              "#fdca26"
             ],
             [
              1,
              "#f0f921"
             ]
            ],
            "type": "surface"
           }
          ],
          "table": [
           {
            "cells": {
             "fill": {
              "color": "#EBF0F8"
             },
             "line": {
              "color": "white"
             }
            },
            "header": {
             "fill": {
              "color": "#C8D4E3"
             },
             "line": {
              "color": "white"
             }
            },
            "type": "table"
           }
          ]
         },
         "layout": {
          "annotationdefaults": {
           "arrowcolor": "#2a3f5f",
           "arrowhead": 0,
           "arrowwidth": 1
          },
          "autotypenumbers": "strict",
          "coloraxis": {
           "colorbar": {
            "outlinewidth": 0,
            "ticks": ""
           }
          },
          "colorscale": {
           "diverging": [
            [
             0,
             "#8e0152"
            ],
            [
             0.1,
             "#c51b7d"
            ],
            [
             0.2,
             "#de77ae"
            ],
            [
             0.3,
             "#f1b6da"
            ],
            [
             0.4,
             "#fde0ef"
            ],
            [
             0.5,
             "#f7f7f7"
            ],
            [
             0.6,
             "#e6f5d0"
            ],
            [
             0.7,
             "#b8e186"
            ],
            [
             0.8,
             "#7fbc41"
            ],
            [
             0.9,
             "#4d9221"
            ],
            [
             1,
             "#276419"
            ]
           ],
           "sequential": [
            [
             0,
             "#0d0887"
            ],
            [
             0.1111111111111111,
             "#46039f"
            ],
            [
             0.2222222222222222,
             "#7201a8"
            ],
            [
             0.3333333333333333,
             "#9c179e"
            ],
            [
             0.4444444444444444,
             "#bd3786"
            ],
            [
             0.5555555555555556,
             "#d8576b"
            ],
            [
             0.6666666666666666,
             "#ed7953"
            ],
            [
             0.7777777777777778,
             "#fb9f3a"
            ],
            [
             0.8888888888888888,
             "#fdca26"
            ],
            [
             1,
             "#f0f921"
            ]
           ],
           "sequentialminus": [
            [
             0,
             "#0d0887"
            ],
            [
             0.1111111111111111,
             "#46039f"
            ],
            [
             0.2222222222222222,
             "#7201a8"
            ],
            [
             0.3333333333333333,
             "#9c179e"
            ],
            [
             0.4444444444444444,
             "#bd3786"
            ],
            [
             0.5555555555555556,
             "#d8576b"
            ],
            [
             0.6666666666666666,
             "#ed7953"
            ],
            [
             0.7777777777777778,
             "#fb9f3a"
            ],
            [
             0.8888888888888888,
             "#fdca26"
            ],
            [
             1,
             "#f0f921"
            ]
           ]
          },
          "colorway": [
           "#636efa",
           "#EF553B",
           "#00cc96",
           "#ab63fa",
           "#FFA15A",
           "#19d3f3",
           "#FF6692",
           "#B6E880",
           "#FF97FF",
           "#FECB52"
          ],
          "font": {
           "color": "#2a3f5f"
          },
          "geo": {
           "bgcolor": "white",
           "lakecolor": "white",
           "landcolor": "#E5ECF6",
           "showlakes": true,
           "showland": true,
           "subunitcolor": "white"
          },
          "hoverlabel": {
           "align": "left"
          },
          "hovermode": "closest",
          "mapbox": {
           "style": "light"
          },
          "paper_bgcolor": "white",
          "plot_bgcolor": "#E5ECF6",
          "polar": {
           "angularaxis": {
            "gridcolor": "white",
            "linecolor": "white",
            "ticks": ""
           },
           "bgcolor": "#E5ECF6",
           "radialaxis": {
            "gridcolor": "white",
            "linecolor": "white",
            "ticks": ""
           }
          },
          "scene": {
           "xaxis": {
            "backgroundcolor": "#E5ECF6",
            "gridcolor": "white",
            "gridwidth": 2,
            "linecolor": "white",
            "showbackground": true,
            "ticks": "",
            "zerolinecolor": "white"
           },
           "yaxis": {
            "backgroundcolor": "#E5ECF6",
            "gridcolor": "white",
            "gridwidth": 2,
            "linecolor": "white",
            "showbackground": true,
            "ticks": "",
            "zerolinecolor": "white"
           },
           "zaxis": {
            "backgroundcolor": "#E5ECF6",
            "gridcolor": "white",
            "gridwidth": 2,
            "linecolor": "white",
            "showbackground": true,
            "ticks": "",
            "zerolinecolor": "white"
           }
          },
          "shapedefaults": {
           "line": {
            "color": "#2a3f5f"
           }
          },
          "ternary": {
           "aaxis": {
            "gridcolor": "white",
            "linecolor": "white",
            "ticks": ""
           },
           "baxis": {
            "gridcolor": "white",
            "linecolor": "white",
            "ticks": ""
           },
           "bgcolor": "#E5ECF6",
           "caxis": {
            "gridcolor": "white",
            "linecolor": "white",
            "ticks": ""
           }
          },
          "title": {
           "x": 0.05
          },
          "xaxis": {
           "automargin": true,
           "gridcolor": "white",
           "linecolor": "white",
           "ticks": "",
           "title": {
            "standoff": 15
           },
           "zerolinecolor": "white",
           "zerolinewidth": 2
          },
          "yaxis": {
           "automargin": true,
           "gridcolor": "white",
           "linecolor": "white",
           "ticks": "",
           "title": {
            "standoff": 15
           },
           "zerolinecolor": "white",
           "zerolinewidth": 2
          }
         }
        },
        "title": {
         "font": {
          "size": 30
         },
         "text": "Price per order"
        },
        "xaxis": {
         "anchor": "y",
         "domain": [
          0,
          1
         ],
         "title": {
          "text": "index number of order"
         }
        },
        "yaxis": {
         "anchor": "x",
         "domain": [
          0,
          1
         ],
         "range": [
          0,
          1500
         ],
         "title": {
          "text": "price"
         }
        }
       }
      },
      "text/html": [
       "<div>                            <div id=\"3769f3b0-df33-4cc1-842b-98e409d0d56b\" class=\"plotly-graph-div\" style=\"height:525px; width:100%;\"></div>            <script type=\"text/javascript\">                require([\"plotly\"], function(Plotly) {                    window.PLOTLYENV=window.PLOTLYENV || {};                                    if (document.getElementById(\"3769f3b0-df33-4cc1-842b-98e409d0d56b\")) {                    Plotly.newPlot(                        \"3769f3b0-df33-4cc1-842b-98e409d0d56b\",                        [{\"hovertemplate\": \"x=%{x}<br>y=%{y}<extra></extra>\", \"legendgroup\": \"\", \"marker\": {\"color\": \"#636efa\", \"symbol\": \"circle\"}, \"mode\": \"markers\", \"name\": \"\", \"showlegend\": false, \"type\": \"scattergl\", \"x\": [0, 1, 2, 3, 4, 5, 6, 7, 8, 9, 10, 11, 12, 13, 14, 15, 16, 17, 18, 19, 20, 21, 22, 23, 24, 25, 26, 27, 28, 29, 30, 31, 32, 33, 34, 35, 36, 37, 38, 39, 40, 41, 42, 43, 44, 45, 46, 47, 48, 49, 50, 51, 52, 53, 54, 55, 56, 57, 58, 59, 60, 61, 62, 63, 64, 65, 66, 67, 68, 69, 70, 71, 72, 73, 74, 75, 76, 77, 78, 79, 80, 81, 82, 83, 84, 85, 86, 87, 88, 89, 90, 91, 92, 93, 94, 95, 96, 97, 98, 99, 100, 101, 102, 103, 104, 105, 106, 107, 108, 109, 110, 111, 112, 113, 114, 115, 116, 117, 118, 119, 120, 121, 122, 123, 124, 125, 126, 127, 128, 129, 130, 131, 132, 133, 134, 135, 136, 137, 138, 139, 140, 141, 142, 143, 144, 145, 146, 147, 148, 149, 150, 151, 152, 153, 154, 155, 156, 157, 158, 159, 160, 161, 162, 163, 164, 165, 166, 167, 168, 169, 170, 171, 172, 173, 174, 175, 176, 177, 178, 179, 180, 181, 182, 183, 184, 185, 186, 187, 188, 189, 190, 191, 192, 193, 194, 195, 196, 197, 198, 199, 200, 201, 202, 203, 204, 205, 206, 207, 208, 209, 210, 211, 212, 213, 214, 215, 216, 217, 218, 219, 220, 221, 222, 223, 224, 225, 226, 227, 228, 229, 230, 231, 232, 233, 234, 235, 236, 237, 238, 239, 240, 241, 242, 243, 244, 245, 246, 247, 248, 249, 250, 251, 252, 253, 254, 255, 256, 257, 258, 259, 260, 261, 262, 263, 264, 265, 266, 267, 268, 269, 270, 271, 272, 273, 274, 275, 276, 277, 278, 279, 280, 281, 282, 283, 284, 285, 286, 287, 288, 289, 290, 291, 292, 293, 294, 295, 296, 297, 298, 299, 300, 301, 302, 303, 304, 305, 306, 307, 308, 309, 310, 311, 312, 313, 314, 315, 316, 317, 318, 319, 320, 321, 322, 323, 324, 325, 326, 327, 328, 329, 330, 331, 332, 333, 334, 335, 336, 337, 338, 339, 340, 341, 342, 343, 344, 345, 346, 347, 348, 349, 350, 351, 352, 353, 354, 355, 356, 357, 358, 359, 360, 361, 362, 363, 364, 365, 366, 367, 368, 369, 370, 371, 372, 373, 374, 375, 376, 377, 378, 379, 380, 381, 382, 383, 384, 385, 386, 387, 388, 389, 390, 391, 392, 393, 394, 395, 396, 397, 398, 399, 400, 401, 402, 403, 404, 405, 406, 407, 408, 409, 410, 411, 412, 413, 414, 415, 416, 417, 418, 419, 420, 421, 422, 423, 424, 425, 426, 427, 428, 429, 430, 431, 432, 433, 434, 435, 436, 437, 438, 439, 440, 441, 442, 443, 444, 445, 446, 447, 448, 449, 450, 451, 452, 453, 454, 455, 456, 457, 458, 459, 460, 461, 462, 463, 464, 465, 466, 467, 468, 469, 470, 471, 472, 473, 474, 475, 476, 477, 478, 479, 480, 481, 482, 483, 484, 485, 486, 487, 488, 489, 490, 491, 492, 493, 494, 495, 496, 497, 498, 499, 500, 501, 502, 503, 504, 505, 506, 507, 508, 509, 510, 511, 512, 513, 514, 515, 516, 517, 518, 519, 520, 521, 522, 523, 524, 525, 526, 527, 528, 529, 530, 531, 532, 533, 534, 535, 536, 537, 538, 539, 540, 541, 542, 543, 544, 545, 546, 547, 548, 549, 550, 551, 552, 553, 554, 555, 556, 557, 558, 559, 560, 561, 562, 563, 564, 565, 566, 567, 568, 569, 570, 571, 572, 573, 574, 575, 576, 577, 578, 579, 580, 581, 582, 583, 584, 585, 586, 587, 588, 589, 590, 591, 592, 593, 594, 595, 596, 597, 598, 599, 600, 601, 602, 603, 604, 605, 606, 607, 608, 609, 610, 611, 612, 613, 614, 615, 616, 617, 618, 619, 620, 621, 622, 623, 624, 625, 626, 627, 628, 629, 630, 631, 632, 633, 634, 635, 636, 637, 638, 639, 640, 641, 642, 643, 644, 645, 646, 647, 648, 649, 650, 651, 652, 653, 654, 655, 656, 657, 658, 659, 660, 661, 662, 663, 664, 665, 666, 667, 668, 669, 670, 671, 672, 673, 674, 675, 676, 677, 678, 679, 680, 681, 682, 683, 684, 685, 686, 687, 688, 689, 690, 691, 692, 693, 694, 695, 696, 697, 698, 699, 700, 701, 702, 703, 704, 705, 706, 707, 708, 709, 710, 711, 712, 713, 714, 715, 716, 717, 718, 719, 720, 721, 722, 723, 724, 725, 726, 727, 728, 729, 730, 731, 732, 733, 734, 735, 736, 737, 738, 739, 740, 741, 742, 743, 744, 745, 746, 747, 748, 749, 750, 751, 752, 753, 754, 755, 756, 757, 758, 759, 760, 761, 762, 763, 764, 765, 766, 767, 768, 769, 770, 771, 772, 773, 774, 775, 776, 777, 778, 779, 780, 781, 782, 783, 784, 785, 786, 787, 788, 789, 790, 791, 792, 793, 794, 795, 796, 797, 798, 799, 800, 801, 802, 803, 804, 805, 806, 807, 808, 809, 810, 811, 812, 813, 814, 815, 816, 817, 818, 819, 820, 821, 822, 823, 824, 825, 826, 827, 828, 829, 830, 831, 832, 833, 834, 835, 836, 837, 838, 839, 840, 841, 842, 843, 844, 845, 846, 847, 848, 849, 850, 851, 852, 853, 854, 855, 856, 857, 858, 859, 860, 861, 862, 863, 864, 865, 866, 867, 868, 869, 870, 871, 872, 873, 874, 875, 876, 877, 878, 879, 880, 881, 882, 883, 884, 885, 886, 887, 888, 889, 890, 891, 892, 893, 894, 895, 896, 897, 898, 899, 900, 901, 902, 903, 904, 905, 906, 907, 908, 909, 910, 911, 912, 913, 914, 915, 916, 917, 918, 919, 920, 921, 922, 923, 924, 925, 926, 927, 928, 929, 930, 931, 932, 933, 934, 935, 936, 937, 938, 939, 940, 941, 942, 943, 944, 945, 946, 947, 948, 949, 950, 951, 952, 953, 954, 955, 956, 957, 958, 959, 960, 961, 962, 963, 964, 965, 966, 967, 968, 969, 970, 971, 972, 973, 974, 975, 976, 977, 978, 979, 980, 981, 982, 983, 984, 985, 986, 987, 988, 989, 990, 991, 992, 993, 994, 995, 996, 997, 998, 999, 1000, 1001, 1002, 1003, 1004, 1005, 1006, 1007, 1008, 1009, 1010, 1011, 1012, 1013, 1014, 1015], \"xaxis\": \"x\", \"y\": [30.399999618530273, 15.199999809265137, 155.10000610351562, 40.5, 35.0, 30.600000381469727, 20.100000381469727, 215.89999389648438, 30.5, 65.69999694824219, 70.19999694824219, 115.4000015258789, 185.39999389648438, 170.89999389648438, 235.0, 20.299999237060547, 20.200000762939453, 255.6999969482422, 20.299999237060547, 20.200000762939453, 10.699999809265137, 5.599999904632568, 85.19999694824219, 5.900000095367432, 10.899999618530273, 355.5, 40.20000076293945, 40.0, 100.19999694824219, 300.29998779296875, 10.399999618530273, 50.900001525878906, 145.89999389648438, 40.20000076293945, 50.20000076293945, 35.900001525878906, 60.20000076293945, 110.5, 20.200000762939453, 55.70000076293945, 50.70000076293945, 280.5, 10.199999809265137, 10.199999809265137, 5.5, 45.29999923706055, 10.800000190734863, 50.79999923706055, 25.200000762939453, 125.9000015258789, 10.199999809265137, 25.799999237060547, 40.099998474121094, 30.299999237060547, 40.20000076293945, 40.099998474121094, 225.8000030517578, 300.29998779296875, 140.39999389648438, 15.800000190734863, 455.79998779296875, 15.0, 15.699999809265137, 70.69999694824219, 500.70001220703125, 630.7999877929688, 40.29999923706055, 35.0, 85.0999984741211, 80.5, 65.80000305175781, 15.600000381469727, 20.799999237060547, 10.899999618530273, 5.900000095367432, 35.5, 25.899999618530273, 275.8999938964844, 30.799999237060547, 410.5, 140.8000030517578, 90.5, 110.69999694824219, 5.599999904632568, 50.79999923706055, 40.20000076293945, 50.099998474121094, 40.20000076293945, 275.79998779296875, 15.100000381469727, 85.5, 130.10000610351562, 95.30000305175781, 80.19999694824219, 110.5, 30.100000381469727, 5.599999904632568, 100.80000305175781, 70.9000015258789, 70.9000015258789, 20.5, 190.8000030517578, 25.299999237060547, 70.9000015258789, 125.9000015258789, 80.4000015258789, 145.60000610351562, 100.0999984741211, 95.5, 830.2999877929688, 110.5, 120.30000305175781, 10.600000381469727, 440.29998779296875, 10.0, 20.299999237060547, 5.599999904632568, 25.899999618530273, 100.4000015258789, 45.29999923706055, 140.39999389648438, 50.0, 20.200000762939453, 5.599999904632568, 150.39999389648438, 45.900001525878906, 10.600000381469727, 155.5, 30.5, 80.5, 60.79999923706055, 125.5, 10.199999809265137, 185.5, 295.79998779296875, 100.80000305175781, 35.599998474121094, 10.0, 25.200000762939453, 110.5, 10.699999809265137, 20.0, 30.399999618530273, 30.799999237060547, 55.79999923706055, 55.400001525878906, 85.30000305175781, 590.0999755859375, 45.099998474121094, 50.79999923706055, 20.299999237060547, 45.29999923706055, 50.400001525878906, 35.20000076293945, 55.400001525878906, 15.0, 90.30000305175781, 75.5, 30.299999237060547, 55.70000076293945, 280.79998779296875, 110.80000305175781, 30.0, 15.699999809265137, 85.5999984741211, 175.0, 5.5, 45.70000076293945, 30.0, 35.70000076293945, 30.700000762939453, 25.0, 155.5, 105.0999984741211, 10.699999809265137, 45.599998474121094, 75.5999984741211, 475.5, 90.80000305175781, 5.5, 40.20000076293945, 45.400001525878906, 45.29999923706055, 270.0, 220.8000030517578, 65.4000015258789, 30.799999237060547, 35.0, 40.20000076293945, 20.5, 25.200000762939453, 40.29999923706055, 25.200000762939453, 145.1999969482422, 50.5, 245.8000030517578, 240.1999969482422, 45.70000076293945, 100.4000015258789, 40.70000076293945, 10.199999809265137, 15.199999809265137, 95.5999984741211, 50.20000076293945, 165.89999389648438, 5.699999809265137, 40.20000076293945, 200.10000610351562, 155.0, 15.199999809265137, 20.299999237060547, 240.1999969482422, 15.600000381469727, 40.0, 50.099998474121094, 10.699999809265137, 220.60000610351562, 30.5, 10.800000190734863, 40.20000076293945, 130.8000030517578, 5.300000190734863, 5.599999904632568, 225.5, 165.8000030517578, 5.5, 40.20000076293945, 30.200000762939453, 525.5999755859375, 20.899999618530273, 30.799999237060547, 40.20000076293945, 75.0, 200.10000610351562, 55.599998474121094, 20.399999618530273, 35.599998474121094, 20.899999618530273, 20.200000762939453, 110.0, 300.29998779296875, 830.2999877929688, 35.599998474121094, 35.0, 10.600000381469727, 70.0999984741211, 195.3000030517578, 10.5, 370.3999938964844, 100.69999694824219, 10.5, 340.1000061035156, 50.400001525878906, 30.100000381469727, 40.0, 90.5, 120.19999694824219, 10.0, 20.299999237060547, 35.599998474121094, 5.199999809265137, 30.200000762939453, 45.400001525878906, 65.5, 20.200000762939453, 10.5, 15.800000190734863, 40.79999923706055, 40.29999923706055, 40.900001525878906, 185.39999389648438, 25.100000381469727, 25.5, 20.799999237060547, 5.800000190734863, 35.599998474121094, 100.30000305175781, 15.0, 140.1999969482422, 25.700000762939453, 5.599999904632568, 30.0, 15.199999809265137, 20.799999237060547, 20.200000762939453, 125.0999984741211, 10.399999618530273, 235.89999389648438, 640.7000122070312, 35.599998474121094, 15.699999809265137, 15.600000381469727, 95.30000305175781, 25.5, 20.799999237060547, 25.399999618530273, 70.19999694824219, 10.5, 45.400001525878906, 95.30000305175781, 10.199999809265137, 40.70000076293945, 30.600000381469727, 80.4000015258789, 105.5999984741211, 80.9000015258789, 235.3000030517578, 140.6999969482422, 140.1999969482422, 260.0, 35.70000076293945, 40.5, 25.5, 10.800000190734863, 260.0, 65.4000015258789, 310.1000061035156, 195.8000030517578, 80.5999984741211, 10.0, 10.5, 260.6000061035156, 75.5, 55.099998474121094, 85.30000305175781, 255.39999389648438, 5.800000190734863, 40.099998474121094, 25.899999618530273, 80.5999984741211, 25.5, 325.8999938964844, 25.299999237060547, 90.19999694824219, 65.69999694824219, 45.599998474121094, 20.299999237060547, 195.10000610351562, 15.5, 155.6999969482422, 15.600000381469727, 60.79999923706055, 155.6999969482422, 90.5, 300.0, 10.100000381469727, 5.099999904632568, 15.399999618530273, 155.6999969482422, 220.1999969482422, 10.800000190734863, 15.0, 385.70001220703125, 20.200000762939453, 70.19999694824219, 5.199999809265137, 10.199999809265137, 10.800000190734863, 15.5, 30.0, 580.7000122070312, 490.3999938964844, 150.0, 175.10000610351562, 10.199999809265137, 19920.400390625, 45.5, 25.5, 80.80000305175781, 20.899999618530273, 275.5, 90.80000305175781, 25.200000762939453, 170.0, 35.79999923706055, 35.70000076293945, 5.599999904632568, 35.79999923706055, 50.5, 10.5, 115.30000305175781, 285.1000061035156, 10.0, 105.69999694824219, 45.5, 50.70000076293945, 100.0999984741211, 10.5, 85.0999984741211, 50.599998474121094, 20.799999237060547, 5.800000190734863, 50.099998474121094, 410.5, 145.0, 255.5, 30.5, 155.8000030517578, 45.70000076293945, 10.199999809265137, 25.899999618530273, 140.3000030517578, 140.10000610351562, 40.29999923706055, 35.599998474121094, 20.399999618530273, 10.399999618530273, 5.599999904632568, 300.6000061035156, 215.8000030517578, 475.5, 30.5, 100.30000305175781, 10.0, 20.399999618530273, 25.899999618530273, 30.399999618530273, 175.3000030517578, 310.20001220703125, 45.900001525878906, 140.6999969482422, 135.10000610351562, 35.5, 160.8000030517578, 40.29999923706055, 150.39999389648438, 20.799999237060547, 10.5, 5.900000095367432, 20.200000762939453, 40.79999923706055, 40.20000076293945, 130.89999389648438, 10.899999618530273, 85.30000305175781, 50.29999923706055, 30.399999618530273, 270.3999938964844, 75.5, 110.5999984741211, 90.5, 30.0, 50.29999923706055, 10.0, 15.399999618530273, 165.60000610351562, 55.20000076293945, 80.0999984741211, 105.4000015258789, 10.699999809265137, 515.9000244140625, 15.5, 55.20000076293945, 680.7999877929688, 210.0, 155.8000030517578, 15.699999809265137, 70.19999694824219, 10.0, 80.0999984741211, 100.19999694824219, 20.799999237060547, 40.20000076293945, 165.3000030517578, 100.69999694824219, 185.1999969482422, 280.79998779296875, 65.80000305175781, 390.79998779296875, 550.9000244140625, 150.0, 425.8999938964844, 25.200000762939453, 30.5, 15.699999809265137, 70.19999694824219, 80.80000305175781, 60.20000076293945, 80.80000305175781, 15.699999809265137, 25.5, 510.5, 550.9000244140625, 20.200000762939453, 40.20000076293945, 90.0999984741211, 25.899999618530273, 425.6000061035156, 30.100000381469727, 485.29998779296875, 10.5, 35.599998474121094, 25.899999618530273, 5.599999904632568, 85.80000305175781, 105.30000305175781, 55.79999923706055, 300.29998779296875, 90.0999984741211, 30.0, 10.300000190734863, 5.800000190734863, 65.69999694824219, 55.70000076293945, 20.799999237060547, 90.30000305175781, 55.599998474121094, 5.699999809265137, 35.400001525878906, 165.3000030517578, 75.19999694824219, 200.3000030517578, 125.0, 50.5, 45.70000076293945, 10.600000381469727, 15.399999618530273, 5.099999904632568, 75.69999694824219, 220.1999969482422, 30.5, 195.10000610351562, 45.5, 30.799999237060547, 830.2999877929688, 185.5, 30.5, 35.599998474121094, 110.5, 20.299999237060547, 280.79998779296875, 20.799999237060547, 410.5, 300.6000061035156, 45.099998474121094, 55.20000076293945, 30.100000381469727, 10.199999809265137, 200.8000030517578, 400.29998779296875, 295.20001220703125, 60.900001525878906, 265.79998779296875, 280.1000061035156, 160.6999969482422, 80.80000305175781, 265.0, 50.79999923706055, 80.80000305175781, 240.1999969482422, 5.699999809265137, 155.8000030517578, 215.1999969482422, 25.5, 140.60000610351562, 75.0999984741211, 150.0, 675.2000122070312, 300.29998779296875, 30.399999618530273, 5.400000095367432, 65.5, 25.5, 535.5, 170.60000610351562, 10.0, 110.0999984741211, 280.79998779296875, 75.30000305175781, 35.20000076293945, 45.400001525878906, 40.79999923706055, 75.0, 170.89999389648438, 20.200000762939453, 10.5, 45.5, 265.3999938964844, 10.5, 15.100000381469727, 160.3000030517578, 30.0, 35.5, 30.799999237060547, 280.79998779296875, 10.300000190734863, 660.5, 80.19999694824219, 10.300000190734863, 280.79998779296875, 60.599998474121094, 145.89999389648438, 90.9000015258789, 40.79999923706055, 15.699999809265137, 35.79999923706055, 20.299999237060547, 40.29999923706055, 305.29998779296875, 180.8000030517578, 60.20000076293945, 65.30000305175781, 25.5, 710.7999877929688, 165.3000030517578, 50.900001525878906, 40.79999923706055, 10.199999809265137, 5.5, 275.70001220703125, 60.20000076293945, 380.1000061035156, 15.600000381469727, 10.0, 30.799999237060547, 110.5, 440.20001220703125, 50.5, 25.899999618530273, 50.099998474121094, 455.79998779296875, 40.79999923706055, 80.80000305175781, 155.5, 55.29999923706055, 225.89999389648438, 50.5, 20.700000762939453, 10.899999618530273, 55.599998474121094, 225.89999389648438, 1050.0, 1335.5999755859375, 80.4000015258789, 765.5, 15.699999809265137, 15.600000381469727, 300.29998779296875, 50.79999923706055, 575.5, 10.0, 305.5, 40.70000076293945, 705.2999877929688, 5.800000190734863, 385.5, 30.700000762939453, 20.0, 20.799999237060547, 20.200000762939453, 90.5, 150.10000610351562, 20.700000762939453, 20.200000762939453, 85.5, 40.20000076293945, 10.100000381469727, 30.799999237060547, 25.5, 30.200000762939453, 145.0, 40.20000076293945, 10.0, 15.899999618530273, 195.1999969482422, 55.5, 15.100000381469727, 125.4000015258789, 80.80000305175781, 60.5, 50.099998474121094, 15.800000190734863, 60.79999923706055, 35.70000076293945, 10.399999618530273, 215.8000030517578, 20.200000762939453, 315.20001220703125, 25.5, 40.70000076293945, 20.299999237060547, 85.0, 90.0, 40.5, 30.200000762939453, 15.699999809265137, 10.0, 80.4000015258789, 65.80000305175781, 15.699999809265137, 20.200000762939453, 25.5, 125.5999984741211, 25.700000762939453, 15.600000381469727, 100.0, 5.800000190734863, 125.9000015258789, 5.300000190734863, 75.80000305175781, 5.900000095367432, 280.79998779296875, 40.20000076293945, 310.5, 5.699999809265137, 20.799999237060547, 110.5, 45.400001525878906, 20.200000762939453, 5.900000095367432, 10.100000381469727, 150.39999389648438, 240.1999969482422, 55.5, 90.80000305175781, 25.700000762939453, 150.39999389648438, 160.5, 20.200000762939453, 20.200000762939453, 35.599998474121094, 20.299999237060547, 225.89999389648438, 40.20000076293945, 45.099998474121094, 10.100000381469727, 75.5, 35.79999923706055, 15.699999809265137, 285.1000061035156, 15.800000190734863, 50.70000076293945, 140.6999969482422, 110.4000015258789, 15.199999809265137, 195.5, 80.69999694824219, 55.599998474121094, 555.2000122070312, 70.0999984741211, 100.19999694824219, 280.79998779296875, 20.399999618530273, 15.699999809265137, 25.5, 60.5, 55.79999923706055, 25.399999618530273, 5.400000095367432, 220.1999969482422, 25.600000381469727, 50.099998474121094, 25.799999237060547, 85.19999694824219, 385.70001220703125, 30.600000381469727, 50.0, 10.899999618530273, 475.5, 60.5, 180.0, 65.4000015258789, 10.199999809265137, 210.39999389648438, 25.899999618530273, 325.8999938964844, 270.20001220703125, 35.5, 5.5, 35.20000076293945, 10.5, 10.800000190734863, 40.79999923706055, 300.20001220703125, 5.199999809265137, 100.80000305175781, 40.20000076293945, 30.0, 65.4000015258789, 25.399999618530273, 20.200000762939453, 400.79998779296875, 15.600000381469727, 205.10000610351562, 90.0999984741211, 10.399999618530273, 35.599998474121094, 75.19999694824219, 15.199999809265137, 540.2999877929688, 55.79999923706055, 15.399999618530273, 510.5, 10.800000190734863, 300.79998779296875, 10.5, 15.100000381469727, 5.900000095367432, 25.5, 115.69999694824219, 20.799999237060547, 65.19999694824219, 905.7999877929688, 15.300000190734863, 115.4000015258789, 285.29998779296875, 285.0, 240.1999969482422, 55.20000076293945, 105.5, 70.9000015258789, 930.0, 375.6000061035156, 20.799999237060547, 35.79999923706055, 140.1999969482422, 20.799999237060547, 40.099998474121094, 20.299999237060547, 80.5, 55.20000076293945, 30.5, 445.29998779296875, 175.10000610351562, 300.29998779296875, 30.5, 30.600000381469727, 95.80000305175781, 10.0, 40.099998474121094, 40.20000076293945, 40.099998474121094, 10.699999809265137, 60.599998474121094, 190.8000030517578, 45.70000076293945, 15.899999618530273, 45.599998474121094, 235.60000610351562, 5.900000095367432, 10.800000190734863, 130.5, 30.0, 5.5, 85.5, 15.600000381469727, 25.200000762939453, 25.899999618530273, 5.900000095367432, 100.19999694824219, 5.800000190734863, 75.0999984741211, 25.299999237060547, 25.5, 45.20000076293945, 5.5, 220.1999969482422, 185.39999389648438, 30.5, 65.4000015258789, 20.200000762939453, 20.200000762939453, 5.0, 20.5, 5.5, 815.7999877929688, 55.599998474121094, 55.70000076293945, 270.3999938964844, 70.5, 155.8000030517578, 10.699999809265137, 205.10000610351562, 15.699999809265137, 45.20000076293945, 105.69999694824219, 5.5, 55.400001525878906, 290.5, 10.5, 20.299999237060547, 45.900001525878906, 50.20000076293945, 25.700000762939453, 185.5, 30.200000762939453, 435.5, 105.19999694824219, 290.5, 30.399999618530273, 20.200000762939453, 95.19999694824219, 30.700000762939453, 50.099998474121094, 30.5, 50.099998474121094, 60.5, 15.100000381469727, 225.89999389648438, 10.100000381469727, 55.20000076293945, 10.399999618530273, 240.6999969482422, 20.200000762939453, 265.3999938964844, 30.700000762939453, 140.6999969482422, 10.5, 20.299999237060547, 285.29998779296875, 30.100000381469727, 90.5, 70.19999694824219, 60.5, 35.70000076293945, 120.30000305175781, 30.399999618530273, 190.89999389648438, 50.79999923706055, 135.0, 10.100000381469727, 10.199999809265137, 145.10000610351562, 125.5, 135.1999969482422, 95.5, 20.0, 15.800000190734863, 75.5, 10.899999618530273, 610.7000122070312, 105.30000305175781, 75.69999694824219, 10.199999809265137, 5.599999904632568, 70.19999694824219, 220.39999389648438, 1015.9000244140625, 15.199999809265137, 1025.800048828125, 25.700000762939453, 105.19999694824219, 55.099998474121094, 5.5, 20.299999237060547, 180.8000030517578, 30.100000381469727, 120.4000015258789, 5.5, 65.4000015258789, 120.19999694824219, 45.599998474121094, 15.699999809265137, 180.89999389648438, 15.5, 45.29999923706055, 25.299999237060547, 435.70001220703125, 30.299999237060547, 105.30000305175781, 85.9000015258789, 125.9000015258789, 55.20000076293945, 20.200000762939453, 280.0, 385.5, 65.19999694824219, 135.1999969482422, 85.69999694824219, 40.599998474121094, 295.70001220703125, 1425.800048828125, 810.4000244140625, 25.200000762939453, 20.299999237060547, 40.20000076293945, 5.599999904632568, 815.7999877929688, 15.0, 25.899999618530273, 80.4000015258789, 65.69999694824219, 30.5, 15.699999809265137, 150.39999389648438, 25.399999618530273, 55.20000076293945, 20.299999237060547, 50.5, 50.900001525878906, 65.4000015258789, 10.100000381469727, 10.699999809265137, 55.400001525878906, 55.5, 20.899999618530273, 145.10000610351562, 30.700000762939453, 60.20000076293945, 25.399999618530273, 20.799999237060547, 50.5, 10.5, 20.299999237060547, 100.0999984741211, 390.5, 15.199999809265137, 240.60000610351562, 15.5, 5.699999809265137, 135.3000030517578, 255.6999969482422, 100.80000305175781, 50.099998474121094, 165.3000030517578, 3120.10009765625], \"yaxis\": \"y\"}],                        {\"legend\": {\"tracegroupgap\": 0}, \"margin\": {\"t\": 60}, \"template\": {\"data\": {\"bar\": [{\"error_x\": {\"color\": \"#2a3f5f\"}, \"error_y\": {\"color\": \"#2a3f5f\"}, \"marker\": {\"line\": {\"color\": \"#E5ECF6\", \"width\": 0.5}}, \"type\": \"bar\"}], \"barpolar\": [{\"marker\": {\"line\": {\"color\": \"#E5ECF6\", \"width\": 0.5}}, \"type\": \"barpolar\"}], \"carpet\": [{\"aaxis\": {\"endlinecolor\": \"#2a3f5f\", \"gridcolor\": \"white\", \"linecolor\": \"white\", \"minorgridcolor\": \"white\", \"startlinecolor\": \"#2a3f5f\"}, \"baxis\": {\"endlinecolor\": \"#2a3f5f\", \"gridcolor\": \"white\", \"linecolor\": \"white\", \"minorgridcolor\": \"white\", \"startlinecolor\": \"#2a3f5f\"}, \"type\": \"carpet\"}], \"choropleth\": [{\"colorbar\": {\"outlinewidth\": 0, \"ticks\": \"\"}, \"type\": \"choropleth\"}], \"contour\": [{\"colorbar\": {\"outlinewidth\": 0, \"ticks\": \"\"}, \"colorscale\": [[0.0, \"#0d0887\"], [0.1111111111111111, \"#46039f\"], [0.2222222222222222, \"#7201a8\"], [0.3333333333333333, \"#9c179e\"], [0.4444444444444444, \"#bd3786\"], [0.5555555555555556, \"#d8576b\"], [0.6666666666666666, \"#ed7953\"], [0.7777777777777778, \"#fb9f3a\"], [0.8888888888888888, \"#fdca26\"], [1.0, \"#f0f921\"]], \"type\": \"contour\"}], \"contourcarpet\": [{\"colorbar\": {\"outlinewidth\": 0, \"ticks\": \"\"}, \"type\": \"contourcarpet\"}], \"heatmap\": [{\"colorbar\": {\"outlinewidth\": 0, \"ticks\": \"\"}, \"colorscale\": [[0.0, \"#0d0887\"], [0.1111111111111111, \"#46039f\"], [0.2222222222222222, \"#7201a8\"], [0.3333333333333333, \"#9c179e\"], [0.4444444444444444, \"#bd3786\"], [0.5555555555555556, \"#d8576b\"], [0.6666666666666666, \"#ed7953\"], [0.7777777777777778, \"#fb9f3a\"], [0.8888888888888888, \"#fdca26\"], [1.0, \"#f0f921\"]], \"type\": \"heatmap\"}], \"heatmapgl\": [{\"colorbar\": {\"outlinewidth\": 0, \"ticks\": \"\"}, \"colorscale\": [[0.0, \"#0d0887\"], [0.1111111111111111, \"#46039f\"], [0.2222222222222222, \"#7201a8\"], [0.3333333333333333, \"#9c179e\"], [0.4444444444444444, \"#bd3786\"], [0.5555555555555556, \"#d8576b\"], [0.6666666666666666, \"#ed7953\"], [0.7777777777777778, \"#fb9f3a\"], [0.8888888888888888, \"#fdca26\"], [1.0, \"#f0f921\"]], \"type\": \"heatmapgl\"}], \"histogram\": [{\"marker\": {\"colorbar\": {\"outlinewidth\": 0, \"ticks\": \"\"}}, \"type\": \"histogram\"}], \"histogram2d\": [{\"colorbar\": {\"outlinewidth\": 0, \"ticks\": \"\"}, \"colorscale\": [[0.0, \"#0d0887\"], [0.1111111111111111, \"#46039f\"], [0.2222222222222222, \"#7201a8\"], [0.3333333333333333, \"#9c179e\"], [0.4444444444444444, \"#bd3786\"], [0.5555555555555556, \"#d8576b\"], [0.6666666666666666, \"#ed7953\"], [0.7777777777777778, \"#fb9f3a\"], [0.8888888888888888, \"#fdca26\"], [1.0, \"#f0f921\"]], \"type\": \"histogram2d\"}], \"histogram2dcontour\": [{\"colorbar\": {\"outlinewidth\": 0, \"ticks\": \"\"}, \"colorscale\": [[0.0, \"#0d0887\"], [0.1111111111111111, \"#46039f\"], [0.2222222222222222, \"#7201a8\"], [0.3333333333333333, \"#9c179e\"], [0.4444444444444444, \"#bd3786\"], [0.5555555555555556, \"#d8576b\"], [0.6666666666666666, \"#ed7953\"], [0.7777777777777778, \"#fb9f3a\"], [0.8888888888888888, \"#fdca26\"], [1.0, \"#f0f921\"]], \"type\": \"histogram2dcontour\"}], \"mesh3d\": [{\"colorbar\": {\"outlinewidth\": 0, \"ticks\": \"\"}, \"type\": \"mesh3d\"}], \"parcoords\": [{\"line\": {\"colorbar\": {\"outlinewidth\": 0, \"ticks\": \"\"}}, \"type\": \"parcoords\"}], \"pie\": [{\"automargin\": true, \"type\": \"pie\"}], \"scatter\": [{\"marker\": {\"colorbar\": {\"outlinewidth\": 0, \"ticks\": \"\"}}, \"type\": \"scatter\"}], \"scatter3d\": [{\"line\": {\"colorbar\": {\"outlinewidth\": 0, \"ticks\": \"\"}}, \"marker\": {\"colorbar\": {\"outlinewidth\": 0, \"ticks\": \"\"}}, \"type\": \"scatter3d\"}], \"scattercarpet\": [{\"marker\": {\"colorbar\": {\"outlinewidth\": 0, \"ticks\": \"\"}}, \"type\": \"scattercarpet\"}], \"scattergeo\": [{\"marker\": {\"colorbar\": {\"outlinewidth\": 0, \"ticks\": \"\"}}, \"type\": \"scattergeo\"}], \"scattergl\": [{\"marker\": {\"colorbar\": {\"outlinewidth\": 0, \"ticks\": \"\"}}, \"type\": \"scattergl\"}], \"scattermapbox\": [{\"marker\": {\"colorbar\": {\"outlinewidth\": 0, \"ticks\": \"\"}}, \"type\": \"scattermapbox\"}], \"scatterpolar\": [{\"marker\": {\"colorbar\": {\"outlinewidth\": 0, \"ticks\": \"\"}}, \"type\": \"scatterpolar\"}], \"scatterpolargl\": [{\"marker\": {\"colorbar\": {\"outlinewidth\": 0, \"ticks\": \"\"}}, \"type\": \"scatterpolargl\"}], \"scatterternary\": [{\"marker\": {\"colorbar\": {\"outlinewidth\": 0, \"ticks\": \"\"}}, \"type\": \"scatterternary\"}], \"surface\": [{\"colorbar\": {\"outlinewidth\": 0, \"ticks\": \"\"}, \"colorscale\": [[0.0, \"#0d0887\"], [0.1111111111111111, \"#46039f\"], [0.2222222222222222, \"#7201a8\"], [0.3333333333333333, \"#9c179e\"], [0.4444444444444444, \"#bd3786\"], [0.5555555555555556, \"#d8576b\"], [0.6666666666666666, \"#ed7953\"], [0.7777777777777778, \"#fb9f3a\"], [0.8888888888888888, \"#fdca26\"], [1.0, \"#f0f921\"]], \"type\": \"surface\"}], \"table\": [{\"cells\": {\"fill\": {\"color\": \"#EBF0F8\"}, \"line\": {\"color\": \"white\"}}, \"header\": {\"fill\": {\"color\": \"#C8D4E3\"}, \"line\": {\"color\": \"white\"}}, \"type\": \"table\"}]}, \"layout\": {\"annotationdefaults\": {\"arrowcolor\": \"#2a3f5f\", \"arrowhead\": 0, \"arrowwidth\": 1}, \"autotypenumbers\": \"strict\", \"coloraxis\": {\"colorbar\": {\"outlinewidth\": 0, \"ticks\": \"\"}}, \"colorscale\": {\"diverging\": [[0, \"#8e0152\"], [0.1, \"#c51b7d\"], [0.2, \"#de77ae\"], [0.3, \"#f1b6da\"], [0.4, \"#fde0ef\"], [0.5, \"#f7f7f7\"], [0.6, \"#e6f5d0\"], [0.7, \"#b8e186\"], [0.8, \"#7fbc41\"], [0.9, \"#4d9221\"], [1, \"#276419\"]], \"sequential\": [[0.0, \"#0d0887\"], [0.1111111111111111, \"#46039f\"], [0.2222222222222222, \"#7201a8\"], [0.3333333333333333, \"#9c179e\"], [0.4444444444444444, \"#bd3786\"], [0.5555555555555556, \"#d8576b\"], [0.6666666666666666, \"#ed7953\"], [0.7777777777777778, \"#fb9f3a\"], [0.8888888888888888, \"#fdca26\"], [1.0, \"#f0f921\"]], \"sequentialminus\": [[0.0, \"#0d0887\"], [0.1111111111111111, \"#46039f\"], [0.2222222222222222, \"#7201a8\"], [0.3333333333333333, \"#9c179e\"], [0.4444444444444444, \"#bd3786\"], [0.5555555555555556, \"#d8576b\"], [0.6666666666666666, \"#ed7953\"], [0.7777777777777778, \"#fb9f3a\"], [0.8888888888888888, \"#fdca26\"], [1.0, \"#f0f921\"]]}, \"colorway\": [\"#636efa\", \"#EF553B\", \"#00cc96\", \"#ab63fa\", \"#FFA15A\", \"#19d3f3\", \"#FF6692\", \"#B6E880\", \"#FF97FF\", \"#FECB52\"], \"font\": {\"color\": \"#2a3f5f\"}, \"geo\": {\"bgcolor\": \"white\", \"lakecolor\": \"white\", \"landcolor\": \"#E5ECF6\", \"showlakes\": true, \"showland\": true, \"subunitcolor\": \"white\"}, \"hoverlabel\": {\"align\": \"left\"}, \"hovermode\": \"closest\", \"mapbox\": {\"style\": \"light\"}, \"paper_bgcolor\": \"white\", \"plot_bgcolor\": \"#E5ECF6\", \"polar\": {\"angularaxis\": {\"gridcolor\": \"white\", \"linecolor\": \"white\", \"ticks\": \"\"}, \"bgcolor\": \"#E5ECF6\", \"radialaxis\": {\"gridcolor\": \"white\", \"linecolor\": \"white\", \"ticks\": \"\"}}, \"scene\": {\"xaxis\": {\"backgroundcolor\": \"#E5ECF6\", \"gridcolor\": \"white\", \"gridwidth\": 2, \"linecolor\": \"white\", \"showbackground\": true, \"ticks\": \"\", \"zerolinecolor\": \"white\"}, \"yaxis\": {\"backgroundcolor\": \"#E5ECF6\", \"gridcolor\": \"white\", \"gridwidth\": 2, \"linecolor\": \"white\", \"showbackground\": true, \"ticks\": \"\", \"zerolinecolor\": \"white\"}, \"zaxis\": {\"backgroundcolor\": \"#E5ECF6\", \"gridcolor\": \"white\", \"gridwidth\": 2, \"linecolor\": \"white\", \"showbackground\": true, \"ticks\": \"\", \"zerolinecolor\": \"white\"}}, \"shapedefaults\": {\"line\": {\"color\": \"#2a3f5f\"}}, \"ternary\": {\"aaxis\": {\"gridcolor\": \"white\", \"linecolor\": \"white\", \"ticks\": \"\"}, \"baxis\": {\"gridcolor\": \"white\", \"linecolor\": \"white\", \"ticks\": \"\"}, \"bgcolor\": \"#E5ECF6\", \"caxis\": {\"gridcolor\": \"white\", \"linecolor\": \"white\", \"ticks\": \"\"}}, \"title\": {\"x\": 0.05}, \"xaxis\": {\"automargin\": true, \"gridcolor\": \"white\", \"linecolor\": \"white\", \"ticks\": \"\", \"title\": {\"standoff\": 15}, \"zerolinecolor\": \"white\", \"zerolinewidth\": 2}, \"yaxis\": {\"automargin\": true, \"gridcolor\": \"white\", \"linecolor\": \"white\", \"ticks\": \"\", \"title\": {\"standoff\": 15}, \"zerolinecolor\": \"white\", \"zerolinewidth\": 2}}}, \"title\": {\"font\": {\"size\": 30}, \"text\": \"Price per order\"}, \"xaxis\": {\"anchor\": \"y\", \"domain\": [0.0, 1.0], \"title\": {\"text\": \"index number of order\"}}, \"yaxis\": {\"anchor\": \"x\", \"domain\": [0.0, 1.0], \"range\": [0, 1500], \"title\": {\"text\": \"price\"}}},                        {\"responsive\": true}                    ).then(function(){\n",
       "                            \n",
       "var gd = document.getElementById('3769f3b0-df33-4cc1-842b-98e409d0d56b');\n",
       "var x = new MutationObserver(function (mutations, observer) {{\n",
       "        var display = window.getComputedStyle(gd).display;\n",
       "        if (!display || display === 'none') {{\n",
       "            console.log([gd, 'removed!']);\n",
       "            Plotly.purge(gd);\n",
       "            observer.disconnect();\n",
       "        }}\n",
       "}});\n",
       "\n",
       "// Listen for the removal of the full notebook cells\n",
       "var notebookContainer = gd.closest('#notebook-container');\n",
       "if (notebookContainer) {{\n",
       "    x.observe(notebookContainer, {childList: true});\n",
       "}}\n",
       "\n",
       "// Listen for the clearing of the current output cell\n",
       "var outputEl = gd.closest('.output');\n",
       "if (outputEl) {{\n",
       "    x.observe(outputEl, {childList: true});\n",
       "}}\n",
       "\n",
       "                        })                };                });            </script>        </div>"
      ]
     },
     "metadata": {},
     "output_type": "display_data"
    }
   ],
   "source": [
    "x_values = pd.Series(range(0, len(orders)))\n",
    "fig = px.scatter(ordersByUsers, x=x_values, y=orders['revenue'])\n",
    "fig.update_layout(title_text=\"Price per order\",\n",
    "                  title_font_size=30, xaxis_title=\"index number of order\", yaxis_title=\"price\",\n",
    ")\n",
    "fig.update_layout(yaxis_range=[0,1500])\n",
    "\n",
    "fig.show()\n"
   ]
  },
  {
   "cell_type": "code",
   "execution_count": 39,
   "metadata": {},
   "outputs": [
    {
     "data": {
      "text/html": [
       "<div>\n",
       "<style scoped>\n",
       "    .dataframe tbody tr th:only-of-type {\n",
       "        vertical-align: middle;\n",
       "    }\n",
       "\n",
       "    .dataframe tbody tr th {\n",
       "        vertical-align: top;\n",
       "    }\n",
       "\n",
       "    .dataframe thead th {\n",
       "        text-align: right;\n",
       "    }\n",
       "</style>\n",
       "<table border=\"1\" class=\"dataframe\">\n",
       "  <thead>\n",
       "    <tr style=\"text-align: right;\">\n",
       "      <th></th>\n",
       "      <th>transactionid</th>\n",
       "      <th>visitorid</th>\n",
       "      <th>date</th>\n",
       "      <th>revenue</th>\n",
       "      <th>group</th>\n",
       "    </tr>\n",
       "  </thead>\n",
       "  <tbody>\n",
       "    <tr>\n",
       "      <th>425</th>\n",
       "      <td>590470918</td>\n",
       "      <td>1920142716</td>\n",
       "      <td>2019-08-19</td>\n",
       "      <td>19920.400391</td>\n",
       "      <td>B</td>\n",
       "    </tr>\n",
       "    <tr>\n",
       "      <th>1196</th>\n",
       "      <td>3936777065</td>\n",
       "      <td>2108080724</td>\n",
       "      <td>2019-08-15</td>\n",
       "      <td>3120.100098</td>\n",
       "      <td>B</td>\n",
       "    </tr>\n",
       "    <tr>\n",
       "      <th>1136</th>\n",
       "      <td>666610489</td>\n",
       "      <td>1307669133</td>\n",
       "      <td>2019-08-13</td>\n",
       "      <td>1425.800049</td>\n",
       "      <td>A</td>\n",
       "    </tr>\n",
       "    <tr>\n",
       "      <th>744</th>\n",
       "      <td>3668308183</td>\n",
       "      <td>888512513</td>\n",
       "      <td>2019-08-27</td>\n",
       "      <td>1335.599976</td>\n",
       "      <td>B</td>\n",
       "    </tr>\n",
       "    <tr>\n",
       "      <th>743</th>\n",
       "      <td>3603576309</td>\n",
       "      <td>4133034833</td>\n",
       "      <td>2019-08-09</td>\n",
       "      <td>1050.000000</td>\n",
       "      <td>A</td>\n",
       "    </tr>\n",
       "    <tr>\n",
       "      <th>1103</th>\n",
       "      <td>1348774318</td>\n",
       "      <td>1164614297</td>\n",
       "      <td>2019-08-12</td>\n",
       "      <td>1025.800049</td>\n",
       "      <td>A</td>\n",
       "    </tr>\n",
       "    <tr>\n",
       "      <th>1099</th>\n",
       "      <td>316924019</td>\n",
       "      <td>148427295</td>\n",
       "      <td>2019-08-12</td>\n",
       "      <td>1015.900024</td>\n",
       "      <td>A</td>\n",
       "    </tr>\n",
       "    <tr>\n",
       "      <th>949</th>\n",
       "      <td>1347999392</td>\n",
       "      <td>887908475</td>\n",
       "      <td>2019-08-21</td>\n",
       "      <td>930.000000</td>\n",
       "      <td>A</td>\n",
       "    </tr>\n",
       "    <tr>\n",
       "      <th>940</th>\n",
       "      <td>2420050534</td>\n",
       "      <td>4003628586</td>\n",
       "      <td>2019-08-08</td>\n",
       "      <td>905.799988</td>\n",
       "      <td>B</td>\n",
       "    </tr>\n",
       "    <tr>\n",
       "      <th>613</th>\n",
       "      <td>4071177889</td>\n",
       "      <td>3931967268</td>\n",
       "      <td>2019-08-07</td>\n",
       "      <td>830.299988</td>\n",
       "      <td>B</td>\n",
       "    </tr>\n",
       "  </tbody>\n",
       "</table>\n",
       "</div>"
      ],
      "text/plain": [
       "      transactionid   visitorid       date       revenue group\n",
       "425       590470918  1920142716 2019-08-19  19920.400391     B\n",
       "1196     3936777065  2108080724 2019-08-15   3120.100098     B\n",
       "1136      666610489  1307669133 2019-08-13   1425.800049     A\n",
       "744      3668308183   888512513 2019-08-27   1335.599976     B\n",
       "743      3603576309  4133034833 2019-08-09   1050.000000     A\n",
       "1103     1348774318  1164614297 2019-08-12   1025.800049     A\n",
       "1099      316924019   148427295 2019-08-12   1015.900024     A\n",
       "949      1347999392   887908475 2019-08-21    930.000000     A\n",
       "940      2420050534  4003628586 2019-08-08    905.799988     B\n",
       "613      4071177889  3931967268 2019-08-07    830.299988     B"
      ]
     },
     "execution_count": 39,
     "metadata": {},
     "output_type": "execute_result"
    }
   ],
   "source": [
    "orders.sort_values(by='revenue', ascending=False).head(10)"
   ]
  },
  {
   "cell_type": "markdown",
   "metadata": {},
   "source": [
    "#### Conclusions and conjectures"
   ]
  },
  {
   "cell_type": "markdown",
   "metadata": {},
   "source": [
    "We have 1 enormous outlier of nearly 19920 per order and some other outliers that lay closer to average values. These must be one of the reasons for the data to be skewed. Also can see that 2 orders with highest price came from the B group and I would say, they boosted the revenue that happend from 2019-08-18 to 2019-08-19.    \n",
    "From the first glance, I would say that a price for on order can be considered an outlier if it is above 600, but with respect to the percentile (that can be found below), I would choose 450."
   ]
  },
  {
   "cell_type": "markdown",
   "metadata": {},
   "source": [
    "### Percentile of order prices"
   ]
  },
  {
   "cell_type": "code",
   "execution_count": 40,
   "metadata": {},
   "outputs": [
    {
     "data": {
      "text/plain": [
       "array([280.8 , 414.28, 830.3 ])"
      ]
     },
     "execution_count": 40,
     "metadata": {},
     "output_type": "execute_result"
    }
   ],
   "source": [
    "np.percentile(orders['revenue'], [90, 95, 99]).round(2)"
   ]
  },
  {
   "cell_type": "markdown",
   "metadata": {},
   "source": [
    "#### Conclusions and conjectures"
   ]
  },
  {
   "cell_type": "markdown",
   "metadata": {},
   "source": [
    "Only 5% of orders cost more than 435.5 and only 1% more than 900. Let's consider 450 a base value for finding outliers."
   ]
  },
  {
   "cell_type": "markdown",
   "metadata": {},
   "source": [
    "### Statistical significance of the difference in conversion"
   ]
  },
  {
   "cell_type": "markdown",
   "metadata": {},
   "source": [
    "#### hypotheses description"
   ]
  },
  {
   "cell_type": "markdown",
   "metadata": {},
   "source": [
    "Here we are to trying to establish whether there is statistically significant difference in <b>conversion</b> between the groups or not. We work with the __row data__. Lets formulate our hypotheses: \n",
    "* Null hypotheses: there's no statistically significant difference in conversion between the groups A anb B\n",
    "* Alternative hypotheses: there is statistically significant difference in conversion between the groups A anb B"
   ]
  },
  {
   "cell_type": "code",
   "execution_count": 41,
   "metadata": {},
   "outputs": [],
   "source": [
    "ordersByUsersA = orders[orders['group'] == 'A'].groupby(\n",
    "    'visitorid', as_index=False).agg({'transactionid' : pd.Series.nunique})\n",
    "ordersByUsersA.columns = ['userId', 'orders']\n",
    "\n",
    "ordersByUsersB = orders[orders['group'] == 'B'].groupby(\n",
    "    'visitorid', as_index=False).agg({'transactionid' : pd.Series.nunique})\n",
    "ordersByUsersB.columns = ['userId', 'orders']"
   ]
  },
  {
   "cell_type": "code",
   "execution_count": 42,
   "metadata": {},
   "outputs": [
    {
     "name": "stdout",
     "output_type": "stream",
     "text": [
      "Null hypothesis rejected. There is statistically significant difference between conversion from A anb B\n"
     ]
    }
   ],
   "source": [
    "sampleA = pd.concat([ordersByUsersA['orders'], pd.Series(0, index=np.arange(\n",
    "    visits[visits['group'] == 'A']['visits'].sum() - len(ordersByUsersA['orders'])), name='orders')], axis=0)\n",
    "sampleB = pd.concat([ordersByUsersB['orders'], pd.Series(0, index=np.arange(\n",
    "    visits[visits['group'] == 'B']['visits'].sum() - len(ordersByUsersB['orders'])), name='orders')], axis=0)\n",
    "alpha = .05\n",
    "results = st.mannwhitneyu(sampleA, sampleB, True, 'less')[1]\n",
    "\n",
    "if results < alpha:\n",
    "    print('Null hypothesis rejected. There is statistically significant difference between conversion from A anb B')\n",
    "else:\n",
    "    print('Null hypothesis can not be rejected, therefore no statistically significant difference found')"
   ]
  },
  {
   "cell_type": "code",
   "execution_count": 43,
   "metadata": {},
   "outputs": [
    {
     "data": {
      "text/plain": [
       "0.005544298301416285"
      ]
     },
     "execution_count": 43,
     "metadata": {},
     "output_type": "execute_result"
    }
   ],
   "source": [
    "results #p-value"
   ]
  },
  {
   "cell_type": "code",
   "execution_count": 44,
   "metadata": {},
   "outputs": [
    {
     "data": {
      "text/plain": [
       "0.159623735558315"
      ]
     },
     "execution_count": 44,
     "metadata": {},
     "output_type": "execute_result"
    }
   ],
   "source": [
    "sampleB.mean()/sampleA.mean()-1"
   ]
  },
  {
   "cell_type": "markdown",
   "metadata": {},
   "source": [
    "#### Conclusions and conjectures"
   ]
  },
  {
   "cell_type": "markdown",
   "metadata": {},
   "source": [
    "Using raw data we found statistically significant difference between conversion from A anb B and understood that A is less than B. Relative conversion gain of B is 15%, but lets see whether outliers have something to do with it or not."
   ]
  },
  {
   "cell_type": "markdown",
   "metadata": {},
   "source": [
    "### Statistical significance of the difference in average order size "
   ]
  },
  {
   "cell_type": "markdown",
   "metadata": {},
   "source": [
    "#### hypotheses description"
   ]
  },
  {
   "cell_type": "markdown",
   "metadata": {},
   "source": [
    "Here we are to trying to establish whether there is statistically significant difference in the <b>average order size</b> per user to purchase between the groups. We work with the __row data__. Lets formulate our hypotheses: \n",
    "* Null hypotheses: there's no statistically significant difference in the average order size between the groups A anb B\n",
    "* Alternative hypotheses: there is statistically significant difference in the average order size between the groups A anb B"
   ]
  },
  {
   "cell_type": "code",
   "execution_count": 45,
   "metadata": {},
   "outputs": [
    {
     "name": "stdout",
     "output_type": "stream",
     "text": [
      "Null hypothesis can not be rejected, no statistically significant difference in average order size found\n"
     ]
    }
   ],
   "source": [
    "reslut_revenue = st.mannwhitneyu(\n",
    "    orders[orders['group'] == 'A']['revenue'], orders[orders['group'] == 'B']['revenue'], True, 'less')[1]\n",
    "alpha = .05\n",
    "if reslut_revenue < alpha:\n",
    "    print('Null hypothesis rejected. There is statistically significant difference in average order size for A anb B')\n",
    "else:\n",
    "    print('Null hypothesis can not be rejected, no statistically significant difference in average order size found')"
   ]
  },
  {
   "cell_type": "code",
   "execution_count": 46,
   "metadata": {},
   "outputs": [
    {
     "data": {
      "text/plain": [
       "0.5689678091666772"
      ]
     },
     "execution_count": 46,
     "metadata": {},
     "output_type": "execute_result"
    }
   ],
   "source": [
    "reslut_revenue #p-value"
   ]
  },
  {
   "cell_type": "code",
   "execution_count": 47,
   "metadata": {},
   "outputs": [
    {
     "data": {
      "text/plain": [
       "0.2783463510754953"
      ]
     },
     "execution_count": 47,
     "metadata": {},
     "output_type": "execute_result"
    }
   ],
   "source": [
    "orders[orders['group'] == 'B']['revenue'].mean()/orders[orders['group']\n",
    "                                                        == 'A']['revenue'].mean()-1"
   ]
  },
  {
   "cell_type": "code",
   "execution_count": 48,
   "metadata": {},
   "outputs": [
    {
     "data": {
      "text/plain": [
       "113.70082092285156"
      ]
     },
     "execution_count": 48,
     "metadata": {},
     "output_type": "execute_result"
    }
   ],
   "source": [
    "orders[orders['group'] == 'A']['revenue'].mean() # Mean A orders size"
   ]
  },
  {
   "cell_type": "code",
   "execution_count": 49,
   "metadata": {},
   "outputs": [
    {
     "data": {
      "text/plain": [
       "145.34902954101562"
      ]
     },
     "execution_count": 49,
     "metadata": {},
     "output_type": "execute_result"
    }
   ],
   "source": [
    "orders[orders['group'] == 'B']['revenue'].mean() # Mean B orders size"
   ]
  },
  {
   "cell_type": "markdown",
   "metadata": {},
   "source": [
    "#### Conclusions and conjectures"
   ]
  },
  {
   "cell_type": "markdown",
   "metadata": {},
   "source": [
    "Raw data shows that there is no statistically significant difference in average order size and relative gain of group B is 27%, B is not surprizingly bigger. I expected raw data to show results that there is statistically significant difference, but apparently the outliers don't cause significant difference."
   ]
  },
  {
   "cell_type": "markdown",
   "metadata": {},
   "source": [
    "### Statistical significance of the difference in conversion of filtered data"
   ]
  },
  {
   "cell_type": "code",
   "execution_count": 50,
   "metadata": {},
   "outputs": [],
   "source": [
    "anomaly_big_order_size = 450\n",
    "anomaly_big_amount_of_orders = 3"
   ]
  },
  {
   "cell_type": "code",
   "execution_count": 51,
   "metadata": {},
   "outputs": [],
   "source": [
    "usersWithManyOrders = pd.concat([ordersByUsersA[ordersByUsersA['orders'] >= anomaly_big_amount_of_orders]\n",
    "                                 ['userId'], ordersByUsersB[ordersByUsersB['orders'] >= anomaly_big_amount_of_orders]['userId']], axis=0)\n",
    "usersWithExpensiveOrders = orders[orders['revenue']\n",
    "                                  > anomaly_big_order_size]['visitorid']"
   ]
  },
  {
   "cell_type": "code",
   "execution_count": 52,
   "metadata": {},
   "outputs": [],
   "source": [
    "anomaly_users = pd.concat(\n",
    "    [usersWithManyOrders, usersWithExpensiveOrders], axis=0).drop_duplicates()"
   ]
  },
  {
   "cell_type": "code",
   "execution_count": 53,
   "metadata": {},
   "outputs": [
    {
     "data": {
      "text/plain": [
       "51"
      ]
     },
     "execution_count": 53,
     "metadata": {},
     "output_type": "execute_result"
    }
   ],
   "source": [
    "len(anomaly_users)"
   ]
  },
  {
   "cell_type": "code",
   "execution_count": 54,
   "metadata": {},
   "outputs": [],
   "source": [
    "filtered_sampleA = pd.concat([ordersByUsersA[np.logical_not(ordersByUsersA['userId'].isin(anomaly_users))]['orders'], pd.Series(0, index=np.arange(visits[visits['group']\n",
    "                                                                                                                                                          == 'A']['visits'].sum() - len(ordersByUsersA['orders'])), name='orders')], axis=0)\n",
    "filtered_sampleB = pd.concat([ordersByUsersB[np.logical_not(ordersByUsersB['userId'].isin(anomaly_users))]['orders'], pd.Series(0, index=np.arange(visits[visits['group']\n",
    "                                                                                                                                                          == 'B']['visits'].sum() - len(ordersByUsersB['orders'])), name='orders')], axis=0)"
   ]
  },
  {
   "cell_type": "markdown",
   "metadata": {},
   "source": [
    "#### hypotheses description"
   ]
  },
  {
   "cell_type": "markdown",
   "metadata": {},
   "source": [
    "Here we are to trying to establish whether there is statistically significant difference in <b>conversion</b> between the groups or not. We work with the __filtered data__. Lets formulate our hypotheses: \n",
    "* Null hypotheses: there's no statistically significant difference in conversion between the groups A anb B\n",
    "* Alternative hypotheses: there is statistically significant difference in conversion between the groups A anb B"
   ]
  },
  {
   "cell_type": "code",
   "execution_count": 55,
   "metadata": {},
   "outputs": [
    {
     "name": "stdout",
     "output_type": "stream",
     "text": [
      "Null hypothesis rejected. There is statistically significant difference between conversion from A anb B\n"
     ]
    }
   ],
   "source": [
    "alpha = .05\n",
    "results = st.mannwhitneyu(filtered_sampleA, filtered_sampleB, True, 'less')[1]\n",
    "\n",
    "if results < alpha:\n",
    "    print('Null hypothesis rejected. There is statistically significant difference between conversion from A anb B')\n",
    "else:\n",
    "    print('Null hypothesis can not be rejected, therefore no statistically significant difference found')"
   ]
  },
  {
   "cell_type": "code",
   "execution_count": 56,
   "metadata": {},
   "outputs": [
    {
     "data": {
      "text/plain": [
       "0.004841457109596033"
      ]
     },
     "execution_count": 56,
     "metadata": {},
     "output_type": "execute_result"
    }
   ],
   "source": [
    "results #p-value"
   ]
  },
  {
   "cell_type": "code",
   "execution_count": 57,
   "metadata": {},
   "outputs": [
    {
     "data": {
      "text/plain": [
       "0.18753348025255923"
      ]
     },
     "execution_count": 57,
     "metadata": {},
     "output_type": "execute_result"
    }
   ],
   "source": [
    "filtered_sampleB.mean()/filtered_sampleA.mean()-1"
   ]
  },
  {
   "cell_type": "markdown",
   "metadata": {},
   "source": [
    "#### Conclusions and conjectures"
   ]
  },
  {
   "cell_type": "markdown",
   "metadata": {},
   "source": [
    "After removing the outliers, we still found statistically significant difference in conversion. The relative gain of group B was 15%, and now it is 18.7%, A is less than B"
   ]
  },
  {
   "cell_type": "markdown",
   "metadata": {},
   "source": [
    "### Statistical significance of the difference in average order size for filtered data"
   ]
  },
  {
   "cell_type": "markdown",
   "metadata": {},
   "source": [
    "#### hypotheses description"
   ]
  },
  {
   "cell_type": "markdown",
   "metadata": {},
   "source": [
    "Here we are to trying to establish whether there is statistically significant difference in the <b>average order size</b> per user to purchase between the groups. We work with the __filtered data__. Lets formulate our hypotheses: \n",
    "* Null hypotheses: there's no statistically significant difference in the average order size between the groups A anb B\n",
    "* Alternative hypotheses: there is statistically significant difference in the average order size between the groups A anb B"
   ]
  },
  {
   "cell_type": "code",
   "execution_count": 58,
   "metadata": {},
   "outputs": [
    {
     "name": "stdout",
     "output_type": "stream",
     "text": [
      "Null hypothesis can not be rejected, no statistically significant difference in average order size found\n"
     ]
    }
   ],
   "source": [
    "reslut_revenue = st.mannwhitneyu(orders[np.logical_and(orders['group'] == 'A', np.logical_not(orders['visitorid'].isin(\n",
    "    anomaly_users)))]['revenue'], orders[np.logical_and(orders['group'] == 'B', np.logical_not(orders['visitorid'].isin(anomaly_users)))]['revenue'], True, 'less')[1]\n",
    "alpha = .05\n",
    "if reslut_revenue < alpha:\n",
    "    print('Null hypothesis rejected. There is statistically significant difference in average order size for A anb B')\n",
    "else:\n",
    "    print('Null hypothesis can not be rejected, no statistically significant difference in average order size found')"
   ]
  },
  {
   "cell_type": "code",
   "execution_count": 59,
   "metadata": {},
   "outputs": [
    {
     "data": {
      "text/plain": [
       "0.6082930327257885"
      ]
     },
     "execution_count": 59,
     "metadata": {},
     "output_type": "execute_result"
    }
   ],
   "source": [
    "reslut_revenue #p-value"
   ]
  },
  {
   "cell_type": "code",
   "execution_count": 60,
   "metadata": {},
   "outputs": [
    {
     "data": {
      "text/plain": [
       "-0.024866084970632585"
      ]
     },
     "execution_count": 60,
     "metadata": {},
     "output_type": "execute_result"
    }
   ],
   "source": [
    "orders[np.logical_and(orders['group'] == 'B', np.logical_not(orders['visitorid'].isin(anomaly_users)))]['revenue'].mean(\n",
    ")/orders[np.logical_and(orders['group'] == 'A', np.logical_not(orders['visitorid'].isin(anomaly_users)))]['revenue'].mean() - 1"
   ]
  },
  {
   "cell_type": "markdown",
   "metadata": {},
   "source": [
    "#### Conclusions and conjectures"
   ]
  },
  {
   "cell_type": "markdown",
   "metadata": {},
   "source": [
    "There is still no difference in the average order size for filtered data, but we found the relative B to lower from 27% to -2%, so those huge values were really due to outliers."
   ]
  },
  {
   "cell_type": "markdown",
   "metadata": {},
   "source": [
    "# Step 4. Decision based on the test results. \n"
   ]
  },
  {
   "cell_type": "markdown",
   "metadata": {},
   "source": [
    "So, filtered data showed us, that anomaly-free B's conversion rate is 18.7% bigger thah A's conversion rate while average order size shows no difference, and B even loses in 2%. Conversion difference is signinficant, but if all the buying conversion difference doesn't influence revenue, we didn't really reach anything special, the effect of a good conversion B is offset by the fact that the income from it is even less than the income from A. Therefore I'm stopping the test, and conclude that there is no statistically significant difference between the groups, their average revenue difference is not statistically signinficant and les than 2%."
   ]
  },
  {
   "cell_type": "markdown",
   "metadata": {},
   "source": [
    "# Step 5. General Conclusion"
   ]
  },
  {
   "cell_type": "markdown",
   "metadata": {},
   "source": [
    "In this project I had 3 datesets to work on. First of them contained information on several hypotheses with their qualtities rated. To __prioritize__ hypotheses that may help boost revenue I've implement __ICE and RICE frameworks__ and came to different conclusions. ICE and RICE approach bring us same top 5 leaders, #2, #0, #6, #8, #7, but their top hypoteses were different. I used __percentege share__ to decide which hypoteses to choose: RICE leader stand 28.57% aside from the closes hypotheis, and ICE have smaller difference of 17.72%. I've decided that since RICE also pays attention to the __amount of users__ a hypothesis can affect and since the percentage margin for RICE was bigger, I've chosen the __RICE leader hypothesis__: \"Add product recommendation blocks to the store's site. This will increase conversion and average purchase size\". <br><br>\n",
    "Another 2 datasets were orders and visits that allowed me to __launch an A/B test and analyze it's the results__.<br> \n",
    "The results were really tricky because _some data pointed out that we should choose the B hypothesis due to it's better performance_ : it's cumulative revenue was 26439 bigger, it's cumulative average order size was nearly 32 greater and it ended up with almost 27% greather bigger relative average orded size difference to A, B's conversion rate was also bigger tha A's (but just 0.4% bigger). The thing is that I noticed some clear surges in distributions and decided that they may have happened due to the __outliers__, so our data can be skewed and we shouldn't rely on it before __we check it__. I've decided to __clear data from anomalies and to see if the groups are different due to them or not__.  <br>\n",
    "I used __scatterplot and percentiles__ to establish what amount of orders and what order size should we consider lower base of anomaly data and came to conclusion to count 450 as anomaly big order size and 3 as anomaly big amount of orders. <br><br>\n",
    "I've condacted several __statistical test to establish whether there is a statistically significant difference in conversion and in averarage purchase size__ between A and B. The tests were conducted both __on raw data and on filtered data__ with no anomaly users to check the anomaly impact:<br>\n",
    "Conversion rate comparison both __raw and filtered__ data showed that __there is statistically signinficant difference between conversion rates__ having B bigger then A with conversion gain of 15% (raw) and 18% (filtered), so __in terms of conversion B is a leader__. <br>\n",
    "As for average order size, both __raw and filtered__ data showed that __there is NO statistically signinficant difference between average order size__ of A and B, but the relative gain of B has fallen from 27% to -2,the difference was due to outliers. So, even though conversion difference is signinficant, effect of a good B conversion is offset by B income that is even less than the income from A. Considering revenue a more important factor, I'm stopping the test and conclude that there is no statistically significant difference between the groups, I'm __stopping the test and conclude that there is no statistically significant difference between the groups__."
   ]
  }
 ],
 "metadata": {
  "kernelspec": {
   "display_name": "Python 3",
   "language": "python",
   "name": "python3"
  },
  "language_info": {
   "codemirror_mode": {
    "name": "ipython",
    "version": 3
   },
   "file_extension": ".py",
   "mimetype": "text/x-python",
   "name": "python",
   "nbconvert_exporter": "python",
   "pygments_lexer": "ipython3",
   "version": "3.7.6"
  },
  "toc": {
   "base_numbering": 1,
   "nav_menu": {},
   "number_sections": true,
   "sideBar": true,
   "skip_h1_title": false,
   "title_cell": "Table of Contents",
   "title_sidebar": "Contents",
   "toc_cell": true,
   "toc_position": {},
   "toc_section_display": true,
   "toc_window_display": true
  }
 },
 "nbformat": 4,
 "nbformat_minor": 4
}
