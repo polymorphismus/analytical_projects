{
 "cells": [
  {
   "cell_type": "markdown",
   "metadata": {},
   "source": [
    "# progect description\n",
    "This project is dedicated to __hypotheses prioritizing and A B testing__. I need to:\n",
    "* prioritize hypotheses that may help boost revenue, \n",
    "* launch an A/B test, \n",
    "* analyze the results"
   ]
  },
  {
   "cell_type": "markdown",
   "metadata": {},
   "source": [
    "We have 3 datasets: 1 for hypotheses Prioritization and 2 for A B testing:\n",
    "\n",
    "\n",
    "\n",
    "#### Hypotheses Prioritization:\n",
    "__hypotheses__ dataset contains a number of hypotheses with brief descriptions and scaled (0-10) qualities like:\n",
    "* Reach \n",
    "* Impact\n",
    "* Confidence \n",
    "* Effort \n",
    "they are to be compared with the help of ICE/RICE Prioritization Types (STEP 2)\n",
    "\n",
    "#### A B testing:\n",
    "    \n",
    "__orders__ dataset contains information on every orders and on users who made it: \n",
    "* transactionId — order identifier\n",
    "* visitorId — identifier of the user who placed the order\n",
    "* date — of the order\n",
    "* revenue — from the order\n",
    "* group  — the A/B test group that the user belongs to\n",
    "\n",
    "__visits__ dataset contains information on the number of visits on the date specified in the A/B test group specified:\n",
    "* date  — of the order\n",
    "* group  —  A/B test group\n",
    "* visits — number of visits"
   ]
  },
  {
   "cell_type": "markdown",
   "metadata": {
    "toc": true
   },
   "source": [
    "<h1>Table of Contents<span class=\"tocSkip\"></span></h1>\n",
    "<div class=\"toc\"><ul class=\"toc-item\"><li><span><a href=\"#progect-description\" data-toc-modified-id=\"progect-description-1\"><span class=\"toc-item-num\">1&nbsp;&nbsp;</span>progect description</a></span><ul class=\"toc-item\"><li><ul class=\"toc-item\"><li><ul class=\"toc-item\"><li><span><a href=\"#Hypotheses-Prioritization:\" data-toc-modified-id=\"Hypotheses-Prioritization:-1.0.0.1\"><span class=\"toc-item-num\">1.0.0.1&nbsp;&nbsp;</span>Hypotheses Prioritization:</a></span></li><li><span><a href=\"#A-B-testing:\" data-toc-modified-id=\"A-B-testing:-1.0.0.2\"><span class=\"toc-item-num\">1.0.0.2&nbsp;&nbsp;</span>A B testing:</a></span></li></ul></li></ul></li></ul></li><li><span><a href=\"#Step-1.-Downloading-the-data-and-its-preprocessing\" data-toc-modified-id=\"Step-1.-Downloading-the-data-and-its-preprocessing-2\"><span class=\"toc-item-num\">2&nbsp;&nbsp;</span>Step 1. Downloading the data and its preprocessing</a></span><ul class=\"toc-item\"><li><ul class=\"toc-item\"><li><ul class=\"toc-item\"><li><span><a href=\"#downcasting\" data-toc-modified-id=\"downcasting-2.0.0.1\"><span class=\"toc-item-num\">2.0.0.1&nbsp;&nbsp;</span>downcasting</a></span></li><li><span><a href=\"#comparing\" data-toc-modified-id=\"comparing-2.0.0.2\"><span class=\"toc-item-num\">2.0.0.2&nbsp;&nbsp;</span>comparing</a></span></li></ul></li><li><span><a href=\"#Double-group-participants\" data-toc-modified-id=\"Double-group-participants-2.0.1\"><span class=\"toc-item-num\">2.0.1&nbsp;&nbsp;</span>Double-group participants</a></span></li><li><span><a href=\"#Conclusion\" data-toc-modified-id=\"Conclusion-2.0.2\"><span class=\"toc-item-num\">2.0.2&nbsp;&nbsp;</span>Conclusion</a></span></li></ul></li></ul></li><li><span><a href=\"#Step-2.-Part-1.Prioritizing-Hypotheses\" data-toc-modified-id=\"Step-2.-Part-1.Prioritizing-Hypotheses-3\"><span class=\"toc-item-num\">3&nbsp;&nbsp;</span>Step 2. Part 1.Prioritizing Hypotheses</a></span><ul class=\"toc-item\"><li><ul class=\"toc-item\"><li><span><a href=\"#ICE-framework\" data-toc-modified-id=\"ICE-framework-3.0.1\"><span class=\"toc-item-num\">3.0.1&nbsp;&nbsp;</span>ICE framework</a></span></li><li><span><a href=\"#RICE-framework\" data-toc-modified-id=\"RICE-framework-3.0.2\"><span class=\"toc-item-num\">3.0.2&nbsp;&nbsp;</span>RICE framework</a></span></li><li><span><a href=\"#Prioritization-changes\" data-toc-modified-id=\"Prioritization-changes-3.0.3\"><span class=\"toc-item-num\">3.0.3&nbsp;&nbsp;</span>Prioritization changes</a></span><ul class=\"toc-item\"><li><span><a href=\"#Conclusion:\" data-toc-modified-id=\"Conclusion:-3.0.3.1\"><span class=\"toc-item-num\">3.0.3.1&nbsp;&nbsp;</span>Conclusion:</a></span></li></ul></li><li><span><a href=\"#ICE/RICE-comparison-plot\" data-toc-modified-id=\"ICE/RICE-comparison-plot-3.0.4\"><span class=\"toc-item-num\">3.0.4&nbsp;&nbsp;</span>ICE/RICE comparison plot</a></span></li></ul></li></ul></li><li><span><a href=\"#Step-3.-Part-2.-A/B-Test-Analysis\" data-toc-modified-id=\"Step-3.-Part-2.-A/B-Test-Analysis-4\"><span class=\"toc-item-num\">4&nbsp;&nbsp;</span>Step 3. Part 2. A/B Test Analysis</a></span><ul class=\"toc-item\"><li><ul class=\"toc-item\"><li><span><a href=\"#Cumulative-revenue-by-group\" data-toc-modified-id=\"Cumulative-revenue-by-group-4.0.1\"><span class=\"toc-item-num\">4.0.1&nbsp;&nbsp;</span>Cumulative revenue by group</a></span><ul class=\"toc-item\"><li><span><a href=\"#Conclusions-and-conjectures\" data-toc-modified-id=\"Conclusions-and-conjectures-4.0.1.1\"><span class=\"toc-item-num\">4.0.1.1&nbsp;&nbsp;</span>Conclusions and conjectures</a></span></li></ul></li><li><span><a href=\"#Cumulative-average-order-size-by-group\" data-toc-modified-id=\"Cumulative-average-order-size-by-group-4.0.2\"><span class=\"toc-item-num\">4.0.2&nbsp;&nbsp;</span>Cumulative average order size by group</a></span><ul class=\"toc-item\"><li><span><a href=\"#Conclusions-and-conjectures¶\" data-toc-modified-id=\"Conclusions-and-conjectures¶-4.0.2.1\"><span class=\"toc-item-num\">4.0.2.1&nbsp;&nbsp;</span>Conclusions and conjectures¶</a></span></li></ul></li><li><span><a href=\"#Relative-difference-graph-for-the-average-purchase-sizes\" data-toc-modified-id=\"Relative-difference-graph-for-the-average-purchase-sizes-4.0.3\"><span class=\"toc-item-num\">4.0.3&nbsp;&nbsp;</span>Relative difference graph for the average purchase sizes</a></span><ul class=\"toc-item\"><li><span><a href=\"#Conclusions-and-conjectures¶\" data-toc-modified-id=\"Conclusions-and-conjectures¶-4.0.3.1\"><span class=\"toc-item-num\">4.0.3.1&nbsp;&nbsp;</span>Conclusions and conjectures¶</a></span></li></ul></li><li><span><a href=\"#Each-group's-conversion-rate-daily\" data-toc-modified-id=\"Each-group's-conversion-rate-daily-4.0.4\"><span class=\"toc-item-num\">4.0.4&nbsp;&nbsp;</span>Each group's conversion rate daily</a></span><ul class=\"toc-item\"><li><span><a href=\"#Conclusions-and-conjectures¶\" data-toc-modified-id=\"Conclusions-and-conjectures¶-4.0.4.1\"><span class=\"toc-item-num\">4.0.4.1&nbsp;&nbsp;</span>Conclusions and conjectures¶</a></span></li></ul></li><li><span><a href=\"#Scatter-chart-of-the-number-of-orders-per-user\" data-toc-modified-id=\"Scatter-chart-of-the-number-of-orders-per-user-4.0.5\"><span class=\"toc-item-num\">4.0.5&nbsp;&nbsp;</span>Scatter chart of the number of orders per user</a></span><ul class=\"toc-item\"><li><span><a href=\"#Conclusions-and-conjectures\" data-toc-modified-id=\"Conclusions-and-conjectures-4.0.5.1\"><span class=\"toc-item-num\">4.0.5.1&nbsp;&nbsp;</span>Conclusions and conjectures</a></span></li></ul></li><li><span><a href=\"#95th-and-99th-percentiles-for-the-number-of-orders-per-user\" data-toc-modified-id=\"95th-and-99th-percentiles-for-the-number-of-orders-per-user-4.0.6\"><span class=\"toc-item-num\">4.0.6&nbsp;&nbsp;</span>95th and 99th percentiles for the number of orders per user</a></span><ul class=\"toc-item\"><li><span><a href=\"#Conclusions-and-conjectures\" data-toc-modified-id=\"Conclusions-and-conjectures-4.0.6.1\"><span class=\"toc-item-num\">4.0.6.1&nbsp;&nbsp;</span>Conclusions and conjectures</a></span></li></ul></li><li><span><a href=\"#Scatter-chart-of-order-prices\" data-toc-modified-id=\"Scatter-chart-of-order-prices-4.0.7\"><span class=\"toc-item-num\">4.0.7&nbsp;&nbsp;</span>Scatter chart of order prices</a></span><ul class=\"toc-item\"><li><span><a href=\"#Conclusions-and-conjectures\" data-toc-modified-id=\"Conclusions-and-conjectures-4.0.7.1\"><span class=\"toc-item-num\">4.0.7.1&nbsp;&nbsp;</span>Conclusions and conjectures</a></span></li></ul></li><li><span><a href=\"#Percentile-of-order-prices\" data-toc-modified-id=\"Percentile-of-order-prices-4.0.8\"><span class=\"toc-item-num\">4.0.8&nbsp;&nbsp;</span>Percentile of order prices</a></span><ul class=\"toc-item\"><li><span><a href=\"#Conclusions-and-conjectures\" data-toc-modified-id=\"Conclusions-and-conjectures-4.0.8.1\"><span class=\"toc-item-num\">4.0.8.1&nbsp;&nbsp;</span>Conclusions and conjectures</a></span></li></ul></li><li><span><a href=\"#Statistical-significance-of-the-difference-in-conversion\" data-toc-modified-id=\"Statistical-significance-of-the-difference-in-conversion-4.0.9\"><span class=\"toc-item-num\">4.0.9&nbsp;&nbsp;</span>Statistical significance of the difference in conversion</a></span><ul class=\"toc-item\"><li><span><a href=\"#hypotheses-description\" data-toc-modified-id=\"hypotheses-description-4.0.9.1\"><span class=\"toc-item-num\">4.0.9.1&nbsp;&nbsp;</span>hypotheses description</a></span></li><li><span><a href=\"#Conclusions-and-conjectures\" data-toc-modified-id=\"Conclusions-and-conjectures-4.0.9.2\"><span class=\"toc-item-num\">4.0.9.2&nbsp;&nbsp;</span>Conclusions and conjectures</a></span></li></ul></li><li><span><a href=\"#Statistical-significance-of-the-difference-in-average-order-size\" data-toc-modified-id=\"Statistical-significance-of-the-difference-in-average-order-size-4.0.10\"><span class=\"toc-item-num\">4.0.10&nbsp;&nbsp;</span>Statistical significance of the difference in average order size</a></span><ul class=\"toc-item\"><li><span><a href=\"#hypotheses-description\" data-toc-modified-id=\"hypotheses-description-4.0.10.1\"><span class=\"toc-item-num\">4.0.10.1&nbsp;&nbsp;</span>hypotheses description</a></span></li><li><span><a href=\"#Conclusions-and-conjectures\" data-toc-modified-id=\"Conclusions-and-conjectures-4.0.10.2\"><span class=\"toc-item-num\">4.0.10.2&nbsp;&nbsp;</span>Conclusions and conjectures</a></span></li></ul></li><li><span><a href=\"#Statistical-significance-of-the-difference-in-conversion-of-filtered-data\" data-toc-modified-id=\"Statistical-significance-of-the-difference-in-conversion-of-filtered-data-4.0.11\"><span class=\"toc-item-num\">4.0.11&nbsp;&nbsp;</span>Statistical significance of the difference in conversion of filtered data</a></span><ul class=\"toc-item\"><li><span><a href=\"#hypotheses-description\" data-toc-modified-id=\"hypotheses-description-4.0.11.1\"><span class=\"toc-item-num\">4.0.11.1&nbsp;&nbsp;</span>hypotheses description</a></span></li><li><span><a href=\"#Conclusions-and-conjectures\" data-toc-modified-id=\"Conclusions-and-conjectures-4.0.11.2\"><span class=\"toc-item-num\">4.0.11.2&nbsp;&nbsp;</span>Conclusions and conjectures</a></span></li></ul></li><li><span><a href=\"#Statistical-significance-of-the-difference-in-average-order-size-for-filtered-data\" data-toc-modified-id=\"Statistical-significance-of-the-difference-in-average-order-size-for-filtered-data-4.0.12\"><span class=\"toc-item-num\">4.0.12&nbsp;&nbsp;</span>Statistical significance of the difference in average order size for filtered data</a></span><ul class=\"toc-item\"><li><span><a href=\"#hypotheses-description\" data-toc-modified-id=\"hypotheses-description-4.0.12.1\"><span class=\"toc-item-num\">4.0.12.1&nbsp;&nbsp;</span>hypotheses description</a></span></li><li><span><a href=\"#Conclusions-and-conjectures\" data-toc-modified-id=\"Conclusions-and-conjectures-4.0.12.2\"><span class=\"toc-item-num\">4.0.12.2&nbsp;&nbsp;</span>Conclusions and conjectures</a></span></li></ul></li></ul></li></ul></li><li><span><a href=\"#Step-4.-Decision-based-on-the-test-results.\" data-toc-modified-id=\"Step-4.-Decision-based-on-the-test-results.-5\"><span class=\"toc-item-num\">5&nbsp;&nbsp;</span>Step 4. Decision based on the test results.</a></span></li><li><span><a href=\"#Step-5.-General-Conclusion\" data-toc-modified-id=\"Step-5.-General-Conclusion-6\"><span class=\"toc-item-num\">6&nbsp;&nbsp;</span>Step 5. General Conclusion</a></span></li></ul></div>"
   ]
  },
  {
   "cell_type": "markdown",
   "metadata": {},
   "source": [
    "# Step 1. Downloading the data and its preprocessing"
   ]
  },
  {
   "cell_type": "markdown",
   "metadata": {},
   "source": [
    "_We will use 8 <a id='libraries'>libraries</a>:_ \n",
    "* pandas: for data processing\n",
    "* numpy, math: for calculations\n",
    "* matplotlib, seaborn, plotly express: for data visualisation\n",
    "* datetime: for working with data\n",
    "* scipy for hypotheses testing\n",
    "* sys, warnings: for not showing the warnings"
   ]
  },
  {
   "cell_type": "code",
   "execution_count": 1,
   "metadata": {
    "ExecuteTime": {
     "end_time": "2021-05-08T14:38:16.687309Z",
     "start_time": "2021-05-08T14:38:12.531058Z"
    }
   },
   "outputs": [],
   "source": [
    "import pandas as pd\n",
    "import numpy as np\n",
    "import matplotlib.pyplot as plt\n",
    "import datetime\n",
    "from datetime import timedelta\n",
    "import seaborn as sns\n",
    "import plotly.express as px\n",
    "import plotly.graph_objects as go\n",
    "import math as mth\n",
    "from scipy import stats as st\n",
    "import sys\n",
    "import warnings\n",
    "if not sys.warnoptions:\n",
    "       warnings.simplefilter(\"ignore\")\n",
    "        \n",
    "pd.set_option('display.max_columns', 500)\n",
    "pd.set_option('display.max_rows', 500)\n"
   ]
  },
  {
   "cell_type": "code",
   "execution_count": 2,
   "metadata": {
    "ExecuteTime": {
     "end_time": "2021-05-08T14:38:18.318684Z",
     "start_time": "2021-05-08T14:38:16.691340Z"
    }
   },
   "outputs": [
    {
     "name": "stdout",
     "output_type": "stream",
     "text": [
      "Data extracted successfully\n"
     ]
    }
   ],
   "source": [
    "try:\n",
    "    hypotheses = pd.read_csv('https://code.s3.yandex.net//datasets/hypotheses_us.csv', sep=';',\n",
    "                             dtype={'Hypothesis': 'str', 'Reach': 'uint8',\n",
    "                                    'Impact': 'uint8', 'Confidence': 'uint8', 'Effort': 'uint8', })\n",
    "    orders = pd.read_csv('https://code.s3.yandex.net//datasets/orders_us.csv',\n",
    "                         parse_dates=['date'])\n",
    "    visits = pd.read_csv('https://code.s3.yandex.net//datasets/visits_us.csv', \n",
    "                         parse_dates=['date'])\n",
    "    print('Data extracted successfully')\n",
    "except FileNotFoundError:\n",
    "    print('Ooops, the dateset not found.')\n",
    "\n",
    "except pd.errors.EmptyDataError:\n",
    "    print('Ooops, the dataset is empty.')"
   ]
  },
  {
   "cell_type": "code",
   "execution_count": 3,
   "metadata": {
    "ExecuteTime": {
     "end_time": "2021-05-08T14:38:18.500864Z",
     "start_time": "2021-05-08T14:38:18.333673Z"
    }
   },
   "outputs": [
    {
     "name": "stdout",
     "output_type": "stream",
     "text": [
      "The hypotheses dataset:\n",
      "<class 'pandas.core.frame.DataFrame'>\n",
      "RangeIndex: 9 entries, 0 to 8\n",
      "Data columns (total 5 columns):\n",
      " #   Column      Non-Null Count  Dtype \n",
      "---  ------      --------------  ----- \n",
      " 0   Hypothesis  9 non-null      object\n",
      " 1   Reach       9 non-null      uint8 \n",
      " 2   Impact      9 non-null      uint8 \n",
      " 3   Confidence  9 non-null      uint8 \n",
      " 4   Effort      9 non-null      uint8 \n",
      "dtypes: object(1), uint8(4)\n",
      "memory usage: 1.4 KB\n",
      "None\n",
      "           Reach     Impact  Confidence     Effort\n",
      "count   9.000000   9.000000    9.000000   9.000000\n",
      "mean    4.777778   4.777778    5.555556   4.888889\n",
      "std     3.153481   3.192874    3.045944   2.803767\n",
      "min     1.000000   1.000000    1.000000   1.000000\n",
      "25%     3.000000   3.000000    3.000000   3.000000\n",
      "50%     3.000000   3.000000    7.000000   5.000000\n",
      "75%     8.000000   7.000000    8.000000   6.000000\n",
      "max    10.000000  10.000000    9.000000  10.000000\n",
      "Number of duplicated entities:  0\n",
      "\n",
      "\n",
      "\n",
      "The orders dataset:\n",
      "<class 'pandas.core.frame.DataFrame'>\n",
      "RangeIndex: 1197 entries, 0 to 1196\n",
      "Data columns (total 5 columns):\n",
      " #   Column         Non-Null Count  Dtype         \n",
      "---  ------         --------------  -----         \n",
      " 0   transactionId  1197 non-null   int64         \n",
      " 1   visitorId      1197 non-null   int64         \n",
      " 2   date           1197 non-null   datetime64[ns]\n",
      " 3   revenue        1197 non-null   float64       \n",
      " 4   group          1197 non-null   object        \n",
      "dtypes: datetime64[ns](1), float64(1), int64(2), object(1)\n",
      "memory usage: 105.3 KB\n",
      "None\n",
      "       transactionId     visitorId       revenue\n",
      "count   1.197000e+03  1.197000e+03   1197.000000\n",
      "mean    2.155621e+09  2.165960e+09    131.491646\n",
      "std     1.229085e+09  1.236014e+09    603.004729\n",
      "min     1.062393e+06  5.114589e+06      5.000000\n",
      "25%     1.166776e+09  1.111826e+09     20.800000\n",
      "50%     2.145194e+09  2.217985e+09     50.200000\n",
      "75%     3.237740e+09  3.177606e+09    130.400000\n",
      "max     4.293856e+09  4.283872e+09  19920.400000\n",
      "The dataset \"orders\" contains information on the period from 2019-08-01 00:00:00 to 2019-08-31 00:00:00: 31 days\n",
      "Number of duplicated entities:  0\n",
      "\n",
      "\n",
      "\n",
      "The visits dataset:\n",
      "<class 'pandas.core.frame.DataFrame'>\n",
      "RangeIndex: 62 entries, 0 to 61\n",
      "Data columns (total 3 columns):\n",
      " #   Column  Non-Null Count  Dtype         \n",
      "---  ------  --------------  -----         \n",
      " 0   date    62 non-null     datetime64[ns]\n",
      " 1   group   62 non-null     object        \n",
      " 2   visits  62 non-null     int64         \n",
      "dtypes: datetime64[ns](1), int64(1), object(1)\n",
      "memory usage: 4.6 KB\n",
      "None\n",
      "           visits\n",
      "count   62.000000\n",
      "mean   607.290323\n",
      "std    114.400560\n",
      "min    361.000000\n",
      "25%    534.000000\n",
      "50%    624.500000\n",
      "75%    710.500000\n",
      "max    770.000000\n",
      "The dataset \"visits\" contains information on the period from 2019-08-01 00:00:00 to 2019-08-31 00:00:00: 31 days\n",
      "Number of duplicated entities:  0\n",
      "\n",
      "\n",
      "\n"
     ]
    }
   ],
   "source": [
    "datasets = ['hypotheses', 'orders', 'visits']\n",
    "\n",
    "for dataset in datasets:\n",
    "\n",
    "    print('The ' + dataset + ' dataset:')\n",
    "    print(vars()[dataset].info(memory_usage='deep'))\n",
    "    print(vars()[dataset].describe())\n",
    "    if 'date' in (vars()[dataset].columns):\n",
    "        print(\n",
    "            f'The dataset \"{dataset}\" contains information on the period from {vars()[dataset].date.min()} to {vars()[dataset].date.max()}: {int((orders.date.max() - orders.date.min()) /  np.timedelta64(1, \"D\")) + 1} days')\n",
    "    print('Number of duplicated entities: ',\n",
    "          vars()[dataset].duplicated().sum())\n",
    "    vars()[dataset].columns = vars()[dataset].columns.str.lower()\n",
    "\n",
    "    print('\\n\\n')"
   ]
  },
  {
   "cell_type": "markdown",
   "metadata": {},
   "source": [
    "#### downcasting"
   ]
  },
  {
   "cell_type": "markdown",
   "metadata": {},
   "source": [
    "some downcasting to save space "
   ]
  },
  {
   "cell_type": "code",
   "execution_count": 4,
   "metadata": {
    "ExecuteTime": {
     "end_time": "2021-05-08T14:38:18.540793Z",
     "start_time": "2021-05-08T14:38:18.513399Z"
    }
   },
   "outputs": [],
   "source": [
    "orders['transactionid'] = pd.to_numeric(orders['transactionid'], downcast='unsigned')\n",
    "orders['visitorid'] = pd.to_numeric(orders['visitorid'], downcast='unsigned')\n",
    "orders['revenue'] = pd.to_numeric(orders['revenue'], downcast='float')\n",
    "\n",
    "visits['visits']= pd.to_numeric(visits['visits'], downcast='unsigned')"
   ]
  },
  {
   "cell_type": "markdown",
   "metadata": {},
   "source": [
    "#### comparing"
   ]
  },
  {
   "cell_type": "markdown",
   "metadata": {},
   "source": [
    "##### number of orders made"
   ]
  },
  {
   "cell_type": "code",
   "execution_count": 5,
   "metadata": {
    "ExecuteTime": {
     "end_time": "2021-05-08T14:38:18.684544Z",
     "start_time": "2021-05-08T14:38:18.552084Z"
    }
   },
   "outputs": [
    {
     "data": {
      "text/plain": [
       "B    640\n",
       "A    557\n",
       "Name: group, dtype: int64"
      ]
     },
     "execution_count": 5,
     "metadata": {},
     "output_type": "execute_result"
    }
   ],
   "source": [
    "successes = orders.group.value_counts()\n",
    "successes"
   ]
  },
  {
   "cell_type": "markdown",
   "metadata": {},
   "source": [
    "##### number of visits made"
   ]
  },
  {
   "cell_type": "code",
   "execution_count": 6,
   "metadata": {
    "ExecuteTime": {
     "end_time": "2021-05-08T14:38:18.720362Z",
     "start_time": "2021-05-08T14:38:18.699405Z"
    }
   },
   "outputs": [
    {
     "data": {
      "text/plain": [
       "group\n",
       "A    18736\n",
       "B    18916\n",
       "Name: visits, dtype: uint16"
      ]
     },
     "execution_count": 6,
     "metadata": {},
     "output_type": "execute_result"
    }
   ],
   "source": [
    "trials = visits.groupby('group')['visits'].sum()\n",
    "trials "
   ]
  },
  {
   "cell_type": "markdown",
   "metadata": {},
   "source": [
    "##### difference"
   ]
  },
  {
   "cell_type": "code",
   "execution_count": 7,
   "metadata": {
    "ExecuteTime": {
     "end_time": "2021-05-08T14:38:19.118180Z",
     "start_time": "2021-05-08T14:38:18.772953Z"
    }
   },
   "outputs": [
    {
     "data": {
      "text/plain": [
       "0.004104927280643319"
      ]
     },
     "execution_count": 7,
     "metadata": {},
     "output_type": "execute_result"
    }
   ],
   "source": [
    "(successes/trials)[1] - (successes/trials)[0]"
   ]
  },
  {
   "cell_type": "markdown",
   "metadata": {},
   "source": [
    "### Double-group participants"
   ]
  },
  {
   "cell_type": "markdown",
   "metadata": {},
   "source": [
    "Let's find whether we have users who belong to A and B at the same time and get rid of them"
   ]
  },
  {
   "cell_type": "code",
   "execution_count": 8,
   "metadata": {
    "ExecuteTime": {
     "end_time": "2021-05-08T14:38:19.190520Z",
     "start_time": "2021-05-08T14:38:19.169825Z"
    }
   },
   "outputs": [],
   "source": [
    "orders_count = orders.groupby(\n",
    "    'visitorid')['group'].value_counts().unstack().fillna(0)\n",
    "spolied_uses_groupping = orders_count[np.logical_not(\n",
    "    np.logical_or(orders_count['A'] == 0.0, orders_count['B'] == 0.0))]"
   ]
  },
  {
   "cell_type": "markdown",
   "metadata": {},
   "source": [
    "We found users who belong both to A and B and we better get rid of them for keeping the data clean"
   ]
  },
  {
   "cell_type": "code",
   "execution_count": 9,
   "metadata": {
    "ExecuteTime": {
     "end_time": "2021-05-08T14:38:19.206196Z",
     "start_time": "2021-05-08T14:38:19.193329Z"
    }
   },
   "outputs": [],
   "source": [
    "bad_orders = orders[orders.visitorid.isin(spolied_uses_groupping.index)] # orders of spoiled users\n",
    "orders = orders[np.logical_not(orders.visitorid.isin(spolied_uses_groupping.index))] # clear orders data"
   ]
  },
  {
   "cell_type": "code",
   "execution_count": 10,
   "metadata": {
    "ExecuteTime": {
     "end_time": "2021-05-08T14:38:19.236572Z",
     "start_time": "2021-05-08T14:38:19.213285Z"
    }
   },
   "outputs": [],
   "source": [
    "bad_orders_dates = bad_orders.groupby(['group', 'date']).visitorid.nunique().reset_index()\n",
    "bad_orders_dates.columns=['group','date','bad_orders_amount']"
   ]
  },
  {
   "cell_type": "markdown",
   "metadata": {},
   "source": [
    "Lets also substract the amount of spoiled orders from the visits table"
   ]
  },
  {
   "cell_type": "code",
   "execution_count": 11,
   "metadata": {
    "ExecuteTime": {
     "end_time": "2021-05-08T14:38:19.294029Z",
     "start_time": "2021-05-08T14:38:19.244719Z"
    }
   },
   "outputs": [
    {
     "name": "stdout",
     "output_type": "stream",
     "text": [
      "<class 'pandas.core.frame.DataFrame'>\n",
      "Int64Index: 1016 entries, 0 to 1196\n",
      "Data columns (total 5 columns):\n",
      " #   Column         Non-Null Count  Dtype         \n",
      "---  ------         --------------  -----         \n",
      " 0   transactionid  1016 non-null   uint32        \n",
      " 1   visitorid      1016 non-null   uint32        \n",
      " 2   date           1016 non-null   datetime64[ns]\n",
      " 3   revenue        1016 non-null   float32       \n",
      " 4   group          1016 non-null   object        \n",
      "dtypes: datetime64[ns](1), float32(1), object(1), uint32(2)\n",
      "memory usage: 35.7+ KB\n"
     ]
    }
   ],
   "source": [
    "visits = visits.merge(bad_orders_dates, on =['group', 'date'], how='left').fillna(0)\n",
    "visits['visits'] = visits['visits'] - visits['bad_orders_amount']\n",
    "visits = visits.drop('bad_orders_amount', axis=1)\n",
    "\n",
    "orders.info()"
   ]
  },
  {
   "cell_type": "code",
   "execution_count": 12,
   "metadata": {
    "ExecuteTime": {
     "end_time": "2021-05-08T14:38:19.346578Z",
     "start_time": "2021-05-08T14:38:19.314453Z"
    }
   },
   "outputs": [
    {
     "name": "stdout",
     "output_type": "stream",
     "text": [
      "We threw away 58 users that belong both to A and B made 181 orders\n"
     ]
    }
   ],
   "source": [
    "print(f'We threw away {len(spolied_uses_groupping)} users that belong both to A and B made {len(bad_orders)} orders')"
   ]
  },
  {
   "cell_type": "markdown",
   "metadata": {},
   "source": [
    "### Conclusion"
   ]
  },
  {
   "cell_type": "markdown",
   "metadata": {},
   "source": [
    "The datasets contain information on monthly visits ond orders on the site.      \n",
    "There are users who have been mistakenly assigned to both groups A and B groups. I  got rid of them losing 181 rows of orders data from 58 users. Also I substracted those wrong users from the visits table. Now the data is clear, no duplicates found.<br><br>\n",
    "hypotheses:<br>\n",
    "We have 9 hypotheses to test with nice and understandable ratings. <br>\n",
    "A B: <br>\n",
    "Orders and visits datasets are prepared for A/B test analyse due to source separations they already have. It's just A/B test, not muliple test. There are both a little more visitors and a little more orders from group B. From the first glance, ratio orders per visits for B is ~0.4% bigger, that's not much, certainly not for this volumes of sales. Further information is yet to discover."
   ]
  },
  {
   "cell_type": "markdown",
   "metadata": {},
   "source": [
    "# Step 2. Part 1.Prioritizing Hypotheses\n"
   ]
  },
  {
   "cell_type": "markdown",
   "metadata": {},
   "source": [
    "### ICE framework"
   ]
  },
  {
   "cell_type": "code",
   "execution_count": 13,
   "metadata": {
    "ExecuteTime": {
     "end_time": "2021-05-08T14:38:19.449202Z",
     "start_time": "2021-05-08T14:38:19.401565Z"
    }
   },
   "outputs": [
    {
     "data": {
      "text/html": [
       "<div>\n",
       "<style scoped>\n",
       "    .dataframe tbody tr th:only-of-type {\n",
       "        vertical-align: middle;\n",
       "    }\n",
       "\n",
       "    .dataframe tbody tr th {\n",
       "        vertical-align: top;\n",
       "    }\n",
       "\n",
       "    .dataframe thead th {\n",
       "        text-align: right;\n",
       "    }\n",
       "</style>\n",
       "<table border=\"1\" class=\"dataframe\">\n",
       "  <thead>\n",
       "    <tr style=\"text-align: right;\">\n",
       "      <th></th>\n",
       "      <th>hypothesis</th>\n",
       "      <th>ICE</th>\n",
       "      <th>ICE_share</th>\n",
       "    </tr>\n",
       "  </thead>\n",
       "  <tbody>\n",
       "    <tr>\n",
       "      <th>8</th>\n",
       "      <td>Launch a promotion that gives users discounts ...</td>\n",
       "      <td>16.20</td>\n",
       "      <td>100.00</td>\n",
       "    </tr>\n",
       "    <tr>\n",
       "      <th>0</th>\n",
       "      <td>Add two new channels for attracting traffic. T...</td>\n",
       "      <td>13.33</td>\n",
       "      <td>82.28</td>\n",
       "    </tr>\n",
       "    <tr>\n",
       "      <th>7</th>\n",
       "      <td>Add a subscription form to all the main pages....</td>\n",
       "      <td>11.20</td>\n",
       "      <td>69.14</td>\n",
       "    </tr>\n",
       "    <tr>\n",
       "      <th>6</th>\n",
       "      <td>Show banners with current offers and sales on ...</td>\n",
       "      <td>8.00</td>\n",
       "      <td>49.38</td>\n",
       "    </tr>\n",
       "    <tr>\n",
       "      <th>2</th>\n",
       "      <td>Add product recommendation blocks to the store...</td>\n",
       "      <td>7.00</td>\n",
       "      <td>43.21</td>\n",
       "    </tr>\n",
       "    <tr>\n",
       "      <th>1</th>\n",
       "      <td>Launch your own delivery service. This will sh...</td>\n",
       "      <td>2.00</td>\n",
       "      <td>12.35</td>\n",
       "    </tr>\n",
       "    <tr>\n",
       "      <th>5</th>\n",
       "      <td>Add a customer review page. This will increase...</td>\n",
       "      <td>1.33</td>\n",
       "      <td>8.21</td>\n",
       "    </tr>\n",
       "    <tr>\n",
       "      <th>3</th>\n",
       "      <td>Change the category structure. This will incre...</td>\n",
       "      <td>1.12</td>\n",
       "      <td>6.91</td>\n",
       "    </tr>\n",
       "    <tr>\n",
       "      <th>4</th>\n",
       "      <td>Change the background color on the main page. ...</td>\n",
       "      <td>1.00</td>\n",
       "      <td>6.17</td>\n",
       "    </tr>\n",
       "  </tbody>\n",
       "</table>\n",
       "</div>"
      ],
      "text/plain": [
       "                                          hypothesis    ICE  ICE_share\n",
       "8  Launch a promotion that gives users discounts ...  16.20     100.00\n",
       "0  Add two new channels for attracting traffic. T...  13.33      82.28\n",
       "7  Add a subscription form to all the main pages....  11.20      69.14\n",
       "6  Show banners with current offers and sales on ...   8.00      49.38\n",
       "2  Add product recommendation blocks to the store...   7.00      43.21\n",
       "1  Launch your own delivery service. This will sh...   2.00      12.35\n",
       "5  Add a customer review page. This will increase...   1.33       8.21\n",
       "3  Change the category structure. This will incre...   1.12       6.91\n",
       "4  Change the background color on the main page. ...   1.00       6.17"
      ]
     },
     "execution_count": 13,
     "metadata": {},
     "output_type": "execute_result"
    }
   ],
   "source": [
    "hypotheses['ICE'] = round(hypotheses['impact'] *\n",
    "                          hypotheses['confidence'] / hypotheses['effort'], 2)\n",
    "hypotheses['ICE_share'] = round(\n",
    "    hypotheses['ICE'] / hypotheses['ICE'].max() * 100, 2)\n",
    "ICE_hypotheses = hypotheses[['hypothesis', 'ICE', 'ICE_share']].sort_values(\n",
    "    by='ICE', ascending=False)\n",
    "ICE_hypotheses"
   ]
  },
  {
   "cell_type": "markdown",
   "metadata": {},
   "source": [
    "### RICE framework"
   ]
  },
  {
   "cell_type": "code",
   "execution_count": 14,
   "metadata": {
    "ExecuteTime": {
     "end_time": "2021-05-08T14:38:19.509071Z",
     "start_time": "2021-05-08T14:38:19.460641Z"
    }
   },
   "outputs": [
    {
     "data": {
      "text/html": [
       "<div>\n",
       "<style scoped>\n",
       "    .dataframe tbody tr th:only-of-type {\n",
       "        vertical-align: middle;\n",
       "    }\n",
       "\n",
       "    .dataframe tbody tr th {\n",
       "        vertical-align: top;\n",
       "    }\n",
       "\n",
       "    .dataframe thead th {\n",
       "        text-align: right;\n",
       "    }\n",
       "</style>\n",
       "<table border=\"1\" class=\"dataframe\">\n",
       "  <thead>\n",
       "    <tr style=\"text-align: right;\">\n",
       "      <th></th>\n",
       "      <th>hypothesis</th>\n",
       "      <th>RICE</th>\n",
       "      <th>RICE_share</th>\n",
       "    </tr>\n",
       "  </thead>\n",
       "  <tbody>\n",
       "    <tr>\n",
       "      <th>2</th>\n",
       "      <td>Add product recommendation blocks to the store...</td>\n",
       "      <td>56.0</td>\n",
       "      <td>100.00</td>\n",
       "    </tr>\n",
       "    <tr>\n",
       "      <th>0</th>\n",
       "      <td>Add two new channels for attracting traffic. T...</td>\n",
       "      <td>40.0</td>\n",
       "      <td>71.43</td>\n",
       "    </tr>\n",
       "    <tr>\n",
       "      <th>6</th>\n",
       "      <td>Show banners with current offers and sales on ...</td>\n",
       "      <td>40.0</td>\n",
       "      <td>71.43</td>\n",
       "    </tr>\n",
       "    <tr>\n",
       "      <th>8</th>\n",
       "      <td>Launch a promotion that gives users discounts ...</td>\n",
       "      <td>16.2</td>\n",
       "      <td>28.93</td>\n",
       "    </tr>\n",
       "    <tr>\n",
       "      <th>7</th>\n",
       "      <td>Add a subscription form to all the main pages....</td>\n",
       "      <td>9.6</td>\n",
       "      <td>17.14</td>\n",
       "    </tr>\n",
       "    <tr>\n",
       "      <th>3</th>\n",
       "      <td>Change the category structure. This will incre...</td>\n",
       "      <td>9.0</td>\n",
       "      <td>16.07</td>\n",
       "    </tr>\n",
       "    <tr>\n",
       "      <th>1</th>\n",
       "      <td>Launch your own delivery service. This will sh...</td>\n",
       "      <td>4.0</td>\n",
       "      <td>7.14</td>\n",
       "    </tr>\n",
       "    <tr>\n",
       "      <th>5</th>\n",
       "      <td>Add a customer review page. This will increase...</td>\n",
       "      <td>4.0</td>\n",
       "      <td>7.14</td>\n",
       "    </tr>\n",
       "    <tr>\n",
       "      <th>4</th>\n",
       "      <td>Change the background color on the main page. ...</td>\n",
       "      <td>3.0</td>\n",
       "      <td>5.36</td>\n",
       "    </tr>\n",
       "  </tbody>\n",
       "</table>\n",
       "</div>"
      ],
      "text/plain": [
       "                                          hypothesis  RICE  RICE_share\n",
       "2  Add product recommendation blocks to the store...  56.0      100.00\n",
       "0  Add two new channels for attracting traffic. T...  40.0       71.43\n",
       "6  Show banners with current offers and sales on ...  40.0       71.43\n",
       "8  Launch a promotion that gives users discounts ...  16.2       28.93\n",
       "7  Add a subscription form to all the main pages....   9.6       17.14\n",
       "3  Change the category structure. This will incre...   9.0       16.07\n",
       "1  Launch your own delivery service. This will sh...   4.0        7.14\n",
       "5  Add a customer review page. This will increase...   4.0        7.14\n",
       "4  Change the background color on the main page. ...   3.0        5.36"
      ]
     },
     "execution_count": 14,
     "metadata": {},
     "output_type": "execute_result"
    }
   ],
   "source": [
    "hypotheses['RICE'] = round(hypotheses['reach'] * hypotheses['impact']\n",
    "                           * hypotheses['confidence'] / hypotheses['effort'], 2)\n",
    "hypotheses['RICE_share'] = round(\n",
    "    hypotheses['RICE'] / hypotheses['RICE'].max() * 100, 2)\n",
    "RICE_hypotheses = hypotheses[['hypothesis', 'RICE', 'RICE_share']].sort_values(\n",
    "    by='RICE', ascending=False)\n",
    "RICE_hypotheses"
   ]
  },
  {
   "cell_type": "markdown",
   "metadata": {},
   "source": [
    "### Prioritization changes"
   ]
  },
  {
   "cell_type": "markdown",
   "metadata": {},
   "source": [
    "Lets see whether 5 lead hypotheses for ICE and RICE are the same:"
   ]
  },
  {
   "cell_type": "code",
   "execution_count": 15,
   "metadata": {
    "ExecuteTime": {
     "end_time": "2021-05-08T14:38:19.548469Z",
     "start_time": "2021-05-08T14:38:19.522957Z"
    }
   },
   "outputs": [
    {
     "data": {
      "text/html": [
       "<div>\n",
       "<style scoped>\n",
       "    .dataframe tbody tr th:only-of-type {\n",
       "        vertical-align: middle;\n",
       "    }\n",
       "\n",
       "    .dataframe tbody tr th {\n",
       "        vertical-align: top;\n",
       "    }\n",
       "\n",
       "    .dataframe thead th {\n",
       "        text-align: right;\n",
       "    }\n",
       "</style>\n",
       "<table border=\"1\" class=\"dataframe\">\n",
       "  <thead>\n",
       "    <tr style=\"text-align: right;\">\n",
       "      <th></th>\n",
       "      <th>hypothesis</th>\n",
       "      <th>RICE</th>\n",
       "      <th>ICE</th>\n",
       "    </tr>\n",
       "  </thead>\n",
       "  <tbody>\n",
       "    <tr>\n",
       "      <th>2</th>\n",
       "      <td>Add product recommendation blocks to the store...</td>\n",
       "      <td>56.0</td>\n",
       "      <td>7.00</td>\n",
       "    </tr>\n",
       "    <tr>\n",
       "      <th>0</th>\n",
       "      <td>Add two new channels for attracting traffic. T...</td>\n",
       "      <td>40.0</td>\n",
       "      <td>13.33</td>\n",
       "    </tr>\n",
       "    <tr>\n",
       "      <th>6</th>\n",
       "      <td>Show banners with current offers and sales on ...</td>\n",
       "      <td>40.0</td>\n",
       "      <td>8.00</td>\n",
       "    </tr>\n",
       "    <tr>\n",
       "      <th>8</th>\n",
       "      <td>Launch a promotion that gives users discounts ...</td>\n",
       "      <td>16.2</td>\n",
       "      <td>16.20</td>\n",
       "    </tr>\n",
       "    <tr>\n",
       "      <th>7</th>\n",
       "      <td>Add a subscription form to all the main pages....</td>\n",
       "      <td>9.6</td>\n",
       "      <td>11.20</td>\n",
       "    </tr>\n",
       "  </tbody>\n",
       "</table>\n",
       "</div>"
      ],
      "text/plain": [
       "                                          hypothesis  RICE    ICE\n",
       "2  Add product recommendation blocks to the store...  56.0   7.00\n",
       "0  Add two new channels for attracting traffic. T...  40.0  13.33\n",
       "6  Show banners with current offers and sales on ...  40.0   8.00\n",
       "8  Launch a promotion that gives users discounts ...  16.2  16.20\n",
       "7  Add a subscription form to all the main pages....   9.6  11.20"
      ]
     },
     "execution_count": 15,
     "metadata": {},
     "output_type": "execute_result"
    }
   ],
   "source": [
    "top_5 = RICE_hypotheses[['hypothesis','RICE']][:5].merge(ICE_hypotheses[\n",
    "                                  'ICE'][:5], how='inner', left_index=True, right_index=True)\n",
    "top_5"
   ]
  },
  {
   "cell_type": "markdown",
   "metadata": {},
   "source": [
    "They are. How about top 3 leaders?"
   ]
  },
  {
   "cell_type": "code",
   "execution_count": 16,
   "metadata": {
    "ExecuteTime": {
     "end_time": "2021-05-08T14:38:19.581132Z",
     "start_time": "2021-05-08T14:38:19.554512Z"
    }
   },
   "outputs": [
    {
     "data": {
      "text/html": [
       "<div>\n",
       "<style scoped>\n",
       "    .dataframe tbody tr th:only-of-type {\n",
       "        vertical-align: middle;\n",
       "    }\n",
       "\n",
       "    .dataframe tbody tr th {\n",
       "        vertical-align: top;\n",
       "    }\n",
       "\n",
       "    .dataframe thead th {\n",
       "        text-align: right;\n",
       "    }\n",
       "</style>\n",
       "<table border=\"1\" class=\"dataframe\">\n",
       "  <thead>\n",
       "    <tr style=\"text-align: right;\">\n",
       "      <th></th>\n",
       "      <th>hypothesis</th>\n",
       "      <th>RICE</th>\n",
       "      <th>ICE</th>\n",
       "    </tr>\n",
       "  </thead>\n",
       "  <tbody>\n",
       "    <tr>\n",
       "      <th>0</th>\n",
       "      <td>Add two new channels for attracting traffic. T...</td>\n",
       "      <td>40.0</td>\n",
       "      <td>13.33</td>\n",
       "    </tr>\n",
       "  </tbody>\n",
       "</table>\n",
       "</div>"
      ],
      "text/plain": [
       "                                          hypothesis  RICE    ICE\n",
       "0  Add two new channels for attracting traffic. T...  40.0  13.33"
      ]
     },
     "execution_count": 16,
     "metadata": {},
     "output_type": "execute_result"
    }
   ],
   "source": [
    "top_3 = RICE_hypotheses[['hypothesis','RICE']][:3].merge(ICE_hypotheses[\n",
    "                                  'ICE'][:3], how='inner', left_index=True, right_index=True)\n",
    "top_3"
   ]
  },
  {
   "cell_type": "code",
   "execution_count": 17,
   "metadata": {
    "ExecuteTime": {
     "end_time": "2021-05-08T14:38:19.623230Z",
     "start_time": "2021-05-08T14:38:19.603817Z"
    }
   },
   "outputs": [
    {
     "data": {
      "text/plain": [
       "'Add two new channels for attracting traffic. This will bring 30% more users'"
      ]
     },
     "execution_count": 17,
     "metadata": {},
     "output_type": "execute_result"
    }
   ],
   "source": [
    "top_3.hypothesis[0]"
   ]
  },
  {
   "cell_type": "markdown",
   "metadata": {},
   "source": [
    "#### Conclusion:"
   ]
  },
  {
   "cell_type": "code",
   "execution_count": 18,
   "metadata": {
    "ExecuteTime": {
     "end_time": "2021-05-08T14:38:19.668895Z",
     "start_time": "2021-05-08T14:38:19.634901Z"
    }
   },
   "outputs": [
    {
     "name": "stdout",
     "output_type": "stream",
     "text": [
      "We see here that ICE and RICE approach bring us same top 5 leaders, #[2, 0, 6, 8, 7], but they differ in the most promising hypoteses. For ICE it is: \n",
      "\"Launch a promotion that gives users discounts on their birthdays\", \n",
      "and for RICE: \n",
      "\"Add product recommendation blocks to the store's site. This will increase conversion and average purchase size\". \n",
      "Never the less both of them consider hypotesis \"Add two new channels for attracting traffic. This will bring 30% more users\" to be among top 3, but it is still not the favorite one. \n",
      "Important is that we can see a bigger difference in share: RICE leader stands 28.57% aside from the closes hypotheis, meanwhile ICE have smaller difference of 17.72%. Since we really should pay attention to the amount of users our hypothesis can affect and since the percentage margin for RICE is bigger, I would go with its leader hypothesis: \n",
      "\"Add product recommendation blocks to the store's site. This will increase conversion and average purchase size\"\n"
     ]
    }
   ],
   "source": [
    "print(f'We see here that ICE and RICE approach bring us same top 5 leaders, #{list(top_5.index)}, but they differ in the most promising hypoteses. For ICE it is: \\n\"{ICE_hypotheses.reset_index().hypothesis[0]}\", \\nand for RICE: \\n\"{RICE_hypotheses.reset_index().hypothesis[0]}\". \\nNever the less both of them consider hypotesis \"{top_3.hypothesis[0]}\" to be among top 3, but it is still not the favorite one. \\nImportant is that we can see a bigger difference in share: RICE leader stands {round(RICE_hypotheses.reset_index().RICE_share[0]-RICE_hypotheses.reset_index().RICE_share[1],2)}% aside from the closes hypotheis, meanwhile ICE have smaller difference of {round(ICE_hypotheses.reset_index().ICE_share[0]-ICE_hypotheses.reset_index().ICE_share[1],2)}%. Since we really should pay attention to the amount of users our hypothesis can affect and since the percentage margin for RICE is bigger, I would go with its leader hypothesis: \\n\"{RICE_hypotheses.reset_index().hypothesis[0]}\"')"
   ]
  },
  {
   "cell_type": "markdown",
   "metadata": {},
   "source": [
    "### ICE/RICE comparison plot"
   ]
  },
  {
   "cell_type": "code",
   "execution_count": 19,
   "metadata": {
    "ExecuteTime": {
     "end_time": "2021-05-08T14:38:19.694345Z",
     "start_time": "2021-05-08T14:38:19.680616Z"
    }
   },
   "outputs": [],
   "source": [
    "ICE_RICE_merged = ICE_hypotheses[['hypothesis', 'ICE']].merge(\n",
    "    RICE_hypotheses['RICE'], left_index=True, right_index=True)"
   ]
  },
  {
   "cell_type": "code",
   "execution_count": 20,
   "metadata": {
    "ExecuteTime": {
     "end_time": "2021-05-08T14:38:26.577834Z",
     "start_time": "2021-05-08T14:38:19.704830Z"
    }
   },
   "outputs": [
    {
     "data": {
      "image/png": "[encoded data removed]"
     },
     "metadata": {},
     "output_type": "display_data"
    }
   ],
   "source": [
    "fig = go.Figure(data=[\n",
    "    go.Bar(name='ICE', x=ICE_RICE_merged.index, y=ICE_RICE_merged.ICE),\n",
    "    go.Bar(name='RICE', x=ICE_RICE_merged.index, y=ICE_RICE_merged.RICE)\n",
    "])\n",
    "fig.update_layout(title_text='ICE/RICE ratio')\n",
    "\n",
    "fig.show('png')"
   ]
  },
  {
   "cell_type": "markdown",
   "metadata": {},
   "source": [
    "# Step 3. Part 2. A/B Test Analysis"
   ]
  },
  {
   "cell_type": "markdown",
   "metadata": {},
   "source": [
    "### Cumulative revenue by group\n",
    "Let's compare the revenue, one of the most speaking for itself indicator of success"
   ]
  },
  {
   "cell_type": "code",
   "execution_count": 21,
   "metadata": {
    "ExecuteTime": {
     "end_time": "2021-05-08T14:38:26.592427Z",
     "start_time": "2021-05-08T14:38:26.581160Z"
    }
   },
   "outputs": [],
   "source": [
    "datesGroups = orders[['date', 'group']].drop_duplicates()"
   ]
  },
  {
   "cell_type": "code",
   "execution_count": 22,
   "metadata": {
    "ExecuteTime": {
     "end_time": "2021-05-08T14:38:26.901384Z",
     "start_time": "2021-05-08T14:38:26.606668Z"
    },
    "cell_style": "center"
   },
   "outputs": [],
   "source": [
    "ordersAggregated = datesGroups.apply(lambda x: orders[np.logical_and(orders['date'] <= x['date'], orders['group'] == x['group'])].agg(\n",
    "    {'date': 'max', 'group': 'max', 'transactionid': pd.Series.nunique, 'visitorid': pd.Series.nunique, 'revenue': 'sum'}), axis=1).sort_values(by=['date', 'group'])"
   ]
  },
  {
   "cell_type": "code",
   "execution_count": 23,
   "metadata": {
    "ExecuteTime": {
     "end_time": "2021-05-08T14:38:27.151332Z",
     "start_time": "2021-05-08T14:38:26.920846Z"
    }
   },
   "outputs": [],
   "source": [
    "visitorsAggregated = datesGroups.apply(lambda x: visits[np.logical_and(visits['date'] <= x['date'], visits['group'] == x['group'])].agg({'date' : 'max', 'group' : 'max', 'visits' : 'sum'}), axis=1).sort_values(by=['date','group']) "
   ]
  },
  {
   "cell_type": "code",
   "execution_count": 24,
   "metadata": {
    "ExecuteTime": {
     "end_time": "2021-05-08T14:38:27.165711Z",
     "start_time": "2021-05-08T14:38:27.154292Z"
    }
   },
   "outputs": [],
   "source": [
    "cumulativeData = ordersAggregated.merge(visitorsAggregated, left_on=[\n",
    "                                        'date', 'group'], right_on=['date', 'group'])\n",
    "cumulativeData.columns = ['date', 'group',\n",
    "                          'orders', 'buyers', 'revenue', 'visitors']"
   ]
  },
  {
   "cell_type": "code",
   "execution_count": 25,
   "metadata": {
    "ExecuteTime": {
     "end_time": "2021-05-08T14:38:27.190552Z",
     "start_time": "2021-05-08T14:38:27.172412Z"
    }
   },
   "outputs": [
    {
     "data": {
      "text/html": [
       "<div>\n",
       "<style scoped>\n",
       "    .dataframe tbody tr th:only-of-type {\n",
       "        vertical-align: middle;\n",
       "    }\n",
       "\n",
       "    .dataframe tbody tr th {\n",
       "        vertical-align: top;\n",
       "    }\n",
       "\n",
       "    .dataframe thead th {\n",
       "        text-align: right;\n",
       "    }\n",
       "</style>\n",
       "<table border=\"1\" class=\"dataframe\">\n",
       "  <thead>\n",
       "    <tr style=\"text-align: right;\">\n",
       "      <th></th>\n",
       "      <th>date</th>\n",
       "      <th>group</th>\n",
       "      <th>orders</th>\n",
       "      <th>buyers</th>\n",
       "      <th>revenue</th>\n",
       "      <th>visitors</th>\n",
       "      <th>average_order</th>\n",
       "    </tr>\n",
       "  </thead>\n",
       "  <tbody>\n",
       "    <tr>\n",
       "      <th>0</th>\n",
       "      <td>2019-08-01</td>\n",
       "      <td>A</td>\n",
       "      <td>23</td>\n",
       "      <td>19</td>\n",
       "      <td>2266.599854</td>\n",
       "      <td>718.0</td>\n",
       "      <td>98.547820</td>\n",
       "    </tr>\n",
       "    <tr>\n",
       "      <th>1</th>\n",
       "      <td>2019-08-01</td>\n",
       "      <td>B</td>\n",
       "      <td>17</td>\n",
       "      <td>17</td>\n",
       "      <td>967.199951</td>\n",
       "      <td>710.0</td>\n",
       "      <td>56.894115</td>\n",
       "    </tr>\n",
       "    <tr>\n",
       "      <th>2</th>\n",
       "      <td>2019-08-02</td>\n",
       "      <td>A</td>\n",
       "      <td>42</td>\n",
       "      <td>36</td>\n",
       "      <td>3734.899902</td>\n",
       "      <td>1336.0</td>\n",
       "      <td>88.926188</td>\n",
       "    </tr>\n",
       "    <tr>\n",
       "      <th>3</th>\n",
       "      <td>2019-08-02</td>\n",
       "      <td>B</td>\n",
       "      <td>40</td>\n",
       "      <td>39</td>\n",
       "      <td>3535.300293</td>\n",
       "      <td>1290.0</td>\n",
       "      <td>88.382507</td>\n",
       "    </tr>\n",
       "    <tr>\n",
       "      <th>4</th>\n",
       "      <td>2019-08-03</td>\n",
       "      <td>A</td>\n",
       "      <td>66</td>\n",
       "      <td>60</td>\n",
       "      <td>5550.100098</td>\n",
       "      <td>1843.0</td>\n",
       "      <td>84.092426</td>\n",
       "    </tr>\n",
       "    <tr>\n",
       "      <th>5</th>\n",
       "      <td>2019-08-03</td>\n",
       "      <td>B</td>\n",
       "      <td>54</td>\n",
       "      <td>53</td>\n",
       "      <td>4606.899902</td>\n",
       "      <td>1797.0</td>\n",
       "      <td>85.312961</td>\n",
       "    </tr>\n",
       "    <tr>\n",
       "      <th>6</th>\n",
       "      <td>2019-08-04</td>\n",
       "      <td>A</td>\n",
       "      <td>77</td>\n",
       "      <td>71</td>\n",
       "      <td>6225.600098</td>\n",
       "      <td>2556.0</td>\n",
       "      <td>80.851949</td>\n",
       "    </tr>\n",
       "    <tr>\n",
       "      <th>7</th>\n",
       "      <td>2019-08-04</td>\n",
       "      <td>B</td>\n",
       "      <td>68</td>\n",
       "      <td>66</td>\n",
       "      <td>6138.500000</td>\n",
       "      <td>2564.0</td>\n",
       "      <td>90.272059</td>\n",
       "    </tr>\n",
       "    <tr>\n",
       "      <th>8</th>\n",
       "      <td>2019-08-05</td>\n",
       "      <td>A</td>\n",
       "      <td>99</td>\n",
       "      <td>92</td>\n",
       "      <td>7623.600098</td>\n",
       "      <td>3309.0</td>\n",
       "      <td>77.006062</td>\n",
       "    </tr>\n",
       "    <tr>\n",
       "      <th>9</th>\n",
       "      <td>2019-08-05</td>\n",
       "      <td>B</td>\n",
       "      <td>89</td>\n",
       "      <td>87</td>\n",
       "      <td>7587.800293</td>\n",
       "      <td>3269.0</td>\n",
       "      <td>85.256183</td>\n",
       "    </tr>\n",
       "  </tbody>\n",
       "</table>\n",
       "</div>"
      ],
      "text/plain": [
       "        date group  orders  buyers      revenue  visitors  average_order\n",
       "0 2019-08-01     A      23      19  2266.599854     718.0      98.547820\n",
       "1 2019-08-01     B      17      17   967.199951     710.0      56.894115\n",
       "2 2019-08-02     A      42      36  3734.899902    1336.0      88.926188\n",
       "3 2019-08-02     B      40      39  3535.300293    1290.0      88.382507\n",
       "4 2019-08-03     A      66      60  5550.100098    1843.0      84.092426\n",
       "5 2019-08-03     B      54      53  4606.899902    1797.0      85.312961\n",
       "6 2019-08-04     A      77      71  6225.600098    2556.0      80.851949\n",
       "7 2019-08-04     B      68      66  6138.500000    2564.0      90.272059\n",
       "8 2019-08-05     A      99      92  7623.600098    3309.0      77.006062\n",
       "9 2019-08-05     B      89      87  7587.800293    3269.0      85.256183"
      ]
     },
     "execution_count": 25,
     "metadata": {},
     "output_type": "execute_result"
    }
   ],
   "source": [
    "cumulativeData['average_order'] = cumulativeData['revenue'] / \\\n",
    "    cumulativeData['orders']\n",
    "cumulativeData.head(10)"
   ]
  },
  {
   "cell_type": "code",
   "execution_count": 26,
   "metadata": {
    "ExecuteTime": {
     "end_time": "2021-05-08T14:38:27.230211Z",
     "start_time": "2021-05-08T14:38:27.195428Z"
    }
   },
   "outputs": [],
   "source": [
    "cumulativeRevenueA = cumulativeData[cumulativeData['group'] == 'A'][[\n",
    "    'date', 'revenue', 'average_order']]\n",
    "cumulativeRevenueB = cumulativeData[cumulativeData['group'] == 'B'][[\n",
    "    'date', 'revenue', 'average_order']]"
   ]
  },
  {
   "cell_type": "code",
   "execution_count": 27,
   "metadata": {
    "ExecuteTime": {
     "end_time": "2021-05-08T14:38:27.576385Z",
     "start_time": "2021-05-08T14:38:27.233836Z"
    }
   },
   "outputs": [
    {
     "data": {
      "image/png": "[encoded data removed]",
      "text/plain": [
       "<Figure size 720x576 with 1 Axes>"
      ]
     },
     "metadata": {
      "needs_background": "light"
     },
     "output_type": "display_data"
    }
   ],
   "source": [
    "plt.figure(figsize=(10, 8))\n",
    "plt.title('Cumulative revenue ')\n",
    "plt.grid()\n",
    "plt.plot(cumulativeRevenueA['date'], cumulativeRevenueA['revenue'], label='A')\n",
    "plt.plot(cumulativeRevenueB['date'], cumulativeRevenueB['revenue'], label='B')\n",
    "plt.xticks(rotation=45)\n",
    "plt.xlabel('date')\n",
    "plt.ylabel('revenue')\n",
    "plt.legend();"
   ]
  },
  {
   "cell_type": "markdown",
   "metadata": {},
   "source": [
    "#### Conclusions and conjectures"
   ]
  },
  {
   "cell_type": "markdown",
   "metadata": {},
   "source": [
    "The B group brought 26439 more revenue than A group (A: 53212, B: 79651), leading from the second day of test till the end, with a great surge on the 2019-08-18, while group A kept the same pace, stably gaining revenue. Probably the B group introduced a different marketing methods or announced a very popular item that caught users attention or a nice discount on that day and that caused huge order flow, but that was a 1-day event, because later on B continued with the same pace. Would be interesting to find out what happened there. Shortly: the revenue margin happened not die to \"bad\" A group visitors flow, but due to something great in B group on the 2019-08-18 and general stronger B pace."
   ]
  },
  {
   "cell_type": "markdown",
   "metadata": {},
   "source": [
    "### Cumulative average order size by group"
   ]
  },
  {
   "cell_type": "markdown",
   "metadata": {},
   "source": [
    "Let's compare the average order situration"
   ]
  },
  {
   "cell_type": "code",
   "execution_count": 28,
   "metadata": {
    "ExecuteTime": {
     "end_time": "2021-05-08T14:38:28.106025Z",
     "start_time": "2021-05-08T14:38:27.580192Z"
    }
   },
   "outputs": [
    {
     "data": {
      "image/png": "[encoded data removed]",
      "text/plain": [
       "<Figure size 720x576 with 1 Axes>"
      ]
     },
     "metadata": {
      "needs_background": "light"
     },
     "output_type": "display_data"
    }
   ],
   "source": [
    "plt.figure(figsize=(10, 8))\n",
    "plt.grid()\n",
    "plt.plot(cumulativeRevenueA['date'],\n",
    "         cumulativeRevenueA['average_order'], label='A')\n",
    "plt.plot(cumulativeRevenueB['date'],\n",
    "         cumulativeRevenueB['average_order'], label='B')\n",
    "plt.xticks(rotation=45)\n",
    "plt.title('Cumulative average order ')\n",
    "plt.xlabel('date')\n",
    "plt.ylabel('Order size')\n",
    "plt.legend();"
   ]
  },
  {
   "cell_type": "markdown",
   "metadata": {},
   "source": [
    "#### Conclusions and conjectures¶"
   ]
  },
  {
   "cell_type": "markdown",
   "metadata": {},
   "source": [
    "Once again we see that group B leads. A and B met on the 2019-08-13 but due to the mentioned above B orders surge, groups separated and A ended up with 113 cumulative order while B with 145: the difference is 32. Looks like a D is definite leader, but maybe this happened due to huge 2019-08-18 outlier."
   ]
  },
  {
   "cell_type": "markdown",
   "metadata": {},
   "source": [
    "### Relative difference graph for the average purchase sizes\n"
   ]
  },
  {
   "cell_type": "code",
   "execution_count": 29,
   "metadata": {
    "ExecuteTime": {
     "end_time": "2021-05-08T14:38:28.441598Z",
     "start_time": "2021-05-08T14:38:28.109348Z"
    }
   },
   "outputs": [
    {
     "data": {
      "image/png": "[encoded data removed]",
      "text/plain": [
       "<Figure size 720x576 with 1 Axes>"
      ]
     },
     "metadata": {
      "needs_background": "light"
     },
     "output_type": "display_data"
    }
   ],
   "source": [
    "mergedCumulativeRevenue = cumulativeRevenueA.merge(\n",
    "    cumulativeRevenueB, left_on='date', right_on='date', how='left', suffixes=['A', 'B'])\n",
    "plt.figure(figsize=(10, 8))\n",
    "plt.grid()\n",
    "\n",
    "plt.plot(mergedCumulativeRevenue['date'], (\n",
    "    mergedCumulativeRevenue['average_orderB']/mergedCumulativeRevenue['average_orderA'])-1)\n",
    "\n",
    "plt.xticks(rotation=45)\n",
    "plt.title('A/B relative difference ')\n",
    "plt.xlabel('date')\n",
    "plt.ylabel('relative difference')\n",
    "plt.axhline(y=0, color='black', linestyle='--');"
   ]
  },
  {
   "cell_type": "markdown",
   "metadata": {},
   "source": [
    "#### Conclusions and conjectures¶"
   ]
  },
  {
   "cell_type": "markdown",
   "metadata": {},
   "source": [
    "We can see that, starting low and finishing top, B group have interesting fluctuations. It has clear risings: on 2019-08-01, on 2019-08-05, on 2019-08-18, the date, that stands out again. It falls on 2019-08-08 and from and from 2019-08-11 to 2019-08-13, and from 2019-08-19.\n",
    "We see that B is nearly 27% more \"successful\" than A: their difference grow to 50%, but falls to 27% at the end. Some of the risings seem natural, but the 2019-08-17 looks like it is due to the outliers."
   ]
  },
  {
   "cell_type": "markdown",
   "metadata": {},
   "source": [
    "### Each group's conversion rate daily"
   ]
  },
  {
   "cell_type": "code",
   "execution_count": 30,
   "metadata": {
    "ExecuteTime": {
     "end_time": "2021-05-08T14:38:28.929159Z",
     "start_time": "2021-05-08T14:38:28.454589Z"
    }
   },
   "outputs": [
    {
     "data": {
      "image/png": "[encoded data removed]",
      "text/plain": [
       "<Figure size 720x576 with 1 Axes>"
      ]
     },
     "metadata": {
      "needs_background": "light"
     },
     "output_type": "display_data"
    }
   ],
   "source": [
    "cumulativeData['conversion'] = cumulativeData['orders'] / \\\n",
    "    cumulativeData['visitors']\n",
    "plt.figure(figsize=(10, 8))\n",
    "plt.grid()\n",
    "\n",
    "cumulativeDataA = cumulativeData[cumulativeData['group'] == 'A']\n",
    "cumulativeDataB = cumulativeData[cumulativeData['group'] == 'B']\n",
    "\n",
    "plt.plot(cumulativeDataA['date'], cumulativeDataA['conversion'], label='A')\n",
    "plt.plot(cumulativeDataB['date'], cumulativeDataB['conversion'], label='B')\n",
    "plt.xticks(rotation=45)\n",
    "plt.title('A/B conversion rate ')\n",
    "plt.xlabel('date')\n",
    "plt.ylabel('conversion')\n",
    "plt.legend();"
   ]
  },
  {
   "cell_type": "code",
   "execution_count": 31,
   "metadata": {
    "ExecuteTime": {
     "end_time": "2021-05-08T14:38:28.947413Z",
     "start_time": "2021-05-08T14:38:28.932232Z"
    },
    "cell_style": "center"
   },
   "outputs": [
    {
     "name": "stdout",
     "output_type": "stream",
     "text": [
      "mean conversion difference:  0.0024366555642437756\n",
      "median conversion difference:  0.0036586135848206275\n"
     ]
    }
   ],
   "source": [
    "B_conversion = pd.Series(cumulativeDataB.conversion).reset_index()\n",
    "A_conversion = pd.Series(cumulativeDataA.conversion).reset_index()\n",
    "\n",
    "print('mean conversion difference: ', (B_conversion - A_conversion).mean()[1])\n",
    "print('median conversion difference: ',(B_conversion - A_conversion).median()[1])"
   ]
  },
  {
   "cell_type": "markdown",
   "metadata": {},
   "source": [
    "#### Conclusions and conjectures¶"
   ]
  },
  {
   "cell_type": "markdown",
   "metadata": {},
   "source": [
    "Both mean and median difference between A and B conversion are less than 0.1% meaning that none of them can be called a leader. The graph is symmetrical after A and B meeting on 2019-08-06. Except for the spikes at the first day (which still bring no difference to mean and median). So even though A conversion from 2019-08-06 till the end was lower the B's, A can't be considered as looser.    \n",
    "Worth mentioning, that all the fluctuations are very little and happened on the distance from 2.4 to 3.3 for B and from 2.5 to 3.5 for A: so, the fluctuations are less than 1%. The difference between final conversion rate is just 0.4%: 2.9% for B and 2.5% for A"
   ]
  },
  {
   "cell_type": "markdown",
   "metadata": {},
   "source": [
    "### Scatter chart of the number of orders per user\n"
   ]
  },
  {
   "cell_type": "code",
   "execution_count": 32,
   "metadata": {
    "ExecuteTime": {
     "end_time": "2021-05-08T14:38:29.150533Z",
     "start_time": "2021-05-08T14:38:28.950730Z"
    },
    "cell_style": "center"
   },
   "outputs": [],
   "source": [
    "ordersByUsers = orders.drop(['group', 'revenue', 'date'], axis=1).groupby('visitorid', as_index=False).agg({'transactionid' : pd.Series.nunique})\n",
    "ordersByUsers.columns = ['userId', 'orders']"
   ]
  },
  {
   "cell_type": "code",
   "execution_count": 33,
   "metadata": {
    "ExecuteTime": {
     "end_time": "2021-05-08T14:38:30.777940Z",
     "start_time": "2021-05-08T14:38:29.153137Z"
    }
   },
   "outputs": [
    {
     "data": {
      "image/png": "[encoded data removed]"
     },
     "metadata": {},
     "output_type": "display_data"
    }
   ],
   "source": [
    "x_values = pd.Series(range(0, len(ordersByUsers)))\n",
    "fig = px.scatter(ordersByUsers, x=x_values, y=ordersByUsers['orders'])\n",
    "fig.update_layout(title_text=\"Number or orders per user\",\n",
    "                  title_font_size=30, xaxis_title=\"number of users\", yaxis_title=\"number of orders\",\n",
    ")\n",
    "\n",
    "fig.show('png')\n"
   ]
  },
  {
   "cell_type": "code",
   "execution_count": 34,
   "metadata": {
    "ExecuteTime": {
     "end_time": "2021-05-08T14:38:30.806075Z",
     "start_time": "2021-05-08T14:38:30.790300Z"
    }
   },
   "outputs": [
    {
     "name": "stdout",
     "output_type": "stream",
     "text": [
      "most frequent amount of orders is 1,\n",
      "middle amount of orders is 1,\n",
      "mean amount of orders is also 1.04,\n",
      "\n"
     ]
    }
   ],
   "source": [
    "print(f'most frequent amount of orders is {int(ordersByUsers.orders.mode())},\\nmiddle amount of orders is {int(ordersByUsers.orders.median())},\\nmean amount of orders is also {round(ordersByUsers.orders.mean(),2)},\\n')"
   ]
  },
  {
   "cell_type": "markdown",
   "metadata": {},
   "source": [
    "#### Conclusions and conjectures"
   ]
  },
  {
   "cell_type": "markdown",
   "metadata": {},
   "source": [
    "In general amount of purchases is 1, but we have 2 and 3 orders from 1 user. I would go for calling 3 an outlier: having 2 orders is rare, but it is a normal customer behaviour, we can't just cut them"
   ]
  },
  {
   "cell_type": "markdown",
   "metadata": {},
   "source": [
    "### 95th and 99th percentiles for the number of orders per user"
   ]
  },
  {
   "cell_type": "code",
   "execution_count": 35,
   "metadata": {
    "ExecuteTime": {
     "end_time": "2021-05-08T14:38:30.827370Z",
     "start_time": "2021-05-08T14:38:30.814930Z"
    }
   },
   "outputs": [
    {
     "data": {
      "text/plain": [
       "3"
      ]
     },
     "execution_count": 35,
     "metadata": {},
     "output_type": "execute_result"
    }
   ],
   "source": [
    "ordersByUsers['orders'].max()"
   ]
  },
  {
   "cell_type": "code",
   "execution_count": 36,
   "metadata": {
    "ExecuteTime": {
     "end_time": "2021-05-08T14:38:30.849630Z",
     "start_time": "2021-05-08T14:38:30.835504Z"
    }
   },
   "outputs": [
    {
     "data": {
      "text/plain": [
       "array([1., 1., 2.])"
      ]
     },
     "execution_count": 36,
     "metadata": {},
     "output_type": "execute_result"
    }
   ],
   "source": [
    "np.percentile(ordersByUsers['orders'], [90, 95, 99])"
   ]
  },
  {
   "cell_type": "markdown",
   "metadata": {},
   "source": [
    "#### Conclusions and conjectures"
   ]
  },
  {
   "cell_type": "markdown",
   "metadata": {},
   "source": [
    "Just 5% of users purchased more than 1 and only 1% bought more than 2. We can set 3 orders per user as an outlier (yes, 2 orders and above is the choise for 1% of users only, but I don't think that 2 orders is too much per user)"
   ]
  },
  {
   "cell_type": "markdown",
   "metadata": {},
   "source": [
    "### Scatter chart of order prices"
   ]
  },
  {
   "cell_type": "code",
   "execution_count": 37,
   "metadata": {
    "ExecuteTime": {
     "end_time": "2021-05-08T14:38:31.304857Z",
     "start_time": "2021-05-08T14:38:30.860640Z"
    }
   },
   "outputs": [
    {
     "data": {
      "image/png": "[encoded data removed]"
     },
     "metadata": {},
     "output_type": "display_data"
    }
   ],
   "source": [
    "x_values = pd.Series(range(0, len(orders)))\n",
    "fig = px.scatter(ordersByUsers, x=x_values, y=orders['revenue'])\n",
    "fig.update_layout(title_text=\"Price per order\",\n",
    "                  title_font_size=30, xaxis_title=\"index number of order\", yaxis_title=\"price\",\n",
    ")\n",
    "\n",
    "fig.show('png')\n"
   ]
  },
  {
   "cell_type": "markdown",
   "metadata": {},
   "source": [
    "A closer look to the values"
   ]
  },
  {
   "cell_type": "code",
   "execution_count": 38,
   "metadata": {
    "ExecuteTime": {
     "end_time": "2021-05-08T14:38:31.776288Z",
     "start_time": "2021-05-08T14:38:31.332277Z"
    }
   },
   "outputs": [
    {
     "data": {
      "image/png": "[encoded data removed]"
     },
     "metadata": {},
     "output_type": "display_data"
    }
   ],
   "source": [
    "x_values = pd.Series(range(0, len(orders)))\n",
    "fig = px.scatter(ordersByUsers, x=x_values, y=orders['revenue'])\n",
    "fig.update_layout(title_text=\"Price per order\",\n",
    "                  title_font_size=30, xaxis_title=\"index number of order\", yaxis_title=\"price\",\n",
    ")\n",
    "fig.update_layout(yaxis_range=[0,1500])\n",
    "\n",
    "fig.show('png')\n"
   ]
  },
  {
   "cell_type": "code",
   "execution_count": 39,
   "metadata": {
    "ExecuteTime": {
     "end_time": "2021-05-08T14:38:31.838612Z",
     "start_time": "2021-05-08T14:38:31.793498Z"
    }
   },
   "outputs": [
    {
     "data": {
      "text/html": [
       "<div>\n",
       "<style scoped>\n",
       "    .dataframe tbody tr th:only-of-type {\n",
       "        vertical-align: middle;\n",
       "    }\n",
       "\n",
       "    .dataframe tbody tr th {\n",
       "        vertical-align: top;\n",
       "    }\n",
       "\n",
       "    .dataframe thead th {\n",
       "        text-align: right;\n",
       "    }\n",
       "</style>\n",
       "<table border=\"1\" class=\"dataframe\">\n",
       "  <thead>\n",
       "    <tr style=\"text-align: right;\">\n",
       "      <th></th>\n",
       "      <th>transactionid</th>\n",
       "      <th>visitorid</th>\n",
       "      <th>date</th>\n",
       "      <th>revenue</th>\n",
       "      <th>group</th>\n",
       "    </tr>\n",
       "  </thead>\n",
       "  <tbody>\n",
       "    <tr>\n",
       "      <th>425</th>\n",
       "      <td>590470918</td>\n",
       "      <td>1920142716</td>\n",
       "      <td>2019-08-19</td>\n",
       "      <td>19920.400391</td>\n",
       "      <td>B</td>\n",
       "    </tr>\n",
       "    <tr>\n",
       "      <th>1196</th>\n",
       "      <td>3936777065</td>\n",
       "      <td>2108080724</td>\n",
       "      <td>2019-08-15</td>\n",
       "      <td>3120.100098</td>\n",
       "      <td>B</td>\n",
       "    </tr>\n",
       "    <tr>\n",
       "      <th>1136</th>\n",
       "      <td>666610489</td>\n",
       "      <td>1307669133</td>\n",
       "      <td>2019-08-13</td>\n",
       "      <td>1425.800049</td>\n",
       "      <td>A</td>\n",
       "    </tr>\n",
       "    <tr>\n",
       "      <th>744</th>\n",
       "      <td>3668308183</td>\n",
       "      <td>888512513</td>\n",
       "      <td>2019-08-27</td>\n",
       "      <td>1335.599976</td>\n",
       "      <td>B</td>\n",
       "    </tr>\n",
       "    <tr>\n",
       "      <th>743</th>\n",
       "      <td>3603576309</td>\n",
       "      <td>4133034833</td>\n",
       "      <td>2019-08-09</td>\n",
       "      <td>1050.000000</td>\n",
       "      <td>A</td>\n",
       "    </tr>\n",
       "    <tr>\n",
       "      <th>1103</th>\n",
       "      <td>1348774318</td>\n",
       "      <td>1164614297</td>\n",
       "      <td>2019-08-12</td>\n",
       "      <td>1025.800049</td>\n",
       "      <td>A</td>\n",
       "    </tr>\n",
       "    <tr>\n",
       "      <th>1099</th>\n",
       "      <td>316924019</td>\n",
       "      <td>148427295</td>\n",
       "      <td>2019-08-12</td>\n",
       "      <td>1015.900024</td>\n",
       "      <td>A</td>\n",
       "    </tr>\n",
       "    <tr>\n",
       "      <th>949</th>\n",
       "      <td>1347999392</td>\n",
       "      <td>887908475</td>\n",
       "      <td>2019-08-21</td>\n",
       "      <td>930.000000</td>\n",
       "      <td>A</td>\n",
       "    </tr>\n",
       "    <tr>\n",
       "      <th>940</th>\n",
       "      <td>2420050534</td>\n",
       "      <td>4003628586</td>\n",
       "      <td>2019-08-08</td>\n",
       "      <td>905.799988</td>\n",
       "      <td>B</td>\n",
       "    </tr>\n",
       "    <tr>\n",
       "      <th>613</th>\n",
       "      <td>4071177889</td>\n",
       "      <td>3931967268</td>\n",
       "      <td>2019-08-07</td>\n",
       "      <td>830.299988</td>\n",
       "      <td>B</td>\n",
       "    </tr>\n",
       "  </tbody>\n",
       "</table>\n",
       "</div>"
      ],
      "text/plain": [
       "      transactionid   visitorid       date       revenue group\n",
       "425       590470918  1920142716 2019-08-19  19920.400391     B\n",
       "1196     3936777065  2108080724 2019-08-15   3120.100098     B\n",
       "1136      666610489  1307669133 2019-08-13   1425.800049     A\n",
       "744      3668308183   888512513 2019-08-27   1335.599976     B\n",
       "743      3603576309  4133034833 2019-08-09   1050.000000     A\n",
       "1103     1348774318  1164614297 2019-08-12   1025.800049     A\n",
       "1099      316924019   148427295 2019-08-12   1015.900024     A\n",
       "949      1347999392   887908475 2019-08-21    930.000000     A\n",
       "940      2420050534  4003628586 2019-08-08    905.799988     B\n",
       "613      4071177889  3931967268 2019-08-07    830.299988     B"
      ]
     },
     "execution_count": 39,
     "metadata": {},
     "output_type": "execute_result"
    }
   ],
   "source": [
    "orders.sort_values(by='revenue', ascending=False).head(10)"
   ]
  },
  {
   "cell_type": "markdown",
   "metadata": {},
   "source": [
    "#### Conclusions and conjectures"
   ]
  },
  {
   "cell_type": "markdown",
   "metadata": {},
   "source": [
    "We have 1 enormous outlier of nearly 19920 per order and some other outliers that lay closer to average values. These must be one of the reasons for the data to be skewed. Also can see that 2 orders with highest price came from the B group and I would say, they boosted the revenue that happened from 2019-08-18 to 2019-08-19.    \n",
    "From the first glance, I would say that a price for on order can be considered an outlier if it is above 600, but with respect to the percentile (that can be found below), I would choose 450."
   ]
  },
  {
   "cell_type": "markdown",
   "metadata": {},
   "source": [
    "### Percentile of order prices"
   ]
  },
  {
   "cell_type": "code",
   "execution_count": 40,
   "metadata": {
    "ExecuteTime": {
     "end_time": "2021-05-08T14:38:31.866362Z",
     "start_time": "2021-05-08T14:38:31.848306Z"
    }
   },
   "outputs": [
    {
     "data": {
      "text/plain": [
       "array([280.8 , 414.28, 830.3 ])"
      ]
     },
     "execution_count": 40,
     "metadata": {},
     "output_type": "execute_result"
    }
   ],
   "source": [
    "np.percentile(orders['revenue'], [90, 95, 99]).round(2)"
   ]
  },
  {
   "cell_type": "markdown",
   "metadata": {},
   "source": [
    "#### Conclusions and conjectures"
   ]
  },
  {
   "cell_type": "markdown",
   "metadata": {},
   "source": [
    "Only 5% of orders cost more than 435.5 and only 1% more than 900. Let's consider 450 a base value for finding outliers."
   ]
  },
  {
   "cell_type": "markdown",
   "metadata": {},
   "source": [
    "### Statistical significance of the difference in conversion"
   ]
  },
  {
   "cell_type": "markdown",
   "metadata": {},
   "source": [
    "#### hypotheses description"
   ]
  },
  {
   "cell_type": "markdown",
   "metadata": {},
   "source": [
    "Here we are to trying to establish whether there is statistically significant difference in <b>conversion</b> between the groups or not. We work with the __row data__. Lets formulate our hypotheses: \n",
    "* Null hypotheses: there's no statistically significant difference in conversion between the groups A anb B\n",
    "* Alternative hypotheses: there is statistically significant difference in conversion between the groups A anb B"
   ]
  },
  {
   "cell_type": "code",
   "execution_count": 41,
   "metadata": {
    "ExecuteTime": {
     "end_time": "2021-05-08T14:38:32.161218Z",
     "start_time": "2021-05-08T14:38:31.878086Z"
    }
   },
   "outputs": [],
   "source": [
    "ordersByUsersA = orders[orders['group'] == 'A'].groupby(\n",
    "    'visitorid', as_index=False).agg({'transactionid' : pd.Series.nunique})\n",
    "ordersByUsersA.columns = ['userId', 'orders']\n",
    "\n",
    "ordersByUsersB = orders[orders['group'] == 'B'].groupby(\n",
    "    'visitorid', as_index=False).agg({'transactionid' : pd.Series.nunique})\n",
    "ordersByUsersB.columns = ['userId', 'orders']"
   ]
  },
  {
   "cell_type": "code",
   "execution_count": 42,
   "metadata": {
    "ExecuteTime": {
     "end_time": "2021-05-08T14:38:32.182936Z",
     "start_time": "2021-05-08T14:38:32.163941Z"
    }
   },
   "outputs": [
    {
     "name": "stdout",
     "output_type": "stream",
     "text": [
      "Null hypothesis rejected. There is a statistically significant difference between conversion from A anb B\n"
     ]
    }
   ],
   "source": [
    "sampleA = pd.concat([ordersByUsersA['orders'], pd.Series(0, index=np.arange(\n",
    "    visits[visits['group'] == 'A']['visits'].sum() - len(ordersByUsersA['orders'])), name='orders')], axis=0)\n",
    "sampleB = pd.concat([ordersByUsersB['orders'], pd.Series(0, index=np.arange(\n",
    "    visits[visits['group'] == 'B']['visits'].sum() - len(ordersByUsersB['orders'])), name='orders')], axis=0)\n",
    "alpha = .05\n",
    "results = st.mannwhitneyu(sampleA, sampleB, True, 'less')[1]\n",
    "\n",
    "if results < alpha:\n",
    "    print('Null hypothesis rejected. There is a statistically significant difference between conversion from A anb B')\n",
    "else:\n",
    "    print('Null hypothesis can not be rejected, therefore no statistically significant difference found')"
   ]
  },
  {
   "cell_type": "code",
   "execution_count": 43,
   "metadata": {
    "ExecuteTime": {
     "end_time": "2021-05-08T14:38:32.201194Z",
     "start_time": "2021-05-08T14:38:32.186460Z"
    }
   },
   "outputs": [
    {
     "data": {
      "text/plain": [
       "0.005544298301416285"
      ]
     },
     "execution_count": 43,
     "metadata": {},
     "output_type": "execute_result"
    }
   ],
   "source": [
    "results #p-value"
   ]
  },
  {
   "cell_type": "code",
   "execution_count": 44,
   "metadata": {
    "ExecuteTime": {
     "end_time": "2021-05-08T14:38:32.219329Z",
     "start_time": "2021-05-08T14:38:32.205097Z"
    }
   },
   "outputs": [
    {
     "data": {
      "text/plain": [
       "0.159623735558315"
      ]
     },
     "execution_count": 44,
     "metadata": {},
     "output_type": "execute_result"
    }
   ],
   "source": [
    "sampleB.mean()/sampleA.mean()-1"
   ]
  },
  {
   "cell_type": "markdown",
   "metadata": {},
   "source": [
    "#### Conclusions and conjectures"
   ]
  },
  {
   "cell_type": "markdown",
   "metadata": {},
   "source": [
    "Using raw data we found statistically significant difference between conversion from A anb B and understood that A is less than B. Relative conversion gain of B is 15%, but lets see whether outliers have something to do with it or not."
   ]
  },
  {
   "cell_type": "markdown",
   "metadata": {},
   "source": [
    "### Statistical significance of the difference in average order size "
   ]
  },
  {
   "cell_type": "markdown",
   "metadata": {},
   "source": [
    "#### hypotheses description"
   ]
  },
  {
   "cell_type": "markdown",
   "metadata": {},
   "source": [
    "Here we are to trying to establish whether there is statistically significant difference in the <b>average order size</b> per user to purchase between the groups. We work with the __row data__. Lets formulate our hypotheses: \n",
    "* Null hypotheses: there's no statistically significant difference in the average order size between the groups A anb B\n",
    "* Alternative hypotheses: there is statistically significant difference in the average order size between the groups A anb B"
   ]
  },
  {
   "cell_type": "code",
   "execution_count": 45,
   "metadata": {
    "ExecuteTime": {
     "end_time": "2021-05-08T14:38:32.239066Z",
     "start_time": "2021-05-08T14:38:32.225420Z"
    }
   },
   "outputs": [
    {
     "name": "stdout",
     "output_type": "stream",
     "text": [
      "Null hypothesis can not be rejected, no statistically significant difference in average order size found\n"
     ]
    }
   ],
   "source": [
    "reslut_revenue = st.mannwhitneyu(\n",
    "    orders[orders['group'] == 'A']['revenue'], orders[orders['group'] == 'B']['revenue'], True, 'less')[1]\n",
    "alpha = .05\n",
    "if reslut_revenue < alpha:\n",
    "    print('Null hypothesis rejected. There is statistically significant difference in average order size for A anb B')\n",
    "else:\n",
    "    print('Null hypothesis can not be rejected, no statistically significant difference in average order size found')"
   ]
  },
  {
   "cell_type": "code",
   "execution_count": 46,
   "metadata": {
    "ExecuteTime": {
     "end_time": "2021-05-08T14:38:32.251667Z",
     "start_time": "2021-05-08T14:38:32.245168Z"
    }
   },
   "outputs": [
    {
     "data": {
      "text/plain": [
       "0.5689678091666772"
      ]
     },
     "execution_count": 46,
     "metadata": {},
     "output_type": "execute_result"
    }
   ],
   "source": [
    "reslut_revenue #p-value"
   ]
  },
  {
   "cell_type": "code",
   "execution_count": 47,
   "metadata": {
    "ExecuteTime": {
     "end_time": "2021-05-08T14:38:32.274604Z",
     "start_time": "2021-05-08T14:38:32.256936Z"
    }
   },
   "outputs": [
    {
     "data": {
      "text/plain": [
       "0.2783463510754953"
      ]
     },
     "execution_count": 47,
     "metadata": {},
     "output_type": "execute_result"
    }
   ],
   "source": [
    "orders[orders['group'] == 'B']['revenue'].mean()/orders[orders['group']\n",
    "                                                        == 'A']['revenue'].mean()-1"
   ]
  },
  {
   "cell_type": "code",
   "execution_count": 48,
   "metadata": {
    "ExecuteTime": {
     "end_time": "2021-05-08T14:38:32.305975Z",
     "start_time": "2021-05-08T14:38:32.284662Z"
    }
   },
   "outputs": [
    {
     "data": {
      "text/plain": [
       "113.70082092285156"
      ]
     },
     "execution_count": 48,
     "metadata": {},
     "output_type": "execute_result"
    }
   ],
   "source": [
    "orders[orders['group'] == 'A']['revenue'].mean() # Mean A orders size"
   ]
  },
  {
   "cell_type": "code",
   "execution_count": 49,
   "metadata": {
    "ExecuteTime": {
     "end_time": "2021-05-08T14:38:32.326921Z",
     "start_time": "2021-05-08T14:38:32.313423Z"
    }
   },
   "outputs": [
    {
     "data": {
      "text/plain": [
       "145.34902954101562"
      ]
     },
     "execution_count": 49,
     "metadata": {},
     "output_type": "execute_result"
    }
   ],
   "source": [
    "orders[orders['group'] == 'B']['revenue'].mean() # Mean B orders size"
   ]
  },
  {
   "cell_type": "markdown",
   "metadata": {},
   "source": [
    "#### Conclusions and conjectures"
   ]
  },
  {
   "cell_type": "markdown",
   "metadata": {},
   "source": [
    "Raw data shows that there is no statistically significant difference in average order size and relative gain of group B is 27%, B is not surprisingly bigger. I expected raw data to show results that there is statistically significant difference, but apparently the outliers don't cause significant difference."
   ]
  },
  {
   "cell_type": "markdown",
   "metadata": {},
   "source": [
    "### Statistical significance of the difference in conversion of filtered data"
   ]
  },
  {
   "cell_type": "code",
   "execution_count": 50,
   "metadata": {
    "ExecuteTime": {
     "end_time": "2021-05-08T14:38:32.338559Z",
     "start_time": "2021-05-08T14:38:32.334064Z"
    }
   },
   "outputs": [],
   "source": [
    "anomaly_big_order_size = 450\n",
    "anomaly_big_amount_of_orders = 3"
   ]
  },
  {
   "cell_type": "code",
   "execution_count": 51,
   "metadata": {
    "ExecuteTime": {
     "end_time": "2021-05-08T14:38:32.358169Z",
     "start_time": "2021-05-08T14:38:32.343868Z"
    }
   },
   "outputs": [],
   "source": [
    "usersWithManyOrders = pd.concat([ordersByUsersA[ordersByUsersA['orders'] >= anomaly_big_amount_of_orders]\n",
    "                                 ['userId'], ordersByUsersB[ordersByUsersB['orders'] >= anomaly_big_amount_of_orders]['userId']], axis=0)\n",
    "usersWithExpensiveOrders = orders[orders['revenue']\n",
    "                                  > anomaly_big_order_size]['visitorid']"
   ]
  },
  {
   "cell_type": "code",
   "execution_count": 52,
   "metadata": {
    "ExecuteTime": {
     "end_time": "2021-05-08T14:38:32.387799Z",
     "start_time": "2021-05-08T14:38:32.371175Z"
    }
   },
   "outputs": [],
   "source": [
    "anomaly_users = pd.concat(\n",
    "    [usersWithManyOrders, usersWithExpensiveOrders], axis=0).drop_duplicates()"
   ]
  },
  {
   "cell_type": "code",
   "execution_count": 53,
   "metadata": {
    "ExecuteTime": {
     "end_time": "2021-05-08T14:38:32.422777Z",
     "start_time": "2021-05-08T14:38:32.398410Z"
    }
   },
   "outputs": [
    {
     "data": {
      "text/plain": [
       "51"
      ]
     },
     "execution_count": 53,
     "metadata": {},
     "output_type": "execute_result"
    }
   ],
   "source": [
    "len(anomaly_users)"
   ]
  },
  {
   "cell_type": "code",
   "execution_count": 54,
   "metadata": {
    "ExecuteTime": {
     "end_time": "2021-05-08T14:38:32.462913Z",
     "start_time": "2021-05-08T14:38:32.430763Z"
    }
   },
   "outputs": [],
   "source": [
    "filtered_sampleA = pd.concat([ordersByUsersA[np.logical_not(ordersByUsersA['userId'].isin(anomaly_users))]['orders'], pd.Series(0, index=np.arange(visits[visits['group']\n",
    "                                                                                                                                                          == 'A']['visits'].sum() - len(ordersByUsersA['orders'])), name='orders')], axis=0)\n",
    "filtered_sampleB = pd.concat([ordersByUsersB[np.logical_not(ordersByUsersB['userId'].isin(anomaly_users))]['orders'], pd.Series(0, index=np.arange(visits[visits['group']\n",
    "                                                                                                                                                          == 'B']['visits'].sum() - len(ordersByUsersB['orders'])), name='orders')], axis=0)"
   ]
  },
  {
   "cell_type": "markdown",
   "metadata": {},
   "source": [
    "#### hypotheses description"
   ]
  },
  {
   "cell_type": "markdown",
   "metadata": {},
   "source": [
    "Here we are to trying to establish whether there is statistically significant difference in <b>conversion</b> between the groups or not. We work with the __filtered data__. Lets formulate our hypotheses: \n",
    "* Null hypotheses: there's no statistically significant difference in conversion between the groups A anb B\n",
    "* Alternative hypotheses: there is statistically significant difference in conversion between the groups A anb B"
   ]
  },
  {
   "cell_type": "code",
   "execution_count": 55,
   "metadata": {
    "ExecuteTime": {
     "end_time": "2021-05-08T14:38:32.503377Z",
     "start_time": "2021-05-08T14:38:32.476844Z"
    }
   },
   "outputs": [
    {
     "name": "stdout",
     "output_type": "stream",
     "text": [
      "Null hypothesis rejected. There is statistically significant difference between conversion from A anb B\n"
     ]
    }
   ],
   "source": [
    "alpha = .05\n",
    "results = st.mannwhitneyu(filtered_sampleA, filtered_sampleB, True, 'less')[1]\n",
    "\n",
    "if results < alpha:\n",
    "    print('Null hypothesis rejected. There is statistically significant difference between conversion from A anb B')\n",
    "else:\n",
    "    print('Null hypothesis can not be rejected, therefore no statistically significant difference found')"
   ]
  },
  {
   "cell_type": "code",
   "execution_count": 56,
   "metadata": {
    "ExecuteTime": {
     "end_time": "2021-05-08T14:38:32.532184Z",
     "start_time": "2021-05-08T14:38:32.519565Z"
    }
   },
   "outputs": [
    {
     "data": {
      "text/plain": [
       "0.004841457109596033"
      ]
     },
     "execution_count": 56,
     "metadata": {},
     "output_type": "execute_result"
    }
   ],
   "source": [
    "results #p-value"
   ]
  },
  {
   "cell_type": "code",
   "execution_count": 57,
   "metadata": {
    "ExecuteTime": {
     "end_time": "2021-05-08T14:38:32.560005Z",
     "start_time": "2021-05-08T14:38:32.541098Z"
    }
   },
   "outputs": [
    {
     "data": {
      "text/plain": [
       "0.18753348025255923"
      ]
     },
     "execution_count": 57,
     "metadata": {},
     "output_type": "execute_result"
    }
   ],
   "source": [
    "filtered_sampleB.mean()/filtered_sampleA.mean()-1"
   ]
  },
  {
   "cell_type": "markdown",
   "metadata": {},
   "source": [
    "#### Conclusions and conjectures"
   ]
  },
  {
   "cell_type": "markdown",
   "metadata": {},
   "source": [
    "After removing the outliers, we still found statistically significant difference in conversion. The relative gain of group B was 15%, and now it is 18.7%, A is less than B"
   ]
  },
  {
   "cell_type": "markdown",
   "metadata": {},
   "source": [
    "### Statistical significance of the difference in average order size for filtered data"
   ]
  },
  {
   "cell_type": "markdown",
   "metadata": {},
   "source": [
    "#### hypotheses description"
   ]
  },
  {
   "cell_type": "markdown",
   "metadata": {},
   "source": [
    "Here we are to trying to establish whether there is statistically significant difference in the <b>average order size</b> per user to purchase between the groups. We work with the __filtered data__. Lets formulate our hypotheses: \n",
    "* Null hypotheses: there's no statistically significant difference in the average order size between the groups A anb B\n",
    "* Alternative hypotheses: there is statistically significant difference in the average order size between the groups A anb B"
   ]
  },
  {
   "cell_type": "code",
   "execution_count": 58,
   "metadata": {
    "ExecuteTime": {
     "end_time": "2021-05-08T14:38:32.593308Z",
     "start_time": "2021-05-08T14:38:32.570515Z"
    }
   },
   "outputs": [
    {
     "name": "stdout",
     "output_type": "stream",
     "text": [
      "Null hypothesis can not be rejected, no statistically significant difference in average order size found\n"
     ]
    }
   ],
   "source": [
    "reslut_revenue = st.mannwhitneyu(orders[np.logical_and(orders['group'] == 'A', np.logical_not(orders['visitorid'].isin(\n",
    "    anomaly_users)))]['revenue'], orders[np.logical_and(orders['group'] == 'B', np.logical_not(orders['visitorid'].isin(anomaly_users)))]['revenue'], True, 'less')[1]\n",
    "alpha = .05\n",
    "if reslut_revenue < alpha:\n",
    "    print('Null hypothesis rejected. There is a statistically significant difference in average order size for A anb B')\n",
    "else:\n",
    "    print('Null hypothesis can not be rejected, no statistically significant difference in average order size found')"
   ]
  },
  {
   "cell_type": "code",
   "execution_count": 59,
   "metadata": {
    "ExecuteTime": {
     "end_time": "2021-05-08T14:38:32.618398Z",
     "start_time": "2021-05-08T14:38:32.603040Z"
    }
   },
   "outputs": [
    {
     "data": {
      "text/plain": [
       "0.6082930327257885"
      ]
     },
     "execution_count": 59,
     "metadata": {},
     "output_type": "execute_result"
    }
   ],
   "source": [
    "reslut_revenue #p-value"
   ]
  },
  {
   "cell_type": "code",
   "execution_count": 60,
   "metadata": {
    "ExecuteTime": {
     "end_time": "2021-05-08T14:38:32.651583Z",
     "start_time": "2021-05-08T14:38:32.628865Z"
    }
   },
   "outputs": [
    {
     "data": {
      "text/plain": [
       "-0.024866084970632585"
      ]
     },
     "execution_count": 60,
     "metadata": {},
     "output_type": "execute_result"
    }
   ],
   "source": [
    "orders[np.logical_and(orders['group'] == 'B', np.logical_not(orders['visitorid'].isin(anomaly_users)))]['revenue'].mean(\n",
    ")/orders[np.logical_and(orders['group'] == 'A', np.logical_not(orders['visitorid'].isin(anomaly_users)))]['revenue'].mean() - 1"
   ]
  },
  {
   "cell_type": "markdown",
   "metadata": {},
   "source": [
    "#### Conclusions and conjectures"
   ]
  },
  {
   "cell_type": "markdown",
   "metadata": {},
   "source": [
    "There is still no difference in the average order size for filtered data, but we found the relative B to lower from 27% to -2%, so those huge values were really due to outliers."
   ]
  },
  {
   "cell_type": "markdown",
   "metadata": {},
   "source": [
    "# Step 4. Decision based on the test results. \n"
   ]
  },
  {
   "cell_type": "markdown",
   "metadata": {},
   "source": [
    "So, filtered data showed us, that anomaly-free B's conversion rate is 18.7% bigger than A's conversion rate while average order size shows no difference, and B even loses in 2%. Conversion difference is significant, but if all the buying conversion difference doesn't influence revenue, we didn't really reach anything special, the effect of a good conversion B is offset by the fact that the income from it is even less than the income from A. Therefore I'm stopping the test, and conclude that there is no statistically significant difference between the groups, their average revenue difference is not statistically significant and less than 2%."
   ]
  },
  {
   "cell_type": "markdown",
   "metadata": {},
   "source": [
    "# Step 5. General Conclusion"
   ]
  },
  {
   "cell_type": "markdown",
   "metadata": {},
   "source": [
    "In this project I had 3 datasets to work on. First of them contained information on several hypotheses with their quantities rated. To __prioritize__ hypotheses that may help boost revenue I've implement __ICE and RICE frameworks__ and came to different conclusions. ICE and RICE approach bring us same top 5 leaders, #2, #0, #6, #8, #7, but their top hypotheses were different. I used __percentage share__ to decide which hypotheses to choose: RICE leader stand 28.57% aside from the closes hypothesis, and ICE have smaller difference of 17.72%. I've decided that since RICE also pays attention to the __amount of users__ a hypothesis can affect and since the percentage margin for RICE was bigger, I've chosen the __RICE leader hypothesis__: \"Add product recommendation blocks to the store's site. This will increase conversion and average purchase size\". <br><br>\n",
    "Another 2 datasets were orders and visits that allowed me to __launch an A/B test and analyze it's the results__.<br> \n",
    "\n",
    "The results were really tricky because _some data pointed out that we should choose the B hypothesis due to it's better performance_ : it's cumulative revenue was 26439 bigger, it's cumulative average order size was nearly 32 greater and it ended up with almost 27% greater bigger relative average order size difference to A, B's conversion rate was also bigger than A's (but just 0.4% bigger). The thing is that I noticed some clear surges in distributions and decided that they may have happened due to the __outliers__, so our data can be skewed and we shouldn't rely on it before __we check it__. I've decided to __clear data from anomalies and to see if the groups are different due to them or not__.  <br>\n",
    "I used __scatterplot and percentiles__ to establish what amount of orders and what order size should we consider lower base of anomaly data and came to conclusion to count 450 as anomaly big order size and 3 as anomaly big amount of orders. <br><br>\n",
    "I've conducted several __statistical test to establish whether there is a statistically significant difference in conversion and in average purchase size__ between A and B. The tests were conducted both __on raw data and on filtered data__ with no anomaly users to check the anomaly impact:<br>\n",
    "Conversion rate comparison both __raw and filtered__ data showed that __there is statistically significant difference between conversion rates__ having B bigger then A with conversion gain of 15% (raw) and 18% (filtered), so __in terms of conversion B is a leader__. <br>\n",
    "As for average order size, both __raw and filtered__ data showed that __there is NO statistically significant difference between average order size__ of A and B, but the relative gain of B has fallen from 27% to -2,the difference was due to outliers. So, even though conversion difference is significant, effect of a good B conversion is offset by B income that is even less than the income from A. Considering revenue a more important factor, I'm stopping the test and conclude that there is no statistically significant difference between the groups, I'm __stopping the test and conclude that there is no statistically significant difference between the groups__."
   ]
  }
 ],
 "metadata": {
  "kernelspec": {
   "display_name": "Python 3",
   "language": "python",
   "name": "python3"
  },
  "language_info": {
   "codemirror_mode": {
    "name": "ipython",
    "version": 3
   },
   "file_extension": ".py",
   "mimetype": "text/x-python",
   "name": "python",
   "nbconvert_exporter": "python",
   "pygments_lexer": "ipython3",
   "version": "3.8.5"
  },
  "toc": {
   "base_numbering": 1,
   "nav_menu": {},
   "number_sections": true,
   "sideBar": true,
   "skip_h1_title": false,
   "title_cell": "Table of Contents",
   "title_sidebar": "Contents",
   "toc_cell": true,
   "toc_position": {},
   "toc_section_display": true,
   "toc_window_display": true
  }
 },
 "nbformat": 4,
 "nbformat_minor": 4
}
