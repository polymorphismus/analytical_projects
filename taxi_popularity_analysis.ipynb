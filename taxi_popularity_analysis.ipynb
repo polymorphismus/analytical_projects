{
 "cells": [
  {
   "cell_type": "markdown",
   "metadata": {},
   "source": [
    "# Analyze for Zuber"
   ]
  },
  {
   "cell_type": "markdown",
   "metadata": {},
   "source": [
    "### progect description\n",
    "Here is an analysis for Zuber, a new ride-sharing company that's launching in Chicago and wants to find patterns in the available information, understand passenger preferences and the impact of external factors on rides. To do so I will study my databases, analyze data from competitors, and test a hypothesis about the impact of weather on ride frequency.\n"
   ]
  },
  {
   "cell_type": "markdown",
   "metadata": {
    "toc": true
   },
   "source": [
    "<h1>Table of Contents<span class=\"tocSkip\"></span></h1>\n",
    "<div class=\"toc\"><ul class=\"toc-item\"><li><span><a href=\"#Analyze-for-Zuber\" data-toc-modified-id=\"Analyze-for-Zuber-1\"><span class=\"toc-item-num\">1&nbsp;&nbsp;</span>Analyze for Zuber</a></span><ul class=\"toc-item\"><li><ul class=\"toc-item\"><li><span><a href=\"#progect-description\" data-toc-modified-id=\"progect-description-1.0.1\"><span class=\"toc-item-num\">1.0.1&nbsp;&nbsp;</span>progect description</a></span></li></ul></li></ul></li><li><span><a href=\"#Step-4.-Exploratory-data-analysis\" data-toc-modified-id=\"Step-4.-Exploratory-data-analysis-2\"><span class=\"toc-item-num\">2&nbsp;&nbsp;</span>Step 4. Exploratory data analysis</a></span><ul class=\"toc-item\"><li><ul class=\"toc-item\"><li><span><a href=\"#Data-Types-Conversion\" data-toc-modified-id=\"Data-Types-Conversion-2.0.1\"><span class=\"toc-item-num\">2.0.1&nbsp;&nbsp;</span>Data Types Conversion</a></span></li><li><span><a href=\"#Conclusion-On-Datasets\" data-toc-modified-id=\"Conclusion-On-Datasets-2.0.2\"><span class=\"toc-item-num\">2.0.2&nbsp;&nbsp;</span>Conclusion On Datasets</a></span></li><li><span><a href=\"#top-10-neighborhoods-in-terms-of-drop-offs\" data-toc-modified-id=\"top-10-neighborhoods-in-terms-of-drop-offs-2.0.3\"><span class=\"toc-item-num\">2.0.3&nbsp;&nbsp;</span>top 10 neighborhoods in terms of drop-offs</a></span></li><li><span><a href=\"#Visualisation\" data-toc-modified-id=\"Visualisation-2.0.4\"><span class=\"toc-item-num\">2.0.4&nbsp;&nbsp;</span>Visualisation</a></span></li><li><span><a href=\"#taxi-companies-and-number-of-rides\" data-toc-modified-id=\"taxi-companies-and-number-of-rides-2.0.5\"><span class=\"toc-item-num\">2.0.5&nbsp;&nbsp;</span>taxi companies and number of rides</a></span></li><li><span><a href=\"#Top-10-neighborhoods-by-number-of-dropoffs\" data-toc-modified-id=\"Top-10-neighborhoods-by-number-of-dropoffs-2.0.6\"><span class=\"toc-item-num\">2.0.6&nbsp;&nbsp;</span>Top 10 neighborhoods by number of dropoffs</a></span></li><li><span><a href=\"#Conclusion-On-Studied-Leaders\" data-toc-modified-id=\"Conclusion-On-Studied-Leaders-2.0.7\"><span class=\"toc-item-num\">2.0.7&nbsp;&nbsp;</span>Conclusion On Studied Leaders</a></span></li></ul></li></ul></li><li><span><a href=\"#Step-5.-Testing-hypotheses\" data-toc-modified-id=\"Step-5.-Testing-hypotheses-3\"><span class=\"toc-item-num\">3&nbsp;&nbsp;</span>Step 5. Testing hypotheses</a></span><ul class=\"toc-item\"><li><ul class=\"toc-item\"><li><span><a href=\"#Conclusion-On-Hypothesis\" data-toc-modified-id=\"Conclusion-On-Hypothesis-3.0.1\"><span class=\"toc-item-num\">3.0.1&nbsp;&nbsp;</span>Conclusion On Hypothesis</a></span></li></ul></li></ul></li><li><span><a href=\"#STEP-6.-General-conclusion\" data-toc-modified-id=\"STEP-6.-General-conclusion-4\"><span class=\"toc-item-num\">4&nbsp;&nbsp;</span>STEP 6. General conclusion</a></span></li></ul></div>"
   ]
  },
  {
   "cell_type": "markdown",
   "metadata": {},
   "source": [
    "# Step 4. Exploratory data analysis"
   ]
  },
  {
   "cell_type": "markdown",
   "metadata": {},
   "source": [
    "_We will use 5 <a id='libraries'>libraries</a>:_ \n",
    "* pandas: for data processing\n",
    "* numpy: for calculations like varience, std, etc.\n",
    "* matplotlib, plotly: for data visualisation\n",
    "* scipy: for hypothesis exploration"
   ]
  },
  {
   "cell_type": "code",
   "execution_count": 1,
   "metadata": {
    "ExecuteTime": {
     "end_time": "2021-05-08T14:29:39.213290Z",
     "start_time": "2021-05-08T14:29:35.381132Z"
    }
   },
   "outputs": [],
   "source": [
    "import pandas as pd\n",
    "import numpy as np\n",
    "import matplotlib.pyplot as plt\n",
    "from scipy import stats as st\n",
    "import plotly\n",
    "import plotly.graph_objs as go\n",
    "import plotly.express as px\n",
    "from plotly.subplots import make_subplots\n",
    "pd.set_option('display.max_columns', 500)\n",
    "pd.set_option('display.max_rows', 500)"
   ]
  },
  {
   "cell_type": "code",
   "execution_count": 2,
   "metadata": {
    "ExecuteTime": {
     "end_time": "2021-05-08T14:29:41.033187Z",
     "start_time": "2021-05-08T14:29:39.218270Z"
    }
   },
   "outputs": [],
   "source": [
    "try:\n",
    "    companies = pd.read_csv('https://code.s3.yandex.net//datasets/project_sql_result_01.csv')\n",
    "    drop_off_location = pd.read_csv('https://code.s3.yandex.net//datasets/project_sql_result_04.csv')\n",
    "    Loop_O_Hare = pd.read_csv('https://code.s3.yandex.net//datasets/project_sql_result_07.csv')\n",
    "except FileNotFoundError:\n",
    "    print('File not found:', file_name)\n",
    "except Exception:\n",
    "    print('Another Error:', file_name)"
   ]
  },
  {
   "cell_type": "code",
   "execution_count": 3,
   "metadata": {
    "ExecuteTime": {
     "end_time": "2021-05-08T14:29:41.108714Z",
     "start_time": "2021-05-08T14:29:41.038540Z"
    }
   },
   "outputs": [
    {
     "name": "stdout",
     "output_type": "stream",
     "text": [
      "                      company_name  trips_amount\n",
      "0                        Flash Cab         19558\n",
      "1        Taxi Affiliation Services         11422\n",
      "2                Medallion Leasing         10367\n",
      "3                       Yellow Cab          9888\n",
      "4  Taxi Affiliation Service Yellow          9299\n",
      "<class 'pandas.core.frame.DataFrame'>\n",
      "RangeIndex: 64 entries, 0 to 63\n",
      "Data columns (total 2 columns):\n",
      " #   Column        Non-Null Count  Dtype \n",
      "---  ------        --------------  ----- \n",
      " 0   company_name  64 non-null     object\n",
      " 1   trips_amount  64 non-null     int64 \n",
      "dtypes: int64(1), object(1)\n",
      "memory usage: 1.1+ KB\n",
      "None\n",
      "       trips_amount\n",
      "count     64.000000\n",
      "mean    2145.484375\n",
      "std     3812.310186\n",
      "min        2.000000\n",
      "25%       20.750000\n",
      "50%      178.500000\n",
      "75%     2106.500000\n",
      "max    19558.000000\n",
      "\n",
      "\n",
      "\n",
      "  dropoff_location_name  average_trips\n",
      "0                  Loop   10727.466667\n",
      "1           River North    9523.666667\n",
      "2         Streeterville    6664.666667\n",
      "3             West Loop    5163.666667\n",
      "4                O'Hare    2546.900000\n",
      "<class 'pandas.core.frame.DataFrame'>\n",
      "RangeIndex: 94 entries, 0 to 93\n",
      "Data columns (total 2 columns):\n",
      " #   Column                 Non-Null Count  Dtype  \n",
      "---  ------                 --------------  -----  \n",
      " 0   dropoff_location_name  94 non-null     object \n",
      " 1   average_trips          94 non-null     float64\n",
      "dtypes: float64(1), object(1)\n",
      "memory usage: 1.6+ KB\n",
      "None\n",
      "       average_trips\n",
      "count      94.000000\n",
      "mean      599.953728\n",
      "std      1714.591098\n",
      "min         1.800000\n",
      "25%        14.266667\n",
      "50%        52.016667\n",
      "75%       298.858333\n",
      "max     10727.466667\n",
      "\n",
      "\n",
      "\n",
      "              start_ts weather_conditions  duration_seconds\n",
      "0  2017-11-25 16:00:00               Good            2410.0\n",
      "1  2017-11-25 14:00:00               Good            1920.0\n",
      "2  2017-11-25 12:00:00               Good            1543.0\n",
      "3  2017-11-04 10:00:00               Good            2512.0\n",
      "4  2017-11-11 07:00:00               Good            1440.0\n",
      "<class 'pandas.core.frame.DataFrame'>\n",
      "RangeIndex: 1068 entries, 0 to 1067\n",
      "Data columns (total 3 columns):\n",
      " #   Column              Non-Null Count  Dtype  \n",
      "---  ------              --------------  -----  \n",
      " 0   start_ts            1068 non-null   object \n",
      " 1   weather_conditions  1068 non-null   object \n",
      " 2   duration_seconds    1068 non-null   float64\n",
      "dtypes: float64(1), object(2)\n",
      "memory usage: 25.2+ KB\n",
      "None\n",
      "       duration_seconds\n",
      "count       1068.000000\n",
      "mean        2071.731273\n",
      "std          769.461125\n",
      "min            0.000000\n",
      "25%         1438.250000\n",
      "50%         1980.000000\n",
      "75%         2580.000000\n",
      "max         7440.000000\n",
      "\n",
      "\n",
      "\n"
     ]
    }
   ],
   "source": [
    "databases = [companies, drop_off_location, Loop_O_Hare]\n",
    "\n",
    "for database in databases:\n",
    "    print(database.head())\n",
    "    print(database.info())\n",
    "    print(database.describe())\n",
    "    print()\n",
    "    print()\n",
    "    print()"
   ]
  },
  {
   "cell_type": "markdown",
   "metadata": {},
   "source": [
    "### Data Types Conversion"
   ]
  },
  {
   "cell_type": "code",
   "execution_count": 4,
   "metadata": {
    "ExecuteTime": {
     "end_time": "2021-05-08T14:29:41.242363Z",
     "start_time": "2021-05-08T14:29:41.116912Z"
    }
   },
   "outputs": [],
   "source": [
    "Loop_O_Hare.start_ts = Loop_O_Hare.start_ts.apply(lambda x: pd.to_datetime(x))\n",
    "Loop_O_Hare.weather_conditions = Loop_O_Hare.weather_conditions.astype(\n",
    "    'category')\n",
    "Loop_O_Hare.duration_seconds = Loop_O_Hare.duration_seconds.astype('int')"
   ]
  },
  {
   "cell_type": "code",
   "execution_count": 5,
   "metadata": {
    "ExecuteTime": {
     "end_time": "2021-05-08T14:29:41.254192Z",
     "start_time": "2021-05-08T14:29:41.245461Z"
    }
   },
   "outputs": [],
   "source": [
    "companies.company_name = companies.company_name.astype('string')\n",
    "drop_off_location.dropoff_location_name = drop_off_location.dropoff_location_name.astype(\n",
    "    'string')"
   ]
  },
  {
   "cell_type": "code",
   "execution_count": 6,
   "metadata": {
    "ExecuteTime": {
     "end_time": "2021-05-08T14:29:41.263881Z",
     "start_time": "2021-05-08T14:29:41.256410Z"
    }
   },
   "outputs": [
    {
     "name": "stdout",
     "output_type": "stream",
     "text": [
      "2017-11-04 00:00:00 2017-11-25 23:00:00\n"
     ]
    }
   ],
   "source": [
    "print(Loop_O_Hare.start_ts.min(), Loop_O_Hare.start_ts.max())"
   ]
  },
  {
   "cell_type": "code",
   "execution_count": 7,
   "metadata": {
    "ExecuteTime": {
     "end_time": "2021-05-08T14:29:41.279292Z",
     "start_time": "2021-05-08T14:29:41.271339Z"
    }
   },
   "outputs": [
    {
     "data": {
      "text/plain": [
       "Timedelta('21 days 23:00:00')"
      ]
     },
     "execution_count": 7,
     "metadata": {},
     "output_type": "execute_result"
    }
   ],
   "source": [
    "Loop_O_Hare.start_ts.max() - Loop_O_Hare.start_ts.min()"
   ]
  },
  {
   "cell_type": "markdown",
   "metadata": {},
   "source": [
    "### Conclusion On Datasets"
   ]
  },
  {
   "cell_type": "markdown",
   "metadata": {},
   "source": [
    "We have datasets with no missing values, they are concrete and clear, but some data type replacements needed to be made.    \n",
    "We have 64 companies with total trips amount form 2 to 19558, with positive skewned distribution, mean is more then 10 times bigger than median. We have 94 drop off drop_off_locations with amount of trips to them varing from 1 to 10727. The study period of Loop_O_Hare trips dataset is nearly 24 days. "
   ]
  },
  {
   "cell_type": "markdown",
   "metadata": {},
   "source": [
    "### top 10 neighborhoods in terms of drop-offs"
   ]
  },
  {
   "cell_type": "code",
   "execution_count": 8,
   "metadata": {
    "ExecuteTime": {
     "end_time": "2021-05-08T14:29:41.296476Z",
     "start_time": "2021-05-08T14:29:41.284386Z"
    }
   },
   "outputs": [
    {
     "data": {
      "text/plain": [
       "['Loop',\n",
       " 'River North',\n",
       " 'Streeterville',\n",
       " 'West Loop',\n",
       " \"O'Hare\",\n",
       " 'Lake View',\n",
       " 'Grant Park',\n",
       " 'Museum Campus',\n",
       " 'Gold Coast',\n",
       " 'Sheffield & DePaul']"
      ]
     },
     "execution_count": 8,
     "metadata": {},
     "output_type": "execute_result"
    }
   ],
   "source": [
    "top_10 = list(drop_off_location.dropoff_location_name.head(10))\n",
    "top_10"
   ]
  },
  {
   "cell_type": "markdown",
   "metadata": {},
   "source": [
    "### Visualisation"
   ]
  },
  {
   "cell_type": "markdown",
   "metadata": {},
   "source": [
    "### taxi companies and number of rides"
   ]
  },
  {
   "cell_type": "code",
   "execution_count": 9,
   "metadata": {
    "ExecuteTime": {
     "end_time": "2021-05-08T14:29:50.530777Z",
     "start_time": "2021-05-08T14:29:41.303521Z"
    }
   },
   "outputs": [
    {
     "data": {
      "image/png": "[encoded data removed]"
     },
     "metadata": {},
     "output_type": "display_data"
    }
   ],
   "source": [
    "fig = px.box(companies, y=\"trips_amount\")\n",
    "fig.update_layout(title_text='amount of trips in companies')\n",
    "fig.show('png')"
   ]
  },
  {
   "cell_type": "code",
   "execution_count": 10,
   "metadata": {
    "ExecuteTime": {
     "end_time": "2021-05-08T14:29:50.738802Z",
     "start_time": "2021-05-08T14:29:50.538017Z"
    }
   },
   "outputs": [
    {
     "data": {
      "image/png": "[encoded data removed]"
     },
     "metadata": {},
     "output_type": "display_data"
    }
   ],
   "source": [
    "fig = px.histogram(companies, x='trips_amount')\n",
    "\n",
    "fig.update_layout(title_text='all the regular companies trips',\n",
    "                  xaxis_title_text='amount of trips',\n",
    "                  yaxis_title_text='amount of companies')\n",
    "fig.show('png')"
   ]
  },
  {
   "cell_type": "code",
   "execution_count": 11,
   "metadata": {
    "ExecuteTime": {
     "end_time": "2021-05-08T14:29:51.133623Z",
     "start_time": "2021-05-08T14:29:50.743236Z"
    }
   },
   "outputs": [
    {
     "data": {
      "text/plain": [
       "['Flash Cab',\n",
       " 'Taxi Affiliation Services',\n",
       " 'Medallion Leasing',\n",
       " 'Yellow Cab',\n",
       " 'Taxi Affiliation Service Yellow',\n",
       " 'Chicago Carriage Cab Corp',\n",
       " 'City Service',\n",
       " 'Sun Taxi',\n",
       " 'Star North Management LLC',\n",
       " 'Blue Ribbon Taxi Association Inc.']"
      ]
     },
     "execution_count": 11,
     "metadata": {},
     "output_type": "execute_result"
    }
   ],
   "source": [
    "Q3 = companies.trips_amount.quantile(0.75)\n",
    "Q1 = companies.trips_amount.quantile(0.25)\n",
    "IQR = Q3-Q1\n",
    "top_companies = companies[companies['trips_amount']\n",
    "                          > Q3 + IQR*1.5]['company_name'].tolist()\n",
    "top_companies"
   ]
  },
  {
   "cell_type": "markdown",
   "metadata": {},
   "source": [
    "How many procent it is?"
   ]
  },
  {
   "cell_type": "code",
   "execution_count": 12,
   "metadata": {
    "ExecuteTime": {
     "end_time": "2021-05-08T14:29:51.161001Z",
     "start_time": "2021-05-08T14:29:51.147000Z"
    }
   },
   "outputs": [
    {
     "data": {
      "text/plain": [
       "72.29719396115387"
      ]
     },
     "execution_count": 12,
     "metadata": {},
     "output_type": "execute_result"
    }
   ],
   "source": [
    "trips_procent = companies[companies['trips_amount'] > Q3 + IQR *\n",
    "                          1.5].trips_amount.sum() / companies.trips_amount.sum() * 100\n",
    "trips_procent"
   ]
  },
  {
   "cell_type": "code",
   "execution_count": 13,
   "metadata": {
    "ExecuteTime": {
     "end_time": "2021-05-08T14:29:51.192575Z",
     "start_time": "2021-05-08T14:29:51.165304Z"
    }
   },
   "outputs": [
    {
     "name": "stdout",
     "output_type": "stream",
     "text": [
      "We can see from the boxplot that most of companies have up to 5015 trips, and the historgrams show us, that the biggest part of those amounts is less then 500. So cleary the outliers companies are the industry leaders: ['Flash Cab', 'Taxi Affiliation Services', 'Medallion Leasing', 'Yellow Cab', 'Taxi Affiliation Service Yellow', 'Chicago Carriage Cab Corp', 'City Service', 'Sun Taxi', 'Star North Management LLC', 'Blue Ribbon Taxi Association Inc.'].\n",
      "\n"
     ]
    }
   ],
   "source": [
    "print(\n",
    "    f'We can see from the boxplot that most of companies have up to 5015 trips, and the historgrams show us, that the biggest part of those amounts is less then 500. So cleary the outliers companies are the industry leaders: {top_companies}.\\n')\n"
   ]
  },
  {
   "cell_type": "markdown",
   "metadata": {},
   "source": [
    "### Top 10 neighborhoods by number of dropoffs"
   ]
  },
  {
   "cell_type": "code",
   "execution_count": 14,
   "metadata": {
    "ExecuteTime": {
     "end_time": "2021-05-08T14:29:51.342658Z",
     "start_time": "2021-05-08T14:29:51.197156Z"
    }
   },
   "outputs": [
    {
     "data": {
      "image/png": "[encoded data removed]"
     },
     "metadata": {},
     "output_type": "display_data"
    }
   ],
   "source": [
    "fig = px.histogram(drop_off_location.head(10), x='dropoff_location_name', y='average_trips')\n",
    "\n",
    "fig.update_layout(title_text='top 10 neighborhoods',\n",
    "                  xaxis_title_text='neighborhoods',\n",
    "                  yaxis_title_text='amount of drop offs')\n",
    "fig.show('png')"
   ]
  },
  {
   "cell_type": "code",
   "execution_count": 15,
   "metadata": {
    "ExecuteTime": {
     "end_time": "2021-05-08T14:29:51.440683Z",
     "start_time": "2021-05-08T14:29:51.346654Z"
    }
   },
   "outputs": [
    {
     "data": {
      "image/png": "[encoded data removed]"
     },
     "metadata": {},
     "output_type": "display_data"
    }
   ],
   "source": [
    "fig = px.box(drop_off_location, y=\"average_trips\")\n",
    "fig.update_layout(title_text='amount of drop-offs in regions')\n",
    "fig.show('png')"
   ]
  },
  {
   "cell_type": "code",
   "execution_count": 16,
   "metadata": {
    "ExecuteTime": {
     "end_time": "2021-05-08T14:29:51.458266Z",
     "start_time": "2021-05-08T14:29:51.445123Z"
    }
   },
   "outputs": [
    {
     "data": {
      "text/plain": [
       "86.89866377232967"
      ]
     },
     "execution_count": 16,
     "metadata": {},
     "output_type": "execute_result"
    }
   ],
   "source": [
    "Q3 = drop_off_location.average_trips.quantile(0.75)\n",
    "Q1 = drop_off_location.average_trips.quantile(0.25)\n",
    "IQR = Q3-Q1\n",
    "outliers_percent = drop_off_location[drop_off_location['average_trips'] > Q3 +\n",
    "                                     IQR*1.5].average_trips.sum() / drop_off_location.average_trips.sum() * 100\n",
    "outliers_percent"
   ]
  },
  {
   "cell_type": "code",
   "execution_count": 17,
   "metadata": {
    "ExecuteTime": {
     "end_time": "2021-05-08T14:29:51.475717Z",
     "start_time": "2021-05-08T14:29:51.460988Z"
    }
   },
   "outputs": [
    {
     "data": {
      "text/plain": [
       "76.69007507076712"
      ]
     },
     "execution_count": 17,
     "metadata": {},
     "output_type": "execute_result"
    }
   ],
   "source": [
    "top10_percent = drop_off_location.head(\n",
    "    10).average_trips.sum() / drop_off_location.average_trips.sum() * 100\n",
    "top10_percent"
   ]
  },
  {
   "cell_type": "code",
   "execution_count": 18,
   "metadata": {
    "ExecuteTime": {
     "end_time": "2021-05-08T14:29:51.515424Z",
     "start_time": "2021-05-08T14:29:51.486309Z"
    }
   },
   "outputs": [
    {
     "data": {
      "text/plain": [
       "[(0, 'Loop'),\n",
       " (1, 'River North'),\n",
       " (2, 'Streeterville'),\n",
       " (3, 'West Loop'),\n",
       " (4, \"O'Hare\"),\n",
       " (5, 'Lake View'),\n",
       " (6, 'Grant Park'),\n",
       " (7, 'Museum Campus'),\n",
       " (8, 'Gold Coast'),\n",
       " (9, 'Sheffield & DePaul'),\n",
       " (10, 'Lincoln Park'),\n",
       " (11, 'East Village'),\n",
       " (12, 'Little Italy, UIC'),\n",
       " (13, 'Uptown'),\n",
       " (14, 'Near South Side'),\n",
       " (15, 'Garfield Ridge')]"
      ]
     },
     "execution_count": 18,
     "metadata": {},
     "output_type": "execute_result"
    }
   ],
   "source": [
    "all_outliers = list(enumerate(\n",
    "    drop_off_location[drop_off_location['average_trips'] > Q3 + IQR*1.5].dropoff_location_name))\n",
    "all_outliers"
   ]
  },
  {
   "cell_type": "markdown",
   "metadata": {},
   "source": [
    "### Conclusion On Studied Leaders"
   ]
  },
  {
   "cell_type": "code",
   "execution_count": 19,
   "metadata": {
    "ExecuteTime": {
     "end_time": "2021-05-08T14:29:51.543568Z",
     "start_time": "2021-05-08T14:29:51.518746Z"
    }
   },
   "outputs": [
    {
     "name": "stdout",
     "output_type": "stream",
     "text": [
      "The second plot shows to us that in general neibourhouds get less then 620 trips, meanwhile the numper of drop-offs for the top ten neibourhouds is more then 20 times higher than that. So those 10 places: ['Loop', 'River North', 'Streeterville', 'West Loop', \"O'Hare\", 'Lake View', 'Grant Park', 'Museum Campus', 'Gold Coast', 'Sheffield & DePaul'] are the most popular ones. Google proves it by saying\"Loop is the heart of Chicago\"\n"
     ]
    }
   ],
   "source": [
    "print(\n",
    "    f'The second plot shows to us that in general neibourhouds get less then 620 trips, meanwhile the numper of drop-offs for the top ten neibourhouds is more then 20 times higher than that. So those 10 places: {drop_off_location.dropoff_location_name.head(10).tolist()} are the most popular ones. Google proves it by saying\"Loop is the heart of Chicago\"')"
   ]
  },
  {
   "cell_type": "markdown",
   "metadata": {},
   "source": [
    "# Step 5. Testing hypotheses\n"
   ]
  },
  {
   "cell_type": "markdown",
   "metadata": {},
   "source": [
    "We need to test the <a id='hypothesis_1'>hypothesis</a>:\n",
    "_\"The average duration of rides from the Loop to O'Hare International Airport changes on rainy Saturdays.\"_ <br>\n",
    "__Null hypotheses__: average duration of rides from the Loop to O'Hare International Airport is similar in rainy and not-rainy days\"   \n",
    "__Alternative hypotheses__: it differs"
   ]
  },
  {
   "cell_type": "code",
   "execution_count": 20,
   "metadata": {
    "ExecuteTime": {
     "end_time": "2021-05-08T14:29:51.570337Z",
     "start_time": "2021-05-08T14:29:51.550166Z"
    }
   },
   "outputs": [],
   "source": [
    "rainy_days = Loop_O_Hare[Loop_O_Hare.weather_conditions ==\n",
    "                         'Bad']['duration_seconds']\n",
    "sunny_days = Loop_O_Hare[Loop_O_Hare.weather_conditions ==\n",
    "                         'Good']['duration_seconds']"
   ]
  },
  {
   "cell_type": "markdown",
   "metadata": {},
   "source": [
    "We need to establish whether the variance of rainy and sunny days can be considered equal. to do so, let's use Levene’s Test in Python\n"
   ]
  },
  {
   "cell_type": "code",
   "execution_count": 21,
   "metadata": {
    "ExecuteTime": {
     "end_time": "2021-05-08T14:29:51.601322Z",
     "start_time": "2021-05-08T14:29:51.581846Z"
    }
   },
   "outputs": [
    {
     "data": {
      "text/plain": [
       "LeveneResult(statistic=0.38853489683656073, pvalue=0.5332038671974493)"
      ]
     },
     "execution_count": 21,
     "metadata": {},
     "output_type": "execute_result"
    }
   ],
   "source": [
    "st.levene(sunny_days, rainy_days, center='median')"
   ]
  },
  {
   "cell_type": "markdown",
   "metadata": {},
   "source": [
    "Since the p-value is not less than .05, we fail to reject the null hypothesis: meaning they variance is equal"
   ]
  },
  {
   "cell_type": "code",
   "execution_count": 22,
   "metadata": {
    "ExecuteTime": {
     "end_time": "2021-05-08T14:29:51.646416Z",
     "start_time": "2021-05-08T14:29:51.627337Z"
    }
   },
   "outputs": [
    {
     "name": "stdout",
     "output_type": "stream",
     "text": [
      "p-value:  6.517970327099473e-12\n",
      "We reject the null hypothesis,\n",
      " the average duration of rides from the Loop to O'Hare International Airport changes on rainy Saturdays\n"
     ]
    }
   ],
   "source": [
    "alpha = 0.05\n",
    "\n",
    "results = st.ttest_ind(sunny_days, rainy_days, equal_var=True)\n",
    "\n",
    "print('p-value: ', results.pvalue)\n",
    "\n",
    "if (results.pvalue < alpha):\n",
    "    print(\"We reject the null hypothesis,\\n the average duration of rides from the Loop to O'Hare International Airport changes on rainy Saturdays\")\n",
    "else:\n",
    "    print(\"We can't reject the null hypothesis,\\nthe average duration of rides from the Loop to O'Hare International Airport remains the same on rainy Saturdays\")"
   ]
  },
  {
   "cell_type": "code",
   "execution_count": 23,
   "metadata": {
    "ExecuteTime": {
     "end_time": "2021-05-08T14:29:51.687958Z",
     "start_time": "2021-05-08T14:29:51.668617Z"
    }
   },
   "outputs": [
    {
     "name": "stdout",
     "output_type": "stream",
     "text": [
      "2427.2055555555557 1999.6756756756756\n"
     ]
    }
   ],
   "source": [
    "print(rainy_days.mean(), sunny_days.mean())"
   ]
  },
  {
   "cell_type": "markdown",
   "metadata": {},
   "source": [
    "### Conclusion On Hypothesis"
   ]
  },
  {
   "cell_type": "markdown",
   "metadata": {},
   "source": [
    "The average duration of rides from the Loop to O'Hare International Airport changes on rainy Saturdays and it sure get's longer because of problems storm weather causes to traffic.\n"
   ]
  },
  {
   "cell_type": "markdown",
   "metadata": {},
   "source": [
    "# STEP 6. General conclusion\n",
    "<a id='general_conclusion'> </a>"
   ]
  },
  {
   "cell_type": "code",
   "execution_count": 24,
   "metadata": {
    "ExecuteTime": {
     "end_time": "2021-05-08T14:29:51.712892Z",
     "start_time": "2021-05-08T14:29:51.699595Z"
    },
    "scrolled": true
   },
   "outputs": [
    {
     "name": "stdout",
     "output_type": "stream",
     "text": [
      "We have studied 64 taxi companies and found 10 top companies making the most profit and 72.0% of all trips: ['Flash Cab', 'Taxi Affiliation Services', 'Medallion Leasing', 'Yellow Cab', 'Taxi Affiliation Service Yellow', 'Chicago Carriage Cab Corp', 'City Service', 'Sun Taxi', 'Star North Management LLC', 'Blue Ribbon Taxi Association Inc.'].\n",
      "\n",
      " Moreover, we found 10 neibourhoud making 77.0 of drop-offs of 94 neibourhouds. And even though the top 10 are \n",
      "['Loop', 'River North', 'Streeterville', 'West Loop', \"O'Hare\", 'Lake View', 'Grant Park', 'Museum Campus', 'Gold Coast', 'Sheffield & DePaul']\n",
      " we have 15 outliers neibourhoods holding 87.0 of all dropdowns:\n",
      " [(0, 'Loop'), (1, 'River North'), (2, 'Streeterville'), (3, 'West Loop'), (4, \"O'Hare\"), (5, 'Lake View'), (6, 'Grant Park'), (7, 'Museum Campus'), (8, 'Gold Coast'), (9, 'Sheffield & DePaul'), (10, 'Lincoln Park'), (11, 'East Village'), (12, 'Little Italy, UIC'), (13, 'Uptown'), (14, 'Near South Side'), (15, 'Garfield Ridge')]. \n",
      "\n",
      " We've also studied duration of rides from the Loop to O'Hare International Airport for nearly 24 days and come to a certain conclusion that the average duration of rides gets longer because of problems storm weather causes to traffic.\n"
     ]
    }
   ],
   "source": [
    "print(f\"We have studied 64 taxi companies and found 10 top companies making the most profit and {round(trips_procent,0)}% of all trips: {top_companies}.\\n\\n Moreover, we found 10 neibourhoud making {round(top10_percent,0)} of drop-offs of 94 neibourhouds. And even though the top 10 are \\n{drop_off_location.head(10).dropoff_location_name.tolist()}\\n we have 15 outliers neibourhoods holding {round(outliers_percent,0)} of all dropdowns:\\n {all_outliers}. \\n\\n We've also studied duration of rides from the Loop to O'Hare International Airport for nearly 24 days and come to a certain conclusion that the average duration of rides gets longer because of problems storm weather causes to traffic.\")"
   ]
  }
 ],
 "metadata": {
  "kernelspec": {
   "display_name": "Python 3",
   "language": "python",
   "name": "python3"
  },
  "language_info": {
   "codemirror_mode": {
    "name": "ipython",
    "version": 3
   },
   "file_extension": ".py",
   "mimetype": "text/x-python",
   "name": "python",
   "nbconvert_exporter": "python",
   "pygments_lexer": "ipython3",
   "version": "3.8.5"
  },
  "toc": {
   "base_numbering": 1,
   "nav_menu": {},
   "number_sections": true,
   "sideBar": true,
   "skip_h1_title": false,
   "title_cell": "Table of Contents",
   "title_sidebar": "Contents",
   "toc_cell": true,
   "toc_position": {},
   "toc_section_display": true,
   "toc_window_display": false
  }
 },
 "nbformat": 4,
 "nbformat_minor": 4
}
